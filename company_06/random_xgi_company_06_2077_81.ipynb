{
 "cells": [
  {
   "cell_type": "code",
   "execution_count": 1,
   "metadata": {},
   "outputs": [],
   "source": [
    "#importing the libraries\n",
    "import numpy as np\n",
    "import pandas as pd\n",
    "import matplotlib.pyplot as plt\n",
    "import plotly.graph_objs as go\n",
    "import plotly.offline as pyo\n",
    "from sklearn.preprocessing import MinMaxScaler, StandardScaler\n",
    "from sklearn.model_selection import train_test_split\n",
    "from sklearn.metrics import root_mean_squared_error, mean_absolute_error, mean_squared_error, r2_score\n",
    "from sklearn.ensemble import RandomForestRegressor\n",
    "import xgboost as xgb"
   ]
  },
  {
   "cell_type": "code",
   "execution_count": 2,
   "metadata": {},
   "outputs": [],
   "source": [
    "\n",
    "df = pd.read_csv(r\"merge_06.csv\", parse_dates=[\"date\"], index_col=\"date\")\n",
    "df = df.sort_index()\n",
    "df.dropna(inplace=True)"
   ]
  },
  {
   "cell_type": "code",
   "execution_count": 3,
   "metadata": {},
   "outputs": [
    {
     "data": {
      "text/plain": [
       "Timestamp('2081-10-01 00:00:00')"
      ]
     },
     "execution_count": 3,
     "metadata": {},
     "output_type": "execute_result"
    }
   ],
   "source": [
    "df.index[-1]"
   ]
  },
  {
   "cell_type": "code",
   "execution_count": 4,
   "metadata": {},
   "outputs": [
    {
     "data": {
      "text/plain": [
       "Index(['sales'], dtype='object')"
      ]
     },
     "execution_count": 4,
     "metadata": {},
     "output_type": "execute_result"
    }
   ],
   "source": [
    "df.columns"
   ]
  },
  {
   "cell_type": "code",
   "execution_count": 5,
   "metadata": {},
   "outputs": [
    {
     "data": {
      "application/vnd.plotly.v1+json": {
       "config": {
        "linkText": "Export to plot.ly",
        "plotlyServerURL": "https://plot.ly",
        "showLink": false
       },
       "data": [
        {
         "line": {
          "shape": "spline"
         },
         "mode": "lines+markers",
         "name": "Fiscal Year 2077-2078",
         "type": "scatter",
         "x": [
          "Shrawan",
          "Bhadra",
          "Asoj",
          "Kartik",
          "Mangsir",
          "Poush",
          "Magh",
          "Falgun",
          "Chaitra",
          "Baishakh",
          "Jestha",
          "Ashadh"
         ],
         "y": [
          532584957.095,
          443691512.52,
          1849226094.9221,
          944868968.6868,
          1003570162.1604,
          1103429627.2282,
          1012083978.6682,
          1312970436.7852,
          1652121246.9828,
          2163049983.8388,
          1172178393.4125,
          1500182077.4661
         ]
        },
        {
         "line": {
          "shape": "spline"
         },
         "mode": "lines+markers",
         "name": "Fiscal Year 2078-2079",
         "type": "scatter",
         "x": [
          "Shrawan",
          "Bhadra",
          "Asoj",
          "Kartik",
          "Mangsir",
          "Poush",
          "Magh",
          "Falgun",
          "Chaitra",
          "Baishakh",
          "Jestha",
          "Ashadh"
         ],
         "y": [
          439627939.1455,
          863390658.1544,
          2201687364.96,
          1132335689.9609,
          1075535581.33,
          1174847972.6722,
          1039861089.3925,
          1478934990.92,
          1745778303.5,
          2796911319.6791,
          2835614708.13,
          350819669.22
         ]
        },
        {
         "line": {
          "shape": "spline"
         },
         "mode": "lines+markers",
         "name": "Fiscal Year 2079-2080",
         "type": "scatter",
         "x": [
          "Shrawan",
          "Bhadra",
          "Asoj",
          "Kartik",
          "Mangsir",
          "Poush",
          "Magh",
          "Falgun",
          "Chaitra",
          "Baishakh",
          "Jestha",
          "Ashadh"
         ],
         "y": [
          376474780.43,
          1351944592.935,
          870103730.26,
          1019788478.95,
          969629105.9206,
          1142916861.3582,
          1013569482.45,
          1544022768.11,
          1791262313.37,
          1803348636.5342,
          2484349264.98,
          282085230.4
         ]
        },
        {
         "line": {
          "shape": "spline"
         },
         "mode": "lines+markers",
         "name": "Fiscal Year 2080-2081",
         "type": "scatter",
         "x": [
          "Shrawan",
          "Bhadra",
          "Asoj",
          "Kartik",
          "Mangsir",
          "Poush",
          "Magh",
          "Falgun",
          "Chaitra",
          "Baishakh",
          "Jestha",
          "Ashadh"
         ],
         "y": [
          287026004.08,
          639388951.87,
          1247764865.09,
          912206835.06,
          1197014723.18,
          1117823933.96,
          951085536,
          1196777062.98,
          1316790267.14,
          1756230118.9442,
          1753237995.52,
          465023602.24
         ]
        },
        {
         "line": {
          "shape": "spline"
         },
         "mode": "lines+markers",
         "name": "Fiscal Year 2081-2082",
         "type": "scatter",
         "x": [
          "Shrawan",
          "Bhadra",
          "Asoj",
          "Kartik",
          "Mangsir",
          "Poush",
          "Magh"
         ],
         "y": [
          438963249.22,
          869265909.33,
          1317938145.2,
          917946799.1658,
          1236808885.01,
          1100720637.76,
          843824168.51
         ]
        }
       ],
       "layout": {
        "hovermode": "x unified",
        "template": {
         "data": {
          "bar": [
           {
            "error_x": {
             "color": "#f2f5fa"
            },
            "error_y": {
             "color": "#f2f5fa"
            },
            "marker": {
             "line": {
              "color": "rgb(17,17,17)",
              "width": 0.5
             },
             "pattern": {
              "fillmode": "overlay",
              "size": 10,
              "solidity": 0.2
             }
            },
            "type": "bar"
           }
          ],
          "barpolar": [
           {
            "marker": {
             "line": {
              "color": "rgb(17,17,17)",
              "width": 0.5
             },
             "pattern": {
              "fillmode": "overlay",
              "size": 10,
              "solidity": 0.2
             }
            },
            "type": "barpolar"
           }
          ],
          "carpet": [
           {
            "aaxis": {
             "endlinecolor": "#A2B1C6",
             "gridcolor": "#506784",
             "linecolor": "#506784",
             "minorgridcolor": "#506784",
             "startlinecolor": "#A2B1C6"
            },
            "baxis": {
             "endlinecolor": "#A2B1C6",
             "gridcolor": "#506784",
             "linecolor": "#506784",
             "minorgridcolor": "#506784",
             "startlinecolor": "#A2B1C6"
            },
            "type": "carpet"
           }
          ],
          "choropleth": [
           {
            "colorbar": {
             "outlinewidth": 0,
             "ticks": ""
            },
            "type": "choropleth"
           }
          ],
          "contour": [
           {
            "colorbar": {
             "outlinewidth": 0,
             "ticks": ""
            },
            "colorscale": [
             [
              0,
              "#0d0887"
             ],
             [
              0.1111111111111111,
              "#46039f"
             ],
             [
              0.2222222222222222,
              "#7201a8"
             ],
             [
              0.3333333333333333,
              "#9c179e"
             ],
             [
              0.4444444444444444,
              "#bd3786"
             ],
             [
              0.5555555555555556,
              "#d8576b"
             ],
             [
              0.6666666666666666,
              "#ed7953"
             ],
             [
              0.7777777777777778,
              "#fb9f3a"
             ],
             [
              0.8888888888888888,
              "#fdca26"
             ],
             [
              1,
              "#f0f921"
             ]
            ],
            "type": "contour"
           }
          ],
          "contourcarpet": [
           {
            "colorbar": {
             "outlinewidth": 0,
             "ticks": ""
            },
            "type": "contourcarpet"
           }
          ],
          "heatmap": [
           {
            "colorbar": {
             "outlinewidth": 0,
             "ticks": ""
            },
            "colorscale": [
             [
              0,
              "#0d0887"
             ],
             [
              0.1111111111111111,
              "#46039f"
             ],
             [
              0.2222222222222222,
              "#7201a8"
             ],
             [
              0.3333333333333333,
              "#9c179e"
             ],
             [
              0.4444444444444444,
              "#bd3786"
             ],
             [
              0.5555555555555556,
              "#d8576b"
             ],
             [
              0.6666666666666666,
              "#ed7953"
             ],
             [
              0.7777777777777778,
              "#fb9f3a"
             ],
             [
              0.8888888888888888,
              "#fdca26"
             ],
             [
              1,
              "#f0f921"
             ]
            ],
            "type": "heatmap"
           }
          ],
          "heatmapgl": [
           {
            "colorbar": {
             "outlinewidth": 0,
             "ticks": ""
            },
            "colorscale": [
             [
              0,
              "#0d0887"
             ],
             [
              0.1111111111111111,
              "#46039f"
             ],
             [
              0.2222222222222222,
              "#7201a8"
             ],
             [
              0.3333333333333333,
              "#9c179e"
             ],
             [
              0.4444444444444444,
              "#bd3786"
             ],
             [
              0.5555555555555556,
              "#d8576b"
             ],
             [
              0.6666666666666666,
              "#ed7953"
             ],
             [
              0.7777777777777778,
              "#fb9f3a"
             ],
             [
              0.8888888888888888,
              "#fdca26"
             ],
             [
              1,
              "#f0f921"
             ]
            ],
            "type": "heatmapgl"
           }
          ],
          "histogram": [
           {
            "marker": {
             "pattern": {
              "fillmode": "overlay",
              "size": 10,
              "solidity": 0.2
             }
            },
            "type": "histogram"
           }
          ],
          "histogram2d": [
           {
            "colorbar": {
             "outlinewidth": 0,
             "ticks": ""
            },
            "colorscale": [
             [
              0,
              "#0d0887"
             ],
             [
              0.1111111111111111,
              "#46039f"
             ],
             [
              0.2222222222222222,
              "#7201a8"
             ],
             [
              0.3333333333333333,
              "#9c179e"
             ],
             [
              0.4444444444444444,
              "#bd3786"
             ],
             [
              0.5555555555555556,
              "#d8576b"
             ],
             [
              0.6666666666666666,
              "#ed7953"
             ],
             [
              0.7777777777777778,
              "#fb9f3a"
             ],
             [
              0.8888888888888888,
              "#fdca26"
             ],
             [
              1,
              "#f0f921"
             ]
            ],
            "type": "histogram2d"
           }
          ],
          "histogram2dcontour": [
           {
            "colorbar": {
             "outlinewidth": 0,
             "ticks": ""
            },
            "colorscale": [
             [
              0,
              "#0d0887"
             ],
             [
              0.1111111111111111,
              "#46039f"
             ],
             [
              0.2222222222222222,
              "#7201a8"
             ],
             [
              0.3333333333333333,
              "#9c179e"
             ],
             [
              0.4444444444444444,
              "#bd3786"
             ],
             [
              0.5555555555555556,
              "#d8576b"
             ],
             [
              0.6666666666666666,
              "#ed7953"
             ],
             [
              0.7777777777777778,
              "#fb9f3a"
             ],
             [
              0.8888888888888888,
              "#fdca26"
             ],
             [
              1,
              "#f0f921"
             ]
            ],
            "type": "histogram2dcontour"
           }
          ],
          "mesh3d": [
           {
            "colorbar": {
             "outlinewidth": 0,
             "ticks": ""
            },
            "type": "mesh3d"
           }
          ],
          "parcoords": [
           {
            "line": {
             "colorbar": {
              "outlinewidth": 0,
              "ticks": ""
             }
            },
            "type": "parcoords"
           }
          ],
          "pie": [
           {
            "automargin": true,
            "type": "pie"
           }
          ],
          "scatter": [
           {
            "marker": {
             "line": {
              "color": "#283442"
             }
            },
            "type": "scatter"
           }
          ],
          "scatter3d": [
           {
            "line": {
             "colorbar": {
              "outlinewidth": 0,
              "ticks": ""
             }
            },
            "marker": {
             "colorbar": {
              "outlinewidth": 0,
              "ticks": ""
             }
            },
            "type": "scatter3d"
           }
          ],
          "scattercarpet": [
           {
            "marker": {
             "colorbar": {
              "outlinewidth": 0,
              "ticks": ""
             }
            },
            "type": "scattercarpet"
           }
          ],
          "scattergeo": [
           {
            "marker": {
             "colorbar": {
              "outlinewidth": 0,
              "ticks": ""
             }
            },
            "type": "scattergeo"
           }
          ],
          "scattergl": [
           {
            "marker": {
             "line": {
              "color": "#283442"
             }
            },
            "type": "scattergl"
           }
          ],
          "scattermapbox": [
           {
            "marker": {
             "colorbar": {
              "outlinewidth": 0,
              "ticks": ""
             }
            },
            "type": "scattermapbox"
           }
          ],
          "scatterpolar": [
           {
            "marker": {
             "colorbar": {
              "outlinewidth": 0,
              "ticks": ""
             }
            },
            "type": "scatterpolar"
           }
          ],
          "scatterpolargl": [
           {
            "marker": {
             "colorbar": {
              "outlinewidth": 0,
              "ticks": ""
             }
            },
            "type": "scatterpolargl"
           }
          ],
          "scatterternary": [
           {
            "marker": {
             "colorbar": {
              "outlinewidth": 0,
              "ticks": ""
             }
            },
            "type": "scatterternary"
           }
          ],
          "surface": [
           {
            "colorbar": {
             "outlinewidth": 0,
             "ticks": ""
            },
            "colorscale": [
             [
              0,
              "#0d0887"
             ],
             [
              0.1111111111111111,
              "#46039f"
             ],
             [
              0.2222222222222222,
              "#7201a8"
             ],
             [
              0.3333333333333333,
              "#9c179e"
             ],
             [
              0.4444444444444444,
              "#bd3786"
             ],
             [
              0.5555555555555556,
              "#d8576b"
             ],
             [
              0.6666666666666666,
              "#ed7953"
             ],
             [
              0.7777777777777778,
              "#fb9f3a"
             ],
             [
              0.8888888888888888,
              "#fdca26"
             ],
             [
              1,
              "#f0f921"
             ]
            ],
            "type": "surface"
           }
          ],
          "table": [
           {
            "cells": {
             "fill": {
              "color": "#506784"
             },
             "line": {
              "color": "rgb(17,17,17)"
             }
            },
            "header": {
             "fill": {
              "color": "#2a3f5f"
             },
             "line": {
              "color": "rgb(17,17,17)"
             }
            },
            "type": "table"
           }
          ]
         },
         "layout": {
          "annotationdefaults": {
           "arrowcolor": "#f2f5fa",
           "arrowhead": 0,
           "arrowwidth": 1
          },
          "autotypenumbers": "strict",
          "coloraxis": {
           "colorbar": {
            "outlinewidth": 0,
            "ticks": ""
           }
          },
          "colorscale": {
           "diverging": [
            [
             0,
             "#8e0152"
            ],
            [
             0.1,
             "#c51b7d"
            ],
            [
             0.2,
             "#de77ae"
            ],
            [
             0.3,
             "#f1b6da"
            ],
            [
             0.4,
             "#fde0ef"
            ],
            [
             0.5,
             "#f7f7f7"
            ],
            [
             0.6,
             "#e6f5d0"
            ],
            [
             0.7,
             "#b8e186"
            ],
            [
             0.8,
             "#7fbc41"
            ],
            [
             0.9,
             "#4d9221"
            ],
            [
             1,
             "#276419"
            ]
           ],
           "sequential": [
            [
             0,
             "#0d0887"
            ],
            [
             0.1111111111111111,
             "#46039f"
            ],
            [
             0.2222222222222222,
             "#7201a8"
            ],
            [
             0.3333333333333333,
             "#9c179e"
            ],
            [
             0.4444444444444444,
             "#bd3786"
            ],
            [
             0.5555555555555556,
             "#d8576b"
            ],
            [
             0.6666666666666666,
             "#ed7953"
            ],
            [
             0.7777777777777778,
             "#fb9f3a"
            ],
            [
             0.8888888888888888,
             "#fdca26"
            ],
            [
             1,
             "#f0f921"
            ]
           ],
           "sequentialminus": [
            [
             0,
             "#0d0887"
            ],
            [
             0.1111111111111111,
             "#46039f"
            ],
            [
             0.2222222222222222,
             "#7201a8"
            ],
            [
             0.3333333333333333,
             "#9c179e"
            ],
            [
             0.4444444444444444,
             "#bd3786"
            ],
            [
             0.5555555555555556,
             "#d8576b"
            ],
            [
             0.6666666666666666,
             "#ed7953"
            ],
            [
             0.7777777777777778,
             "#fb9f3a"
            ],
            [
             0.8888888888888888,
             "#fdca26"
            ],
            [
             1,
             "#f0f921"
            ]
           ]
          },
          "colorway": [
           "#636efa",
           "#EF553B",
           "#00cc96",
           "#ab63fa",
           "#FFA15A",
           "#19d3f3",
           "#FF6692",
           "#B6E880",
           "#FF97FF",
           "#FECB52"
          ],
          "font": {
           "color": "#f2f5fa"
          },
          "geo": {
           "bgcolor": "rgb(17,17,17)",
           "lakecolor": "rgb(17,17,17)",
           "landcolor": "rgb(17,17,17)",
           "showlakes": true,
           "showland": true,
           "subunitcolor": "#506784"
          },
          "hoverlabel": {
           "align": "left"
          },
          "hovermode": "closest",
          "mapbox": {
           "style": "dark"
          },
          "paper_bgcolor": "rgb(17,17,17)",
          "plot_bgcolor": "rgb(17,17,17)",
          "polar": {
           "angularaxis": {
            "gridcolor": "#506784",
            "linecolor": "#506784",
            "ticks": ""
           },
           "bgcolor": "rgb(17,17,17)",
           "radialaxis": {
            "gridcolor": "#506784",
            "linecolor": "#506784",
            "ticks": ""
           }
          },
          "scene": {
           "xaxis": {
            "backgroundcolor": "rgb(17,17,17)",
            "gridcolor": "#506784",
            "gridwidth": 2,
            "linecolor": "#506784",
            "showbackground": true,
            "ticks": "",
            "zerolinecolor": "#C8D4E3"
           },
           "yaxis": {
            "backgroundcolor": "rgb(17,17,17)",
            "gridcolor": "#506784",
            "gridwidth": 2,
            "linecolor": "#506784",
            "showbackground": true,
            "ticks": "",
            "zerolinecolor": "#C8D4E3"
           },
           "zaxis": {
            "backgroundcolor": "rgb(17,17,17)",
            "gridcolor": "#506784",
            "gridwidth": 2,
            "linecolor": "#506784",
            "showbackground": true,
            "ticks": "",
            "zerolinecolor": "#C8D4E3"
           }
          },
          "shapedefaults": {
           "line": {
            "color": "#f2f5fa"
           }
          },
          "sliderdefaults": {
           "bgcolor": "#C8D4E3",
           "bordercolor": "rgb(17,17,17)",
           "borderwidth": 1,
           "tickwidth": 0
          },
          "ternary": {
           "aaxis": {
            "gridcolor": "#506784",
            "linecolor": "#506784",
            "ticks": ""
           },
           "baxis": {
            "gridcolor": "#506784",
            "linecolor": "#506784",
            "ticks": ""
           },
           "bgcolor": "rgb(17,17,17)",
           "caxis": {
            "gridcolor": "#506784",
            "linecolor": "#506784",
            "ticks": ""
           }
          },
          "title": {
           "x": 0.05
          },
          "updatemenudefaults": {
           "bgcolor": "#506784",
           "borderwidth": 0
          },
          "xaxis": {
           "automargin": true,
           "gridcolor": "#283442",
           "linecolor": "#506784",
           "ticks": "",
           "title": {
            "standoff": 15
           },
           "zerolinecolor": "#283442",
           "zerolinewidth": 2
          },
          "yaxis": {
           "automargin": true,
           "gridcolor": "#283442",
           "linecolor": "#506784",
           "ticks": "",
           "title": {
            "standoff": 15
           },
           "zerolinecolor": "#283442",
           "zerolinewidth": 2
          }
         }
        },
        "title": {
         "text": "Sales Trend by Fiscal Year"
        },
        "xaxis": {
         "categoryarray": [
          "Shrawan",
          "Bhadra",
          "Asoj",
          "Kartik",
          "Mangsir",
          "Poush",
          "Magh",
          "Falgun",
          "Chaitra",
          "Baishakh",
          "Jestha",
          "Ashadh"
         ],
         "categoryorder": "array",
         "title": {
          "text": "Nepali Month"
         }
        },
        "yaxis": {
         "title": {
          "text": "Sales"
         }
        }
       }
      }
     },
     "metadata": {},
     "output_type": "display_data"
    }
   ],
   "source": [
    "# data visualization using plotly\n",
    "import pandas as pd\n",
    "import plotly.graph_objs as go\n",
    "import plotly.offline as pyo\n",
    "\n",
    "df_sales = pd.read_csv(r\"merge_06.csv\")\n",
    "\n",
    "df_sales.columns = ['date','sales']\n",
    "\n",
    "df_sales[['Year', 'Month']] = df_sales['date'].str.split('-', expand=True)\n",
    "df_sales['Year'] = df_sales['Year'].astype(int)\n",
    "df_sales['Month'] = df_sales['Month'].astype(int)\n",
    "nepali_months_fiscal_order = {\n",
    "    4: \"Shrawan\", 5: \"Bhadra\", 6: \"Asoj\", 7: \"Kartik\",\n",
    "    8: \"Mangsir\", 9: \"Poush\", 10: \"Magh\", 11: \"Falgun\",\n",
    "    12: \"Chaitra\", 1: \"Baishakh\", 2: \"Jestha\", 3: \"Ashadh\"\n",
    "}\n",
    "\n",
    "df_sales['Month_Name'] = df_sales['Month'].map(nepali_months_fiscal_order)\n",
    "\n",
    "\n",
    "df_sales['Fiscal_Year'] = df_sales.apply(lambda row: \n",
    "                                         f\"{row['Year']}-{row['Year']+1}\" if row['Month'] >= 4 \n",
    "                                         else f\"{row['Year']-1}-{row['Year']}\", axis=1)\n",
    "\n",
    "df_sales['Month_Order'] = df_sales['Month'].apply(lambda x: list(nepali_months_fiscal_order.keys()).index(x))\n",
    "\n",
    "df_sales = df_sales.sort_values(by=['Fiscal_Year', 'Month_Order'])\n",
    "\n",
    "fig = go.Figure()\n",
    "\n",
    "fiscal_years = df_sales['Fiscal_Year'].unique()\n",
    "\n",
    "for fy in fiscal_years:\n",
    "    df_fy = df_sales[df_sales['Fiscal_Year'] == fy]\n",
    "    fig.add_trace(go.Scatter(\n",
    "        x=df_fy['Month_Name'], \n",
    "        y=df_fy['sales'], \n",
    "        mode='lines+markers',\n",
    "        name=f'Fiscal Year {fy}',\n",
    "        line=dict(shape='spline')  \n",
    "    ))\n",
    "\n",
    "fig.update_layout(\n",
    "    title=\"Sales Trend by Fiscal Year\",\n",
    "    xaxis_title=\"Nepali Month\",\n",
    "    yaxis_title=\"Sales\",\n",
    "    xaxis=dict(categoryorder='array', categoryarray=list(nepali_months_fiscal_order.values())),\n",
    "    template=\"plotly_dark\",\n",
    "    hovermode=\"x unified\"\n",
    ")\n",
    "\n",
    "pyo.iplot(fig)\n"
   ]
  },
  {
   "cell_type": "code",
   "execution_count": 8,
   "metadata": {},
   "outputs": [
    {
     "data": {
      "text/html": [
       "<div>\n",
       "<style scoped>\n",
       "    .dataframe tbody tr th:only-of-type {\n",
       "        vertical-align: middle;\n",
       "    }\n",
       "\n",
       "    .dataframe tbody tr th {\n",
       "        vertical-align: top;\n",
       "    }\n",
       "\n",
       "    .dataframe thead th {\n",
       "        text-align: right;\n",
       "    }\n",
       "</style>\n",
       "<table border=\"1\" class=\"dataframe\">\n",
       "  <thead>\n",
       "    <tr style=\"text-align: right;\">\n",
       "      <th></th>\n",
       "      <th>sales</th>\n",
       "    </tr>\n",
       "    <tr>\n",
       "      <th>date</th>\n",
       "      <th></th>\n",
       "    </tr>\n",
       "  </thead>\n",
       "  <tbody>\n",
       "    <tr>\n",
       "      <th>2077-04-01</th>\n",
       "      <td>5.325850e+08</td>\n",
       "    </tr>\n",
       "    <tr>\n",
       "      <th>2077-05-01</th>\n",
       "      <td>4.436915e+08</td>\n",
       "    </tr>\n",
       "    <tr>\n",
       "      <th>2077-06-01</th>\n",
       "      <td>1.849226e+09</td>\n",
       "    </tr>\n",
       "    <tr>\n",
       "      <th>2077-07-01</th>\n",
       "      <td>9.448690e+08</td>\n",
       "    </tr>\n",
       "    <tr>\n",
       "      <th>2077-08-01</th>\n",
       "      <td>1.003570e+09</td>\n",
       "    </tr>\n",
       "    <tr>\n",
       "      <th>2077-09-01</th>\n",
       "      <td>1.103430e+09</td>\n",
       "    </tr>\n",
       "    <tr>\n",
       "      <th>2077-10-01</th>\n",
       "      <td>1.012084e+09</td>\n",
       "    </tr>\n",
       "    <tr>\n",
       "      <th>2077-11-01</th>\n",
       "      <td>1.312970e+09</td>\n",
       "    </tr>\n",
       "    <tr>\n",
       "      <th>2077-12-01</th>\n",
       "      <td>1.652121e+09</td>\n",
       "    </tr>\n",
       "    <tr>\n",
       "      <th>2078-01-01</th>\n",
       "      <td>2.163050e+09</td>\n",
       "    </tr>\n",
       "  </tbody>\n",
       "</table>\n",
       "</div>"
      ],
      "text/plain": [
       "                   sales\n",
       "date                    \n",
       "2077-04-01  5.325850e+08\n",
       "2077-05-01  4.436915e+08\n",
       "2077-06-01  1.849226e+09\n",
       "2077-07-01  9.448690e+08\n",
       "2077-08-01  1.003570e+09\n",
       "2077-09-01  1.103430e+09\n",
       "2077-10-01  1.012084e+09\n",
       "2077-11-01  1.312970e+09\n",
       "2077-12-01  1.652121e+09\n",
       "2078-01-01  2.163050e+09"
      ]
     },
     "execution_count": 8,
     "metadata": {},
     "output_type": "execute_result"
    }
   ],
   "source": [
    "df.head(10)"
   ]
  },
  {
   "cell_type": "code",
   "execution_count": 10,
   "metadata": {},
   "outputs": [
    {
     "name": "stdout",
     "output_type": "stream",
     "text": [
      "ACF values are : \n",
      "0 1.0\n",
      "1 0.2699470238684541\n",
      "2 -0.15741541260729006\n",
      "3 -0.1636189419084674\n",
      "4 -0.1813953363925275\n",
      "5 -0.044217754360985725\n",
      "6 0.017300155483848164\n",
      "7 0.04127149798149671\n",
      "8 -0.13045749771182744\n",
      "9 -0.210318216032559\n",
      "10 -0.12621486876545468\n",
      "11 0.2836435800709463\n",
      "PACF values are : \n",
      "0 1.0\n",
      "1 0.27494604282898094\n",
      "2 -0.25849170841030905\n",
      "3 -0.052702710292975095\n",
      "4 -0.18931364289901437\n",
      "5 0.022550927285834278\n",
      "6 -0.06762777919611397\n",
      "7 0.02225071325252756\n",
      "8 -0.2583960736121418\n",
      "9 -0.16329951585308933\n",
      "10 -0.17207458742057105\n",
      "11 0.4314076374897119\n"
     ]
    },
    {
     "data": {
      "image/png": "[encoded data removed]",
      "text/plain": [
       "<Figure size 1200x600 with 2 Axes>"
      ]
     },
     "metadata": {},
     "output_type": "display_data"
    }
   ],
   "source": [
    "from statsmodels.graphics.tsaplots import plot_acf, plot_pacf\n",
    "from statsmodels.tsa.stattools import acf, pacf\n",
    "import matplotlib.pyplot as plt\n",
    "\n",
    "# Calculate the ACF and PACF with fft=True for better accuracy\n",
    "acf_values = acf(df[\"sales\"], nlags=12, fft=False)\n",
    "pacf_values = pacf(df[\"sales\"], nlags=12)\n",
    "\n",
    "# # Print ACF and PACF values within the expected range\n",
    "print(\"ACF values are : \")\n",
    "for i in range(0, 12):\n",
    "    print(i, acf_values[i])\n",
    "\n",
    "print(\"PACF values are : \")\n",
    "for i in range(0, 12):\n",
    "    print(i, pacf_values[i])\n",
    "\n",
    "# Plot the ACF and PACF\n",
    "plt.figure(figsize=(12, 6))\n",
    "\n",
    "plt.subplot(2, 1, 1)\n",
    "plot_acf(df[\"sales\"], lags=12, ax=plt.gca())\n",
    "plt.title(\"Autocorrelation Function (ACF)\")\n",
    "\n",
    "plt.subplot(2, 1, 2)\n",
    "plot_pacf(df[\"sales\"], lags=12, ax=plt.gca())\n",
    "plt.title(\"Partial Autocorrelation Function (PACF)\")\n",
    "\n",
    "plt.tight_layout()\n",
    "plt.show()\n"
   ]
  },
  {
   "cell_type": "code",
   "execution_count": 11,
   "metadata": {},
   "outputs": [
    {
     "name": "stdout",
     "output_type": "stream",
     "text": [
      "[ 1.          0.27494604 -0.25849171 -0.05270271 -0.18931364  0.02255093\n",
      " -0.06762778  0.02225071 -0.25839607 -0.16329952 -0.17207459  0.43140764\n",
      "  0.65727051]\n"
     ]
    }
   ],
   "source": [
    "print(pacf_values)"
   ]
  },
  {
   "cell_type": "code",
   "execution_count": 12,
   "metadata": {},
   "outputs": [
    {
     "name": "stdout",
     "output_type": "stream",
     "text": [
      "[ 1.          0.26994702 -0.15741541 -0.16361894 -0.18139534 -0.04421775\n",
      "  0.01730016  0.0412715  -0.1304575  -0.21031822 -0.12621487  0.28364358\n",
      "  0.60360701]\n"
     ]
    }
   ],
   "source": [
    "print(acf_values)"
   ]
  },
  {
   "cell_type": "code",
   "execution_count": 13,
   "metadata": {},
   "outputs": [
    {
     "name": "stdout",
     "output_type": "stream",
     "text": [
      "[ 1.          0.27494604 -0.25849171 -0.05270271 -0.18931364  0.02255093\n",
      " -0.06762778  0.02225071 -0.25839607 -0.16329952 -0.17207459  0.43140764\n",
      "  0.65727051]\n"
     ]
    }
   ],
   "source": [
    "print(pacf_values)"
   ]
  },
  {
   "cell_type": "code",
   "execution_count": 14,
   "metadata": {},
   "outputs": [
    {
     "name": "stdout",
     "output_type": "stream",
     "text": [
      "ACF values are : /n[ 1.          0.26994702 -0.15741541 -0.16361894 -0.18139534 -0.04421775\n",
      "  0.01730016  0.0412715  -0.1304575  -0.21031822 -0.12621487  0.28364358\n",
      "  0.60360701]\n"
     ]
    }
   ],
   "source": [
    "#ACF values\n",
    "print(f\"ACF values are : /n{acf_values}\")"
   ]
  },
  {
   "cell_type": "code",
   "execution_count": 15,
   "metadata": {},
   "outputs": [
    {
     "name": "stdout",
     "output_type": "stream",
     "text": [
      "PACF values are : /n[ 1.          0.27494604 -0.25849171 -0.05270271 -0.18931364  0.02255093\n",
      " -0.06762778  0.02225071 -0.25839607 -0.16329952 -0.17207459  0.43140764\n",
      "  0.65727051]\n"
     ]
    }
   ],
   "source": [
    "#PACF values\n",
    "print(f\"PACF values are : /n{pacf_values}\")"
   ]
  },
  {
   "cell_type": "code",
   "execution_count": 16,
   "metadata": {},
   "outputs": [],
   "source": [
    "acf=[]\n",
    "for i in range(len(acf_values)):\n",
    "    acf.append(acf_values[i])"
   ]
  },
  {
   "cell_type": "code",
   "execution_count": 17,
   "metadata": {},
   "outputs": [
    {
     "data": {
      "text/plain": [
       "[1.0,\n",
       " 0.2699470238684541,\n",
       " -0.15741541260729006,\n",
       " -0.1636189419084674,\n",
       " -0.1813953363925275,\n",
       " -0.044217754360985725,\n",
       " 0.017300155483848164,\n",
       " 0.04127149798149671,\n",
       " -0.13045749771182744,\n",
       " -0.210318216032559,\n",
       " -0.12621486876545468,\n",
       " 0.2836435800709463,\n",
       " 0.6036070053529972]"
      ]
     },
     "execution_count": 17,
     "metadata": {},
     "output_type": "execute_result"
    }
   ],
   "source": [
    "acf"
   ]
  },
  {
   "cell_type": "code",
   "execution_count": 18,
   "metadata": {},
   "outputs": [],
   "source": [
    "pacf=[]\n",
    "for i in range(len(pacf_values)):\n",
    "    pacf.append(pacf_values[i])"
   ]
  },
  {
   "cell_type": "code",
   "execution_count": 19,
   "metadata": {},
   "outputs": [
    {
     "data": {
      "text/plain": [
       "[1.0,\n",
       " 0.27494604282898094,\n",
       " -0.25849170841030905,\n",
       " -0.052702710292975095,\n",
       " -0.18931364289901437,\n",
       " 0.022550927285834278,\n",
       " -0.06762777919611397,\n",
       " 0.02225071325252756,\n",
       " -0.2583960736121418,\n",
       " -0.16329951585308933,\n",
       " -0.17207458742057105,\n",
       " 0.4314076374897119,\n",
       " 0.6572705092014658]"
      ]
     },
     "execution_count": 19,
     "metadata": {},
     "output_type": "execute_result"
    }
   ],
   "source": [
    "pacf"
   ]
  },
  {
   "cell_type": "code",
   "execution_count": 20,
   "metadata": {},
   "outputs": [
    {
     "name": "stdout",
     "output_type": "stream",
     "text": [
      "['lag_1', 'lag_11', 'lag_12']\n"
     ]
    }
   ],
   "source": [
    "# Feature Engineering Dynamically\n",
    "acf_features=[]\n",
    "pacf_features=[]\n",
    "for i in range (1,len(acf_values)):\n",
    "    if abs(acf_values[i]>0.2):\n",
    "        index = i\n",
    "        lag = f\"lag_{index}\"\n",
    "        acf_features.append(lag)\n",
    "\n",
    "for i in range (1,len(pacf_values)):\n",
    "    if abs(pacf_values[i]>0.2):\n",
    "        index = i\n",
    "        lag = f\"lag_{index}\"\n",
    "        pacf_features.append(lag)\n",
    "        \n",
    "merge = list(set(acf_features+pacf_features))\n",
    "merge.sort()\n",
    "print(merge)\n"
   ]
  },
  {
   "cell_type": "code",
   "execution_count": 21,
   "metadata": {},
   "outputs": [
    {
     "data": {
      "text/html": [
       "<div>\n",
       "<style scoped>\n",
       "    .dataframe tbody tr th:only-of-type {\n",
       "        vertical-align: middle;\n",
       "    }\n",
       "\n",
       "    .dataframe tbody tr th {\n",
       "        vertical-align: top;\n",
       "    }\n",
       "\n",
       "    .dataframe thead th {\n",
       "        text-align: right;\n",
       "    }\n",
       "</style>\n",
       "<table border=\"1\" class=\"dataframe\">\n",
       "  <thead>\n",
       "    <tr style=\"text-align: right;\">\n",
       "      <th></th>\n",
       "      <th>sales</th>\n",
       "    </tr>\n",
       "    <tr>\n",
       "      <th>date</th>\n",
       "      <th></th>\n",
       "    </tr>\n",
       "  </thead>\n",
       "  <tbody>\n",
       "    <tr>\n",
       "      <th>2077-04-01</th>\n",
       "      <td>5.325850e+08</td>\n",
       "    </tr>\n",
       "    <tr>\n",
       "      <th>2077-05-01</th>\n",
       "      <td>4.436915e+08</td>\n",
       "    </tr>\n",
       "    <tr>\n",
       "      <th>2077-06-01</th>\n",
       "      <td>1.849226e+09</td>\n",
       "    </tr>\n",
       "    <tr>\n",
       "      <th>2077-07-01</th>\n",
       "      <td>9.448690e+08</td>\n",
       "    </tr>\n",
       "    <tr>\n",
       "      <th>2077-08-01</th>\n",
       "      <td>1.003570e+09</td>\n",
       "    </tr>\n",
       "    <tr>\n",
       "      <th>2077-09-01</th>\n",
       "      <td>1.103430e+09</td>\n",
       "    </tr>\n",
       "    <tr>\n",
       "      <th>2077-10-01</th>\n",
       "      <td>1.012084e+09</td>\n",
       "    </tr>\n",
       "    <tr>\n",
       "      <th>2077-11-01</th>\n",
       "      <td>1.312970e+09</td>\n",
       "    </tr>\n",
       "    <tr>\n",
       "      <th>2077-12-01</th>\n",
       "      <td>1.652121e+09</td>\n",
       "    </tr>\n",
       "    <tr>\n",
       "      <th>2078-01-01</th>\n",
       "      <td>2.163050e+09</td>\n",
       "    </tr>\n",
       "    <tr>\n",
       "      <th>2078-02-01</th>\n",
       "      <td>1.172178e+09</td>\n",
       "    </tr>\n",
       "    <tr>\n",
       "      <th>2078-03-01</th>\n",
       "      <td>1.500182e+09</td>\n",
       "    </tr>\n",
       "    <tr>\n",
       "      <th>2078-04-01</th>\n",
       "      <td>4.396279e+08</td>\n",
       "    </tr>\n",
       "    <tr>\n",
       "      <th>2078-05-01</th>\n",
       "      <td>8.633907e+08</td>\n",
       "    </tr>\n",
       "    <tr>\n",
       "      <th>2078-06-01</th>\n",
       "      <td>2.201687e+09</td>\n",
       "    </tr>\n",
       "    <tr>\n",
       "      <th>2078-07-01</th>\n",
       "      <td>1.132336e+09</td>\n",
       "    </tr>\n",
       "    <tr>\n",
       "      <th>2078-08-01</th>\n",
       "      <td>1.075536e+09</td>\n",
       "    </tr>\n",
       "    <tr>\n",
       "      <th>2078-09-01</th>\n",
       "      <td>1.174848e+09</td>\n",
       "    </tr>\n",
       "    <tr>\n",
       "      <th>2078-10-01</th>\n",
       "      <td>1.039861e+09</td>\n",
       "    </tr>\n",
       "    <tr>\n",
       "      <th>2078-11-01</th>\n",
       "      <td>1.478935e+09</td>\n",
       "    </tr>\n",
       "    <tr>\n",
       "      <th>2078-12-01</th>\n",
       "      <td>1.745778e+09</td>\n",
       "    </tr>\n",
       "    <tr>\n",
       "      <th>2079-01-01</th>\n",
       "      <td>2.796911e+09</td>\n",
       "    </tr>\n",
       "    <tr>\n",
       "      <th>2079-02-01</th>\n",
       "      <td>2.835615e+09</td>\n",
       "    </tr>\n",
       "    <tr>\n",
       "      <th>2079-03-01</th>\n",
       "      <td>3.508197e+08</td>\n",
       "    </tr>\n",
       "    <tr>\n",
       "      <th>2079-04-01</th>\n",
       "      <td>3.764748e+08</td>\n",
       "    </tr>\n",
       "    <tr>\n",
       "      <th>2079-05-01</th>\n",
       "      <td>1.351945e+09</td>\n",
       "    </tr>\n",
       "    <tr>\n",
       "      <th>2079-06-01</th>\n",
       "      <td>8.701037e+08</td>\n",
       "    </tr>\n",
       "    <tr>\n",
       "      <th>2079-07-01</th>\n",
       "      <td>1.019788e+09</td>\n",
       "    </tr>\n",
       "    <tr>\n",
       "      <th>2079-08-01</th>\n",
       "      <td>9.696291e+08</td>\n",
       "    </tr>\n",
       "    <tr>\n",
       "      <th>2079-09-01</th>\n",
       "      <td>1.142917e+09</td>\n",
       "    </tr>\n",
       "    <tr>\n",
       "      <th>2079-10-01</th>\n",
       "      <td>1.013569e+09</td>\n",
       "    </tr>\n",
       "    <tr>\n",
       "      <th>2079-11-01</th>\n",
       "      <td>1.544023e+09</td>\n",
       "    </tr>\n",
       "    <tr>\n",
       "      <th>2079-12-01</th>\n",
       "      <td>1.791262e+09</td>\n",
       "    </tr>\n",
       "    <tr>\n",
       "      <th>2080-01-01</th>\n",
       "      <td>1.803349e+09</td>\n",
       "    </tr>\n",
       "    <tr>\n",
       "      <th>2080-02-01</th>\n",
       "      <td>2.484349e+09</td>\n",
       "    </tr>\n",
       "    <tr>\n",
       "      <th>2080-03-01</th>\n",
       "      <td>2.820852e+08</td>\n",
       "    </tr>\n",
       "    <tr>\n",
       "      <th>2080-04-01</th>\n",
       "      <td>2.870260e+08</td>\n",
       "    </tr>\n",
       "    <tr>\n",
       "      <th>2080-05-01</th>\n",
       "      <td>6.393890e+08</td>\n",
       "    </tr>\n",
       "    <tr>\n",
       "      <th>2080-06-01</th>\n",
       "      <td>1.247765e+09</td>\n",
       "    </tr>\n",
       "    <tr>\n",
       "      <th>2080-07-01</th>\n",
       "      <td>9.122068e+08</td>\n",
       "    </tr>\n",
       "    <tr>\n",
       "      <th>2080-08-01</th>\n",
       "      <td>1.197015e+09</td>\n",
       "    </tr>\n",
       "    <tr>\n",
       "      <th>2080-09-01</th>\n",
       "      <td>1.117824e+09</td>\n",
       "    </tr>\n",
       "    <tr>\n",
       "      <th>2080-10-01</th>\n",
       "      <td>9.510855e+08</td>\n",
       "    </tr>\n",
       "    <tr>\n",
       "      <th>2080-11-01</th>\n",
       "      <td>1.196777e+09</td>\n",
       "    </tr>\n",
       "    <tr>\n",
       "      <th>2080-12-01</th>\n",
       "      <td>1.316790e+09</td>\n",
       "    </tr>\n",
       "    <tr>\n",
       "      <th>2081-01-01</th>\n",
       "      <td>1.756230e+09</td>\n",
       "    </tr>\n",
       "    <tr>\n",
       "      <th>2081-02-01</th>\n",
       "      <td>1.753238e+09</td>\n",
       "    </tr>\n",
       "    <tr>\n",
       "      <th>2081-03-01</th>\n",
       "      <td>4.650236e+08</td>\n",
       "    </tr>\n",
       "    <tr>\n",
       "      <th>2081-04-01</th>\n",
       "      <td>4.389632e+08</td>\n",
       "    </tr>\n",
       "    <tr>\n",
       "      <th>2081-05-01</th>\n",
       "      <td>8.692659e+08</td>\n",
       "    </tr>\n",
       "    <tr>\n",
       "      <th>2081-06-01</th>\n",
       "      <td>1.317938e+09</td>\n",
       "    </tr>\n",
       "    <tr>\n",
       "      <th>2081-07-01</th>\n",
       "      <td>9.179468e+08</td>\n",
       "    </tr>\n",
       "    <tr>\n",
       "      <th>2081-08-01</th>\n",
       "      <td>1.236809e+09</td>\n",
       "    </tr>\n",
       "    <tr>\n",
       "      <th>2081-09-01</th>\n",
       "      <td>1.100721e+09</td>\n",
       "    </tr>\n",
       "    <tr>\n",
       "      <th>2081-10-01</th>\n",
       "      <td>8.438242e+08</td>\n",
       "    </tr>\n",
       "  </tbody>\n",
       "</table>\n",
       "</div>"
      ],
      "text/plain": [
       "                   sales\n",
       "date                    \n",
       "2077-04-01  5.325850e+08\n",
       "2077-05-01  4.436915e+08\n",
       "2077-06-01  1.849226e+09\n",
       "2077-07-01  9.448690e+08\n",
       "2077-08-01  1.003570e+09\n",
       "2077-09-01  1.103430e+09\n",
       "2077-10-01  1.012084e+09\n",
       "2077-11-01  1.312970e+09\n",
       "2077-12-01  1.652121e+09\n",
       "2078-01-01  2.163050e+09\n",
       "2078-02-01  1.172178e+09\n",
       "2078-03-01  1.500182e+09\n",
       "2078-04-01  4.396279e+08\n",
       "2078-05-01  8.633907e+08\n",
       "2078-06-01  2.201687e+09\n",
       "2078-07-01  1.132336e+09\n",
       "2078-08-01  1.075536e+09\n",
       "2078-09-01  1.174848e+09\n",
       "2078-10-01  1.039861e+09\n",
       "2078-11-01  1.478935e+09\n",
       "2078-12-01  1.745778e+09\n",
       "2079-01-01  2.796911e+09\n",
       "2079-02-01  2.835615e+09\n",
       "2079-03-01  3.508197e+08\n",
       "2079-04-01  3.764748e+08\n",
       "2079-05-01  1.351945e+09\n",
       "2079-06-01  8.701037e+08\n",
       "2079-07-01  1.019788e+09\n",
       "2079-08-01  9.696291e+08\n",
       "2079-09-01  1.142917e+09\n",
       "2079-10-01  1.013569e+09\n",
       "2079-11-01  1.544023e+09\n",
       "2079-12-01  1.791262e+09\n",
       "2080-01-01  1.803349e+09\n",
       "2080-02-01  2.484349e+09\n",
       "2080-03-01  2.820852e+08\n",
       "2080-04-01  2.870260e+08\n",
       "2080-05-01  6.393890e+08\n",
       "2080-06-01  1.247765e+09\n",
       "2080-07-01  9.122068e+08\n",
       "2080-08-01  1.197015e+09\n",
       "2080-09-01  1.117824e+09\n",
       "2080-10-01  9.510855e+08\n",
       "2080-11-01  1.196777e+09\n",
       "2080-12-01  1.316790e+09\n",
       "2081-01-01  1.756230e+09\n",
       "2081-02-01  1.753238e+09\n",
       "2081-03-01  4.650236e+08\n",
       "2081-04-01  4.389632e+08\n",
       "2081-05-01  8.692659e+08\n",
       "2081-06-01  1.317938e+09\n",
       "2081-07-01  9.179468e+08\n",
       "2081-08-01  1.236809e+09\n",
       "2081-09-01  1.100721e+09\n",
       "2081-10-01  8.438242e+08"
      ]
     },
     "execution_count": 21,
     "metadata": {},
     "output_type": "execute_result"
    }
   ],
   "source": [
    "df"
   ]
  },
  {
   "cell_type": "code",
   "execution_count": null,
   "metadata": {},
   "outputs": [],
   "source": [
    "df[\"year\"] = df.index.year\n",
    "df[\"month\"] = df.index.month\n",
    "df[\"quarter\"] = df.index.quarter"
   ]
  },
  {
   "cell_type": "code",
   "execution_count": null,
   "metadata": {},
   "outputs": [],
   "source": [
    "df[\"year\"] = df.index.year\n",
    "df[\"month\"] = df.index.month\n",
    "df[\"quarter\"] = df.index.quarter\n",
    "\n",
    "# Implementic dynamic lags from ACF and PACF\n",
    "for i in range (len(merge)):\n",
    "   df[merge[i]]=df[\"sales\"].shift(int(merge[i].split('_')[1]))\n",
    "\n",
    "df[\"rolling_mean_3\"] = df[\"sales\"].rolling(window=3).mean()\n",
    "df[\"rolling_mean_6\"] = df[\"sales\"].rolling(window=6).mean() \n",
    "\n",
    "\n",
    "df.dropna(inplace=True)"
   ]
  },
  {
   "cell_type": "code",
   "execution_count": null,
   "metadata": {},
   "outputs": [],
   "source": [
    "df[\"year\"]=df.index.year\n",
    "df[\"month\"]=df.index.month\n",
    "df[\"quarter\"]=df.index.quarter\n",
    "\n",
    "for i in range (len(merge)):\n",
    "    df[merge[i]]=df[\"sales\"].shift(int(merge[i].split('_')[1]))\n",
    "\n",
    "df[\"rolling_mean_3\"]=df[\"sales\"].rolling(window=3).mean()\n",
    "df[\"rolling_mean_6\"]=df[\"sales\"].rolling(window=6).mean()"
   ]
  },
  {
   "cell_type": "code",
   "execution_count": null,
   "metadata": {},
   "outputs": [],
   "source": [
    "df[\"year\"]=df.index.year\n",
    "df['month']=df.index.month\n",
    "df['quarter']=df.index.mean"
   ]
  },
  {
   "cell_type": "code",
   "execution_count": null,
   "metadata": {},
   "outputs": [],
   "source": [
    "df.index[-1]"
   ]
  },
  {
   "cell_type": "code",
   "execution_count": null,
   "metadata": {},
   "outputs": [],
   "source": [
    "df"
   ]
  },
  {
   "cell_type": "code",
   "execution_count": null,
   "metadata": {},
   "outputs": [],
   "source": [
    "# Train-Test Split\n",
    "train_size = int(len(df) * 0.8)\n",
    "train, test = df.iloc[:train_size], df.iloc[train_size:]\n",
    "X_train, y_train = train.drop(columns=[\"sales\"]), train[\"sales\"]\n",
    "X_test, y_test = test.drop(columns=[\"sales\"]), test[\"sales\"]"
   ]
  },
  {
   "cell_type": "code",
   "execution_count": null,
   "metadata": {},
   "outputs": [],
   "source": [
    "# Standardization\n",
    "scaler_X = StandardScaler()\n",
    "scaler_y = StandardScaler()\n",
    "# scaler_X = MinMaxScaler()\n",
    "# scaler_y = MinMaxScaler()\n",
    "X_train_scaled = scaler_X.fit_transform(X_train)\n",
    "X_test_scaled = scaler_X.transform(X_test)\n",
    "y_train_scaled = scaler_y.fit_transform(y_train.values.reshape(-1, 1)).flatten()\n",
    "y_test_scaled = scaler_y.transform(y_test.values.reshape(-1, 1)).flatten()"
   ]
  },
  {
   "cell_type": "code",
   "execution_count": null,
   "metadata": {},
   "outputs": [],
   "source": [
    "from sklearn.model_selection import GridSearchCV\n",
    "\n",
    "\n",
    "\n",
    "\n",
    "# Hyperparameter Tuning\n",
    "param_grid = {\n",
    "    \"n_estimators\": [100, 250, 500],  \n",
    "    \"max_depth\": [3, 7, 10],  \n",
    "    \"min_samples_split\": [5, 10, 15],  \n",
    "    \"min_samples_leaf\": [3, 5, 10]  \n",
    "}\n",
    "\n",
    "\n",
    "\n"
   ]
  },
  {
   "cell_type": "code",
   "execution_count": null,
   "metadata": {},
   "outputs": [],
   "source": [
    "#Hyperparameter Tuning and cross-validation using Grid Search Technique\n",
    "from sklearn.model_selection import GridSearchCV\n",
    "\n",
    "rf = RandomForestRegressor(random_state=42, n_jobs=-1, verbose=True)\n",
    "grid_search = GridSearchCV(rf, param_grid, cv=5, scoring=\"neg_mean_squared_error\", verbose=1, n_jobs=-1)\n",
    "grid_search.fit(X_train_scaled, y_train_scaled)"
   ]
  },
  {
   "cell_type": "code",
   "execution_count": null,
   "metadata": {},
   "outputs": [],
   "source": [
    "import joblib\n",
    "joblib.dump(grid_search.best_estimator_, \"random_forest_model.pkl\")"
   ]
  },
  {
   "cell_type": "code",
   "execution_count": null,
   "metadata": {},
   "outputs": [],
   "source": [
    "# Load the trained model\n",
    "rf_model = joblib.load(\"random_forest_model.pkl\")"
   ]
  },
  {
   "cell_type": "code",
   "execution_count": null,
   "metadata": {},
   "outputs": [],
   "source": [
    "\n",
    "yran_pred_scaled = rf_model.predict(X_test_scaled)\n",
    "yran_pred = scaler_y.inverse_transform(yran_pred_scaled.reshape(-1, 1)).flatten()"
   ]
  },
  {
   "cell_type": "code",
   "execution_count": null,
   "metadata": {},
   "outputs": [],
   "source": [
    "# # Random Forest Model\n",
    "# rf_model = RandomForestRegressor(n_estimators=1000, max_depth=20, random_state=42, n_jobs=-1, verbose=1)\n",
    "# rf_model.fit(X_train_scaled, y_train_scaled)\n",
    "# yran_pred_scaled = rf_model.predict(X_test_scaled)\n",
    "# yran_pred = scaler_y.inverse_transform(yran_pred_scaled.reshape(-1, 1)).flatten()"
   ]
  },
  {
   "cell_type": "code",
   "execution_count": null,
   "metadata": {},
   "outputs": [],
   "source": [
    "# Random Forest Metrics\n",
    "mae_rf = mean_absolute_error(y_test, yran_pred)\n",
    "rmse_rf = np.sqrt(mean_squared_error(y_test, yran_pred))\n",
    "print(f\"Random Forest MAE: {mae_rf:.2f}\")\n",
    "print(f\"Random Forest RMSE: {rmse_rf:.2f}\")"
   ]
  },
  {
   "cell_type": "code",
   "execution_count": null,
   "metadata": {},
   "outputs": [],
   "source": [
    "from sklearn.metrics import r2_score\n",
    "\n",
    "r2_rf = r2_score(y_test, yran_pred)\n",
    "print(f\"Random Forest R² Score: {r2_rf:.4f}\")\n"
   ]
  },
  {
   "cell_type": "code",
   "execution_count": null,
   "metadata": {},
   "outputs": [],
   "source": [
    "X_test"
   ]
  },
  {
   "cell_type": "code",
   "execution_count": null,
   "metadata": {},
   "outputs": [],
   "source": [
    "plt.figure(figsize=(12,8))\n",
    "plt.plot(df.index, df['sales'], label=\"Actual Data\", color=\"black\", linewidth=1, marker='o')\n",
    "plt.plot(test.index, yran_pred, label=\"Random Forest Forecast\", color=\"red\", linestyle=\"dashed\", linewidth=3, marker='o')\n",
    "plt.title(\"Random Forest of company 06 from 2077-2081\")\n",
    "plt.xlabel(\"Years\")\n",
    "plt.ylabel(\"Monthly Sales\")\n",
    "plt.legend()\n",
    "plt.show()"
   ]
  },
  {
   "cell_type": "code",
   "execution_count": null,
   "metadata": {},
   "outputs": [],
   "source": [
    "import plotly.express as px\n",
    "import plotly.graph_objects as go\n",
    "\n",
    "# Create figure\n",
    "fig = go.Figure()\n",
    "\n",
    "# Actual Data Line\n",
    "fig.add_trace(go.Scatter(\n",
    "    x=df.index,\n",
    "    y=df['sales'],\n",
    "    mode='lines+markers',\n",
    "    name='Actual Data',\n",
    "    line=dict(color='black', width=1),\n",
    "    marker=dict(symbol='circle', size=6),\n",
    "    hovertemplate='Month: %{x}<br>Sales: %{y}<extra></extra>'\n",
    "))\n",
    "\n",
    "# Random Forest Forecast Line\n",
    "fig.add_trace(go.Scatter(\n",
    "    x=test.index,\n",
    "    y=yran_pred,\n",
    "    mode='lines+markers',\n",
    "    name='Random Forest Forecast',\n",
    "    line=dict(color='red', dash='dash', width=3),\n",
    "    marker=dict(symbol='circle', size=6),\n",
    "    hovertemplate='Month: %{x}<br>Sales: %{y}<extra></extra>'\n",
    "))\n",
    "\n",
    "# Add titles and labels\n",
    "fig.update_layout(\n",
    "    title='Random Forest of company 01 from 2077-2081',\n",
    "    xaxis_title='Years',\n",
    "    yaxis_title='Monthly Sales',\n",
    "    legend_title='Legend',\n",
    "    hovermode='x unified',\n",
    "    width=1000,\n",
    "    height=600\n",
    ")\n",
    "\n",
    "# Show figure\n",
    "fig.show()\n"
   ]
  },
  {
   "cell_type": "code",
   "execution_count": null,
   "metadata": {},
   "outputs": [],
   "source": [
    "df.index"
   ]
  }
 ],
 "metadata": {
  "kernelspec": {
   "display_name": "Python 3",
   "language": "python",
   "name": "python3"
  },
  "language_info": {
   "codemirror_mode": {
    "name": "ipython",
    "version": 3
   },
   "file_extension": ".py",
   "mimetype": "text/x-python",
   "name": "python",
   "nbconvert_exporter": "python",
   "pygments_lexer": "ipython3",
   "version": "3.12.3"
  }
 },
 "nbformat": 4,
 "nbformat_minor": 2
}
