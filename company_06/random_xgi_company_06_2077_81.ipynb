{
 "cells": [
  {
   "cell_type": "code",
   "execution_count": 1,
   "metadata": {},
   "outputs": [],
   "source": [
    "#importing the libraries\n",
    "import numpy as np\n",
    "import pandas as pd\n",
    "import matplotlib.pyplot as plt\n",
    "import plotly.graph_objs as go\n",
    "import plotly.offline as pyo\n",
    "from sklearn.preprocessing import MinMaxScaler, StandardScaler\n",
    "from sklearn.model_selection import train_test_split\n",
    "from sklearn.metrics import root_mean_squared_error, mean_absolute_error, mean_squared_error, r2_score\n",
    "from sklearn.ensemble import RandomForestRegressor\n",
    "import xgboost as xgb"
   ]
  },
  {
   "cell_type": "code",
   "execution_count": 2,
   "metadata": {},
   "outputs": [],
   "source": [
    "\n",
    "df = pd.read_csv(r\"merge_06.csv\", parse_dates=[\"date\"], index_col=\"date\")\n",
    "df = df.sort_index()\n",
    "df.dropna(inplace=True)"
   ]
  },
  {
   "cell_type": "code",
   "execution_count": 3,
   "metadata": {},
   "outputs": [
    {
     "data": {
      "text/plain": [
       "Timestamp('2081-10-01 00:00:00')"
      ]
     },
     "execution_count": 3,
     "metadata": {},
     "output_type": "execute_result"
    }
   ],
   "source": [
    "df.index[-1]"
   ]
  },
  {
   "cell_type": "code",
   "execution_count": 4,
   "metadata": {},
   "outputs": [
    {
     "data": {
      "text/plain": [
       "Index(['sales'], dtype='object')"
      ]
     },
     "execution_count": 4,
     "metadata": {},
     "output_type": "execute_result"
    }
   ],
   "source": [
    "df.columns"
   ]
  },
  {
   "cell_type": "code",
   "execution_count": 5,
   "metadata": {},
   "outputs": [
    {
     "data": {
      "application/vnd.plotly.v1+json": {
       "config": {
        "linkText": "Export to plot.ly",
        "plotlyServerURL": "https://plot.ly",
        "showLink": false
       },
       "data": [
        {
         "line": {
          "shape": "spline"
         },
         "mode": "lines+markers",
         "name": "Fiscal Year 2077-2078",
         "type": "scatter",
         "x": [
          "Shrawan",
          "Bhadra",
          "Asoj",
          "Kartik",
          "Mangsir",
          "Poush",
          "Magh",
          "Falgun",
          "Chaitra",
          "Baishakh",
          "Jestha",
          "Ashadh"
         ],
         "y": [
          532584957.095,
          443691512.52,
          1849226094.9221,
          944868968.6868,
          1003570162.1604,
          1103429627.2282,
          1012083978.6682,
          1312970436.7852,
          1652121246.9828,
          2163049983.8388,
          1172178393.4125,
          1500182077.4661
         ]
        },
        {
         "line": {
          "shape": "spline"
         },
         "mode": "lines+markers",
         "name": "Fiscal Year 2078-2079",
         "type": "scatter",
         "x": [
          "Shrawan",
          "Bhadra",
          "Asoj",
          "Kartik",
          "Mangsir",
          "Poush",
          "Magh",
          "Falgun",
          "Chaitra",
          "Baishakh",
          "Jestha",
          "Ashadh"
         ],
         "y": [
          439627939.1455,
          863390658.1544,
          2201687364.96,
          1132335689.9609,
          1075535581.33,
          1174847972.6722,
          1039861089.3925,
          1478934990.92,
          1745778303.5,
          2796911319.6791,
          2835614708.13,
          350819669.22
         ]
        },
        {
         "line": {
          "shape": "spline"
         },
         "mode": "lines+markers",
         "name": "Fiscal Year 2079-2080",
         "type": "scatter",
         "x": [
          "Shrawan",
          "Bhadra",
          "Asoj",
          "Kartik",
          "Mangsir",
          "Poush",
          "Magh",
          "Falgun",
          "Chaitra",
          "Baishakh",
          "Jestha",
          "Ashadh"
         ],
         "y": [
          376474780.43,
          1351944592.935,
          870103730.26,
          1019788478.95,
          969629105.9206,
          1142916861.3582,
          1013569482.45,
          1544022768.11,
          1791262313.37,
          1803348636.5342,
          2484349264.98,
          282085230.4
         ]
        },
        {
         "line": {
          "shape": "spline"
         },
         "mode": "lines+markers",
         "name": "Fiscal Year 2080-2081",
         "type": "scatter",
         "x": [
          "Shrawan",
          "Bhadra",
          "Asoj",
          "Kartik",
          "Mangsir",
          "Poush",
          "Magh",
          "Falgun",
          "Chaitra",
          "Baishakh",
          "Jestha",
          "Ashadh"
         ],
         "y": [
          287026004.08,
          639388951.87,
          1247764865.09,
          912206835.06,
          1197014723.18,
          1117823933.96,
          951085536,
          1196777062.98,
          1316790267.14,
          1756230118.9442,
          1753237995.52,
          465023602.24
         ]
        },
        {
         "line": {
          "shape": "spline"
         },
         "mode": "lines+markers",
         "name": "Fiscal Year 2081-2082",
         "type": "scatter",
         "x": [
          "Shrawan",
          "Bhadra",
          "Asoj",
          "Kartik",
          "Mangsir",
          "Poush",
          "Magh"
         ],
         "y": [
          438963249.22,
          869265909.33,
          1317938145.2,
          917946799.1658,
          1236808885.01,
          1100720637.76,
          843824168.51
         ]
        }
       ],
       "layout": {
        "hovermode": "x unified",
        "template": {
         "data": {
          "bar": [
           {
            "error_x": {
             "color": "#f2f5fa"
            },
            "error_y": {
             "color": "#f2f5fa"
            },
            "marker": {
             "line": {
              "color": "rgb(17,17,17)",
              "width": 0.5
             },
             "pattern": {
              "fillmode": "overlay",
              "size": 10,
              "solidity": 0.2
             }
            },
            "type": "bar"
           }
          ],
          "barpolar": [
           {
            "marker": {
             "line": {
              "color": "rgb(17,17,17)",
              "width": 0.5
             },
             "pattern": {
              "fillmode": "overlay",
              "size": 10,
              "solidity": 0.2
             }
            },
            "type": "barpolar"
           }
          ],
          "carpet": [
           {
            "aaxis": {
             "endlinecolor": "#A2B1C6",
             "gridcolor": "#506784",
             "linecolor": "#506784",
             "minorgridcolor": "#506784",
             "startlinecolor": "#A2B1C6"
            },
            "baxis": {
             "endlinecolor": "#A2B1C6",
             "gridcolor": "#506784",
             "linecolor": "#506784",
             "minorgridcolor": "#506784",
             "startlinecolor": "#A2B1C6"
            },
            "type": "carpet"
           }
          ],
          "choropleth": [
           {
            "colorbar": {
             "outlinewidth": 0,
             "ticks": ""
            },
            "type": "choropleth"
           }
          ],
          "contour": [
           {
            "colorbar": {
             "outlinewidth": 0,
             "ticks": ""
            },
            "colorscale": [
             [
              0,
              "#0d0887"
             ],
             [
              0.1111111111111111,
              "#46039f"
             ],
             [
              0.2222222222222222,
              "#7201a8"
             ],
             [
              0.3333333333333333,
              "#9c179e"
             ],
             [
              0.4444444444444444,
              "#bd3786"
             ],
             [
              0.5555555555555556,
              "#d8576b"
             ],
             [
              0.6666666666666666,
              "#ed7953"
             ],
             [
              0.7777777777777778,
              "#fb9f3a"
             ],
             [
              0.8888888888888888,
              "#fdca26"
             ],
             [
              1,
              "#f0f921"
             ]
            ],
            "type": "contour"
           }
          ],
          "contourcarpet": [
           {
            "colorbar": {
             "outlinewidth": 0,
             "ticks": ""
            },
            "type": "contourcarpet"
           }
          ],
          "heatmap": [
           {
            "colorbar": {
             "outlinewidth": 0,
             "ticks": ""
            },
            "colorscale": [
             [
              0,
              "#0d0887"
             ],
             [
              0.1111111111111111,
              "#46039f"
             ],
             [
              0.2222222222222222,
              "#7201a8"
             ],
             [
              0.3333333333333333,
              "#9c179e"
             ],
             [
              0.4444444444444444,
              "#bd3786"
             ],
             [
              0.5555555555555556,
              "#d8576b"
             ],
             [
              0.6666666666666666,
              "#ed7953"
             ],
             [
              0.7777777777777778,
              "#fb9f3a"
             ],
             [
              0.8888888888888888,
              "#fdca26"
             ],
             [
              1,
              "#f0f921"
             ]
            ],
            "type": "heatmap"
           }
          ],
          "heatmapgl": [
           {
            "colorbar": {
             "outlinewidth": 0,
             "ticks": ""
            },
            "colorscale": [
             [
              0,
              "#0d0887"
             ],
             [
              0.1111111111111111,
              "#46039f"
             ],
             [
              0.2222222222222222,
              "#7201a8"
             ],
             [
              0.3333333333333333,
              "#9c179e"
             ],
             [
              0.4444444444444444,
              "#bd3786"
             ],
             [
              0.5555555555555556,
              "#d8576b"
             ],
             [
              0.6666666666666666,
              "#ed7953"
             ],
             [
              0.7777777777777778,
              "#fb9f3a"
             ],
             [
              0.8888888888888888,
              "#fdca26"
             ],
             [
              1,
              "#f0f921"
             ]
            ],
            "type": "heatmapgl"
           }
          ],
          "histogram": [
           {
            "marker": {
             "pattern": {
              "fillmode": "overlay",
              "size": 10,
              "solidity": 0.2
             }
            },
            "type": "histogram"
           }
          ],
          "histogram2d": [
           {
            "colorbar": {
             "outlinewidth": 0,
             "ticks": ""
            },
            "colorscale": [
             [
              0,
              "#0d0887"
             ],
             [
              0.1111111111111111,
              "#46039f"
             ],
             [
              0.2222222222222222,
              "#7201a8"
             ],
             [
              0.3333333333333333,
              "#9c179e"
             ],
             [
              0.4444444444444444,
              "#bd3786"
             ],
             [
              0.5555555555555556,
              "#d8576b"
             ],
             [
              0.6666666666666666,
              "#ed7953"
             ],
             [
              0.7777777777777778,
              "#fb9f3a"
             ],
             [
              0.8888888888888888,
              "#fdca26"
             ],
             [
              1,
              "#f0f921"
             ]
            ],
            "type": "histogram2d"
           }
          ],
          "histogram2dcontour": [
           {
            "colorbar": {
             "outlinewidth": 0,
             "ticks": ""
            },
            "colorscale": [
             [
              0,
              "#0d0887"
             ],
             [
              0.1111111111111111,
              "#46039f"
             ],
             [
              0.2222222222222222,
              "#7201a8"
             ],
             [
              0.3333333333333333,
              "#9c179e"
             ],
             [
              0.4444444444444444,
              "#bd3786"
             ],
             [
              0.5555555555555556,
              "#d8576b"
             ],
             [
              0.6666666666666666,
              "#ed7953"
             ],
             [
              0.7777777777777778,
              "#fb9f3a"
             ],
             [
              0.8888888888888888,
              "#fdca26"
             ],
             [
              1,
              "#f0f921"
             ]
            ],
            "type": "histogram2dcontour"
           }
          ],
          "mesh3d": [
           {
            "colorbar": {
             "outlinewidth": 0,
             "ticks": ""
            },
            "type": "mesh3d"
           }
          ],
          "parcoords": [
           {
            "line": {
             "colorbar": {
              "outlinewidth": 0,
              "ticks": ""
             }
            },
            "type": "parcoords"
           }
          ],
          "pie": [
           {
            "automargin": true,
            "type": "pie"
           }
          ],
          "scatter": [
           {
            "marker": {
             "line": {
              "color": "#283442"
             }
            },
            "type": "scatter"
           }
          ],
          "scatter3d": [
           {
            "line": {
             "colorbar": {
              "outlinewidth": 0,
              "ticks": ""
             }
            },
            "marker": {
             "colorbar": {
              "outlinewidth": 0,
              "ticks": ""
             }
            },
            "type": "scatter3d"
           }
          ],
          "scattercarpet": [
           {
            "marker": {
             "colorbar": {
              "outlinewidth": 0,
              "ticks": ""
             }
            },
            "type": "scattercarpet"
           }
          ],
          "scattergeo": [
           {
            "marker": {
             "colorbar": {
              "outlinewidth": 0,
              "ticks": ""
             }
            },
            "type": "scattergeo"
           }
          ],
          "scattergl": [
           {
            "marker": {
             "line": {
              "color": "#283442"
             }
            },
            "type": "scattergl"
           }
          ],
          "scattermapbox": [
           {
            "marker": {
             "colorbar": {
              "outlinewidth": 0,
              "ticks": ""
             }
            },
            "type": "scattermapbox"
           }
          ],
          "scatterpolar": [
           {
            "marker": {
             "colorbar": {
              "outlinewidth": 0,
              "ticks": ""
             }
            },
            "type": "scatterpolar"
           }
          ],
          "scatterpolargl": [
           {
            "marker": {
             "colorbar": {
              "outlinewidth": 0,
              "ticks": ""
             }
            },
            "type": "scatterpolargl"
           }
          ],
          "scatterternary": [
           {
            "marker": {
             "colorbar": {
              "outlinewidth": 0,
              "ticks": ""
             }
            },
            "type": "scatterternary"
           }
          ],
          "surface": [
           {
            "colorbar": {
             "outlinewidth": 0,
             "ticks": ""
            },
            "colorscale": [
             [
              0,
              "#0d0887"
             ],
             [
              0.1111111111111111,
              "#46039f"
             ],
             [
              0.2222222222222222,
              "#7201a8"
             ],
             [
              0.3333333333333333,
              "#9c179e"
             ],
             [
              0.4444444444444444,
              "#bd3786"
             ],
             [
              0.5555555555555556,
              "#d8576b"
             ],
             [
              0.6666666666666666,
              "#ed7953"
             ],
             [
              0.7777777777777778,
              "#fb9f3a"
             ],
             [
              0.8888888888888888,
              "#fdca26"
             ],
             [
              1,
              "#f0f921"
             ]
            ],
            "type": "surface"
           }
          ],
          "table": [
           {
            "cells": {
             "fill": {
              "color": "#506784"
             },
             "line": {
              "color": "rgb(17,17,17)"
             }
            },
            "header": {
             "fill": {
              "color": "#2a3f5f"
             },
             "line": {
              "color": "rgb(17,17,17)"
             }
            },
            "type": "table"
           }
          ]
         },
         "layout": {
          "annotationdefaults": {
           "arrowcolor": "#f2f5fa",
           "arrowhead": 0,
           "arrowwidth": 1
          },
          "autotypenumbers": "strict",
          "coloraxis": {
           "colorbar": {
            "outlinewidth": 0,
            "ticks": ""
           }
          },
          "colorscale": {
           "diverging": [
            [
             0,
             "#8e0152"
            ],
            [
             0.1,
             "#c51b7d"
            ],
            [
             0.2,
             "#de77ae"
            ],
            [
             0.3,
             "#f1b6da"
            ],
            [
             0.4,
             "#fde0ef"
            ],
            [
             0.5,
             "#f7f7f7"
            ],
            [
             0.6,
             "#e6f5d0"
            ],
            [
             0.7,
             "#b8e186"
            ],
            [
             0.8,
             "#7fbc41"
            ],
            [
             0.9,
             "#4d9221"
            ],
            [
             1,
             "#276419"
            ]
           ],
           "sequential": [
            [
             0,
             "#0d0887"
            ],
            [
             0.1111111111111111,
             "#46039f"
            ],
            [
             0.2222222222222222,
             "#7201a8"
            ],
            [
             0.3333333333333333,
             "#9c179e"
            ],
            [
             0.4444444444444444,
             "#bd3786"
            ],
            [
             0.5555555555555556,
             "#d8576b"
            ],
            [
             0.6666666666666666,
             "#ed7953"
            ],
            [
             0.7777777777777778,
             "#fb9f3a"
            ],
            [
             0.8888888888888888,
             "#fdca26"
            ],
            [
             1,
             "#f0f921"
            ]
           ],
           "sequentialminus": [
            [
             0,
             "#0d0887"
            ],
            [
             0.1111111111111111,
             "#46039f"
            ],
            [
             0.2222222222222222,
             "#7201a8"
            ],
            [
             0.3333333333333333,
             "#9c179e"
            ],
            [
             0.4444444444444444,
             "#bd3786"
            ],
            [
             0.5555555555555556,
             "#d8576b"
            ],
            [
             0.6666666666666666,
             "#ed7953"
            ],
            [
             0.7777777777777778,
             "#fb9f3a"
            ],
            [
             0.8888888888888888,
             "#fdca26"
            ],
            [
             1,
             "#f0f921"
            ]
           ]
          },
          "colorway": [
           "#636efa",
           "#EF553B",
           "#00cc96",
           "#ab63fa",
           "#FFA15A",
           "#19d3f3",
           "#FF6692",
           "#B6E880",
           "#FF97FF",
           "#FECB52"
          ],
          "font": {
           "color": "#f2f5fa"
          },
          "geo": {
           "bgcolor": "rgb(17,17,17)",
           "lakecolor": "rgb(17,17,17)",
           "landcolor": "rgb(17,17,17)",
           "showlakes": true,
           "showland": true,
           "subunitcolor": "#506784"
          },
          "hoverlabel": {
           "align": "left"
          },
          "hovermode": "closest",
          "mapbox": {
           "style": "dark"
          },
          "paper_bgcolor": "rgb(17,17,17)",
          "plot_bgcolor": "rgb(17,17,17)",
          "polar": {
           "angularaxis": {
            "gridcolor": "#506784",
            "linecolor": "#506784",
            "ticks": ""
           },
           "bgcolor": "rgb(17,17,17)",
           "radialaxis": {
            "gridcolor": "#506784",
            "linecolor": "#506784",
            "ticks": ""
           }
          },
          "scene": {
           "xaxis": {
            "backgroundcolor": "rgb(17,17,17)",
            "gridcolor": "#506784",
            "gridwidth": 2,
            "linecolor": "#506784",
            "showbackground": true,
            "ticks": "",
            "zerolinecolor": "#C8D4E3"
           },
           "yaxis": {
            "backgroundcolor": "rgb(17,17,17)",
            "gridcolor": "#506784",
            "gridwidth": 2,
            "linecolor": "#506784",
            "showbackground": true,
            "ticks": "",
            "zerolinecolor": "#C8D4E3"
           },
           "zaxis": {
            "backgroundcolor": "rgb(17,17,17)",
            "gridcolor": "#506784",
            "gridwidth": 2,
            "linecolor": "#506784",
            "showbackground": true,
            "ticks": "",
            "zerolinecolor": "#C8D4E3"
           }
          },
          "shapedefaults": {
           "line": {
            "color": "#f2f5fa"
           }
          },
          "sliderdefaults": {
           "bgcolor": "#C8D4E3",
           "bordercolor": "rgb(17,17,17)",
           "borderwidth": 1,
           "tickwidth": 0
          },
          "ternary": {
           "aaxis": {
            "gridcolor": "#506784",
            "linecolor": "#506784",
            "ticks": ""
           },
           "baxis": {
            "gridcolor": "#506784",
            "linecolor": "#506784",
            "ticks": ""
           },
           "bgcolor": "rgb(17,17,17)",
           "caxis": {
            "gridcolor": "#506784",
            "linecolor": "#506784",
            "ticks": ""
           }
          },
          "title": {
           "x": 0.05
          },
          "updatemenudefaults": {
           "bgcolor": "#506784",
           "borderwidth": 0
          },
          "xaxis": {
           "automargin": true,
           "gridcolor": "#283442",
           "linecolor": "#506784",
           "ticks": "",
           "title": {
            "standoff": 15
           },
           "zerolinecolor": "#283442",
           "zerolinewidth": 2
          },
          "yaxis": {
           "automargin": true,
           "gridcolor": "#283442",
           "linecolor": "#506784",
           "ticks": "",
           "title": {
            "standoff": 15
           },
           "zerolinecolor": "#283442",
           "zerolinewidth": 2
          }
         }
        },
        "title": {
         "text": "Sales Trend by Fiscal Year"
        },
        "xaxis": {
         "categoryarray": [
          "Shrawan",
          "Bhadra",
          "Asoj",
          "Kartik",
          "Mangsir",
          "Poush",
          "Magh",
          "Falgun",
          "Chaitra",
          "Baishakh",
          "Jestha",
          "Ashadh"
         ],
         "categoryorder": "array",
         "title": {
          "text": "Nepali Month"
         }
        },
        "yaxis": {
         "title": {
          "text": "Sales"
         }
        }
       }
      }
     },
     "metadata": {},
     "output_type": "display_data"
    }
   ],
   "source": [
    "# data visualization using plotly\n",
    "import pandas as pd\n",
    "import plotly.graph_objs as go\n",
    "import plotly.offline as pyo\n",
    "\n",
    "df_sales = pd.read_csv(r\"merge_06.csv\")\n",
    "\n",
    "df_sales.columns = ['date','sales']\n",
    "\n",
    "df_sales[['Year', 'Month']] = df_sales['date'].str.split('-', expand=True)\n",
    "df_sales['Year'] = df_sales['Year'].astype(int)\n",
    "df_sales['Month'] = df_sales['Month'].astype(int)\n",
    "nepali_months_fiscal_order = {\n",
    "    4: \"Shrawan\", 5: \"Bhadra\", 6: \"Asoj\", 7: \"Kartik\",\n",
    "    8: \"Mangsir\", 9: \"Poush\", 10: \"Magh\", 11: \"Falgun\",\n",
    "    12: \"Chaitra\", 1: \"Baishakh\", 2: \"Jestha\", 3: \"Ashadh\"\n",
    "}\n",
    "\n",
    "df_sales['Month_Name'] = df_sales['Month'].map(nepali_months_fiscal_order)\n",
    "\n",
    "\n",
    "df_sales['Fiscal_Year'] = df_sales.apply(lambda row: \n",
    "                                         f\"{row['Year']}-{row['Year']+1}\" if row['Month'] >= 4 \n",
    "                                         else f\"{row['Year']-1}-{row['Year']}\", axis=1)\n",
    "\n",
    "df_sales['Month_Order'] = df_sales['Month'].apply(lambda x: list(nepali_months_fiscal_order.keys()).index(x))\n",
    "\n",
    "df_sales = df_sales.sort_values(by=['Fiscal_Year', 'Month_Order'])\n",
    "\n",
    "fig = go.Figure()\n",
    "\n",
    "fiscal_years = df_sales['Fiscal_Year'].unique()\n",
    "\n",
    "for fy in fiscal_years:\n",
    "    df_fy = df_sales[df_sales['Fiscal_Year'] == fy]\n",
    "    fig.add_trace(go.Scatter(\n",
    "        x=df_fy['Month_Name'], \n",
    "        y=df_fy['sales'], \n",
    "        mode='lines+markers',\n",
    "        name=f'Fiscal Year {fy}',\n",
    "        line=dict(shape='spline')  \n",
    "    ))\n",
    "\n",
    "fig.update_layout(\n",
    "    title=\"Sales Trend by Fiscal Year\",\n",
    "    xaxis_title=\"Nepali Month\",\n",
    "    yaxis_title=\"Sales\",\n",
    "    xaxis=dict(categoryorder='array', categoryarray=list(nepali_months_fiscal_order.values())),\n",
    "    template=\"plotly_dark\",\n",
    "    hovermode=\"x unified\"\n",
    ")\n",
    "\n",
    "pyo.iplot(fig)\n"
   ]
  },
  {
   "cell_type": "code",
   "execution_count": 6,
   "metadata": {},
   "outputs": [
    {
     "data": {
      "text/html": [
       "<div>\n",
       "<style scoped>\n",
       "    .dataframe tbody tr th:only-of-type {\n",
       "        vertical-align: middle;\n",
       "    }\n",
       "\n",
       "    .dataframe tbody tr th {\n",
       "        vertical-align: top;\n",
       "    }\n",
       "\n",
       "    .dataframe thead th {\n",
       "        text-align: right;\n",
       "    }\n",
       "</style>\n",
       "<table border=\"1\" class=\"dataframe\">\n",
       "  <thead>\n",
       "    <tr style=\"text-align: right;\">\n",
       "      <th></th>\n",
       "      <th>sales</th>\n",
       "    </tr>\n",
       "    <tr>\n",
       "      <th>date</th>\n",
       "      <th></th>\n",
       "    </tr>\n",
       "  </thead>\n",
       "  <tbody>\n",
       "    <tr>\n",
       "      <th>2077-04-01</th>\n",
       "      <td>5.325850e+08</td>\n",
       "    </tr>\n",
       "    <tr>\n",
       "      <th>2077-05-01</th>\n",
       "      <td>4.436915e+08</td>\n",
       "    </tr>\n",
       "    <tr>\n",
       "      <th>2077-06-01</th>\n",
       "      <td>1.849226e+09</td>\n",
       "    </tr>\n",
       "    <tr>\n",
       "      <th>2077-07-01</th>\n",
       "      <td>9.448690e+08</td>\n",
       "    </tr>\n",
       "    <tr>\n",
       "      <th>2077-08-01</th>\n",
       "      <td>1.003570e+09</td>\n",
       "    </tr>\n",
       "    <tr>\n",
       "      <th>2077-09-01</th>\n",
       "      <td>1.103430e+09</td>\n",
       "    </tr>\n",
       "    <tr>\n",
       "      <th>2077-10-01</th>\n",
       "      <td>1.012084e+09</td>\n",
       "    </tr>\n",
       "    <tr>\n",
       "      <th>2077-11-01</th>\n",
       "      <td>1.312970e+09</td>\n",
       "    </tr>\n",
       "    <tr>\n",
       "      <th>2077-12-01</th>\n",
       "      <td>1.652121e+09</td>\n",
       "    </tr>\n",
       "    <tr>\n",
       "      <th>2078-01-01</th>\n",
       "      <td>2.163050e+09</td>\n",
       "    </tr>\n",
       "  </tbody>\n",
       "</table>\n",
       "</div>"
      ],
      "text/plain": [
       "                   sales\n",
       "date                    \n",
       "2077-04-01  5.325850e+08\n",
       "2077-05-01  4.436915e+08\n",
       "2077-06-01  1.849226e+09\n",
       "2077-07-01  9.448690e+08\n",
       "2077-08-01  1.003570e+09\n",
       "2077-09-01  1.103430e+09\n",
       "2077-10-01  1.012084e+09\n",
       "2077-11-01  1.312970e+09\n",
       "2077-12-01  1.652121e+09\n",
       "2078-01-01  2.163050e+09"
      ]
     },
     "execution_count": 6,
     "metadata": {},
     "output_type": "execute_result"
    }
   ],
   "source": [
    "df.head(10)"
   ]
  },
  {
   "cell_type": "code",
   "execution_count": 7,
   "metadata": {},
   "outputs": [
    {
     "name": "stdout",
     "output_type": "stream",
     "text": [
      "ACF values are : \n",
      "0 1.0\n",
      "1 0.2699470238684541\n",
      "2 -0.15741541260729006\n",
      "3 -0.1636189419084674\n",
      "4 -0.1813953363925275\n",
      "5 -0.044217754360985725\n",
      "6 0.017300155483848164\n",
      "7 0.04127149798149671\n",
      "8 -0.13045749771182744\n",
      "9 -0.210318216032559\n",
      "10 -0.12621486876545468\n",
      "11 0.2836435800709463\n",
      "12 0.6036070053529972\n",
      "PACF values are : \n",
      "0 1.0\n",
      "1 0.27494604282898094\n",
      "2 -0.25849170841030905\n",
      "3 -0.052702710292975095\n",
      "4 -0.18931364289901437\n",
      "5 0.022550927285834278\n",
      "6 -0.06762777919611397\n",
      "7 0.02225071325252756\n",
      "8 -0.2583960736121418\n",
      "9 -0.16329951585308933\n",
      "10 -0.17207458742057105\n",
      "11 0.4314076374897119\n",
      "12 0.6572705092014658\n"
     ]
    },
    {
     "data": {
      "image/png": "[encoded data removed]",
      "text/plain": [
       "<Figure size 1200x600 with 2 Axes>"
      ]
     },
     "metadata": {},
     "output_type": "display_data"
    }
   ],
   "source": [
    "from statsmodels.graphics.tsaplots import plot_acf, plot_pacf\n",
    "from statsmodels.tsa.stattools import acf, pacf\n",
    "import matplotlib.pyplot as plt\n",
    "\n",
    "# Calculate the ACF and PACF with fft=True for better accuracy\n",
    "acf_values = acf(df[\"sales\"], nlags=13, fft=False)\n",
    "pacf_values = pacf(df[\"sales\"], nlags=13)\n",
    "\n",
    "# # Print ACF and PACF values within the expected range\n",
    "print(\"ACF values are : \")\n",
    "for i in range(0, 13):\n",
    "    print(i, acf_values[i])\n",
    "\n",
    "print(\"PACF values are : \")\n",
    "for i in range(0, 13):\n",
    "    print(i, pacf_values[i])\n",
    "\n",
    "# Plot the ACF and PACF\n",
    "plt.figure(figsize=(12, 6))\n",
    "\n",
    "plt.subplot(2, 1, 1)\n",
    "plot_acf(df[\"sales\"], lags=13, ax=plt.gca())\n",
    "plt.title(\"Autocorrelation Function (ACF)\")\n",
    "\n",
    "plt.subplot(2, 1, 2)\n",
    "plot_pacf(df[\"sales\"], lags=13, ax=plt.gca())\n",
    "plt.title(\"Partial Autocorrelation Function (PACF)\")\n",
    "\n",
    "plt.tight_layout()\n",
    "plt.show()\n"
   ]
  },
  {
   "cell_type": "code",
   "execution_count": null,
   "metadata": {},
   "outputs": [],
   "source": [
    "print(pacf_values)"
   ]
  },
  {
   "cell_type": "code",
   "execution_count": null,
   "metadata": {},
   "outputs": [],
   "source": [
    "print(acf_values)"
   ]
  },
  {
   "cell_type": "code",
   "execution_count": null,
   "metadata": {},
   "outputs": [],
   "source": [
    "print(pacf_values)"
   ]
  },
  {
   "cell_type": "code",
   "execution_count": 8,
   "metadata": {},
   "outputs": [
    {
     "name": "stdout",
     "output_type": "stream",
     "text": [
      "ACF values are : /n[ 1.          0.26994702 -0.15741541 -0.16361894 -0.18139534 -0.04421775\n",
      "  0.01730016  0.0412715  -0.1304575  -0.21031822 -0.12621487  0.28364358\n",
      "  0.60360701  0.24063027]\n"
     ]
    }
   ],
   "source": [
    "#ACF values\n",
    "print(f\"ACF values are : /n{acf_values}\")"
   ]
  },
  {
   "cell_type": "code",
   "execution_count": 9,
   "metadata": {},
   "outputs": [
    {
     "name": "stdout",
     "output_type": "stream",
     "text": [
      "PACF values are : /n[ 1.          0.27494604 -0.25849171 -0.05270271 -0.18931364  0.02255093\n",
      " -0.06762778  0.02225071 -0.25839607 -0.16329952 -0.17207459  0.43140764\n",
      "  0.65727051  0.32820736]\n"
     ]
    }
   ],
   "source": [
    "#PACF values\n",
    "print(f\"PACF values are : /n{pacf_values}\")"
   ]
  },
  {
   "cell_type": "code",
   "execution_count": 10,
   "metadata": {},
   "outputs": [],
   "source": [
    "acf=[]\n",
    "for i in range(len(acf_values)):\n",
    "    acf.append(acf_values[i])"
   ]
  },
  {
   "cell_type": "code",
   "execution_count": null,
   "metadata": {},
   "outputs": [],
   "source": [
    "acf"
   ]
  },
  {
   "cell_type": "code",
   "execution_count": 11,
   "metadata": {},
   "outputs": [],
   "source": [
    "pacf=[]\n",
    "for i in range(len(pacf_values)):\n",
    "    pacf.append(pacf_values[i])"
   ]
  },
  {
   "cell_type": "code",
   "execution_count": null,
   "metadata": {},
   "outputs": [],
   "source": [
    "pacf"
   ]
  },
  {
   "cell_type": "code",
   "execution_count": 12,
   "metadata": {},
   "outputs": [
    {
     "name": "stdout",
     "output_type": "stream",
     "text": [
      "['lag_1', 'lag_11', 'lag_12', 'lag_13']\n"
     ]
    }
   ],
   "source": [
    "# Feature Engineering Dynamically\n",
    "acf_features=[]\n",
    "pacf_features=[]\n",
    "for i in range (1,len(acf_values)):\n",
    "    if abs(acf_values[i]>0.2):\n",
    "        index = i\n",
    "        lag = f\"lag_{index}\"\n",
    "        acf_features.append(lag)\n",
    "\n",
    "for i in range (1,len(pacf_values)):\n",
    "    if abs(pacf_values[i]>0.2):\n",
    "        index = i\n",
    "        lag = f\"lag_{index}\"\n",
    "        pacf_features.append(lag)\n",
    "        \n",
    "merge = list(set(acf_features+pacf_features))\n",
    "merge.sort()\n",
    "print(merge)\n"
   ]
  },
  {
   "cell_type": "code",
   "execution_count": null,
   "metadata": {},
   "outputs": [],
   "source": [
    "df"
   ]
  },
  {
   "cell_type": "code",
   "execution_count": 13,
   "metadata": {},
   "outputs": [],
   "source": [
    "df[\"year\"] = df.index.year\n",
    "df[\"month\"] = df.index.month\n",
    "df[\"quarter\"] = df.index.quarter"
   ]
  },
  {
   "cell_type": "code",
   "execution_count": 14,
   "metadata": {},
   "outputs": [],
   "source": [
    "df[\"year\"] = df.index.year\n",
    "df[\"month\"] = df.index.month\n",
    "df[\"quarter\"] = df.index.quarter\n",
    "\n",
    "# Implementic dynamic lags from ACF and PACF\n",
    "for i in range (len(merge)):\n",
    "   df[merge[i]]=df[\"sales\"].shift(int(merge[i].split('_')[1]))\n",
    "\n",
    "df[\"rolling_mean_3\"] = df[\"sales\"].rolling(window=3).mean()\n",
    "df[\"rolling_mean_6\"] = df[\"sales\"].rolling(window=6).mean() \n",
    "\n",
    "\n",
    "df.dropna(inplace=True)"
   ]
  },
  {
   "cell_type": "code",
   "execution_count": 15,
   "metadata": {},
   "outputs": [],
   "source": [
    "df[\"year\"]=df.index.year\n",
    "df[\"month\"]=df.index.month\n",
    "df[\"quarter\"]=df.index.quarter\n",
    "\n",
    "for i in range (len(merge)):\n",
    "    df[merge[i]]=df[\"sales\"].shift(int(merge[i].split('_')[1]))\n",
    "\n",
    "df[\"rolling_mean_3\"]=df[\"sales\"].rolling(window=3).mean()\n",
    "df[\"rolling_mean_6\"]=df[\"sales\"].rolling(window=6).mean()"
   ]
  },
  {
   "cell_type": "code",
   "execution_count": 16,
   "metadata": {},
   "outputs": [],
   "source": [
    "df[\"year\"]=df.index.year\n",
    "df['month']=df.index.month\n",
    "# df['quarter']=df.index.mean"
   ]
  },
  {
   "cell_type": "code",
   "execution_count": 17,
   "metadata": {},
   "outputs": [
    {
     "data": {
      "text/plain": [
       "Timestamp('2081-10-01 00:00:00')"
      ]
     },
     "execution_count": 17,
     "metadata": {},
     "output_type": "execute_result"
    }
   ],
   "source": [
    "df.index[-1]"
   ]
  },
  {
   "cell_type": "code",
   "execution_count": 18,
   "metadata": {},
   "outputs": [
    {
     "data": {
      "text/html": [
       "<div>\n",
       "<style scoped>\n",
       "    .dataframe tbody tr th:only-of-type {\n",
       "        vertical-align: middle;\n",
       "    }\n",
       "\n",
       "    .dataframe tbody tr th {\n",
       "        vertical-align: top;\n",
       "    }\n",
       "\n",
       "    .dataframe thead th {\n",
       "        text-align: right;\n",
       "    }\n",
       "</style>\n",
       "<table border=\"1\" class=\"dataframe\">\n",
       "  <thead>\n",
       "    <tr style=\"text-align: right;\">\n",
       "      <th></th>\n",
       "      <th>sales</th>\n",
       "      <th>year</th>\n",
       "      <th>month</th>\n",
       "      <th>quarter</th>\n",
       "      <th>lag_1</th>\n",
       "      <th>lag_11</th>\n",
       "      <th>lag_12</th>\n",
       "      <th>lag_13</th>\n",
       "      <th>rolling_mean_3</th>\n",
       "      <th>rolling_mean_6</th>\n",
       "    </tr>\n",
       "    <tr>\n",
       "      <th>date</th>\n",
       "      <th></th>\n",
       "      <th></th>\n",
       "      <th></th>\n",
       "      <th></th>\n",
       "      <th></th>\n",
       "      <th></th>\n",
       "      <th></th>\n",
       "      <th></th>\n",
       "      <th></th>\n",
       "      <th></th>\n",
       "    </tr>\n",
       "  </thead>\n",
       "  <tbody>\n",
       "    <tr>\n",
       "      <th>2078-05-01</th>\n",
       "      <td>8.633907e+08</td>\n",
       "      <td>2078</td>\n",
       "      <td>5</td>\n",
       "      <td>2</td>\n",
       "      <td>NaN</td>\n",
       "      <td>NaN</td>\n",
       "      <td>NaN</td>\n",
       "      <td>NaN</td>\n",
       "      <td>NaN</td>\n",
       "      <td>NaN</td>\n",
       "    </tr>\n",
       "    <tr>\n",
       "      <th>2078-06-01</th>\n",
       "      <td>2.201687e+09</td>\n",
       "      <td>2078</td>\n",
       "      <td>6</td>\n",
       "      <td>2</td>\n",
       "      <td>8.633907e+08</td>\n",
       "      <td>NaN</td>\n",
       "      <td>NaN</td>\n",
       "      <td>NaN</td>\n",
       "      <td>NaN</td>\n",
       "      <td>NaN</td>\n",
       "    </tr>\n",
       "    <tr>\n",
       "      <th>2078-07-01</th>\n",
       "      <td>1.132336e+09</td>\n",
       "      <td>2078</td>\n",
       "      <td>7</td>\n",
       "      <td>3</td>\n",
       "      <td>2.201687e+09</td>\n",
       "      <td>NaN</td>\n",
       "      <td>NaN</td>\n",
       "      <td>NaN</td>\n",
       "      <td>1.399138e+09</td>\n",
       "      <td>NaN</td>\n",
       "    </tr>\n",
       "    <tr>\n",
       "      <th>2078-08-01</th>\n",
       "      <td>1.075536e+09</td>\n",
       "      <td>2078</td>\n",
       "      <td>8</td>\n",
       "      <td>3</td>\n",
       "      <td>1.132336e+09</td>\n",
       "      <td>NaN</td>\n",
       "      <td>NaN</td>\n",
       "      <td>NaN</td>\n",
       "      <td>1.469853e+09</td>\n",
       "      <td>NaN</td>\n",
       "    </tr>\n",
       "    <tr>\n",
       "      <th>2078-09-01</th>\n",
       "      <td>1.174848e+09</td>\n",
       "      <td>2078</td>\n",
       "      <td>9</td>\n",
       "      <td>3</td>\n",
       "      <td>1.075536e+09</td>\n",
       "      <td>NaN</td>\n",
       "      <td>NaN</td>\n",
       "      <td>NaN</td>\n",
       "      <td>1.127573e+09</td>\n",
       "      <td>NaN</td>\n",
       "    </tr>\n",
       "    <tr>\n",
       "      <th>2078-10-01</th>\n",
       "      <td>1.039861e+09</td>\n",
       "      <td>2078</td>\n",
       "      <td>10</td>\n",
       "      <td>4</td>\n",
       "      <td>1.174848e+09</td>\n",
       "      <td>NaN</td>\n",
       "      <td>NaN</td>\n",
       "      <td>NaN</td>\n",
       "      <td>1.096748e+09</td>\n",
       "      <td>1.247943e+09</td>\n",
       "    </tr>\n",
       "    <tr>\n",
       "      <th>2078-11-01</th>\n",
       "      <td>1.478935e+09</td>\n",
       "      <td>2078</td>\n",
       "      <td>11</td>\n",
       "      <td>4</td>\n",
       "      <td>1.039861e+09</td>\n",
       "      <td>NaN</td>\n",
       "      <td>NaN</td>\n",
       "      <td>NaN</td>\n",
       "      <td>1.231215e+09</td>\n",
       "      <td>1.350534e+09</td>\n",
       "    </tr>\n",
       "    <tr>\n",
       "      <th>2078-12-01</th>\n",
       "      <td>1.745778e+09</td>\n",
       "      <td>2078</td>\n",
       "      <td>12</td>\n",
       "      <td>4</td>\n",
       "      <td>1.478935e+09</td>\n",
       "      <td>NaN</td>\n",
       "      <td>NaN</td>\n",
       "      <td>NaN</td>\n",
       "      <td>1.421525e+09</td>\n",
       "      <td>1.274549e+09</td>\n",
       "    </tr>\n",
       "    <tr>\n",
       "      <th>2079-01-01</th>\n",
       "      <td>2.796911e+09</td>\n",
       "      <td>2079</td>\n",
       "      <td>1</td>\n",
       "      <td>1</td>\n",
       "      <td>1.745778e+09</td>\n",
       "      <td>NaN</td>\n",
       "      <td>NaN</td>\n",
       "      <td>NaN</td>\n",
       "      <td>2.007208e+09</td>\n",
       "      <td>1.551978e+09</td>\n",
       "    </tr>\n",
       "    <tr>\n",
       "      <th>2079-02-01</th>\n",
       "      <td>2.835615e+09</td>\n",
       "      <td>2079</td>\n",
       "      <td>2</td>\n",
       "      <td>1</td>\n",
       "      <td>2.796911e+09</td>\n",
       "      <td>NaN</td>\n",
       "      <td>NaN</td>\n",
       "      <td>NaN</td>\n",
       "      <td>2.459435e+09</td>\n",
       "      <td>1.845325e+09</td>\n",
       "    </tr>\n",
       "    <tr>\n",
       "      <th>2079-03-01</th>\n",
       "      <td>3.508197e+08</td>\n",
       "      <td>2079</td>\n",
       "      <td>3</td>\n",
       "      <td>1</td>\n",
       "      <td>2.835615e+09</td>\n",
       "      <td>NaN</td>\n",
       "      <td>NaN</td>\n",
       "      <td>NaN</td>\n",
       "      <td>1.994449e+09</td>\n",
       "      <td>1.707987e+09</td>\n",
       "    </tr>\n",
       "    <tr>\n",
       "      <th>2079-04-01</th>\n",
       "      <td>3.764748e+08</td>\n",
       "      <td>2079</td>\n",
       "      <td>4</td>\n",
       "      <td>2</td>\n",
       "      <td>3.508197e+08</td>\n",
       "      <td>8.633907e+08</td>\n",
       "      <td>NaN</td>\n",
       "      <td>NaN</td>\n",
       "      <td>1.187636e+09</td>\n",
       "      <td>1.597422e+09</td>\n",
       "    </tr>\n",
       "    <tr>\n",
       "      <th>2079-05-01</th>\n",
       "      <td>1.351945e+09</td>\n",
       "      <td>2079</td>\n",
       "      <td>5</td>\n",
       "      <td>2</td>\n",
       "      <td>3.764748e+08</td>\n",
       "      <td>2.201687e+09</td>\n",
       "      <td>8.633907e+08</td>\n",
       "      <td>NaN</td>\n",
       "      <td>6.930797e+08</td>\n",
       "      <td>1.576257e+09</td>\n",
       "    </tr>\n",
       "    <tr>\n",
       "      <th>2079-06-01</th>\n",
       "      <td>8.701037e+08</td>\n",
       "      <td>2079</td>\n",
       "      <td>6</td>\n",
       "      <td>2</td>\n",
       "      <td>1.351945e+09</td>\n",
       "      <td>1.132336e+09</td>\n",
       "      <td>2.201687e+09</td>\n",
       "      <td>8.633907e+08</td>\n",
       "      <td>8.661744e+08</td>\n",
       "      <td>1.430311e+09</td>\n",
       "    </tr>\n",
       "    <tr>\n",
       "      <th>2079-07-01</th>\n",
       "      <td>1.019788e+09</td>\n",
       "      <td>2079</td>\n",
       "      <td>7</td>\n",
       "      <td>3</td>\n",
       "      <td>8.701037e+08</td>\n",
       "      <td>1.075536e+09</td>\n",
       "      <td>1.132336e+09</td>\n",
       "      <td>2.201687e+09</td>\n",
       "      <td>1.080612e+09</td>\n",
       "      <td>1.134124e+09</td>\n",
       "    </tr>\n",
       "    <tr>\n",
       "      <th>2079-08-01</th>\n",
       "      <td>9.696291e+08</td>\n",
       "      <td>2079</td>\n",
       "      <td>8</td>\n",
       "      <td>3</td>\n",
       "      <td>1.019788e+09</td>\n",
       "      <td>1.174848e+09</td>\n",
       "      <td>1.075536e+09</td>\n",
       "      <td>1.132336e+09</td>\n",
       "      <td>9.531738e+08</td>\n",
       "      <td>8.231267e+08</td>\n",
       "    </tr>\n",
       "    <tr>\n",
       "      <th>2079-09-01</th>\n",
       "      <td>1.142917e+09</td>\n",
       "      <td>2079</td>\n",
       "      <td>9</td>\n",
       "      <td>3</td>\n",
       "      <td>9.696291e+08</td>\n",
       "      <td>1.039861e+09</td>\n",
       "      <td>1.174848e+09</td>\n",
       "      <td>1.075536e+09</td>\n",
       "      <td>1.044111e+09</td>\n",
       "      <td>9.551429e+08</td>\n",
       "    </tr>\n",
       "    <tr>\n",
       "      <th>2079-10-01</th>\n",
       "      <td>1.013569e+09</td>\n",
       "      <td>2079</td>\n",
       "      <td>10</td>\n",
       "      <td>4</td>\n",
       "      <td>1.142917e+09</td>\n",
       "      <td>1.478935e+09</td>\n",
       "      <td>1.039861e+09</td>\n",
       "      <td>1.174848e+09</td>\n",
       "      <td>1.042038e+09</td>\n",
       "      <td>1.061325e+09</td>\n",
       "    </tr>\n",
       "    <tr>\n",
       "      <th>2079-11-01</th>\n",
       "      <td>1.544023e+09</td>\n",
       "      <td>2079</td>\n",
       "      <td>11</td>\n",
       "      <td>4</td>\n",
       "      <td>1.013569e+09</td>\n",
       "      <td>1.745778e+09</td>\n",
       "      <td>1.478935e+09</td>\n",
       "      <td>1.039861e+09</td>\n",
       "      <td>1.233503e+09</td>\n",
       "      <td>1.093338e+09</td>\n",
       "    </tr>\n",
       "    <tr>\n",
       "      <th>2079-12-01</th>\n",
       "      <td>1.791262e+09</td>\n",
       "      <td>2079</td>\n",
       "      <td>12</td>\n",
       "      <td>4</td>\n",
       "      <td>1.544023e+09</td>\n",
       "      <td>2.796911e+09</td>\n",
       "      <td>1.745778e+09</td>\n",
       "      <td>1.478935e+09</td>\n",
       "      <td>1.449618e+09</td>\n",
       "      <td>1.246865e+09</td>\n",
       "    </tr>\n",
       "    <tr>\n",
       "      <th>2080-01-01</th>\n",
       "      <td>1.803349e+09</td>\n",
       "      <td>2080</td>\n",
       "      <td>1</td>\n",
       "      <td>1</td>\n",
       "      <td>1.791262e+09</td>\n",
       "      <td>2.835615e+09</td>\n",
       "      <td>2.796911e+09</td>\n",
       "      <td>1.745778e+09</td>\n",
       "      <td>1.712878e+09</td>\n",
       "      <td>1.377458e+09</td>\n",
       "    </tr>\n",
       "    <tr>\n",
       "      <th>2080-02-01</th>\n",
       "      <td>2.484349e+09</td>\n",
       "      <td>2080</td>\n",
       "      <td>2</td>\n",
       "      <td>1</td>\n",
       "      <td>1.803349e+09</td>\n",
       "      <td>3.508197e+08</td>\n",
       "      <td>2.835615e+09</td>\n",
       "      <td>2.796911e+09</td>\n",
       "      <td>2.026320e+09</td>\n",
       "      <td>1.629912e+09</td>\n",
       "    </tr>\n",
       "    <tr>\n",
       "      <th>2080-03-01</th>\n",
       "      <td>2.820852e+08</td>\n",
       "      <td>2080</td>\n",
       "      <td>3</td>\n",
       "      <td>1</td>\n",
       "      <td>2.484349e+09</td>\n",
       "      <td>3.764748e+08</td>\n",
       "      <td>3.508197e+08</td>\n",
       "      <td>2.835615e+09</td>\n",
       "      <td>1.523261e+09</td>\n",
       "      <td>1.486440e+09</td>\n",
       "    </tr>\n",
       "    <tr>\n",
       "      <th>2080-04-01</th>\n",
       "      <td>2.870260e+08</td>\n",
       "      <td>2080</td>\n",
       "      <td>4</td>\n",
       "      <td>2</td>\n",
       "      <td>2.820852e+08</td>\n",
       "      <td>1.351945e+09</td>\n",
       "      <td>3.764748e+08</td>\n",
       "      <td>3.508197e+08</td>\n",
       "      <td>1.017820e+09</td>\n",
       "      <td>1.365349e+09</td>\n",
       "    </tr>\n",
       "    <tr>\n",
       "      <th>2080-05-01</th>\n",
       "      <td>6.393890e+08</td>\n",
       "      <td>2080</td>\n",
       "      <td>5</td>\n",
       "      <td>2</td>\n",
       "      <td>2.870260e+08</td>\n",
       "      <td>8.701037e+08</td>\n",
       "      <td>1.351945e+09</td>\n",
       "      <td>3.764748e+08</td>\n",
       "      <td>4.028334e+08</td>\n",
       "      <td>1.214577e+09</td>\n",
       "    </tr>\n",
       "    <tr>\n",
       "      <th>2080-06-01</th>\n",
       "      <td>1.247765e+09</td>\n",
       "      <td>2080</td>\n",
       "      <td>6</td>\n",
       "      <td>2</td>\n",
       "      <td>6.393890e+08</td>\n",
       "      <td>1.019788e+09</td>\n",
       "      <td>8.701037e+08</td>\n",
       "      <td>1.351945e+09</td>\n",
       "      <td>7.247266e+08</td>\n",
       "      <td>1.123994e+09</td>\n",
       "    </tr>\n",
       "    <tr>\n",
       "      <th>2080-07-01</th>\n",
       "      <td>9.122068e+08</td>\n",
       "      <td>2080</td>\n",
       "      <td>7</td>\n",
       "      <td>3</td>\n",
       "      <td>1.247765e+09</td>\n",
       "      <td>9.696291e+08</td>\n",
       "      <td>1.019788e+09</td>\n",
       "      <td>8.701037e+08</td>\n",
       "      <td>9.331202e+08</td>\n",
       "      <td>9.754702e+08</td>\n",
       "    </tr>\n",
       "    <tr>\n",
       "      <th>2080-08-01</th>\n",
       "      <td>1.197015e+09</td>\n",
       "      <td>2080</td>\n",
       "      <td>8</td>\n",
       "      <td>3</td>\n",
       "      <td>9.122068e+08</td>\n",
       "      <td>1.142917e+09</td>\n",
       "      <td>9.696291e+08</td>\n",
       "      <td>1.019788e+09</td>\n",
       "      <td>1.118995e+09</td>\n",
       "      <td>7.609144e+08</td>\n",
       "    </tr>\n",
       "    <tr>\n",
       "      <th>2080-09-01</th>\n",
       "      <td>1.117824e+09</td>\n",
       "      <td>2080</td>\n",
       "      <td>9</td>\n",
       "      <td>3</td>\n",
       "      <td>1.197015e+09</td>\n",
       "      <td>1.013569e+09</td>\n",
       "      <td>1.142917e+09</td>\n",
       "      <td>9.696291e+08</td>\n",
       "      <td>1.075682e+09</td>\n",
       "      <td>9.002042e+08</td>\n",
       "    </tr>\n",
       "    <tr>\n",
       "      <th>2080-10-01</th>\n",
       "      <td>9.510855e+08</td>\n",
       "      <td>2080</td>\n",
       "      <td>10</td>\n",
       "      <td>4</td>\n",
       "      <td>1.117824e+09</td>\n",
       "      <td>1.544023e+09</td>\n",
       "      <td>1.013569e+09</td>\n",
       "      <td>1.142917e+09</td>\n",
       "      <td>1.088641e+09</td>\n",
       "      <td>1.010881e+09</td>\n",
       "    </tr>\n",
       "    <tr>\n",
       "      <th>2080-11-01</th>\n",
       "      <td>1.196777e+09</td>\n",
       "      <td>2080</td>\n",
       "      <td>11</td>\n",
       "      <td>4</td>\n",
       "      <td>9.510855e+08</td>\n",
       "      <td>1.791262e+09</td>\n",
       "      <td>1.544023e+09</td>\n",
       "      <td>1.013569e+09</td>\n",
       "      <td>1.088562e+09</td>\n",
       "      <td>1.103779e+09</td>\n",
       "    </tr>\n",
       "    <tr>\n",
       "      <th>2080-12-01</th>\n",
       "      <td>1.316790e+09</td>\n",
       "      <td>2080</td>\n",
       "      <td>12</td>\n",
       "      <td>4</td>\n",
       "      <td>1.196777e+09</td>\n",
       "      <td>1.803349e+09</td>\n",
       "      <td>1.791262e+09</td>\n",
       "      <td>1.544023e+09</td>\n",
       "      <td>1.154884e+09</td>\n",
       "      <td>1.115283e+09</td>\n",
       "    </tr>\n",
       "    <tr>\n",
       "      <th>2081-01-01</th>\n",
       "      <td>1.756230e+09</td>\n",
       "      <td>2081</td>\n",
       "      <td>1</td>\n",
       "      <td>1</td>\n",
       "      <td>1.316790e+09</td>\n",
       "      <td>2.484349e+09</td>\n",
       "      <td>1.803349e+09</td>\n",
       "      <td>1.791262e+09</td>\n",
       "      <td>1.423266e+09</td>\n",
       "      <td>1.255954e+09</td>\n",
       "    </tr>\n",
       "    <tr>\n",
       "      <th>2081-02-01</th>\n",
       "      <td>1.753238e+09</td>\n",
       "      <td>2081</td>\n",
       "      <td>2</td>\n",
       "      <td>1</td>\n",
       "      <td>1.756230e+09</td>\n",
       "      <td>2.820852e+08</td>\n",
       "      <td>2.484349e+09</td>\n",
       "      <td>1.803349e+09</td>\n",
       "      <td>1.608753e+09</td>\n",
       "      <td>1.348657e+09</td>\n",
       "    </tr>\n",
       "    <tr>\n",
       "      <th>2081-03-01</th>\n",
       "      <td>4.650236e+08</td>\n",
       "      <td>2081</td>\n",
       "      <td>3</td>\n",
       "      <td>1</td>\n",
       "      <td>1.753238e+09</td>\n",
       "      <td>2.870260e+08</td>\n",
       "      <td>2.820852e+08</td>\n",
       "      <td>2.484349e+09</td>\n",
       "      <td>1.324831e+09</td>\n",
       "      <td>1.239857e+09</td>\n",
       "    </tr>\n",
       "    <tr>\n",
       "      <th>2081-04-01</th>\n",
       "      <td>4.389632e+08</td>\n",
       "      <td>2081</td>\n",
       "      <td>4</td>\n",
       "      <td>2</td>\n",
       "      <td>4.650236e+08</td>\n",
       "      <td>6.393890e+08</td>\n",
       "      <td>2.870260e+08</td>\n",
       "      <td>2.820852e+08</td>\n",
       "      <td>8.857416e+08</td>\n",
       "      <td>1.154504e+09</td>\n",
       "    </tr>\n",
       "    <tr>\n",
       "      <th>2081-05-01</th>\n",
       "      <td>8.692659e+08</td>\n",
       "      <td>2081</td>\n",
       "      <td>5</td>\n",
       "      <td>2</td>\n",
       "      <td>4.389632e+08</td>\n",
       "      <td>1.247765e+09</td>\n",
       "      <td>6.393890e+08</td>\n",
       "      <td>2.870260e+08</td>\n",
       "      <td>5.910843e+08</td>\n",
       "      <td>1.099919e+09</td>\n",
       "    </tr>\n",
       "    <tr>\n",
       "      <th>2081-06-01</th>\n",
       "      <td>1.317938e+09</td>\n",
       "      <td>2081</td>\n",
       "      <td>6</td>\n",
       "      <td>2</td>\n",
       "      <td>8.692659e+08</td>\n",
       "      <td>9.122068e+08</td>\n",
       "      <td>1.247765e+09</td>\n",
       "      <td>6.393890e+08</td>\n",
       "      <td>8.753891e+08</td>\n",
       "      <td>1.100110e+09</td>\n",
       "    </tr>\n",
       "    <tr>\n",
       "      <th>2081-07-01</th>\n",
       "      <td>9.179468e+08</td>\n",
       "      <td>2081</td>\n",
       "      <td>7</td>\n",
       "      <td>3</td>\n",
       "      <td>1.317938e+09</td>\n",
       "      <td>1.197015e+09</td>\n",
       "      <td>9.122068e+08</td>\n",
       "      <td>1.247765e+09</td>\n",
       "      <td>1.035050e+09</td>\n",
       "      <td>9.603960e+08</td>\n",
       "    </tr>\n",
       "    <tr>\n",
       "      <th>2081-08-01</th>\n",
       "      <td>1.236809e+09</td>\n",
       "      <td>2081</td>\n",
       "      <td>8</td>\n",
       "      <td>3</td>\n",
       "      <td>9.179468e+08</td>\n",
       "      <td>1.117824e+09</td>\n",
       "      <td>1.197015e+09</td>\n",
       "      <td>9.122068e+08</td>\n",
       "      <td>1.157565e+09</td>\n",
       "      <td>8.743244e+08</td>\n",
       "    </tr>\n",
       "    <tr>\n",
       "      <th>2081-09-01</th>\n",
       "      <td>1.100721e+09</td>\n",
       "      <td>2081</td>\n",
       "      <td>9</td>\n",
       "      <td>3</td>\n",
       "      <td>1.236809e+09</td>\n",
       "      <td>9.510855e+08</td>\n",
       "      <td>1.117824e+09</td>\n",
       "      <td>1.197015e+09</td>\n",
       "      <td>1.085159e+09</td>\n",
       "      <td>9.802739e+08</td>\n",
       "    </tr>\n",
       "    <tr>\n",
       "      <th>2081-10-01</th>\n",
       "      <td>8.438242e+08</td>\n",
       "      <td>2081</td>\n",
       "      <td>10</td>\n",
       "      <td>4</td>\n",
       "      <td>1.100721e+09</td>\n",
       "      <td>1.196777e+09</td>\n",
       "      <td>9.510855e+08</td>\n",
       "      <td>1.117824e+09</td>\n",
       "      <td>1.060451e+09</td>\n",
       "      <td>1.047751e+09</td>\n",
       "    </tr>\n",
       "  </tbody>\n",
       "</table>\n",
       "</div>"
      ],
      "text/plain": [
       "                   sales  year  month  quarter         lag_1        lag_11  \\\n",
       "date                                                                         \n",
       "2078-05-01  8.633907e+08  2078      5        2           NaN           NaN   \n",
       "2078-06-01  2.201687e+09  2078      6        2  8.633907e+08           NaN   \n",
       "2078-07-01  1.132336e+09  2078      7        3  2.201687e+09           NaN   \n",
       "2078-08-01  1.075536e+09  2078      8        3  1.132336e+09           NaN   \n",
       "2078-09-01  1.174848e+09  2078      9        3  1.075536e+09           NaN   \n",
       "2078-10-01  1.039861e+09  2078     10        4  1.174848e+09           NaN   \n",
       "2078-11-01  1.478935e+09  2078     11        4  1.039861e+09           NaN   \n",
       "2078-12-01  1.745778e+09  2078     12        4  1.478935e+09           NaN   \n",
       "2079-01-01  2.796911e+09  2079      1        1  1.745778e+09           NaN   \n",
       "2079-02-01  2.835615e+09  2079      2        1  2.796911e+09           NaN   \n",
       "2079-03-01  3.508197e+08  2079      3        1  2.835615e+09           NaN   \n",
       "2079-04-01  3.764748e+08  2079      4        2  3.508197e+08  8.633907e+08   \n",
       "2079-05-01  1.351945e+09  2079      5        2  3.764748e+08  2.201687e+09   \n",
       "2079-06-01  8.701037e+08  2079      6        2  1.351945e+09  1.132336e+09   \n",
       "2079-07-01  1.019788e+09  2079      7        3  8.701037e+08  1.075536e+09   \n",
       "2079-08-01  9.696291e+08  2079      8        3  1.019788e+09  1.174848e+09   \n",
       "2079-09-01  1.142917e+09  2079      9        3  9.696291e+08  1.039861e+09   \n",
       "2079-10-01  1.013569e+09  2079     10        4  1.142917e+09  1.478935e+09   \n",
       "2079-11-01  1.544023e+09  2079     11        4  1.013569e+09  1.745778e+09   \n",
       "2079-12-01  1.791262e+09  2079     12        4  1.544023e+09  2.796911e+09   \n",
       "2080-01-01  1.803349e+09  2080      1        1  1.791262e+09  2.835615e+09   \n",
       "2080-02-01  2.484349e+09  2080      2        1  1.803349e+09  3.508197e+08   \n",
       "2080-03-01  2.820852e+08  2080      3        1  2.484349e+09  3.764748e+08   \n",
       "2080-04-01  2.870260e+08  2080      4        2  2.820852e+08  1.351945e+09   \n",
       "2080-05-01  6.393890e+08  2080      5        2  2.870260e+08  8.701037e+08   \n",
       "2080-06-01  1.247765e+09  2080      6        2  6.393890e+08  1.019788e+09   \n",
       "2080-07-01  9.122068e+08  2080      7        3  1.247765e+09  9.696291e+08   \n",
       "2080-08-01  1.197015e+09  2080      8        3  9.122068e+08  1.142917e+09   \n",
       "2080-09-01  1.117824e+09  2080      9        3  1.197015e+09  1.013569e+09   \n",
       "2080-10-01  9.510855e+08  2080     10        4  1.117824e+09  1.544023e+09   \n",
       "2080-11-01  1.196777e+09  2080     11        4  9.510855e+08  1.791262e+09   \n",
       "2080-12-01  1.316790e+09  2080     12        4  1.196777e+09  1.803349e+09   \n",
       "2081-01-01  1.756230e+09  2081      1        1  1.316790e+09  2.484349e+09   \n",
       "2081-02-01  1.753238e+09  2081      2        1  1.756230e+09  2.820852e+08   \n",
       "2081-03-01  4.650236e+08  2081      3        1  1.753238e+09  2.870260e+08   \n",
       "2081-04-01  4.389632e+08  2081      4        2  4.650236e+08  6.393890e+08   \n",
       "2081-05-01  8.692659e+08  2081      5        2  4.389632e+08  1.247765e+09   \n",
       "2081-06-01  1.317938e+09  2081      6        2  8.692659e+08  9.122068e+08   \n",
       "2081-07-01  9.179468e+08  2081      7        3  1.317938e+09  1.197015e+09   \n",
       "2081-08-01  1.236809e+09  2081      8        3  9.179468e+08  1.117824e+09   \n",
       "2081-09-01  1.100721e+09  2081      9        3  1.236809e+09  9.510855e+08   \n",
       "2081-10-01  8.438242e+08  2081     10        4  1.100721e+09  1.196777e+09   \n",
       "\n",
       "                  lag_12        lag_13  rolling_mean_3  rolling_mean_6  \n",
       "date                                                                    \n",
       "2078-05-01           NaN           NaN             NaN             NaN  \n",
       "2078-06-01           NaN           NaN             NaN             NaN  \n",
       "2078-07-01           NaN           NaN    1.399138e+09             NaN  \n",
       "2078-08-01           NaN           NaN    1.469853e+09             NaN  \n",
       "2078-09-01           NaN           NaN    1.127573e+09             NaN  \n",
       "2078-10-01           NaN           NaN    1.096748e+09    1.247943e+09  \n",
       "2078-11-01           NaN           NaN    1.231215e+09    1.350534e+09  \n",
       "2078-12-01           NaN           NaN    1.421525e+09    1.274549e+09  \n",
       "2079-01-01           NaN           NaN    2.007208e+09    1.551978e+09  \n",
       "2079-02-01           NaN           NaN    2.459435e+09    1.845325e+09  \n",
       "2079-03-01           NaN           NaN    1.994449e+09    1.707987e+09  \n",
       "2079-04-01           NaN           NaN    1.187636e+09    1.597422e+09  \n",
       "2079-05-01  8.633907e+08           NaN    6.930797e+08    1.576257e+09  \n",
       "2079-06-01  2.201687e+09  8.633907e+08    8.661744e+08    1.430311e+09  \n",
       "2079-07-01  1.132336e+09  2.201687e+09    1.080612e+09    1.134124e+09  \n",
       "2079-08-01  1.075536e+09  1.132336e+09    9.531738e+08    8.231267e+08  \n",
       "2079-09-01  1.174848e+09  1.075536e+09    1.044111e+09    9.551429e+08  \n",
       "2079-10-01  1.039861e+09  1.174848e+09    1.042038e+09    1.061325e+09  \n",
       "2079-11-01  1.478935e+09  1.039861e+09    1.233503e+09    1.093338e+09  \n",
       "2079-12-01  1.745778e+09  1.478935e+09    1.449618e+09    1.246865e+09  \n",
       "2080-01-01  2.796911e+09  1.745778e+09    1.712878e+09    1.377458e+09  \n",
       "2080-02-01  2.835615e+09  2.796911e+09    2.026320e+09    1.629912e+09  \n",
       "2080-03-01  3.508197e+08  2.835615e+09    1.523261e+09    1.486440e+09  \n",
       "2080-04-01  3.764748e+08  3.508197e+08    1.017820e+09    1.365349e+09  \n",
       "2080-05-01  1.351945e+09  3.764748e+08    4.028334e+08    1.214577e+09  \n",
       "2080-06-01  8.701037e+08  1.351945e+09    7.247266e+08    1.123994e+09  \n",
       "2080-07-01  1.019788e+09  8.701037e+08    9.331202e+08    9.754702e+08  \n",
       "2080-08-01  9.696291e+08  1.019788e+09    1.118995e+09    7.609144e+08  \n",
       "2080-09-01  1.142917e+09  9.696291e+08    1.075682e+09    9.002042e+08  \n",
       "2080-10-01  1.013569e+09  1.142917e+09    1.088641e+09    1.010881e+09  \n",
       "2080-11-01  1.544023e+09  1.013569e+09    1.088562e+09    1.103779e+09  \n",
       "2080-12-01  1.791262e+09  1.544023e+09    1.154884e+09    1.115283e+09  \n",
       "2081-01-01  1.803349e+09  1.791262e+09    1.423266e+09    1.255954e+09  \n",
       "2081-02-01  2.484349e+09  1.803349e+09    1.608753e+09    1.348657e+09  \n",
       "2081-03-01  2.820852e+08  2.484349e+09    1.324831e+09    1.239857e+09  \n",
       "2081-04-01  2.870260e+08  2.820852e+08    8.857416e+08    1.154504e+09  \n",
       "2081-05-01  6.393890e+08  2.870260e+08    5.910843e+08    1.099919e+09  \n",
       "2081-06-01  1.247765e+09  6.393890e+08    8.753891e+08    1.100110e+09  \n",
       "2081-07-01  9.122068e+08  1.247765e+09    1.035050e+09    9.603960e+08  \n",
       "2081-08-01  1.197015e+09  9.122068e+08    1.157565e+09    8.743244e+08  \n",
       "2081-09-01  1.117824e+09  1.197015e+09    1.085159e+09    9.802739e+08  \n",
       "2081-10-01  9.510855e+08  1.117824e+09    1.060451e+09    1.047751e+09  "
      ]
     },
     "execution_count": 18,
     "metadata": {},
     "output_type": "execute_result"
    }
   ],
   "source": [
    "df"
   ]
  },
  {
   "cell_type": "code",
   "execution_count": 19,
   "metadata": {},
   "outputs": [],
   "source": [
    "# Train-Test Split\n",
    "train_size = int(len(df) * 1)\n",
    "train, test = df.iloc[:train_size], df.iloc[train_size:]\n",
    "X_train, y_train = train.drop(columns=[\"sales\"]), train[\"sales\"]\n",
    "# X_test, y_test = test.drop(columns=[\"sales\"]), test[\"sales\"]"
   ]
  },
  {
   "cell_type": "code",
   "execution_count": 20,
   "metadata": {},
   "outputs": [
    {
     "data": {
      "text/plain": [
       "42"
      ]
     },
     "execution_count": 20,
     "metadata": {},
     "output_type": "execute_result"
    }
   ],
   "source": [
    "len(y_train)"
   ]
  },
  {
   "cell_type": "code",
   "execution_count": 21,
   "metadata": {},
   "outputs": [
    {
     "name": "stdout",
     "output_type": "stream",
     "text": [
      "<class 'pandas.core.frame.DataFrame'>\n",
      "year                int32\n",
      "month               int32\n",
      "quarter             int32\n",
      "lag_1             float64\n",
      "lag_11            float64\n",
      "lag_12            float64\n",
      "lag_13            float64\n",
      "rolling_mean_3    float64\n",
      "rolling_mean_6    float64\n",
      "dtype: object\n"
     ]
    }
   ],
   "source": [
    "print(type(X_train))\n",
    "print(X_train.dtypes)\n"
   ]
  },
  {
   "cell_type": "code",
   "execution_count": 22,
   "metadata": {},
   "outputs": [],
   "source": [
    "# Standardization\n",
    "scaler_X = StandardScaler()\n",
    "scaler_y = StandardScaler()\n",
    "# scaler_X = MinMaxScaler()\n",
    "# scaler_y = MinMaxScaler()\n",
    "X_train_scaled = scaler_X.fit_transform(X_train)\n",
    "# X_test_scaled = scaler_X.transform(X_test)\n",
    "y_train_scaled = scaler_y.fit_transform(y_train.values.reshape(-1, 1)).flatten()\n",
    "# y_test_scaled = scaler_y.transform(y_test.values.reshape(-1, 1)).flatten()"
   ]
  },
  {
   "cell_type": "code",
   "execution_count": null,
   "metadata": {},
   "outputs": [],
   "source": []
  },
  {
   "cell_type": "code",
   "execution_count": 23,
   "metadata": {},
   "outputs": [],
   "source": [
    "from sklearn.model_selection import GridSearchCV\n",
    "\n",
    "\n",
    "\n",
    "\n",
    "# Hyperparameter Tuning\n",
    "param_grid = {\n",
    "    \"n_estimators\": [100, 250, 500],  \n",
    "    \"max_depth\": [3, 7, 10],  \n",
    "    \"min_samples_split\": [5, 10, 15],  \n",
    "    \"min_samples_leaf\": [3, 5, 10]  \n",
    "}\n",
    "\n",
    "\n",
    "\n"
   ]
  },
  {
   "cell_type": "code",
   "execution_count": 24,
   "metadata": {},
   "outputs": [
    {
     "name": "stdout",
     "output_type": "stream",
     "text": [
      "Fitting 5 folds for each of 81 candidates, totalling 405 fits\n"
     ]
    },
    {
     "name": "stderr",
     "output_type": "stream",
     "text": [
      "[Parallel(n_jobs=-1)]: Using backend ThreadingBackend with 16 concurrent workers.\n",
      "[Parallel(n_jobs=-1)]: Done  18 tasks      | elapsed:    0.0s\n",
      "[Parallel(n_jobs=-1)]: Done 100 out of 100 | elapsed:    0.0s finished\n"
     ]
    },
    {
     "data": {
      "text/html": [
       "<style>#sk-container-id-1 {\n",
       "  /* Definition of color scheme common for light and dark mode */\n",
       "  --sklearn-color-text: black;\n",
       "  --sklearn-color-line: gray;\n",
       "  /* Definition of color scheme for unfitted estimators */\n",
       "  --sklearn-color-unfitted-level-0: #fff5e6;\n",
       "  --sklearn-color-unfitted-level-1: #f6e4d2;\n",
       "  --sklearn-color-unfitted-level-2: #ffe0b3;\n",
       "  --sklearn-color-unfitted-level-3: chocolate;\n",
       "  /* Definition of color scheme for fitted estimators */\n",
       "  --sklearn-color-fitted-level-0: #f0f8ff;\n",
       "  --sklearn-color-fitted-level-1: #d4ebff;\n",
       "  --sklearn-color-fitted-level-2: #b3dbfd;\n",
       "  --sklearn-color-fitted-level-3: cornflowerblue;\n",
       "\n",
       "  /* Specific color for light theme */\n",
       "  --sklearn-color-text-on-default-background: var(--sg-text-color, var(--theme-code-foreground, var(--jp-content-font-color1, black)));\n",
       "  --sklearn-color-background: var(--sg-background-color, var(--theme-background, var(--jp-layout-color0, white)));\n",
       "  --sklearn-color-border-box: var(--sg-text-color, var(--theme-code-foreground, var(--jp-content-font-color1, black)));\n",
       "  --sklearn-color-icon: #696969;\n",
       "\n",
       "  @media (prefers-color-scheme: dark) {\n",
       "    /* Redefinition of color scheme for dark theme */\n",
       "    --sklearn-color-text-on-default-background: var(--sg-text-color, var(--theme-code-foreground, var(--jp-content-font-color1, white)));\n",
       "    --sklearn-color-background: var(--sg-background-color, var(--theme-background, var(--jp-layout-color0, #111)));\n",
       "    --sklearn-color-border-box: var(--sg-text-color, var(--theme-code-foreground, var(--jp-content-font-color1, white)));\n",
       "    --sklearn-color-icon: #878787;\n",
       "  }\n",
       "}\n",
       "\n",
       "#sk-container-id-1 {\n",
       "  color: var(--sklearn-color-text);\n",
       "}\n",
       "\n",
       "#sk-container-id-1 pre {\n",
       "  padding: 0;\n",
       "}\n",
       "\n",
       "#sk-container-id-1 input.sk-hidden--visually {\n",
       "  border: 0;\n",
       "  clip: rect(1px 1px 1px 1px);\n",
       "  clip: rect(1px, 1px, 1px, 1px);\n",
       "  height: 1px;\n",
       "  margin: -1px;\n",
       "  overflow: hidden;\n",
       "  padding: 0;\n",
       "  position: absolute;\n",
       "  width: 1px;\n",
       "}\n",
       "\n",
       "#sk-container-id-1 div.sk-dashed-wrapped {\n",
       "  border: 1px dashed var(--sklearn-color-line);\n",
       "  margin: 0 0.4em 0.5em 0.4em;\n",
       "  box-sizing: border-box;\n",
       "  padding-bottom: 0.4em;\n",
       "  background-color: var(--sklearn-color-background);\n",
       "}\n",
       "\n",
       "#sk-container-id-1 div.sk-container {\n",
       "  /* jupyter's `normalize.less` sets `[hidden] { display: none; }`\n",
       "     but bootstrap.min.css set `[hidden] { display: none !important; }`\n",
       "     so we also need the `!important` here to be able to override the\n",
       "     default hidden behavior on the sphinx rendered scikit-learn.org.\n",
       "     See: https://github.com/scikit-learn/scikit-learn/issues/21755 */\n",
       "  display: inline-block !important;\n",
       "  position: relative;\n",
       "}\n",
       "\n",
       "#sk-container-id-1 div.sk-text-repr-fallback {\n",
       "  display: none;\n",
       "}\n",
       "\n",
       "div.sk-parallel-item,\n",
       "div.sk-serial,\n",
       "div.sk-item {\n",
       "  /* draw centered vertical line to link estimators */\n",
       "  background-image: linear-gradient(var(--sklearn-color-text-on-default-background), var(--sklearn-color-text-on-default-background));\n",
       "  background-size: 2px 100%;\n",
       "  background-repeat: no-repeat;\n",
       "  background-position: center center;\n",
       "}\n",
       "\n",
       "/* Parallel-specific style estimator block */\n",
       "\n",
       "#sk-container-id-1 div.sk-parallel-item::after {\n",
       "  content: \"\";\n",
       "  width: 100%;\n",
       "  border-bottom: 2px solid var(--sklearn-color-text-on-default-background);\n",
       "  flex-grow: 1;\n",
       "}\n",
       "\n",
       "#sk-container-id-1 div.sk-parallel {\n",
       "  display: flex;\n",
       "  align-items: stretch;\n",
       "  justify-content: center;\n",
       "  background-color: var(--sklearn-color-background);\n",
       "  position: relative;\n",
       "}\n",
       "\n",
       "#sk-container-id-1 div.sk-parallel-item {\n",
       "  display: flex;\n",
       "  flex-direction: column;\n",
       "}\n",
       "\n",
       "#sk-container-id-1 div.sk-parallel-item:first-child::after {\n",
       "  align-self: flex-end;\n",
       "  width: 50%;\n",
       "}\n",
       "\n",
       "#sk-container-id-1 div.sk-parallel-item:last-child::after {\n",
       "  align-self: flex-start;\n",
       "  width: 50%;\n",
       "}\n",
       "\n",
       "#sk-container-id-1 div.sk-parallel-item:only-child::after {\n",
       "  width: 0;\n",
       "}\n",
       "\n",
       "/* Serial-specific style estimator block */\n",
       "\n",
       "#sk-container-id-1 div.sk-serial {\n",
       "  display: flex;\n",
       "  flex-direction: column;\n",
       "  align-items: center;\n",
       "  background-color: var(--sklearn-color-background);\n",
       "  padding-right: 1em;\n",
       "  padding-left: 1em;\n",
       "}\n",
       "\n",
       "\n",
       "/* Toggleable style: style used for estimator/Pipeline/ColumnTransformer box that is\n",
       "clickable and can be expanded/collapsed.\n",
       "- Pipeline and ColumnTransformer use this feature and define the default style\n",
       "- Estimators will overwrite some part of the style using the `sk-estimator` class\n",
       "*/\n",
       "\n",
       "/* Pipeline and ColumnTransformer style (default) */\n",
       "\n",
       "#sk-container-id-1 div.sk-toggleable {\n",
       "  /* Default theme specific background. It is overwritten whether we have a\n",
       "  specific estimator or a Pipeline/ColumnTransformer */\n",
       "  background-color: var(--sklearn-color-background);\n",
       "}\n",
       "\n",
       "/* Toggleable label */\n",
       "#sk-container-id-1 label.sk-toggleable__label {\n",
       "  cursor: pointer;\n",
       "  display: block;\n",
       "  width: 100%;\n",
       "  margin-bottom: 0;\n",
       "  padding: 0.5em;\n",
       "  box-sizing: border-box;\n",
       "  text-align: center;\n",
       "}\n",
       "\n",
       "#sk-container-id-1 label.sk-toggleable__label-arrow:before {\n",
       "  /* Arrow on the left of the label */\n",
       "  content: \"▸\";\n",
       "  float: left;\n",
       "  margin-right: 0.25em;\n",
       "  color: var(--sklearn-color-icon);\n",
       "}\n",
       "\n",
       "#sk-container-id-1 label.sk-toggleable__label-arrow:hover:before {\n",
       "  color: var(--sklearn-color-text);\n",
       "}\n",
       "\n",
       "/* Toggleable content - dropdown */\n",
       "\n",
       "#sk-container-id-1 div.sk-toggleable__content {\n",
       "  max-height: 0;\n",
       "  max-width: 0;\n",
       "  overflow: hidden;\n",
       "  text-align: left;\n",
       "  /* unfitted */\n",
       "  background-color: var(--sklearn-color-unfitted-level-0);\n",
       "}\n",
       "\n",
       "#sk-container-id-1 div.sk-toggleable__content.fitted {\n",
       "  /* fitted */\n",
       "  background-color: var(--sklearn-color-fitted-level-0);\n",
       "}\n",
       "\n",
       "#sk-container-id-1 div.sk-toggleable__content pre {\n",
       "  margin: 0.2em;\n",
       "  border-radius: 0.25em;\n",
       "  color: var(--sklearn-color-text);\n",
       "  /* unfitted */\n",
       "  background-color: var(--sklearn-color-unfitted-level-0);\n",
       "}\n",
       "\n",
       "#sk-container-id-1 div.sk-toggleable__content.fitted pre {\n",
       "  /* unfitted */\n",
       "  background-color: var(--sklearn-color-fitted-level-0);\n",
       "}\n",
       "\n",
       "#sk-container-id-1 input.sk-toggleable__control:checked~div.sk-toggleable__content {\n",
       "  /* Expand drop-down */\n",
       "  max-height: 200px;\n",
       "  max-width: 100%;\n",
       "  overflow: auto;\n",
       "}\n",
       "\n",
       "#sk-container-id-1 input.sk-toggleable__control:checked~label.sk-toggleable__label-arrow:before {\n",
       "  content: \"▾\";\n",
       "}\n",
       "\n",
       "/* Pipeline/ColumnTransformer-specific style */\n",
       "\n",
       "#sk-container-id-1 div.sk-label input.sk-toggleable__control:checked~label.sk-toggleable__label {\n",
       "  color: var(--sklearn-color-text);\n",
       "  background-color: var(--sklearn-color-unfitted-level-2);\n",
       "}\n",
       "\n",
       "#sk-container-id-1 div.sk-label.fitted input.sk-toggleable__control:checked~label.sk-toggleable__label {\n",
       "  background-color: var(--sklearn-color-fitted-level-2);\n",
       "}\n",
       "\n",
       "/* Estimator-specific style */\n",
       "\n",
       "/* Colorize estimator box */\n",
       "#sk-container-id-1 div.sk-estimator input.sk-toggleable__control:checked~label.sk-toggleable__label {\n",
       "  /* unfitted */\n",
       "  background-color: var(--sklearn-color-unfitted-level-2);\n",
       "}\n",
       "\n",
       "#sk-container-id-1 div.sk-estimator.fitted input.sk-toggleable__control:checked~label.sk-toggleable__label {\n",
       "  /* fitted */\n",
       "  background-color: var(--sklearn-color-fitted-level-2);\n",
       "}\n",
       "\n",
       "#sk-container-id-1 div.sk-label label.sk-toggleable__label,\n",
       "#sk-container-id-1 div.sk-label label {\n",
       "  /* The background is the default theme color */\n",
       "  color: var(--sklearn-color-text-on-default-background);\n",
       "}\n",
       "\n",
       "/* On hover, darken the color of the background */\n",
       "#sk-container-id-1 div.sk-label:hover label.sk-toggleable__label {\n",
       "  color: var(--sklearn-color-text);\n",
       "  background-color: var(--sklearn-color-unfitted-level-2);\n",
       "}\n",
       "\n",
       "/* Label box, darken color on hover, fitted */\n",
       "#sk-container-id-1 div.sk-label.fitted:hover label.sk-toggleable__label.fitted {\n",
       "  color: var(--sklearn-color-text);\n",
       "  background-color: var(--sklearn-color-fitted-level-2);\n",
       "}\n",
       "\n",
       "/* Estimator label */\n",
       "\n",
       "#sk-container-id-1 div.sk-label label {\n",
       "  font-family: monospace;\n",
       "  font-weight: bold;\n",
       "  display: inline-block;\n",
       "  line-height: 1.2em;\n",
       "}\n",
       "\n",
       "#sk-container-id-1 div.sk-label-container {\n",
       "  text-align: center;\n",
       "}\n",
       "\n",
       "/* Estimator-specific */\n",
       "#sk-container-id-1 div.sk-estimator {\n",
       "  font-family: monospace;\n",
       "  border: 1px dotted var(--sklearn-color-border-box);\n",
       "  border-radius: 0.25em;\n",
       "  box-sizing: border-box;\n",
       "  margin-bottom: 0.5em;\n",
       "  /* unfitted */\n",
       "  background-color: var(--sklearn-color-unfitted-level-0);\n",
       "}\n",
       "\n",
       "#sk-container-id-1 div.sk-estimator.fitted {\n",
       "  /* fitted */\n",
       "  background-color: var(--sklearn-color-fitted-level-0);\n",
       "}\n",
       "\n",
       "/* on hover */\n",
       "#sk-container-id-1 div.sk-estimator:hover {\n",
       "  /* unfitted */\n",
       "  background-color: var(--sklearn-color-unfitted-level-2);\n",
       "}\n",
       "\n",
       "#sk-container-id-1 div.sk-estimator.fitted:hover {\n",
       "  /* fitted */\n",
       "  background-color: var(--sklearn-color-fitted-level-2);\n",
       "}\n",
       "\n",
       "/* Specification for estimator info (e.g. \"i\" and \"?\") */\n",
       "\n",
       "/* Common style for \"i\" and \"?\" */\n",
       "\n",
       ".sk-estimator-doc-link,\n",
       "a:link.sk-estimator-doc-link,\n",
       "a:visited.sk-estimator-doc-link {\n",
       "  float: right;\n",
       "  font-size: smaller;\n",
       "  line-height: 1em;\n",
       "  font-family: monospace;\n",
       "  background-color: var(--sklearn-color-background);\n",
       "  border-radius: 1em;\n",
       "  height: 1em;\n",
       "  width: 1em;\n",
       "  text-decoration: none !important;\n",
       "  margin-left: 1ex;\n",
       "  /* unfitted */\n",
       "  border: var(--sklearn-color-unfitted-level-1) 1pt solid;\n",
       "  color: var(--sklearn-color-unfitted-level-1);\n",
       "}\n",
       "\n",
       ".sk-estimator-doc-link.fitted,\n",
       "a:link.sk-estimator-doc-link.fitted,\n",
       "a:visited.sk-estimator-doc-link.fitted {\n",
       "  /* fitted */\n",
       "  border: var(--sklearn-color-fitted-level-1) 1pt solid;\n",
       "  color: var(--sklearn-color-fitted-level-1);\n",
       "}\n",
       "\n",
       "/* On hover */\n",
       "div.sk-estimator:hover .sk-estimator-doc-link:hover,\n",
       ".sk-estimator-doc-link:hover,\n",
       "div.sk-label-container:hover .sk-estimator-doc-link:hover,\n",
       ".sk-estimator-doc-link:hover {\n",
       "  /* unfitted */\n",
       "  background-color: var(--sklearn-color-unfitted-level-3);\n",
       "  color: var(--sklearn-color-background);\n",
       "  text-decoration: none;\n",
       "}\n",
       "\n",
       "div.sk-estimator.fitted:hover .sk-estimator-doc-link.fitted:hover,\n",
       ".sk-estimator-doc-link.fitted:hover,\n",
       "div.sk-label-container:hover .sk-estimator-doc-link.fitted:hover,\n",
       ".sk-estimator-doc-link.fitted:hover {\n",
       "  /* fitted */\n",
       "  background-color: var(--sklearn-color-fitted-level-3);\n",
       "  color: var(--sklearn-color-background);\n",
       "  text-decoration: none;\n",
       "}\n",
       "\n",
       "/* Span, style for the box shown on hovering the info icon */\n",
       ".sk-estimator-doc-link span {\n",
       "  display: none;\n",
       "  z-index: 9999;\n",
       "  position: relative;\n",
       "  font-weight: normal;\n",
       "  right: .2ex;\n",
       "  padding: .5ex;\n",
       "  margin: .5ex;\n",
       "  width: min-content;\n",
       "  min-width: 20ex;\n",
       "  max-width: 50ex;\n",
       "  color: var(--sklearn-color-text);\n",
       "  box-shadow: 2pt 2pt 4pt #999;\n",
       "  /* unfitted */\n",
       "  background: var(--sklearn-color-unfitted-level-0);\n",
       "  border: .5pt solid var(--sklearn-color-unfitted-level-3);\n",
       "}\n",
       "\n",
       ".sk-estimator-doc-link.fitted span {\n",
       "  /* fitted */\n",
       "  background: var(--sklearn-color-fitted-level-0);\n",
       "  border: var(--sklearn-color-fitted-level-3);\n",
       "}\n",
       "\n",
       ".sk-estimator-doc-link:hover span {\n",
       "  display: block;\n",
       "}\n",
       "\n",
       "/* \"?\"-specific style due to the `<a>` HTML tag */\n",
       "\n",
       "#sk-container-id-1 a.estimator_doc_link {\n",
       "  float: right;\n",
       "  font-size: 1rem;\n",
       "  line-height: 1em;\n",
       "  font-family: monospace;\n",
       "  background-color: var(--sklearn-color-background);\n",
       "  border-radius: 1rem;\n",
       "  height: 1rem;\n",
       "  width: 1rem;\n",
       "  text-decoration: none;\n",
       "  /* unfitted */\n",
       "  color: var(--sklearn-color-unfitted-level-1);\n",
       "  border: var(--sklearn-color-unfitted-level-1) 1pt solid;\n",
       "}\n",
       "\n",
       "#sk-container-id-1 a.estimator_doc_link.fitted {\n",
       "  /* fitted */\n",
       "  border: var(--sklearn-color-fitted-level-1) 1pt solid;\n",
       "  color: var(--sklearn-color-fitted-level-1);\n",
       "}\n",
       "\n",
       "/* On hover */\n",
       "#sk-container-id-1 a.estimator_doc_link:hover {\n",
       "  /* unfitted */\n",
       "  background-color: var(--sklearn-color-unfitted-level-3);\n",
       "  color: var(--sklearn-color-background);\n",
       "  text-decoration: none;\n",
       "}\n",
       "\n",
       "#sk-container-id-1 a.estimator_doc_link.fitted:hover {\n",
       "  /* fitted */\n",
       "  background-color: var(--sklearn-color-fitted-level-3);\n",
       "}\n",
       "</style><div id=\"sk-container-id-1\" class=\"sk-top-container\"><div class=\"sk-text-repr-fallback\"><pre>GridSearchCV(cv=5,\n",
       "             estimator=RandomForestRegressor(n_jobs=-1, random_state=42,\n",
       "                                             verbose=True),\n",
       "             n_jobs=-1,\n",
       "             param_grid={&#x27;max_depth&#x27;: [3, 7, 10],\n",
       "                         &#x27;min_samples_leaf&#x27;: [3, 5, 10],\n",
       "                         &#x27;min_samples_split&#x27;: [5, 10, 15],\n",
       "                         &#x27;n_estimators&#x27;: [100, 250, 500]},\n",
       "             scoring=&#x27;neg_mean_squared_error&#x27;, verbose=1)</pre><b>In a Jupyter environment, please rerun this cell to show the HTML representation or trust the notebook. <br />On GitHub, the HTML representation is unable to render, please try loading this page with nbviewer.org.</b></div><div class=\"sk-container\" hidden><div class=\"sk-item sk-dashed-wrapped\"><div class=\"sk-label-container\"><div class=\"sk-label fitted sk-toggleable\"><input class=\"sk-toggleable__control sk-hidden--visually\" id=\"sk-estimator-id-1\" type=\"checkbox\" ><label for=\"sk-estimator-id-1\" class=\"sk-toggleable__label fitted sk-toggleable__label-arrow fitted\">&nbsp;&nbsp;GridSearchCV<a class=\"sk-estimator-doc-link fitted\" rel=\"noreferrer\" target=\"_blank\" href=\"https://scikit-learn.org/1.5/modules/generated/sklearn.model_selection.GridSearchCV.html\">?<span>Documentation for GridSearchCV</span></a><span class=\"sk-estimator-doc-link fitted\">i<span>Fitted</span></span></label><div class=\"sk-toggleable__content fitted\"><pre>GridSearchCV(cv=5,\n",
       "             estimator=RandomForestRegressor(n_jobs=-1, random_state=42,\n",
       "                                             verbose=True),\n",
       "             n_jobs=-1,\n",
       "             param_grid={&#x27;max_depth&#x27;: [3, 7, 10],\n",
       "                         &#x27;min_samples_leaf&#x27;: [3, 5, 10],\n",
       "                         &#x27;min_samples_split&#x27;: [5, 10, 15],\n",
       "                         &#x27;n_estimators&#x27;: [100, 250, 500]},\n",
       "             scoring=&#x27;neg_mean_squared_error&#x27;, verbose=1)</pre></div> </div></div><div class=\"sk-parallel\"><div class=\"sk-parallel-item\"><div class=\"sk-item\"><div class=\"sk-label-container\"><div class=\"sk-label fitted sk-toggleable\"><input class=\"sk-toggleable__control sk-hidden--visually\" id=\"sk-estimator-id-2\" type=\"checkbox\" ><label for=\"sk-estimator-id-2\" class=\"sk-toggleable__label fitted sk-toggleable__label-arrow fitted\">best_estimator_: RandomForestRegressor</label><div class=\"sk-toggleable__content fitted\"><pre>RandomForestRegressor(max_depth=7, min_samples_leaf=3, min_samples_split=5,\n",
       "                      n_jobs=-1, random_state=42, verbose=True)</pre></div> </div></div><div class=\"sk-serial\"><div class=\"sk-item\"><div class=\"sk-estimator fitted sk-toggleable\"><input class=\"sk-toggleable__control sk-hidden--visually\" id=\"sk-estimator-id-3\" type=\"checkbox\" ><label for=\"sk-estimator-id-3\" class=\"sk-toggleable__label fitted sk-toggleable__label-arrow fitted\">&nbsp;RandomForestRegressor<a class=\"sk-estimator-doc-link fitted\" rel=\"noreferrer\" target=\"_blank\" href=\"https://scikit-learn.org/1.5/modules/generated/sklearn.ensemble.RandomForestRegressor.html\">?<span>Documentation for RandomForestRegressor</span></a></label><div class=\"sk-toggleable__content fitted\"><pre>RandomForestRegressor(max_depth=7, min_samples_leaf=3, min_samples_split=5,\n",
       "                      n_jobs=-1, random_state=42, verbose=True)</pre></div> </div></div></div></div></div></div></div></div></div>"
      ],
      "text/plain": [
       "GridSearchCV(cv=5,\n",
       "             estimator=RandomForestRegressor(n_jobs=-1, random_state=42,\n",
       "                                             verbose=True),\n",
       "             n_jobs=-1,\n",
       "             param_grid={'max_depth': [3, 7, 10],\n",
       "                         'min_samples_leaf': [3, 5, 10],\n",
       "                         'min_samples_split': [5, 10, 15],\n",
       "                         'n_estimators': [100, 250, 500]},\n",
       "             scoring='neg_mean_squared_error', verbose=1)"
      ]
     },
     "execution_count": 24,
     "metadata": {},
     "output_type": "execute_result"
    }
   ],
   "source": [
    "#Hyperparameter Tuning and cross-validation using Grid Search Technique\n",
    "from sklearn.model_selection import GridSearchCV\n",
    "\n",
    "rf = RandomForestRegressor(random_state=42, n_jobs=-1, verbose=True)\n",
    "grid_search = GridSearchCV(rf, param_grid, cv=5, scoring=\"neg_mean_squared_error\", verbose=1, n_jobs=-1)\n",
    "grid_search.fit(X_train_scaled, y_train_scaled)"
   ]
  },
  {
   "cell_type": "code",
   "execution_count": 25,
   "metadata": {},
   "outputs": [
    {
     "data": {
      "text/plain": [
       "['random_forest_model.pkl']"
      ]
     },
     "execution_count": 25,
     "metadata": {},
     "output_type": "execute_result"
    }
   ],
   "source": [
    "import joblib\n",
    "joblib.dump(grid_search.best_estimator_, \"random_forest_model.pkl\")"
   ]
  },
  {
   "cell_type": "code",
   "execution_count": 27,
   "metadata": {},
   "outputs": [
    {
     "data": {
      "text/plain": [
       "['scaler_y.pkl']"
      ]
     },
     "execution_count": 27,
     "metadata": {},
     "output_type": "execute_result"
    }
   ],
   "source": [
    "joblib.dump(scaler_X, \"scaler_X.pkl\")\n",
    "joblib.dump(scaler_y, \"scaler_y.pkl\")"
   ]
  },
  {
   "cell_type": "code",
   "execution_count": 28,
   "metadata": {},
   "outputs": [],
   "source": [
    "# Load the trained model\n",
    "rf_model = joblib.load(\"random_forest_model.pkl\")"
   ]
  },
  {
   "cell_type": "code",
   "execution_count": null,
   "metadata": {},
   "outputs": [],
   "source": [
    "\n",
    "yran_pred_scaled = rf_model.predict(X_test_scaled)\n",
    "yran_pred = scaler_y.inverse_transform(yran_pred_scaled.reshape(-1, 1)).flatten()"
   ]
  },
  {
   "cell_type": "code",
   "execution_count": null,
   "metadata": {},
   "outputs": [],
   "source": [
    "# # Random Forest Model\n",
    "# rf_model = RandomForestRegressor(n_estimators=1000, max_depth=20, random_state=42, n_jobs=-1, verbose=1)\n",
    "# rf_model.fit(X_train_scaled, y_train_scaled)\n",
    "# yran_pred_scaled = rf_model.predict(X_test_scaled)\n",
    "# yran_pred = scaler_y.inverse_transform(yran_pred_scaled.reshape(-1, 1)).flatten()"
   ]
  },
  {
   "cell_type": "code",
   "execution_count": null,
   "metadata": {},
   "outputs": [],
   "source": [
    "# Random Forest Metrics\n",
    "mae_rf = mean_absolute_error(y_test, yran_pred)\n",
    "rmse_rf = np.sqrt(mean_squared_error(y_test, yran_pred))\n",
    "print(f\"Random Forest MAE: {mae_rf:.2f}\")\n",
    "print(f\"Random Forest RMSE: {rmse_rf:.2f}\")"
   ]
  },
  {
   "cell_type": "code",
   "execution_count": null,
   "metadata": {},
   "outputs": [],
   "source": [
    "from sklearn.metrics import r2_score\n",
    "\n",
    "r2_rf = r2_score(y_test, yran_pred)\n",
    "print(f\"Random Forest R² Score: {r2_rf:.4f}\")\n"
   ]
  },
  {
   "cell_type": "code",
   "execution_count": null,
   "metadata": {},
   "outputs": [],
   "source": [
    "X_test"
   ]
  },
  {
   "cell_type": "code",
   "execution_count": null,
   "metadata": {},
   "outputs": [],
   "source": [
    "plt.figure(figsize=(12,8))\n",
    "plt.plot(df.index, df['sales'], label=\"Actual Data\", color=\"black\", linewidth=1, marker='o')\n",
    "plt.plot(test.index, yran_pred, label=\"Random Forest Forecast\", color=\"red\", linestyle=\"dashed\", linewidth=3, marker='o')\n",
    "plt.title(\"Random Forest of company 06 from 2077-2081\")\n",
    "plt.xlabel(\"Years\")\n",
    "plt.ylabel(\"Monthly Sales\")\n",
    "plt.legend()\n",
    "plt.show()"
   ]
  },
  {
   "cell_type": "code",
   "execution_count": null,
   "metadata": {},
   "outputs": [],
   "source": [
    "import plotly.express as px\n",
    "import plotly.graph_objects as go\n",
    "\n",
    "# Create figure\n",
    "fig = go.Figure()\n",
    "\n",
    "# Actual Data Line\n",
    "fig.add_trace(go.Scatter(\n",
    "    x=df.index,\n",
    "    y=df['sales'],\n",
    "    mode='lines+markers',\n",
    "    name='Actual Data',\n",
    "    line=dict(color='black', width=1),\n",
    "    marker=dict(symbol='circle', size=6),\n",
    "    hovertemplate='Month: %{x}<br>Sales: %{y}<extra></extra>'\n",
    "))\n",
    "\n",
    "# Random Forest Forecast Line\n",
    "fig.add_trace(go.Scatter(\n",
    "    x=test.index,\n",
    "    y=yran_pred,\n",
    "    mode='lines+markers',\n",
    "    name='Random Forest Forecast',\n",
    "    line=dict(color='red', dash='dash', width=3),\n",
    "    marker=dict(symbol='circle', size=6),\n",
    "    hovertemplate='Month: %{x}<br>Sales: %{y}<extra></extra>'\n",
    "))\n",
    "\n",
    "# Add titles and labels\n",
    "fig.update_layout(\n",
    "    title='Random Forest of company 01 from 2077-2081',\n",
    "    xaxis_title='Years',\n",
    "    yaxis_title='Monthly Sales',\n",
    "    legend_title='Legend',\n",
    "    hovermode='x unified',\n",
    "    width=1000,\n",
    "    height=600\n",
    ")\n",
    "\n",
    "# Show figure\n",
    "fig.show()\n"
   ]
  },
  {
   "cell_type": "code",
   "execution_count": null,
   "metadata": {},
   "outputs": [],
   "source": [
    "df.index"
   ]
  }
 ],
 "metadata": {
  "kernelspec": {
   "display_name": "Python 3",
   "language": "python",
   "name": "python3"
  },
  "language_info": {
   "codemirror_mode": {
    "name": "ipython",
    "version": 3
   },
   "file_extension": ".py",
   "mimetype": "text/x-python",
   "name": "python",
   "nbconvert_exporter": "python",
   "pygments_lexer": "ipython3",
   "version": "3.12.3"
  }
 },
 "nbformat": 4,
 "nbformat_minor": 2
}
