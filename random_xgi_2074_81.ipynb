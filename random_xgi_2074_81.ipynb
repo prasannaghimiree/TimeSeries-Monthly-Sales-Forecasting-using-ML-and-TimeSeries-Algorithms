{
 "cells": [
  {
   "cell_type": "markdown",
   "metadata": {},
   "source": [
    "### Overall sales of JGI from 2074-81\n",
    "1. lags taken 1,2 and 12 from ACF and PACF graph\n",
    "2. Random Forest and XG boost\n",
    "\n"
   ]
  },
  {
   "cell_type": "code",
   "execution_count": 54,
   "metadata": {},
   "outputs": [],
   "source": [
    "import pandas as pd\n",
    "import numpy as np\n",
    "import shap\n",
    "import xgboost as xgb\n",
    "import matplotlib.pyplot as plt\n",
    "from sklearn.model_selection import train_test_split\n",
    "from sklearn.ensemble import RandomForestRegressor\n",
    "from sklearn.metrics import mean_absolute_error, mean_squared_error, r2_score"
   ]
  },
  {
   "cell_type": "code",
   "execution_count": 55,
   "metadata": {},
   "outputs": [],
   "source": [
    "# Load dataset\n",
    "data = pd.read_csv(r\"dataset\\data_without_query_from_2074-2081_in million.csv\")\n",
    "data['date'] = pd.to_datetime(data['date'])\n",
    "data.set_index('date', inplace=True)\n"
   ]
  },
  {
   "cell_type": "code",
   "execution_count": 56,
   "metadata": {},
   "outputs": [
    {
     "data": {
      "application/vnd.plotly.v1+json": {
       "config": {
        "linkText": "Export to plot.ly",
        "plotlyServerURL": "https://plot.ly",
        "showLink": false
       },
       "data": [
        {
         "line": {
          "shape": "spline"
         },
         "mode": "lines+markers",
         "name": "Fiscal Year 2074-2075",
         "type": "scatter",
         "x": [
          "Shrawan",
          "Bhadra",
          "Asoj",
          "Kartik",
          "Mangsir",
          "Poush",
          "Magh",
          "Falgun",
          "Chaitra",
          "Baishakh",
          "Jestha",
          "Ashadh"
         ],
         "y": [
          71755796.4,
          122992928.74,
          125056963.46,
          202302083.73,
          172521194.1,
          189387312.6,
          162991937.9,
          246192681.05,
          193201963.54,
          625774133.1,
          337024106,
          12468421.8
         ]
        },
        {
         "line": {
          "shape": "spline"
         },
         "mode": "lines+markers",
         "name": "Fiscal Year 2075-2076",
         "type": "scatter",
         "x": [
          "Shrawan",
          "Bhadra",
          "Asoj",
          "Kartik",
          "Mangsir",
          "Poush",
          "Magh",
          "Falgun",
          "Chaitra",
          "Baishakh",
          "Jestha",
          "Ashadh"
         ],
         "y": [
          23060160.25,
          164447230.18,
          248224307.87,
          248144341,
          274515349.85,
          178072990.3,
          194075959.25,
          285194125.56,
          283819979,
          822926960.75,
          458932318.34,
          402762.5
         ]
        },
        {
         "line": {
          "shape": "spline"
         },
         "mode": "lines+markers",
         "name": "Fiscal Year 2076-2077",
         "type": "scatter",
         "x": [
          "Shrawan",
          "Bhadra",
          "Asoj",
          "Kartik",
          "Mangsir",
          "Poush",
          "Magh",
          "Falgun",
          "Chaitra",
          "Baishakh",
          "Jestha",
          "Ashadh"
         ],
         "y": [
          20440556.5,
          74716727.5,
          317840861.5,
          137070296.15,
          317118190.25,
          247038284.59,
          269251527.68,
          378572871.3,
          101123442,
          81206083.5,
          387370333.8,
          65530402.72
         ]
        },
        {
         "line": {
          "shape": "spline"
         },
         "mode": "lines+markers",
         "name": "Fiscal Year 2077-2078",
         "type": "scatter",
         "x": [
          "Shrawan",
          "Bhadra",
          "Asoj",
          "Kartik",
          "Mangsir",
          "Poush",
          "Magh",
          "Falgun",
          "Chaitra",
          "Baishakh",
          "Jestha",
          "Ashadh"
         ],
         "y": [
          155470501.25,
          174686903.4,
          312451911.7,
          195434472.76,
          289934595.8,
          377601661.75,
          182634358.82,
          302130721.2,
          399049552.64,
          1029635779.15,
          271075714.16,
          11690975.02
         ]
        },
        {
         "line": {
          "shape": "spline"
         },
         "mode": "lines+markers",
         "name": "Fiscal Year 2078-2079",
         "type": "scatter",
         "x": [
          "Shrawan",
          "Bhadra",
          "Asoj",
          "Kartik",
          "Mangsir",
          "Poush",
          "Magh",
          "Falgun",
          "Chaitra",
          "Baishakh",
          "Jestha",
          "Ashadh"
         ],
         "y": [
          53520162.44,
          137992315.52,
          505038261.87,
          103503942,
          453931468.4,
          371586402.85,
          96011362.1,
          465666384.73,
          645545415.96,
          879379146.32,
          348142424,
          971318
         ]
        },
        {
         "line": {
          "shape": "spline"
         },
         "mode": "lines+markers",
         "name": "Fiscal Year 2079-2080",
         "type": "scatter",
         "x": [
          "Shrawan",
          "Bhadra",
          "Asoj",
          "Kartik",
          "Mangsir",
          "Poush",
          "Magh",
          "Falgun",
          "Chaitra",
          "Baishakh",
          "Jestha",
          "Ashadh"
         ],
         "y": [
          52934750,
          380463462.2,
          322358293.65,
          97004859.42,
          44414166.5,
          398955480.65,
          42168978.85,
          223128142.1,
          840761479.06,
          465965830.8,
          82485351.18,
          21949290.46
         ]
        },
        {
         "line": {
          "shape": "spline"
         },
         "mode": "lines+markers",
         "name": "Fiscal Year 2080-2081",
         "type": "scatter",
         "x": [
          "Shrawan",
          "Bhadra",
          "Asoj",
          "Kartik",
          "Mangsir",
          "Poush",
          "Magh",
          "Falgun",
          "Chaitra",
          "Baishakh",
          "Jestha",
          "Ashadh"
         ],
         "y": [
          36314640,
          48065241.03,
          408792471.23,
          28326755,
          265459562.5,
          169315223.02,
          42567228.03,
          178127862.1,
          229439178.44,
          572657580.46,
          103396366.03,
          57982.3
         ]
        },
        {
         "line": {
          "shape": "spline"
         },
         "mode": "lines+markers",
         "name": "Fiscal Year 2081-2082",
         "type": "scatter",
         "x": [
          "Shrawan",
          "Bhadra",
          "Asoj",
          "Kartik",
          "Mangsir",
          "Poush",
          "Magh",
          "Falgun"
         ],
         "y": [
          117019871.2,
          259450136.69,
          358074592.78,
          226447289.39,
          239345049.18,
          309776466.8,
          382738843.5,
          126647902.55
         ]
        }
       ],
       "layout": {
        "hovermode": "x unified",
        "template": {
         "data": {
          "bar": [
           {
            "error_x": {
             "color": "#f2f5fa"
            },
            "error_y": {
             "color": "#f2f5fa"
            },
            "marker": {
             "line": {
              "color": "rgb(17,17,17)",
              "width": 0.5
             },
             "pattern": {
              "fillmode": "overlay",
              "size": 10,
              "solidity": 0.2
             }
            },
            "type": "bar"
           }
          ],
          "barpolar": [
           {
            "marker": {
             "line": {
              "color": "rgb(17,17,17)",
              "width": 0.5
             },
             "pattern": {
              "fillmode": "overlay",
              "size": 10,
              "solidity": 0.2
             }
            },
            "type": "barpolar"
           }
          ],
          "carpet": [
           {
            "aaxis": {
             "endlinecolor": "#A2B1C6",
             "gridcolor": "#506784",
             "linecolor": "#506784",
             "minorgridcolor": "#506784",
             "startlinecolor": "#A2B1C6"
            },
            "baxis": {
             "endlinecolor": "#A2B1C6",
             "gridcolor": "#506784",
             "linecolor": "#506784",
             "minorgridcolor": "#506784",
             "startlinecolor": "#A2B1C6"
            },
            "type": "carpet"
           }
          ],
          "choropleth": [
           {
            "colorbar": {
             "outlinewidth": 0,
             "ticks": ""
            },
            "type": "choropleth"
           }
          ],
          "contour": [
           {
            "colorbar": {
             "outlinewidth": 0,
             "ticks": ""
            },
            "colorscale": [
             [
              0,
              "#0d0887"
             ],
             [
              0.1111111111111111,
              "#46039f"
             ],
             [
              0.2222222222222222,
              "#7201a8"
             ],
             [
              0.3333333333333333,
              "#9c179e"
             ],
             [
              0.4444444444444444,
              "#bd3786"
             ],
             [
              0.5555555555555556,
              "#d8576b"
             ],
             [
              0.6666666666666666,
              "#ed7953"
             ],
             [
              0.7777777777777778,
              "#fb9f3a"
             ],
             [
              0.8888888888888888,
              "#fdca26"
             ],
             [
              1,
              "#f0f921"
             ]
            ],
            "type": "contour"
           }
          ],
          "contourcarpet": [
           {
            "colorbar": {
             "outlinewidth": 0,
             "ticks": ""
            },
            "type": "contourcarpet"
           }
          ],
          "heatmap": [
           {
            "colorbar": {
             "outlinewidth": 0,
             "ticks": ""
            },
            "colorscale": [
             [
              0,
              "#0d0887"
             ],
             [
              0.1111111111111111,
              "#46039f"
             ],
             [
              0.2222222222222222,
              "#7201a8"
             ],
             [
              0.3333333333333333,
              "#9c179e"
             ],
             [
              0.4444444444444444,
              "#bd3786"
             ],
             [
              0.5555555555555556,
              "#d8576b"
             ],
             [
              0.6666666666666666,
              "#ed7953"
             ],
             [
              0.7777777777777778,
              "#fb9f3a"
             ],
             [
              0.8888888888888888,
              "#fdca26"
             ],
             [
              1,
              "#f0f921"
             ]
            ],
            "type": "heatmap"
           }
          ],
          "heatmapgl": [
           {
            "colorbar": {
             "outlinewidth": 0,
             "ticks": ""
            },
            "colorscale": [
             [
              0,
              "#0d0887"
             ],
             [
              0.1111111111111111,
              "#46039f"
             ],
             [
              0.2222222222222222,
              "#7201a8"
             ],
             [
              0.3333333333333333,
              "#9c179e"
             ],
             [
              0.4444444444444444,
              "#bd3786"
             ],
             [
              0.5555555555555556,
              "#d8576b"
             ],
             [
              0.6666666666666666,
              "#ed7953"
             ],
             [
              0.7777777777777778,
              "#fb9f3a"
             ],
             [
              0.8888888888888888,
              "#fdca26"
             ],
             [
              1,
              "#f0f921"
             ]
            ],
            "type": "heatmapgl"
           }
          ],
          "histogram": [
           {
            "marker": {
             "pattern": {
              "fillmode": "overlay",
              "size": 10,
              "solidity": 0.2
             }
            },
            "type": "histogram"
           }
          ],
          "histogram2d": [
           {
            "colorbar": {
             "outlinewidth": 0,
             "ticks": ""
            },
            "colorscale": [
             [
              0,
              "#0d0887"
             ],
             [
              0.1111111111111111,
              "#46039f"
             ],
             [
              0.2222222222222222,
              "#7201a8"
             ],
             [
              0.3333333333333333,
              "#9c179e"
             ],
             [
              0.4444444444444444,
              "#bd3786"
             ],
             [
              0.5555555555555556,
              "#d8576b"
             ],
             [
              0.6666666666666666,
              "#ed7953"
             ],
             [
              0.7777777777777778,
              "#fb9f3a"
             ],
             [
              0.8888888888888888,
              "#fdca26"
             ],
             [
              1,
              "#f0f921"
             ]
            ],
            "type": "histogram2d"
           }
          ],
          "histogram2dcontour": [
           {
            "colorbar": {
             "outlinewidth": 0,
             "ticks": ""
            },
            "colorscale": [
             [
              0,
              "#0d0887"
             ],
             [
              0.1111111111111111,
              "#46039f"
             ],
             [
              0.2222222222222222,
              "#7201a8"
             ],
             [
              0.3333333333333333,
              "#9c179e"
             ],
             [
              0.4444444444444444,
              "#bd3786"
             ],
             [
              0.5555555555555556,
              "#d8576b"
             ],
             [
              0.6666666666666666,
              "#ed7953"
             ],
             [
              0.7777777777777778,
              "#fb9f3a"
             ],
             [
              0.8888888888888888,
              "#fdca26"
             ],
             [
              1,
              "#f0f921"
             ]
            ],
            "type": "histogram2dcontour"
           }
          ],
          "mesh3d": [
           {
            "colorbar": {
             "outlinewidth": 0,
             "ticks": ""
            },
            "type": "mesh3d"
           }
          ],
          "parcoords": [
           {
            "line": {
             "colorbar": {
              "outlinewidth": 0,
              "ticks": ""
             }
            },
            "type": "parcoords"
           }
          ],
          "pie": [
           {
            "automargin": true,
            "type": "pie"
           }
          ],
          "scatter": [
           {
            "marker": {
             "line": {
              "color": "#283442"
             }
            },
            "type": "scatter"
           }
          ],
          "scatter3d": [
           {
            "line": {
             "colorbar": {
              "outlinewidth": 0,
              "ticks": ""
             }
            },
            "marker": {
             "colorbar": {
              "outlinewidth": 0,
              "ticks": ""
             }
            },
            "type": "scatter3d"
           }
          ],
          "scattercarpet": [
           {
            "marker": {
             "colorbar": {
              "outlinewidth": 0,
              "ticks": ""
             }
            },
            "type": "scattercarpet"
           }
          ],
          "scattergeo": [
           {
            "marker": {
             "colorbar": {
              "outlinewidth": 0,
              "ticks": ""
             }
            },
            "type": "scattergeo"
           }
          ],
          "scattergl": [
           {
            "marker": {
             "line": {
              "color": "#283442"
             }
            },
            "type": "scattergl"
           }
          ],
          "scattermapbox": [
           {
            "marker": {
             "colorbar": {
              "outlinewidth": 0,
              "ticks": ""
             }
            },
            "type": "scattermapbox"
           }
          ],
          "scatterpolar": [
           {
            "marker": {
             "colorbar": {
              "outlinewidth": 0,
              "ticks": ""
             }
            },
            "type": "scatterpolar"
           }
          ],
          "scatterpolargl": [
           {
            "marker": {
             "colorbar": {
              "outlinewidth": 0,
              "ticks": ""
             }
            },
            "type": "scatterpolargl"
           }
          ],
          "scatterternary": [
           {
            "marker": {
             "colorbar": {
              "outlinewidth": 0,
              "ticks": ""
             }
            },
            "type": "scatterternary"
           }
          ],
          "surface": [
           {
            "colorbar": {
             "outlinewidth": 0,
             "ticks": ""
            },
            "colorscale": [
             [
              0,
              "#0d0887"
             ],
             [
              0.1111111111111111,
              "#46039f"
             ],
             [
              0.2222222222222222,
              "#7201a8"
             ],
             [
              0.3333333333333333,
              "#9c179e"
             ],
             [
              0.4444444444444444,
              "#bd3786"
             ],
             [
              0.5555555555555556,
              "#d8576b"
             ],
             [
              0.6666666666666666,
              "#ed7953"
             ],
             [
              0.7777777777777778,
              "#fb9f3a"
             ],
             [
              0.8888888888888888,
              "#fdca26"
             ],
             [
              1,
              "#f0f921"
             ]
            ],
            "type": "surface"
           }
          ],
          "table": [
           {
            "cells": {
             "fill": {
              "color": "#506784"
             },
             "line": {
              "color": "rgb(17,17,17)"
             }
            },
            "header": {
             "fill": {
              "color": "#2a3f5f"
             },
             "line": {
              "color": "rgb(17,17,17)"
             }
            },
            "type": "table"
           }
          ]
         },
         "layout": {
          "annotationdefaults": {
           "arrowcolor": "#f2f5fa",
           "arrowhead": 0,
           "arrowwidth": 1
          },
          "autotypenumbers": "strict",
          "coloraxis": {
           "colorbar": {
            "outlinewidth": 0,
            "ticks": ""
           }
          },
          "colorscale": {
           "diverging": [
            [
             0,
             "#8e0152"
            ],
            [
             0.1,
             "#c51b7d"
            ],
            [
             0.2,
             "#de77ae"
            ],
            [
             0.3,
             "#f1b6da"
            ],
            [
             0.4,
             "#fde0ef"
            ],
            [
             0.5,
             "#f7f7f7"
            ],
            [
             0.6,
             "#e6f5d0"
            ],
            [
             0.7,
             "#b8e186"
            ],
            [
             0.8,
             "#7fbc41"
            ],
            [
             0.9,
             "#4d9221"
            ],
            [
             1,
             "#276419"
            ]
           ],
           "sequential": [
            [
             0,
             "#0d0887"
            ],
            [
             0.1111111111111111,
             "#46039f"
            ],
            [
             0.2222222222222222,
             "#7201a8"
            ],
            [
             0.3333333333333333,
             "#9c179e"
            ],
            [
             0.4444444444444444,
             "#bd3786"
            ],
            [
             0.5555555555555556,
             "#d8576b"
            ],
            [
             0.6666666666666666,
             "#ed7953"
            ],
            [
             0.7777777777777778,
             "#fb9f3a"
            ],
            [
             0.8888888888888888,
             "#fdca26"
            ],
            [
             1,
             "#f0f921"
            ]
           ],
           "sequentialminus": [
            [
             0,
             "#0d0887"
            ],
            [
             0.1111111111111111,
             "#46039f"
            ],
            [
             0.2222222222222222,
             "#7201a8"
            ],
            [
             0.3333333333333333,
             "#9c179e"
            ],
            [
             0.4444444444444444,
             "#bd3786"
            ],
            [
             0.5555555555555556,
             "#d8576b"
            ],
            [
             0.6666666666666666,
             "#ed7953"
            ],
            [
             0.7777777777777778,
             "#fb9f3a"
            ],
            [
             0.8888888888888888,
             "#fdca26"
            ],
            [
             1,
             "#f0f921"
            ]
           ]
          },
          "colorway": [
           "#636efa",
           "#EF553B",
           "#00cc96",
           "#ab63fa",
           "#FFA15A",
           "#19d3f3",
           "#FF6692",
           "#B6E880",
           "#FF97FF",
           "#FECB52"
          ],
          "font": {
           "color": "#f2f5fa"
          },
          "geo": {
           "bgcolor": "rgb(17,17,17)",
           "lakecolor": "rgb(17,17,17)",
           "landcolor": "rgb(17,17,17)",
           "showlakes": true,
           "showland": true,
           "subunitcolor": "#506784"
          },
          "hoverlabel": {
           "align": "left"
          },
          "hovermode": "closest",
          "mapbox": {
           "style": "dark"
          },
          "paper_bgcolor": "rgb(17,17,17)",
          "plot_bgcolor": "rgb(17,17,17)",
          "polar": {
           "angularaxis": {
            "gridcolor": "#506784",
            "linecolor": "#506784",
            "ticks": ""
           },
           "bgcolor": "rgb(17,17,17)",
           "radialaxis": {
            "gridcolor": "#506784",
            "linecolor": "#506784",
            "ticks": ""
           }
          },
          "scene": {
           "xaxis": {
            "backgroundcolor": "rgb(17,17,17)",
            "gridcolor": "#506784",
            "gridwidth": 2,
            "linecolor": "#506784",
            "showbackground": true,
            "ticks": "",
            "zerolinecolor": "#C8D4E3"
           },
           "yaxis": {
            "backgroundcolor": "rgb(17,17,17)",
            "gridcolor": "#506784",
            "gridwidth": 2,
            "linecolor": "#506784",
            "showbackground": true,
            "ticks": "",
            "zerolinecolor": "#C8D4E3"
           },
           "zaxis": {
            "backgroundcolor": "rgb(17,17,17)",
            "gridcolor": "#506784",
            "gridwidth": 2,
            "linecolor": "#506784",
            "showbackground": true,
            "ticks": "",
            "zerolinecolor": "#C8D4E3"
           }
          },
          "shapedefaults": {
           "line": {
            "color": "#f2f5fa"
           }
          },
          "sliderdefaults": {
           "bgcolor": "#C8D4E3",
           "bordercolor": "rgb(17,17,17)",
           "borderwidth": 1,
           "tickwidth": 0
          },
          "ternary": {
           "aaxis": {
            "gridcolor": "#506784",
            "linecolor": "#506784",
            "ticks": ""
           },
           "baxis": {
            "gridcolor": "#506784",
            "linecolor": "#506784",
            "ticks": ""
           },
           "bgcolor": "rgb(17,17,17)",
           "caxis": {
            "gridcolor": "#506784",
            "linecolor": "#506784",
            "ticks": ""
           }
          },
          "title": {
           "x": 0.05
          },
          "updatemenudefaults": {
           "bgcolor": "#506784",
           "borderwidth": 0
          },
          "xaxis": {
           "automargin": true,
           "gridcolor": "#283442",
           "linecolor": "#506784",
           "ticks": "",
           "title": {
            "standoff": 15
           },
           "zerolinecolor": "#283442",
           "zerolinewidth": 2
          },
          "yaxis": {
           "automargin": true,
           "gridcolor": "#283442",
           "linecolor": "#506784",
           "ticks": "",
           "title": {
            "standoff": 15
           },
           "zerolinecolor": "#283442",
           "zerolinewidth": 2
          }
         }
        },
        "title": {
         "text": "Sales Trend by Fiscal Year"
        },
        "xaxis": {
         "categoryarray": [
          "Shrawan",
          "Bhadra",
          "Asoj",
          "Kartik",
          "Mangsir",
          "Poush",
          "Magh",
          "Falgun",
          "Chaitra",
          "Baishakh",
          "Jestha",
          "Ashadh"
         ],
         "categoryorder": "array",
         "title": {
          "text": "Nepali Month"
         }
        },
        "yaxis": {
         "title": {
          "text": "Sales"
         }
        }
       }
      }
     },
     "metadata": {},
     "output_type": "display_data"
    }
   ],
   "source": [
    "\n",
    "# data visualization using plotly\n",
    "\n",
    "import plotly.graph_objs as go\n",
    "import plotly.offline as pyo\n",
    "\n",
    "df_sales = pd.read_csv(r\"dataset\\company_01_merge_sales.csv\")\n",
    "\n",
    "df_sales.columns = ['date','sales']\n",
    "\n",
    "df_sales[['Year', 'Month']] = df_sales['date'].str.split('-', expand=True)\n",
    "df_sales['Year'] = df_sales['Year'].astype(int)\n",
    "df_sales['Month'] = df_sales['Month'].astype(int)\n",
    "nepali_months_fiscal_order = {\n",
    "    4: \"Shrawan\", 5: \"Bhadra\", 6: \"Asoj\", 7: \"Kartik\",\n",
    "    8: \"Mangsir\", 9: \"Poush\", 10: \"Magh\", 11: \"Falgun\",\n",
    "    12: \"Chaitra\", 1: \"Baishakh\", 2: \"Jestha\", 3: \"Ashadh\"\n",
    "}\n",
    "\n",
    "df_sales['Month_Name'] = df_sales['Month'].map(nepali_months_fiscal_order)\n",
    "\n",
    "\n",
    "df_sales['Fiscal_Year'] = df_sales.apply(lambda row: \n",
    "                                         f\"{row['Year']}-{row['Year']+1}\" if row['Month'] >= 4 \n",
    "                                         else f\"{row['Year']-1}-{row['Year']}\", axis=1)\n",
    "\n",
    "df_sales['Month_Order'] = df_sales['Month'].apply(lambda x: list(nepali_months_fiscal_order.keys()).index(x))\n",
    "\n",
    "df_sales = df_sales.sort_values(by=['Fiscal_Year', 'Month_Order'])\n",
    "\n",
    "fig = go.Figure()\n",
    "\n",
    "fiscal_years = df_sales['Fiscal_Year'].unique()\n",
    "\n",
    "for fy in fiscal_years:\n",
    "    df_fy = df_sales[df_sales['Fiscal_Year'] == fy]\n",
    "    fig.add_trace(go.Scatter(\n",
    "        x=df_fy['Month_Name'], \n",
    "        y=df_fy['sales'], \n",
    "        mode='lines+markers',\n",
    "        name=f'Fiscal Year {fy}',\n",
    "        line=dict(shape='spline')  \n",
    "    ))\n",
    "\n",
    "fig.update_layout(\n",
    "    title=\"Sales Trend by Fiscal Year\",\n",
    "    xaxis_title=\"Nepali Month\",\n",
    "    yaxis_title=\"Sales\",\n",
    "    xaxis=dict(categoryorder='array', categoryarray=list(nepali_months_fiscal_order.values())),\n",
    "    template=\"plotly_dark\",\n",
    "    hovermode=\"x unified\"\n",
    ")\n",
    "\n",
    "pyo.iplot(fig)\n"
   ]
  },
  {
   "cell_type": "code",
   "execution_count": 57,
   "metadata": {},
   "outputs": [
    {
     "data": {
      "image/png": "[encoded data removed]",
      "text/plain": [
       "<Figure size 1200x600 with 2 Axes>"
      ]
     },
     "metadata": {},
     "output_type": "display_data"
    }
   ],
   "source": [
    "# analyzing auto_correlation and partial auto correlation\n",
    "\n",
    "from statsmodels.graphics.tsaplots import plot_acf, plot_pacf\n",
    "from statsmodels.tsa.stattools import acf, pacf\n",
    "import matplotlib.pyplot as plt\n",
    "\n",
    "# Calculate the ACF and PACF\n",
    "\n",
    "acf_values = acf(data[\"sales\"], nlags=27, fft=False)\n",
    "pacf_values = pacf(data[\"sales\"], nlags=27)\n",
    "\n",
    "# Plot the ACF and PACF\n",
    "plt.figure(figsize=(12, 6))\n",
    "\n",
    "plt.subplot(2, 1, 1)\n",
    "plot_acf(data[\"sales\"], lags=27, ax=plt.gca())  \n",
    "plt.title(\"Autocorrelation Function (ACF)\")\n",
    "\n",
    "plt.subplot(2, 1, 2)\n",
    "plot_pacf(data[\"sales\"], lags=27, ax=plt.gca())  \n",
    "plt.title(\"Partial Autocorrelation Function (PACF)\")\n",
    "\n",
    "\n",
    "plt.tight_layout()\n",
    "plt.show()\n",
    "\n",
    "\n"
   ]
  },
  {
   "cell_type": "code",
   "execution_count": 58,
   "metadata": {},
   "outputs": [
    {
     "name": "stdout",
     "output_type": "stream",
     "text": [
      "The ACF values are : \n",
      "[ 1.          0.35122888 -0.15196804 -0.24916899 -0.11783802  0.04855957\n",
      "  0.02801156  0.05283397 -0.11993052 -0.19997901 -0.09409724  0.18636741\n",
      "  0.47693338  0.23113452 -0.137082   -0.22760606 -0.08357401  0.02859312\n",
      "  0.00810387  0.01321749 -0.10616415 -0.17283492 -0.09530256  0.08905882\n",
      "  0.18355165  0.07346874 -0.09452208 -0.18526717]\n"
     ]
    }
   ],
   "source": [
    "print(f\"The ACF values are : \\n{acf_values}\")\n"
   ]
  },
  {
   "cell_type": "code",
   "execution_count": 59,
   "metadata": {},
   "outputs": [
    {
     "name": "stdout",
     "output_type": "stream",
     "text": [
      "The PACF values are : \n",
      "[ 1.          0.35513142 -0.32212756 -0.08977107 -0.02748093  0.03729998\n",
      " -0.08381962  0.09573322 -0.23584681 -0.08430266 -0.03433029  0.23023554\n",
      "  0.39586459 -0.01423715 -0.11177289 -0.00132953  0.01596467 -0.06243855\n",
      " -0.05062088  0.00541394 -0.09830755 -0.04523504 -0.06004202 -0.03226769\n",
      " -0.15679877 -0.0501237  -0.03895767 -0.11131342]\n"
     ]
    }
   ],
   "source": [
    "\n",
    "print(f\"The PACF values are : \\n{pacf_values}\")\n",
    "a= pacf_values"
   ]
  },
  {
   "cell_type": "code",
   "execution_count": 60,
   "metadata": {},
   "outputs": [],
   "source": [
    "# converting acf values into list so that indexing can be done\n",
    "acf=[]\n",
    "for i in range (len(acf_values)):\n",
    "    acf.append(acf_values[i])"
   ]
  },
  {
   "cell_type": "code",
   "execution_count": 61,
   "metadata": {},
   "outputs": [],
   "source": [
    "#converting pacf values into list so that indexing can be done\n",
    "pacf=[]\n",
    "for i in range(len(pacf_values)):\n",
    "    pacf.append(pacf_values[i])"
   ]
  },
  {
   "cell_type": "code",
   "execution_count": 62,
   "metadata": {},
   "outputs": [
    {
     "data": {
      "text/plain": [
       "list"
      ]
     },
     "execution_count": 62,
     "metadata": {},
     "output_type": "execute_result"
    }
   ],
   "source": [
    "type(pacf)"
   ]
  },
  {
   "cell_type": "code",
   "execution_count": 63,
   "metadata": {},
   "outputs": [
    {
     "data": {
      "text/plain": [
       "[1.0,\n",
       " 0.3512288769573043,\n",
       " -0.15196803827523458,\n",
       " -0.24916898767989176,\n",
       " -0.11783801531056981,\n",
       " 0.04855956540293954,\n",
       " 0.02801155562727049,\n",
       " 0.05283397364171068,\n",
       " -0.11993052393512146,\n",
       " -0.19997901428938258,\n",
       " -0.09409724453909948,\n",
       " 0.18636740706900423,\n",
       " 0.4769333796066044,\n",
       " 0.23113452275068086,\n",
       " -0.13708199563582368,\n",
       " -0.22760605820860955,\n",
       " -0.08357400826399643,\n",
       " 0.02859312099495851,\n",
       " 0.008103873200129202,\n",
       " 0.013217486755032844,\n",
       " -0.10616414602859954,\n",
       " -0.17283491886012686,\n",
       " -0.09530256441675296,\n",
       " 0.08905881518426245,\n",
       " 0.18355164981048733,\n",
       " 0.07346874184280724,\n",
       " -0.09452208459412294,\n",
       " -0.18526717304353207]"
      ]
     },
     "execution_count": 63,
     "metadata": {},
     "output_type": "execute_result"
    }
   ],
   "source": [
    "acf"
   ]
  },
  {
   "cell_type": "code",
   "execution_count": 64,
   "metadata": {},
   "outputs": [
    {
     "data": {
      "text/plain": [
       "0"
      ]
     },
     "execution_count": 64,
     "metadata": {},
     "output_type": "execute_result"
    }
   ],
   "source": [
    "acf.index(1)"
   ]
  },
  {
   "cell_type": "code",
   "execution_count": 65,
   "metadata": {},
   "outputs": [],
   "source": [
    "# selected_features=[]\n",
    "# for i in range (len(acf)):\n",
    "#     if abs(acf[i])>0.3 or abs(pacf[i]>0.3):\n",
    "#         index=acf.index(acf[i]) or pacf.index(pacf[i])\n",
    "#         lag=f\"lag_{index}\"\n",
    "#         selected_features.append(lag)\n",
    "        "
   ]
  },
  {
   "cell_type": "code",
   "execution_count": 86,
   "metadata": {},
   "outputs": [],
   "source": [
    "imp_features=[]\n",
    "for i in range (len(acf)):\n",
    "    if abs(acf[i]>0.3):\n",
    "        index = acf.index(acf[i])\n",
    "        lag = f\"lag_{index}\"\n",
    "        imp_features.append(lag)\n"
   ]
  },
  {
   "cell_type": "code",
   "execution_count": 66,
   "metadata": {},
   "outputs": [],
   "source": [
    "# selected_features"
   ]
  },
  {
   "cell_type": "code",
   "execution_count": 67,
   "metadata": {},
   "outputs": [],
   "source": [
    "# a=[1,2,3,4,5,6,77,8]\n",
    "# # a.index(77)\n",
    "# type(a)\n"
   ]
  },
  {
   "cell_type": "code",
   "execution_count": 68,
   "metadata": {},
   "outputs": [],
   "source": [
    "# selected_features=[]\n",
    "# for i in range(len(acf_values)-1):\n",
    "#     if acf_values[i]>0.3:\n",
    "        \n"
   ]
  },
  {
   "cell_type": "code",
   "execution_count": null,
   "metadata": {},
   "outputs": [],
   "source": [
    "# Feature Engineering\n",
    "data['month'] = data.index.month\n",
    "data['year'] = data.index.year\n",
    "data['dayofweek'] = data.index.dayofweek\n",
    "data['lag_1']=data['sales'].shift(1)\n",
    "data['lag_2']=data['sales'].shift(2)\n",
    "\n",
    "data['lag_12'] = data['sales'].shift(12)\n",
    "\n",
    "\n",
    "\n",
    "data['rolling_mean_3'] = data['sales'].rolling(window=3).mean()\n",
    "data['rolling_mean_6'] = data['sales'].rolling(window=6).mean()\n",
    "\n",
    "data.dropna(inplace=True)"
   ]
  },
  {
   "cell_type": "code",
   "execution_count": 70,
   "metadata": {},
   "outputs": [],
   "source": [
    "# Train-Test Split 80% and 20%\n",
    "X = data.drop(columns=['sales'])\n",
    "y = data['sales']\n",
    "X_train, X_test, y_train, y_test = train_test_split(X, y, test_size=0.6, shuffle=False)"
   ]
  },
  {
   "cell_type": "code",
   "execution_count": 71,
   "metadata": {},
   "outputs": [
    {
     "name": "stdout",
     "output_type": "stream",
     "text": [
      "The length of training data is : 31 and the length of testing data is : 48\n"
     ]
    }
   ],
   "source": [
    "print(f\"The length of training data is : {len(X_train)} and the length of testing data is : {len(X_test)}\")"
   ]
  },
  {
   "cell_type": "code",
   "execution_count": 72,
   "metadata": {},
   "outputs": [],
   "source": [
    "# Standardization\n",
    "from sklearn.preprocessing import StandardScaler, MinMaxScaler\n",
    "\n",
    "scaler_X = StandardScaler()\n",
    "scaler_y = StandardScaler()\n",
    "# scaler_X = MinMaxScaler()\n",
    "# scaler_y = MinMaxScaler()\n",
    "X_train_scaled = scaler_X.fit_transform(X_train)\n",
    "X_test_scaled = scaler_X.transform(X_test)\n",
    "y_train_scaled = scaler_y.fit_transform(y_train.values.reshape(-1, 1)).flatten()\n",
    "y_test_scaled = scaler_y.transform(y_test.values.reshape(-1, 1)).flatten()"
   ]
  },
  {
   "cell_type": "code",
   "execution_count": 73,
   "metadata": {},
   "outputs": [
    {
     "name": "stderr",
     "output_type": "stream",
     "text": [
      "[Parallel(n_jobs=-1)]: Using backend ThreadingBackend with 16 concurrent workers.\n",
      "[Parallel(n_jobs=-1)]: Done  18 tasks      | elapsed:    0.0s\n",
      "[Parallel(n_jobs=-1)]: Done 168 tasks      | elapsed:    0.0s\n",
      "[Parallel(n_jobs=-1)]: Done 418 tasks      | elapsed:    0.1s\n",
      "[Parallel(n_jobs=-1)]: Done 768 tasks      | elapsed:    0.3s\n",
      "[Parallel(n_jobs=-1)]: Done 1000 out of 1000 | elapsed:    0.4s finished\n",
      "[Parallel(n_jobs=16)]: Using backend ThreadingBackend with 16 concurrent workers.\n",
      "[Parallel(n_jobs=16)]: Done  18 tasks      | elapsed:    0.0s\n",
      "[Parallel(n_jobs=16)]: Done 168 tasks      | elapsed:    0.0s\n",
      "[Parallel(n_jobs=16)]: Done 418 tasks      | elapsed:    0.0s\n",
      "[Parallel(n_jobs=16)]: Done 768 tasks      | elapsed:    0.0s\n",
      "[Parallel(n_jobs=16)]: Done 1000 out of 1000 | elapsed:    0.0s finished\n"
     ]
    }
   ],
   "source": [
    "# Random Forest Model\n",
    "rf_model = RandomForestRegressor(n_estimators=1000, max_depth=20, random_state=42, n_jobs=-1, verbose=1)\n",
    "rf_model.fit(X_train_scaled, y_train_scaled)\n",
    "yran_pred_scaled = rf_model.predict(X_test_scaled)\n",
    "yran_pred = scaler_y.inverse_transform(yran_pred_scaled.reshape(-1, 1)).flatten()"
   ]
  },
  {
   "cell_type": "code",
   "execution_count": 74,
   "metadata": {},
   "outputs": [
    {
     "name": "stderr",
     "output_type": "stream",
     "text": [
      "[Parallel(n_jobs=16)]: Using backend ThreadingBackend with 16 concurrent workers.\n",
      "[Parallel(n_jobs=16)]: Done  18 tasks      | elapsed:    0.0s\n",
      "[Parallel(n_jobs=16)]: Done 168 tasks      | elapsed:    0.0s\n",
      "[Parallel(n_jobs=16)]: Done 418 tasks      | elapsed:    0.0s\n",
      "[Parallel(n_jobs=16)]: Done 768 tasks      | elapsed:    0.0s\n",
      "[Parallel(n_jobs=16)]: Done 1000 out of 1000 | elapsed:    0.0s finished\n"
     ]
    }
   ],
   "source": [
    "y_pred_scaled = rf_model.predict(X_test_scaled)\n",
    "yran_pred = scaler_y.inverse_transform(y_pred_scaled.reshape(-1,1)).flatten()"
   ]
  },
  {
   "cell_type": "code",
   "execution_count": 75,
   "metadata": {},
   "outputs": [
    {
     "name": "stdout",
     "output_type": "stream",
     "text": [
      "Random Forest MAE: 506634.87\n",
      "Random Forest RMSE: 737148.36\n",
      "Random Forest R^2: 0.462\n"
     ]
    }
   ],
   "source": [
    "# Random Forest Metrics\n",
    "mae_rf = mean_absolute_error(y_test, yran_pred)\n",
    "rmse_rf = np.sqrt(mean_squared_error(y_test, yran_pred))\n",
    "rsquare = r2_score(y_test,yran_pred)\n",
    "print(f\"Random Forest MAE: {mae_rf:.2f}\")\n",
    "print(f\"Random Forest RMSE: {rmse_rf:.2f}\")\n",
    "print(f\"Random Forest R^2: {rsquare:.3f}\")\n"
   ]
  },
  {
   "cell_type": "code",
   "execution_count": 91,
   "metadata": {},
   "outputs": [
    {
     "data": {
      "image/png": "[encoded data removed]",
      "text/plain": [
       "<Figure size 1200x600 with 1 Axes>"
      ]
     },
     "metadata": {},
     "output_type": "display_data"
    }
   ],
   "source": [
    "# Visualization\n",
    "plt.figure(figsize=(12, 6))\n",
    "plt.plot(data.index, data[\"sales\"], label=\"Actual Sales\", color=\"black\", linewidth=2, marker='o')\n",
    "plt.plot(X_test.index, yran_pred, label=\"Random Forest Forecast\", color=\"red\", linestyle=\"dashed\", linewidth=2, marker='o')\n",
    "\n",
    "plt.title(\"Sales Forecasting using Random Forest from 2074-81\")\n",
    "plt.legend()\n",
    "plt.show()\n",
    "\n"
   ]
  },
  {
   "cell_type": "markdown",
   "metadata": {},
   "source": [
    "### Observation\n",
    "1. for long series data i.e. from 2074 to 2081 it couldnot map properly becase of year 2076-2077 may due to ##Covid 19.\n",
    "2. That year effected whole dataset because model couldnot gain more height after that.\n",
    "3. so it maynot be accurate to take outlier year. Instead consider it as an outlier"
   ]
  },
  {
   "cell_type": "markdown",
   "metadata": {},
   "source": [
    "### XG boost model"
   ]
  },
  {
   "cell_type": "code",
   "execution_count": 77,
   "metadata": {},
   "outputs": [
    {
     "name": "stdout",
     "output_type": "stream",
     "text": [
      "[0]\tvalidation_0-rmse:1.02917\n",
      "[1]\tvalidation_0-rmse:1.02707\n",
      "[2]\tvalidation_0-rmse:1.02476\n",
      "[3]\tvalidation_0-rmse:1.02242\n",
      "[4]\tvalidation_0-rmse:1.02128\n",
      "[5]\tvalidation_0-rmse:1.01829\n",
      "[6]\tvalidation_0-rmse:1.01569\n",
      "[7]\tvalidation_0-rmse:1.01325\n",
      "[8]\tvalidation_0-rmse:1.01361\n",
      "[9]\tvalidation_0-rmse:1.01033\n",
      "[10]\tvalidation_0-rmse:1.00531\n",
      "[11]\tvalidation_0-rmse:1.00085\n",
      "[12]\tvalidation_0-rmse:0.99934\n",
      "[13]\tvalidation_0-rmse:0.99655\n",
      "[14]\tvalidation_0-rmse:0.99424\n",
      "[15]\tvalidation_0-rmse:0.99293\n",
      "[16]\tvalidation_0-rmse:0.98759\n",
      "[17]\tvalidation_0-rmse:0.98517\n",
      "[18]\tvalidation_0-rmse:0.98407\n",
      "[19]\tvalidation_0-rmse:0.98363\n",
      "[20]\tvalidation_0-rmse:0.97960\n",
      "[21]\tvalidation_0-rmse:0.97967\n",
      "[22]\tvalidation_0-rmse:0.98041\n",
      "[23]\tvalidation_0-rmse:0.97844\n",
      "[24]\tvalidation_0-rmse:0.97879\n",
      "[25]\tvalidation_0-rmse:0.97803\n",
      "[26]\tvalidation_0-rmse:0.97431\n",
      "[27]\tvalidation_0-rmse:0.97477\n",
      "[28]\tvalidation_0-rmse:0.97199\n",
      "[29]\tvalidation_0-rmse:0.97194\n",
      "[30]\tvalidation_0-rmse:0.96821\n",
      "[31]\tvalidation_0-rmse:0.96544\n",
      "[32]\tvalidation_0-rmse:0.96258\n",
      "[33]\tvalidation_0-rmse:0.96251\n",
      "[34]\tvalidation_0-rmse:0.96344\n",
      "[35]\tvalidation_0-rmse:0.96091\n",
      "[36]\tvalidation_0-rmse:0.95747\n",
      "[37]\tvalidation_0-rmse:0.95608\n",
      "[38]\tvalidation_0-rmse:0.95561\n",
      "[39]\tvalidation_0-rmse:0.95713\n",
      "[40]\tvalidation_0-rmse:0.95730\n",
      "[41]\tvalidation_0-rmse:0.95365\n",
      "[42]\tvalidation_0-rmse:0.95488\n",
      "[43]\tvalidation_0-rmse:0.95443\n",
      "[44]\tvalidation_0-rmse:0.95433\n",
      "[45]\tvalidation_0-rmse:0.95061\n",
      "[46]\tvalidation_0-rmse:0.94866\n",
      "[47]\tvalidation_0-rmse:0.94938\n",
      "[48]\tvalidation_0-rmse:0.95020\n",
      "[49]\tvalidation_0-rmse:0.94953\n",
      "[50]\tvalidation_0-rmse:0.94786\n",
      "[51]\tvalidation_0-rmse:0.94607\n",
      "[52]\tvalidation_0-rmse:0.94701\n",
      "[53]\tvalidation_0-rmse:0.94295\n",
      "[54]\tvalidation_0-rmse:0.93818\n",
      "[55]\tvalidation_0-rmse:0.93792\n",
      "[56]\tvalidation_0-rmse:0.93457\n",
      "[57]\tvalidation_0-rmse:0.93547\n",
      "[58]\tvalidation_0-rmse:0.93200\n",
      "[59]\tvalidation_0-rmse:0.93104\n",
      "[60]\tvalidation_0-rmse:0.92586\n",
      "[61]\tvalidation_0-rmse:0.92202\n",
      "[62]\tvalidation_0-rmse:0.92182\n",
      "[63]\tvalidation_0-rmse:0.92194\n",
      "[64]\tvalidation_0-rmse:0.92248\n",
      "[65]\tvalidation_0-rmse:0.92151\n",
      "[66]\tvalidation_0-rmse:0.92239\n",
      "[67]\tvalidation_0-rmse:0.92298\n",
      "[68]\tvalidation_0-rmse:0.92265\n",
      "[69]\tvalidation_0-rmse:0.92111\n",
      "[70]\tvalidation_0-rmse:0.91796\n",
      "[71]\tvalidation_0-rmse:0.91367\n",
      "[72]\tvalidation_0-rmse:0.91452\n",
      "[73]\tvalidation_0-rmse:0.91505\n",
      "[74]\tvalidation_0-rmse:0.91550\n",
      "[75]\tvalidation_0-rmse:0.91408\n",
      "[76]\tvalidation_0-rmse:0.91385\n",
      "[77]\tvalidation_0-rmse:0.91088\n",
      "[78]\tvalidation_0-rmse:0.91087\n",
      "[79]\tvalidation_0-rmse:0.90935\n",
      "[80]\tvalidation_0-rmse:0.90698\n",
      "[81]\tvalidation_0-rmse:0.90596\n",
      "[82]\tvalidation_0-rmse:0.90592\n",
      "[83]\tvalidation_0-rmse:0.90671\n",
      "[84]\tvalidation_0-rmse:0.90674\n",
      "[85]\tvalidation_0-rmse:0.90782\n",
      "[86]\tvalidation_0-rmse:0.90442\n",
      "[87]\tvalidation_0-rmse:0.90344\n",
      "[88]\tvalidation_0-rmse:0.90011\n",
      "[89]\tvalidation_0-rmse:0.89819\n",
      "[90]\tvalidation_0-rmse:0.89681\n",
      "[91]\tvalidation_0-rmse:0.89760\n",
      "[92]\tvalidation_0-rmse:0.89828\n",
      "[93]\tvalidation_0-rmse:0.89800\n",
      "[94]\tvalidation_0-rmse:0.89885\n",
      "[95]\tvalidation_0-rmse:0.89907\n",
      "[96]\tvalidation_0-rmse:0.89610\n",
      "[97]\tvalidation_0-rmse:0.89695\n",
      "[98]\tvalidation_0-rmse:0.89438\n",
      "[99]\tvalidation_0-rmse:0.89265\n",
      "[100]\tvalidation_0-rmse:0.89324\n",
      "[101]\tvalidation_0-rmse:0.89253\n",
      "[102]\tvalidation_0-rmse:0.89144\n",
      "[103]\tvalidation_0-rmse:0.89271\n",
      "[104]\tvalidation_0-rmse:0.89392\n",
      "[105]\tvalidation_0-rmse:0.89263\n",
      "[106]\tvalidation_0-rmse:0.88981\n",
      "[107]\tvalidation_0-rmse:0.88951\n",
      "[108]\tvalidation_0-rmse:0.89087\n",
      "[109]\tvalidation_0-rmse:0.88850\n",
      "[110]\tvalidation_0-rmse:0.88807\n",
      "[111]\tvalidation_0-rmse:0.88806\n",
      "[112]\tvalidation_0-rmse:0.88621\n",
      "[113]\tvalidation_0-rmse:0.88581\n",
      "[114]\tvalidation_0-rmse:0.88576\n",
      "[115]\tvalidation_0-rmse:0.88371\n",
      "[116]\tvalidation_0-rmse:0.88481\n",
      "[117]\tvalidation_0-rmse:0.88441\n",
      "[118]\tvalidation_0-rmse:0.88382\n",
      "[119]\tvalidation_0-rmse:0.88353\n",
      "[120]\tvalidation_0-rmse:0.88352\n",
      "[121]\tvalidation_0-rmse:0.88163\n",
      "[122]\tvalidation_0-rmse:0.87899\n",
      "[123]\tvalidation_0-rmse:0.88028\n",
      "[124]\tvalidation_0-rmse:0.88114\n",
      "[125]\tvalidation_0-rmse:0.88271\n",
      "[126]\tvalidation_0-rmse:0.88149\n",
      "[127]\tvalidation_0-rmse:0.88253\n",
      "[128]\tvalidation_0-rmse:0.88106\n",
      "[129]\tvalidation_0-rmse:0.88133\n",
      "[130]\tvalidation_0-rmse:0.88056\n",
      "[131]\tvalidation_0-rmse:0.88137\n",
      "[132]\tvalidation_0-rmse:0.88186\n",
      "[133]\tvalidation_0-rmse:0.88285\n",
      "[134]\tvalidation_0-rmse:0.88321\n",
      "[135]\tvalidation_0-rmse:0.88405\n",
      "[136]\tvalidation_0-rmse:0.88405\n",
      "[137]\tvalidation_0-rmse:0.88438\n",
      "[138]\tvalidation_0-rmse:0.88417\n",
      "[139]\tvalidation_0-rmse:0.88474\n",
      "[140]\tvalidation_0-rmse:0.88591\n",
      "[141]\tvalidation_0-rmse:0.88599\n",
      "[142]\tvalidation_0-rmse:0.88687\n",
      "[143]\tvalidation_0-rmse:0.88839\n",
      "[144]\tvalidation_0-rmse:0.88973\n",
      "[145]\tvalidation_0-rmse:0.89001\n",
      "[146]\tvalidation_0-rmse:0.88978\n",
      "[147]\tvalidation_0-rmse:0.89004\n",
      "[148]\tvalidation_0-rmse:0.89177\n",
      "[149]\tvalidation_0-rmse:0.89291\n",
      "[150]\tvalidation_0-rmse:0.89274\n",
      "[151]\tvalidation_0-rmse:0.89343\n",
      "[152]\tvalidation_0-rmse:0.89486\n",
      "[153]\tvalidation_0-rmse:0.89557\n",
      "[154]\tvalidation_0-rmse:0.89694\n",
      "[155]\tvalidation_0-rmse:0.89786\n",
      "[156]\tvalidation_0-rmse:0.89817\n",
      "[157]\tvalidation_0-rmse:0.89863\n",
      "[158]\tvalidation_0-rmse:0.89896\n",
      "[159]\tvalidation_0-rmse:0.89969\n",
      "[160]\tvalidation_0-rmse:0.90018\n",
      "[161]\tvalidation_0-rmse:0.90097\n",
      "[162]\tvalidation_0-rmse:0.89917\n",
      "[163]\tvalidation_0-rmse:0.89963\n",
      "[164]\tvalidation_0-rmse:0.89974\n",
      "[165]\tvalidation_0-rmse:0.90102\n",
      "[166]\tvalidation_0-rmse:0.89834\n",
      "[167]\tvalidation_0-rmse:0.89930\n",
      "[168]\tvalidation_0-rmse:0.90029\n",
      "[169]\tvalidation_0-rmse:0.89845\n",
      "[170]\tvalidation_0-rmse:0.89841\n",
      "[171]\tvalidation_0-rmse:0.89919\n",
      "[172]\tvalidation_0-rmse:0.89652\n",
      "[173]\tvalidation_0-rmse:0.89492\n",
      "[174]\tvalidation_0-rmse:0.89493\n",
      "[175]\tvalidation_0-rmse:0.89489\n",
      "[176]\tvalidation_0-rmse:0.89600\n",
      "[177]\tvalidation_0-rmse:0.89420\n",
      "[178]\tvalidation_0-rmse:0.89522\n",
      "[179]\tvalidation_0-rmse:0.89634\n",
      "[180]\tvalidation_0-rmse:0.89777\n",
      "[181]\tvalidation_0-rmse:0.89858\n",
      "[182]\tvalidation_0-rmse:0.89748\n",
      "[183]\tvalidation_0-rmse:0.89662\n",
      "[184]\tvalidation_0-rmse:0.89734\n",
      "[185]\tvalidation_0-rmse:0.89733\n",
      "[186]\tvalidation_0-rmse:0.89735\n",
      "[187]\tvalidation_0-rmse:0.89769\n",
      "[188]\tvalidation_0-rmse:0.89601\n",
      "[189]\tvalidation_0-rmse:0.89695\n",
      "[190]\tvalidation_0-rmse:0.89833\n",
      "[191]\tvalidation_0-rmse:0.89911\n",
      "[192]\tvalidation_0-rmse:0.90005\n",
      "[193]\tvalidation_0-rmse:0.89762\n",
      "[194]\tvalidation_0-rmse:0.89729\n",
      "[195]\tvalidation_0-rmse:0.89689\n",
      "[196]\tvalidation_0-rmse:0.89773\n",
      "[197]\tvalidation_0-rmse:0.89778\n",
      "[198]\tvalidation_0-rmse:0.89775\n",
      "[199]\tvalidation_0-rmse:0.89556\n",
      "[200]\tvalidation_0-rmse:0.89645\n",
      "[201]\tvalidation_0-rmse:0.89621\n",
      "[202]\tvalidation_0-rmse:0.89733\n",
      "[203]\tvalidation_0-rmse:0.89863\n",
      "[204]\tvalidation_0-rmse:0.89952\n",
      "[205]\tvalidation_0-rmse:0.89917\n",
      "[206]\tvalidation_0-rmse:0.89997\n",
      "[207]\tvalidation_0-rmse:0.89895\n",
      "[208]\tvalidation_0-rmse:0.90043\n",
      "[209]\tvalidation_0-rmse:0.89875\n",
      "[210]\tvalidation_0-rmse:0.89992\n",
      "[211]\tvalidation_0-rmse:0.89819\n",
      "[212]\tvalidation_0-rmse:0.89898\n",
      "[213]\tvalidation_0-rmse:0.89924\n",
      "[214]\tvalidation_0-rmse:0.90056\n",
      "[215]\tvalidation_0-rmse:0.90089\n",
      "[216]\tvalidation_0-rmse:0.90065\n",
      "[217]\tvalidation_0-rmse:0.89992\n",
      "[218]\tvalidation_0-rmse:0.90079\n",
      "[219]\tvalidation_0-rmse:0.89911\n",
      "[220]\tvalidation_0-rmse:0.89816\n",
      "[221]\tvalidation_0-rmse:0.89918\n",
      "[222]\tvalidation_0-rmse:0.90025\n",
      "[223]\tvalidation_0-rmse:0.90085\n",
      "[224]\tvalidation_0-rmse:0.89968\n",
      "[225]\tvalidation_0-rmse:0.89923\n",
      "[226]\tvalidation_0-rmse:0.89921\n",
      "[227]\tvalidation_0-rmse:0.89966\n",
      "[228]\tvalidation_0-rmse:0.90021\n",
      "[229]\tvalidation_0-rmse:0.90004\n",
      "[230]\tvalidation_0-rmse:0.89953\n",
      "[231]\tvalidation_0-rmse:0.89904\n",
      "[232]\tvalidation_0-rmse:0.89939\n",
      "[233]\tvalidation_0-rmse:0.89736\n",
      "[234]\tvalidation_0-rmse:0.89675\n",
      "[235]\tvalidation_0-rmse:0.89802\n",
      "[236]\tvalidation_0-rmse:0.89933\n",
      "[237]\tvalidation_0-rmse:0.89868\n",
      "[238]\tvalidation_0-rmse:0.89737\n",
      "[239]\tvalidation_0-rmse:0.89563\n",
      "[240]\tvalidation_0-rmse:0.89649\n",
      "[241]\tvalidation_0-rmse:0.89618\n",
      "[242]\tvalidation_0-rmse:0.89749\n",
      "[243]\tvalidation_0-rmse:0.89631\n",
      "[244]\tvalidation_0-rmse:0.89486\n",
      "[245]\tvalidation_0-rmse:0.89500\n",
      "[246]\tvalidation_0-rmse:0.89590\n",
      "[247]\tvalidation_0-rmse:0.89577\n",
      "[248]\tvalidation_0-rmse:0.89662\n",
      "[249]\tvalidation_0-rmse:0.89790\n",
      "[250]\tvalidation_0-rmse:0.89745\n",
      "[251]\tvalidation_0-rmse:0.89765\n",
      "[252]\tvalidation_0-rmse:0.89793\n",
      "[253]\tvalidation_0-rmse:0.89892\n",
      "[254]\tvalidation_0-rmse:0.89991\n",
      "[255]\tvalidation_0-rmse:0.89996\n",
      "[256]\tvalidation_0-rmse:0.89830\n",
      "[257]\tvalidation_0-rmse:0.89765\n",
      "[258]\tvalidation_0-rmse:0.89859\n",
      "[259]\tvalidation_0-rmse:0.89957\n",
      "[260]\tvalidation_0-rmse:0.90010\n",
      "[261]\tvalidation_0-rmse:0.89994\n",
      "[262]\tvalidation_0-rmse:0.90083\n",
      "[263]\tvalidation_0-rmse:0.90179\n",
      "[264]\tvalidation_0-rmse:0.90287\n",
      "[265]\tvalidation_0-rmse:0.90298\n",
      "[266]\tvalidation_0-rmse:0.90222\n",
      "[267]\tvalidation_0-rmse:0.90301\n",
      "[268]\tvalidation_0-rmse:0.90356\n",
      "[269]\tvalidation_0-rmse:0.90452\n",
      "[270]\tvalidation_0-rmse:0.90368\n",
      "[271]\tvalidation_0-rmse:0.90452\n",
      "[272]\tvalidation_0-rmse:0.90473\n",
      "[273]\tvalidation_0-rmse:0.90538\n",
      "[274]\tvalidation_0-rmse:0.90660\n",
      "[275]\tvalidation_0-rmse:0.90521\n",
      "[276]\tvalidation_0-rmse:0.90536\n",
      "[277]\tvalidation_0-rmse:0.90510\n",
      "[278]\tvalidation_0-rmse:0.90465\n",
      "[279]\tvalidation_0-rmse:0.90301\n",
      "[280]\tvalidation_0-rmse:0.90385\n",
      "[281]\tvalidation_0-rmse:0.90256\n",
      "[282]\tvalidation_0-rmse:0.90129\n",
      "[283]\tvalidation_0-rmse:0.90207\n",
      "[284]\tvalidation_0-rmse:0.90248\n",
      "[285]\tvalidation_0-rmse:0.90293\n",
      "[286]\tvalidation_0-rmse:0.90326\n",
      "[287]\tvalidation_0-rmse:0.90316\n",
      "[288]\tvalidation_0-rmse:0.90408\n",
      "[289]\tvalidation_0-rmse:0.90444\n",
      "[290]\tvalidation_0-rmse:0.90324\n",
      "[291]\tvalidation_0-rmse:0.90193\n",
      "[292]\tvalidation_0-rmse:0.90026\n",
      "[293]\tvalidation_0-rmse:0.89872\n",
      "[294]\tvalidation_0-rmse:0.89752\n",
      "[295]\tvalidation_0-rmse:0.89829\n",
      "[296]\tvalidation_0-rmse:0.89903\n",
      "[297]\tvalidation_0-rmse:0.89987\n",
      "[298]\tvalidation_0-rmse:0.89867\n",
      "[299]\tvalidation_0-rmse:0.89921\n",
      "[300]\tvalidation_0-rmse:0.89848\n",
      "[301]\tvalidation_0-rmse:0.89874\n",
      "[302]\tvalidation_0-rmse:0.89929\n",
      "[303]\tvalidation_0-rmse:0.89980\n",
      "[304]\tvalidation_0-rmse:0.89939\n",
      "[305]\tvalidation_0-rmse:0.89868\n",
      "[306]\tvalidation_0-rmse:0.89753\n",
      "[307]\tvalidation_0-rmse:0.89770\n",
      "[308]\tvalidation_0-rmse:0.89841\n",
      "[309]\tvalidation_0-rmse:0.89862\n",
      "[310]\tvalidation_0-rmse:0.89873\n",
      "[311]\tvalidation_0-rmse:0.89962\n",
      "[312]\tvalidation_0-rmse:0.89823\n",
      "[313]\tvalidation_0-rmse:0.89720\n",
      "[314]\tvalidation_0-rmse:0.89769\n",
      "[315]\tvalidation_0-rmse:0.89658\n",
      "[316]\tvalidation_0-rmse:0.89752\n",
      "[317]\tvalidation_0-rmse:0.89803\n",
      "[318]\tvalidation_0-rmse:0.89881\n",
      "[319]\tvalidation_0-rmse:0.89980\n",
      "[320]\tvalidation_0-rmse:0.90033\n",
      "[321]\tvalidation_0-rmse:0.90068\n",
      "[322]\tvalidation_0-rmse:0.90122\n",
      "[323]\tvalidation_0-rmse:0.90171\n",
      "[324]\tvalidation_0-rmse:0.90172\n",
      "[325]\tvalidation_0-rmse:0.90244\n",
      "[326]\tvalidation_0-rmse:0.90327\n",
      "[327]\tvalidation_0-rmse:0.90289\n",
      "[328]\tvalidation_0-rmse:0.90157\n",
      "[329]\tvalidation_0-rmse:0.90214\n",
      "[330]\tvalidation_0-rmse:0.90111\n",
      "[331]\tvalidation_0-rmse:0.90173\n",
      "[332]\tvalidation_0-rmse:0.90189\n",
      "[333]\tvalidation_0-rmse:0.90204\n",
      "[334]\tvalidation_0-rmse:0.90216\n",
      "[335]\tvalidation_0-rmse:0.90307\n",
      "[336]\tvalidation_0-rmse:0.90380\n",
      "[337]\tvalidation_0-rmse:0.90405\n",
      "[338]\tvalidation_0-rmse:0.90286\n",
      "[339]\tvalidation_0-rmse:0.90239\n",
      "[340]\tvalidation_0-rmse:0.90261\n",
      "[341]\tvalidation_0-rmse:0.90255\n",
      "[342]\tvalidation_0-rmse:0.90260\n",
      "[343]\tvalidation_0-rmse:0.90340\n",
      "[344]\tvalidation_0-rmse:0.90337\n",
      "[345]\tvalidation_0-rmse:0.90315\n",
      "[346]\tvalidation_0-rmse:0.90340\n",
      "[347]\tvalidation_0-rmse:0.90293\n",
      "[348]\tvalidation_0-rmse:0.90366\n",
      "[349]\tvalidation_0-rmse:0.90326\n",
      "[350]\tvalidation_0-rmse:0.90372\n",
      "[351]\tvalidation_0-rmse:0.90398\n",
      "[352]\tvalidation_0-rmse:0.90324\n",
      "[353]\tvalidation_0-rmse:0.90363\n",
      "[354]\tvalidation_0-rmse:0.90346\n",
      "[355]\tvalidation_0-rmse:0.90345\n",
      "[356]\tvalidation_0-rmse:0.90255\n",
      "[357]\tvalidation_0-rmse:0.90169\n",
      "[358]\tvalidation_0-rmse:0.90230\n",
      "[359]\tvalidation_0-rmse:0.90153\n",
      "[360]\tvalidation_0-rmse:0.90212\n",
      "[361]\tvalidation_0-rmse:0.90212\n",
      "[362]\tvalidation_0-rmse:0.90277\n",
      "[363]\tvalidation_0-rmse:0.90162\n",
      "[364]\tvalidation_0-rmse:0.90211\n",
      "[365]\tvalidation_0-rmse:0.90297\n",
      "[366]\tvalidation_0-rmse:0.90306\n",
      "[367]\tvalidation_0-rmse:0.90349\n",
      "[368]\tvalidation_0-rmse:0.90370\n",
      "[369]\tvalidation_0-rmse:0.90226\n",
      "[370]\tvalidation_0-rmse:0.90275\n",
      "[371]\tvalidation_0-rmse:0.90311\n",
      "[372]\tvalidation_0-rmse:0.90344\n",
      "[373]\tvalidation_0-rmse:0.90195\n",
      "[374]\tvalidation_0-rmse:0.90251\n",
      "[375]\tvalidation_0-rmse:0.90287\n",
      "[376]\tvalidation_0-rmse:0.90286\n",
      "[377]\tvalidation_0-rmse:0.90297\n",
      "[378]\tvalidation_0-rmse:0.90357\n",
      "[379]\tvalidation_0-rmse:0.90254\n",
      "[380]\tvalidation_0-rmse:0.90324\n",
      "[381]\tvalidation_0-rmse:0.90361\n",
      "[382]\tvalidation_0-rmse:0.90431\n",
      "[383]\tvalidation_0-rmse:0.90468\n",
      "[384]\tvalidation_0-rmse:0.90449\n",
      "[385]\tvalidation_0-rmse:0.90527\n",
      "[386]\tvalidation_0-rmse:0.90569\n",
      "[387]\tvalidation_0-rmse:0.90618\n",
      "[388]\tvalidation_0-rmse:0.90662\n",
      "[389]\tvalidation_0-rmse:0.90636\n",
      "[390]\tvalidation_0-rmse:0.90617\n",
      "[391]\tvalidation_0-rmse:0.90660\n",
      "[392]\tvalidation_0-rmse:0.90696\n",
      "[393]\tvalidation_0-rmse:0.90728\n",
      "[394]\tvalidation_0-rmse:0.90795\n",
      "[395]\tvalidation_0-rmse:0.90801\n",
      "[396]\tvalidation_0-rmse:0.90770\n",
      "[397]\tvalidation_0-rmse:0.90833\n",
      "[398]\tvalidation_0-rmse:0.90826\n",
      "[399]\tvalidation_0-rmse:0.90821\n",
      "[400]\tvalidation_0-rmse:0.90814\n",
      "[401]\tvalidation_0-rmse:0.90831\n",
      "[402]\tvalidation_0-rmse:0.90702\n",
      "[403]\tvalidation_0-rmse:0.90738\n",
      "[404]\tvalidation_0-rmse:0.90800\n",
      "[405]\tvalidation_0-rmse:0.90809\n",
      "[406]\tvalidation_0-rmse:0.90850\n",
      "[407]\tvalidation_0-rmse:0.90896\n",
      "[408]\tvalidation_0-rmse:0.90920\n",
      "[409]\tvalidation_0-rmse:0.90986\n",
      "[410]\tvalidation_0-rmse:0.90998\n",
      "[411]\tvalidation_0-rmse:0.91017\n",
      "[412]\tvalidation_0-rmse:0.91038\n",
      "[413]\tvalidation_0-rmse:0.91055\n",
      "[414]\tvalidation_0-rmse:0.91078\n",
      "[415]\tvalidation_0-rmse:0.90992\n",
      "[416]\tvalidation_0-rmse:0.91048\n",
      "[417]\tvalidation_0-rmse:0.90980\n",
      "[418]\tvalidation_0-rmse:0.90925\n",
      "[419]\tvalidation_0-rmse:0.90933\n",
      "[420]\tvalidation_0-rmse:0.91007\n",
      "[421]\tvalidation_0-rmse:0.91063\n",
      "[422]\tvalidation_0-rmse:0.90986\n",
      "[423]\tvalidation_0-rmse:0.90901\n",
      "[424]\tvalidation_0-rmse:0.90769\n",
      "[425]\tvalidation_0-rmse:0.90806\n",
      "[426]\tvalidation_0-rmse:0.90850\n",
      "[427]\tvalidation_0-rmse:0.90852\n",
      "[428]\tvalidation_0-rmse:0.90819\n",
      "[429]\tvalidation_0-rmse:0.90846\n",
      "[430]\tvalidation_0-rmse:0.90898\n",
      "[431]\tvalidation_0-rmse:0.90923\n",
      "[432]\tvalidation_0-rmse:0.90885\n",
      "[433]\tvalidation_0-rmse:0.90919\n",
      "[434]\tvalidation_0-rmse:0.90978\n",
      "[435]\tvalidation_0-rmse:0.90999\n",
      "[436]\tvalidation_0-rmse:0.91017\n",
      "[437]\tvalidation_0-rmse:0.91038\n",
      "[438]\tvalidation_0-rmse:0.90967\n",
      "[439]\tvalidation_0-rmse:0.90992\n",
      "[440]\tvalidation_0-rmse:0.90927\n",
      "[441]\tvalidation_0-rmse:0.90857\n",
      "[442]\tvalidation_0-rmse:0.90792\n",
      "[443]\tvalidation_0-rmse:0.90769\n",
      "[444]\tvalidation_0-rmse:0.90826\n",
      "[445]\tvalidation_0-rmse:0.90839\n",
      "[446]\tvalidation_0-rmse:0.90831\n",
      "[447]\tvalidation_0-rmse:0.90761\n",
      "[448]\tvalidation_0-rmse:0.90694\n",
      "[449]\tvalidation_0-rmse:0.90631\n",
      "[450]\tvalidation_0-rmse:0.90644\n",
      "[451]\tvalidation_0-rmse:0.90625\n",
      "[452]\tvalidation_0-rmse:0.90686\n",
      "[453]\tvalidation_0-rmse:0.90695\n",
      "[454]\tvalidation_0-rmse:0.90690\n",
      "[455]\tvalidation_0-rmse:0.90701\n",
      "[456]\tvalidation_0-rmse:0.90724\n",
      "[457]\tvalidation_0-rmse:0.90740\n",
      "[458]\tvalidation_0-rmse:0.90749\n",
      "[459]\tvalidation_0-rmse:0.90781\n",
      "[460]\tvalidation_0-rmse:0.90720\n",
      "[461]\tvalidation_0-rmse:0.90744\n",
      "[462]\tvalidation_0-rmse:0.90776\n",
      "[463]\tvalidation_0-rmse:0.90805\n",
      "[464]\tvalidation_0-rmse:0.90751\n",
      "[465]\tvalidation_0-rmse:0.90694\n",
      "[466]\tvalidation_0-rmse:0.90626\n",
      "[467]\tvalidation_0-rmse:0.90643\n",
      "[468]\tvalidation_0-rmse:0.90654\n",
      "[469]\tvalidation_0-rmse:0.90701\n",
      "[470]\tvalidation_0-rmse:0.90722\n",
      "[471]\tvalidation_0-rmse:0.90777\n",
      "[472]\tvalidation_0-rmse:0.90782\n",
      "[473]\tvalidation_0-rmse:0.90732\n",
      "[474]\tvalidation_0-rmse:0.90760\n",
      "[475]\tvalidation_0-rmse:0.90760\n",
      "[476]\tvalidation_0-rmse:0.90799\n",
      "[477]\tvalidation_0-rmse:0.90760\n",
      "[478]\tvalidation_0-rmse:0.90789\n",
      "[479]\tvalidation_0-rmse:0.90759\n",
      "[480]\tvalidation_0-rmse:0.90712\n",
      "[481]\tvalidation_0-rmse:0.90750\n",
      "[482]\tvalidation_0-rmse:0.90779\n",
      "[483]\tvalidation_0-rmse:0.90790\n",
      "[484]\tvalidation_0-rmse:0.90743\n",
      "[485]\tvalidation_0-rmse:0.90753\n",
      "[486]\tvalidation_0-rmse:0.90745\n",
      "[487]\tvalidation_0-rmse:0.90716\n",
      "[488]\tvalidation_0-rmse:0.90756\n",
      "[489]\tvalidation_0-rmse:0.90777\n",
      "[490]\tvalidation_0-rmse:0.90759\n",
      "[491]\tvalidation_0-rmse:0.90810\n",
      "[492]\tvalidation_0-rmse:0.90851\n",
      "[493]\tvalidation_0-rmse:0.90894\n",
      "[494]\tvalidation_0-rmse:0.90882\n",
      "[495]\tvalidation_0-rmse:0.90792\n",
      "[496]\tvalidation_0-rmse:0.90758\n",
      "[497]\tvalidation_0-rmse:0.90783\n",
      "[498]\tvalidation_0-rmse:0.90832\n",
      "[499]\tvalidation_0-rmse:0.90777\n",
      "[500]\tvalidation_0-rmse:0.90749\n",
      "[501]\tvalidation_0-rmse:0.90774\n",
      "[502]\tvalidation_0-rmse:0.90797\n",
      "[503]\tvalidation_0-rmse:0.90852\n",
      "[504]\tvalidation_0-rmse:0.90875\n",
      "[505]\tvalidation_0-rmse:0.90850\n",
      "[506]\tvalidation_0-rmse:0.90873\n",
      "[507]\tvalidation_0-rmse:0.90879\n",
      "[508]\tvalidation_0-rmse:0.90822\n",
      "[509]\tvalidation_0-rmse:0.90803\n",
      "[510]\tvalidation_0-rmse:0.90850\n",
      "[511]\tvalidation_0-rmse:0.90880\n",
      "[512]\tvalidation_0-rmse:0.90876\n",
      "[513]\tvalidation_0-rmse:0.90915\n",
      "[514]\tvalidation_0-rmse:0.90859\n",
      "[515]\tvalidation_0-rmse:0.90894\n",
      "[516]\tvalidation_0-rmse:0.90867\n",
      "[517]\tvalidation_0-rmse:0.90914\n",
      "[518]\tvalidation_0-rmse:0.90884\n",
      "[519]\tvalidation_0-rmse:0.90918\n",
      "[520]\tvalidation_0-rmse:0.90876\n",
      "[521]\tvalidation_0-rmse:0.90894\n",
      "[522]\tvalidation_0-rmse:0.90916\n",
      "[523]\tvalidation_0-rmse:0.90934\n",
      "[524]\tvalidation_0-rmse:0.90966\n",
      "[525]\tvalidation_0-rmse:0.90995\n",
      "[526]\tvalidation_0-rmse:0.91014\n",
      "[527]\tvalidation_0-rmse:0.91037\n",
      "[528]\tvalidation_0-rmse:0.90986\n",
      "[529]\tvalidation_0-rmse:0.91007\n",
      "[530]\tvalidation_0-rmse:0.90986\n",
      "[531]\tvalidation_0-rmse:0.91010\n",
      "[532]\tvalidation_0-rmse:0.91039\n",
      "[533]\tvalidation_0-rmse:0.91069\n",
      "[534]\tvalidation_0-rmse:0.91076\n",
      "[535]\tvalidation_0-rmse:0.91048\n",
      "[536]\tvalidation_0-rmse:0.91089\n",
      "[537]\tvalidation_0-rmse:0.91065\n",
      "[538]\tvalidation_0-rmse:0.91085\n",
      "[539]\tvalidation_0-rmse:0.91036\n",
      "[540]\tvalidation_0-rmse:0.91048\n",
      "[541]\tvalidation_0-rmse:0.91076\n",
      "[542]\tvalidation_0-rmse:0.91092\n",
      "[543]\tvalidation_0-rmse:0.91100\n",
      "[544]\tvalidation_0-rmse:0.91140\n",
      "[545]\tvalidation_0-rmse:0.91087\n",
      "[546]\tvalidation_0-rmse:0.91066\n",
      "[547]\tvalidation_0-rmse:0.91087\n",
      "[548]\tvalidation_0-rmse:0.91044\n",
      "[549]\tvalidation_0-rmse:0.91073\n",
      "[550]\tvalidation_0-rmse:0.91080\n",
      "[551]\tvalidation_0-rmse:0.91118\n",
      "[552]\tvalidation_0-rmse:0.91112\n",
      "[553]\tvalidation_0-rmse:0.91071\n",
      "[554]\tvalidation_0-rmse:0.91085\n",
      "[555]\tvalidation_0-rmse:0.91113\n",
      "[556]\tvalidation_0-rmse:0.91095\n",
      "[557]\tvalidation_0-rmse:0.91103\n",
      "[558]\tvalidation_0-rmse:0.91145\n",
      "[559]\tvalidation_0-rmse:0.91157\n",
      "[560]\tvalidation_0-rmse:0.91167\n",
      "[561]\tvalidation_0-rmse:0.91147\n",
      "[562]\tvalidation_0-rmse:0.91155\n",
      "[563]\tvalidation_0-rmse:0.91118\n",
      "[564]\tvalidation_0-rmse:0.91123\n",
      "[565]\tvalidation_0-rmse:0.91145\n",
      "[566]\tvalidation_0-rmse:0.91159\n",
      "[567]\tvalidation_0-rmse:0.91121\n",
      "[568]\tvalidation_0-rmse:0.91144\n",
      "[569]\tvalidation_0-rmse:0.91102\n",
      "[570]\tvalidation_0-rmse:0.91105\n",
      "[571]\tvalidation_0-rmse:0.91085\n",
      "[572]\tvalidation_0-rmse:0.91106\n",
      "[573]\tvalidation_0-rmse:0.91148\n",
      "[574]\tvalidation_0-rmse:0.91156\n",
      "[575]\tvalidation_0-rmse:0.91176\n",
      "[576]\tvalidation_0-rmse:0.91141\n",
      "[577]\tvalidation_0-rmse:0.91122\n",
      "[578]\tvalidation_0-rmse:0.91146\n",
      "[579]\tvalidation_0-rmse:0.91127\n",
      "[580]\tvalidation_0-rmse:0.91132\n",
      "[581]\tvalidation_0-rmse:0.91088\n",
      "[582]\tvalidation_0-rmse:0.91117\n",
      "[583]\tvalidation_0-rmse:0.91141\n",
      "[584]\tvalidation_0-rmse:0.91125\n",
      "[585]\tvalidation_0-rmse:0.91086\n",
      "[586]\tvalidation_0-rmse:0.91051\n",
      "[587]\tvalidation_0-rmse:0.91070\n",
      "[588]\tvalidation_0-rmse:0.91078\n",
      "[589]\tvalidation_0-rmse:0.91091\n",
      "[590]\tvalidation_0-rmse:0.91114\n",
      "[591]\tvalidation_0-rmse:0.91109\n",
      "[592]\tvalidation_0-rmse:0.91122\n",
      "[593]\tvalidation_0-rmse:0.91123\n",
      "[594]\tvalidation_0-rmse:0.91086\n",
      "[595]\tvalidation_0-rmse:0.91093\n",
      "[596]\tvalidation_0-rmse:0.91033\n",
      "[597]\tvalidation_0-rmse:0.90993\n",
      "[598]\tvalidation_0-rmse:0.90960\n",
      "[599]\tvalidation_0-rmse:0.90983\n",
      "[600]\tvalidation_0-rmse:0.90982\n",
      "[601]\tvalidation_0-rmse:0.90950\n",
      "[602]\tvalidation_0-rmse:0.90949\n",
      "[603]\tvalidation_0-rmse:0.90965\n",
      "[604]\tvalidation_0-rmse:0.90985\n",
      "[605]\tvalidation_0-rmse:0.90988\n",
      "[606]\tvalidation_0-rmse:0.90960\n",
      "[607]\tvalidation_0-rmse:0.90926\n",
      "[608]\tvalidation_0-rmse:0.90961\n",
      "[609]\tvalidation_0-rmse:0.90978\n",
      "[610]\tvalidation_0-rmse:0.90990\n",
      "[611]\tvalidation_0-rmse:0.91006\n",
      "[612]\tvalidation_0-rmse:0.91018\n",
      "[613]\tvalidation_0-rmse:0.91019\n",
      "[614]\tvalidation_0-rmse:0.91027\n",
      "[615]\tvalidation_0-rmse:0.91039\n",
      "[616]\tvalidation_0-rmse:0.91025\n",
      "[617]\tvalidation_0-rmse:0.90990\n",
      "[618]\tvalidation_0-rmse:0.90957\n",
      "[619]\tvalidation_0-rmse:0.90930\n",
      "[620]\tvalidation_0-rmse:0.90891\n",
      "[621]\tvalidation_0-rmse:0.90862\n",
      "[622]\tvalidation_0-rmse:0.90839\n",
      "[623]\tvalidation_0-rmse:0.90873\n",
      "[624]\tvalidation_0-rmse:0.90837\n",
      "[625]\tvalidation_0-rmse:0.90815\n",
      "[626]\tvalidation_0-rmse:0.90834\n",
      "[627]\tvalidation_0-rmse:0.90833\n",
      "[628]\tvalidation_0-rmse:0.90804\n",
      "[629]\tvalidation_0-rmse:0.90830\n",
      "[630]\tvalidation_0-rmse:0.90818\n",
      "[631]\tvalidation_0-rmse:0.90805\n",
      "[632]\tvalidation_0-rmse:0.90830\n",
      "[633]\tvalidation_0-rmse:0.90843\n",
      "[634]\tvalidation_0-rmse:0.90879\n",
      "[635]\tvalidation_0-rmse:0.90887\n",
      "[636]\tvalidation_0-rmse:0.90860\n",
      "[637]\tvalidation_0-rmse:0.90870\n",
      "[638]\tvalidation_0-rmse:0.90841\n",
      "[639]\tvalidation_0-rmse:0.90836\n",
      "[640]\tvalidation_0-rmse:0.90843\n",
      "[641]\tvalidation_0-rmse:0.90854\n",
      "[642]\tvalidation_0-rmse:0.90863\n",
      "[643]\tvalidation_0-rmse:0.90885\n",
      "[644]\tvalidation_0-rmse:0.90858\n",
      "[645]\tvalidation_0-rmse:0.90830\n",
      "[646]\tvalidation_0-rmse:0.90823\n",
      "[647]\tvalidation_0-rmse:0.90826\n",
      "[648]\tvalidation_0-rmse:0.90846\n",
      "[649]\tvalidation_0-rmse:0.90817\n",
      "[650]\tvalidation_0-rmse:0.90826\n",
      "[651]\tvalidation_0-rmse:0.90803\n",
      "[652]\tvalidation_0-rmse:0.90783\n",
      "[653]\tvalidation_0-rmse:0.90801\n",
      "[654]\tvalidation_0-rmse:0.90817\n",
      "[655]\tvalidation_0-rmse:0.90825\n",
      "[656]\tvalidation_0-rmse:0.90835\n",
      "[657]\tvalidation_0-rmse:0.90839\n",
      "[658]\tvalidation_0-rmse:0.90849\n",
      "[659]\tvalidation_0-rmse:0.90824\n",
      "[660]\tvalidation_0-rmse:0.90830\n",
      "[661]\tvalidation_0-rmse:0.90841\n",
      "[662]\tvalidation_0-rmse:0.90796\n",
      "[663]\tvalidation_0-rmse:0.90815\n",
      "[664]\tvalidation_0-rmse:0.90832\n",
      "[665]\tvalidation_0-rmse:0.90829\n",
      "[666]\tvalidation_0-rmse:0.90803\n",
      "[667]\tvalidation_0-rmse:0.90809\n",
      "[668]\tvalidation_0-rmse:0.90829\n",
      "[669]\tvalidation_0-rmse:0.90859\n",
      "[670]\tvalidation_0-rmse:0.90876\n",
      "[671]\tvalidation_0-rmse:0.90868\n",
      "[672]\tvalidation_0-rmse:0.90858\n",
      "[673]\tvalidation_0-rmse:0.90865\n",
      "[674]\tvalidation_0-rmse:0.90853\n",
      "[675]\tvalidation_0-rmse:0.90829\n",
      "[676]\tvalidation_0-rmse:0.90855\n",
      "[677]\tvalidation_0-rmse:0.90830\n",
      "[678]\tvalidation_0-rmse:0.90845\n",
      "[679]\tvalidation_0-rmse:0.90829\n",
      "[680]\tvalidation_0-rmse:0.90836\n",
      "[681]\tvalidation_0-rmse:0.90842\n",
      "[682]\tvalidation_0-rmse:0.90858\n",
      "[683]\tvalidation_0-rmse:0.90866\n",
      "[684]\tvalidation_0-rmse:0.90868\n",
      "[685]\tvalidation_0-rmse:0.90876\n",
      "[686]\tvalidation_0-rmse:0.90906\n",
      "[687]\tvalidation_0-rmse:0.90911\n",
      "[688]\tvalidation_0-rmse:0.90889\n",
      "[689]\tvalidation_0-rmse:0.90896\n",
      "[690]\tvalidation_0-rmse:0.90872\n",
      "[691]\tvalidation_0-rmse:0.90842\n",
      "[692]\tvalidation_0-rmse:0.90818\n",
      "[693]\tvalidation_0-rmse:0.90835\n",
      "[694]\tvalidation_0-rmse:0.90839\n",
      "[695]\tvalidation_0-rmse:0.90849\n",
      "[696]\tvalidation_0-rmse:0.90821\n",
      "[697]\tvalidation_0-rmse:0.90831\n",
      "[698]\tvalidation_0-rmse:0.90839\n",
      "[699]\tvalidation_0-rmse:0.90814\n",
      "[700]\tvalidation_0-rmse:0.90822\n",
      "[701]\tvalidation_0-rmse:0.90850\n",
      "[702]\tvalidation_0-rmse:0.90858\n",
      "[703]\tvalidation_0-rmse:0.90862\n",
      "[704]\tvalidation_0-rmse:0.90874\n",
      "[705]\tvalidation_0-rmse:0.90851\n",
      "[706]\tvalidation_0-rmse:0.90856\n",
      "[707]\tvalidation_0-rmse:0.90883\n",
      "[708]\tvalidation_0-rmse:0.90890\n",
      "[709]\tvalidation_0-rmse:0.90918\n",
      "[710]\tvalidation_0-rmse:0.90925\n",
      "[711]\tvalidation_0-rmse:0.90948\n",
      "[712]\tvalidation_0-rmse:0.90954\n",
      "[713]\tvalidation_0-rmse:0.90966\n",
      "[714]\tvalidation_0-rmse:0.90974\n",
      "[715]\tvalidation_0-rmse:0.90981\n",
      "[716]\tvalidation_0-rmse:0.90988\n",
      "[717]\tvalidation_0-rmse:0.90991\n",
      "[718]\tvalidation_0-rmse:0.91012\n",
      "[719]\tvalidation_0-rmse:0.91018\n",
      "[720]\tvalidation_0-rmse:0.91011\n",
      "[721]\tvalidation_0-rmse:0.91035\n",
      "[722]\tvalidation_0-rmse:0.91045\n",
      "[723]\tvalidation_0-rmse:0.91022\n",
      "[724]\tvalidation_0-rmse:0.91030\n",
      "[725]\tvalidation_0-rmse:0.91038\n",
      "[726]\tvalidation_0-rmse:0.91045\n",
      "[727]\tvalidation_0-rmse:0.91047\n",
      "[728]\tvalidation_0-rmse:0.91056\n",
      "[729]\tvalidation_0-rmse:0.91036\n",
      "[730]\tvalidation_0-rmse:0.91012\n",
      "[731]\tvalidation_0-rmse:0.90990\n",
      "[732]\tvalidation_0-rmse:0.90996\n",
      "[733]\tvalidation_0-rmse:0.91000\n",
      "[734]\tvalidation_0-rmse:0.90995\n",
      "[735]\tvalidation_0-rmse:0.91007\n",
      "[736]\tvalidation_0-rmse:0.91031\n",
      "[737]\tvalidation_0-rmse:0.91038\n",
      "[738]\tvalidation_0-rmse:0.91026\n",
      "[739]\tvalidation_0-rmse:0.91033\n",
      "[740]\tvalidation_0-rmse:0.91048\n",
      "[741]\tvalidation_0-rmse:0.91028\n",
      "[742]\tvalidation_0-rmse:0.91035\n",
      "[743]\tvalidation_0-rmse:0.91020\n",
      "[744]\tvalidation_0-rmse:0.91031\n",
      "[745]\tvalidation_0-rmse:0.91040\n",
      "[746]\tvalidation_0-rmse:0.91050\n",
      "[747]\tvalidation_0-rmse:0.91055\n",
      "[748]\tvalidation_0-rmse:0.91059\n",
      "[749]\tvalidation_0-rmse:0.91040\n",
      "[750]\tvalidation_0-rmse:0.91026\n",
      "[751]\tvalidation_0-rmse:0.91038\n",
      "[752]\tvalidation_0-rmse:0.91038\n",
      "[753]\tvalidation_0-rmse:0.91058\n",
      "[754]\tvalidation_0-rmse:0.91066\n",
      "[755]\tvalidation_0-rmse:0.91088\n",
      "[756]\tvalidation_0-rmse:0.91068\n",
      "[757]\tvalidation_0-rmse:0.91073\n",
      "[758]\tvalidation_0-rmse:0.91065\n",
      "[759]\tvalidation_0-rmse:0.91071\n",
      "[760]\tvalidation_0-rmse:0.91054\n",
      "[761]\tvalidation_0-rmse:0.91052\n",
      "[762]\tvalidation_0-rmse:0.91042\n",
      "[763]\tvalidation_0-rmse:0.91051\n",
      "[764]\tvalidation_0-rmse:0.91060\n",
      "[765]\tvalidation_0-rmse:0.91063\n",
      "[766]\tvalidation_0-rmse:0.91066\n",
      "[767]\tvalidation_0-rmse:0.91056\n",
      "[768]\tvalidation_0-rmse:0.91035\n",
      "[769]\tvalidation_0-rmse:0.91050\n",
      "[770]\tvalidation_0-rmse:0.91047\n",
      "[771]\tvalidation_0-rmse:0.91056\n",
      "[772]\tvalidation_0-rmse:0.91054\n",
      "[773]\tvalidation_0-rmse:0.91049\n",
      "[774]\tvalidation_0-rmse:0.91067\n",
      "[775]\tvalidation_0-rmse:0.91077\n",
      "[776]\tvalidation_0-rmse:0.91089\n",
      "[777]\tvalidation_0-rmse:0.91099\n",
      "[778]\tvalidation_0-rmse:0.91104\n",
      "[779]\tvalidation_0-rmse:0.91085\n",
      "[780]\tvalidation_0-rmse:0.91104\n",
      "[781]\tvalidation_0-rmse:0.91104\n",
      "[782]\tvalidation_0-rmse:0.91110\n",
      "[783]\tvalidation_0-rmse:0.91092\n",
      "[784]\tvalidation_0-rmse:0.91112\n",
      "[785]\tvalidation_0-rmse:0.91100\n",
      "[786]\tvalidation_0-rmse:0.91106\n",
      "[787]\tvalidation_0-rmse:0.91114\n",
      "[788]\tvalidation_0-rmse:0.91102\n",
      "[789]\tvalidation_0-rmse:0.91093\n",
      "[790]\tvalidation_0-rmse:0.91080\n",
      "[791]\tvalidation_0-rmse:0.91099\n",
      "[792]\tvalidation_0-rmse:0.91089\n",
      "[793]\tvalidation_0-rmse:0.91072\n",
      "[794]\tvalidation_0-rmse:0.91079\n",
      "[795]\tvalidation_0-rmse:0.91086\n",
      "[796]\tvalidation_0-rmse:0.91073\n",
      "[797]\tvalidation_0-rmse:0.91085\n",
      "[798]\tvalidation_0-rmse:0.91094\n",
      "[799]\tvalidation_0-rmse:0.91083\n",
      "[800]\tvalidation_0-rmse:0.91082\n",
      "[801]\tvalidation_0-rmse:0.91061\n",
      "[802]\tvalidation_0-rmse:0.91081\n",
      "[803]\tvalidation_0-rmse:0.91079\n",
      "[804]\tvalidation_0-rmse:0.91085\n",
      "[805]\tvalidation_0-rmse:0.91094\n",
      "[806]\tvalidation_0-rmse:0.91075\n",
      "[807]\tvalidation_0-rmse:0.91080\n",
      "[808]\tvalidation_0-rmse:0.91094\n",
      "[809]\tvalidation_0-rmse:0.91082\n",
      "[810]\tvalidation_0-rmse:0.91081\n",
      "[811]\tvalidation_0-rmse:0.91101\n",
      "[812]\tvalidation_0-rmse:0.91106\n",
      "[813]\tvalidation_0-rmse:0.91122\n",
      "[814]\tvalidation_0-rmse:0.91131\n",
      "[815]\tvalidation_0-rmse:0.91135\n",
      "[816]\tvalidation_0-rmse:0.91149\n",
      "[817]\tvalidation_0-rmse:0.91132\n",
      "[818]\tvalidation_0-rmse:0.91117\n",
      "[819]\tvalidation_0-rmse:0.91128\n",
      "[820]\tvalidation_0-rmse:0.91129\n",
      "[821]\tvalidation_0-rmse:0.91134\n",
      "[822]\tvalidation_0-rmse:0.91123\n",
      "[823]\tvalidation_0-rmse:0.91113\n",
      "[824]\tvalidation_0-rmse:0.91118\n",
      "[825]\tvalidation_0-rmse:0.91122\n",
      "[826]\tvalidation_0-rmse:0.91127\n",
      "[827]\tvalidation_0-rmse:0.91130\n",
      "[828]\tvalidation_0-rmse:0.91135\n",
      "[829]\tvalidation_0-rmse:0.91118\n",
      "[830]\tvalidation_0-rmse:0.91107\n",
      "[831]\tvalidation_0-rmse:0.91109\n",
      "[832]\tvalidation_0-rmse:0.91112\n",
      "[833]\tvalidation_0-rmse:0.91106\n",
      "[834]\tvalidation_0-rmse:0.91123\n",
      "[835]\tvalidation_0-rmse:0.91141\n",
      "[836]\tvalidation_0-rmse:0.91149\n",
      "[837]\tvalidation_0-rmse:0.91161\n",
      "[838]\tvalidation_0-rmse:0.91166\n",
      "[839]\tvalidation_0-rmse:0.91171\n",
      "[840]\tvalidation_0-rmse:0.91174\n",
      "[841]\tvalidation_0-rmse:0.91175\n",
      "[842]\tvalidation_0-rmse:0.91161\n",
      "[843]\tvalidation_0-rmse:0.91146\n",
      "[844]\tvalidation_0-rmse:0.91136\n",
      "[845]\tvalidation_0-rmse:0.91147\n",
      "[846]\tvalidation_0-rmse:0.91157\n",
      "[847]\tvalidation_0-rmse:0.91162\n",
      "[848]\tvalidation_0-rmse:0.91156\n",
      "[849]\tvalidation_0-rmse:0.91148\n",
      "[850]\tvalidation_0-rmse:0.91140\n",
      "[851]\tvalidation_0-rmse:0.91146\n",
      "[852]\tvalidation_0-rmse:0.91133\n",
      "[853]\tvalidation_0-rmse:0.91137\n",
      "[854]\tvalidation_0-rmse:0.91121\n",
      "[855]\tvalidation_0-rmse:0.91127\n",
      "[856]\tvalidation_0-rmse:0.91120\n",
      "[857]\tvalidation_0-rmse:0.91109\n",
      "[858]\tvalidation_0-rmse:0.91116\n",
      "[859]\tvalidation_0-rmse:0.91120\n",
      "[860]\tvalidation_0-rmse:0.91123\n",
      "[861]\tvalidation_0-rmse:0.91119\n",
      "[862]\tvalidation_0-rmse:0.91109\n",
      "[863]\tvalidation_0-rmse:0.91115\n",
      "[864]\tvalidation_0-rmse:0.91121\n",
      "[865]\tvalidation_0-rmse:0.91127\n",
      "[866]\tvalidation_0-rmse:0.91120\n",
      "[867]\tvalidation_0-rmse:0.91135\n",
      "[868]\tvalidation_0-rmse:0.91138\n",
      "[869]\tvalidation_0-rmse:0.91129\n",
      "[870]\tvalidation_0-rmse:0.91117\n",
      "[871]\tvalidation_0-rmse:0.91122\n",
      "[872]\tvalidation_0-rmse:0.91114\n",
      "[873]\tvalidation_0-rmse:0.91100\n",
      "[874]\tvalidation_0-rmse:0.91099\n",
      "[875]\tvalidation_0-rmse:0.91103\n",
      "[876]\tvalidation_0-rmse:0.91114\n",
      "[877]\tvalidation_0-rmse:0.91118\n",
      "[878]\tvalidation_0-rmse:0.91133\n",
      "[879]\tvalidation_0-rmse:0.91123\n",
      "[880]\tvalidation_0-rmse:0.91129\n",
      "[881]\tvalidation_0-rmse:0.91133\n",
      "[882]\tvalidation_0-rmse:0.91138\n",
      "[883]\tvalidation_0-rmse:0.91129\n",
      "[884]\tvalidation_0-rmse:0.91138\n",
      "[885]\tvalidation_0-rmse:0.91142\n",
      "[886]\tvalidation_0-rmse:0.91133\n",
      "[887]\tvalidation_0-rmse:0.91137\n",
      "[888]\tvalidation_0-rmse:0.91131\n",
      "[889]\tvalidation_0-rmse:0.91140\n",
      "[890]\tvalidation_0-rmse:0.91129\n",
      "[891]\tvalidation_0-rmse:0.91142\n",
      "[892]\tvalidation_0-rmse:0.91146\n",
      "[893]\tvalidation_0-rmse:0.91138\n",
      "[894]\tvalidation_0-rmse:0.91142\n",
      "[895]\tvalidation_0-rmse:0.91148\n",
      "[896]\tvalidation_0-rmse:0.91144\n",
      "[897]\tvalidation_0-rmse:0.91148\n",
      "[898]\tvalidation_0-rmse:0.91152\n",
      "[899]\tvalidation_0-rmse:0.91146\n",
      "[900]\tvalidation_0-rmse:0.91142\n",
      "[901]\tvalidation_0-rmse:0.91145\n",
      "[902]\tvalidation_0-rmse:0.91140\n",
      "[903]\tvalidation_0-rmse:0.91149\n",
      "[904]\tvalidation_0-rmse:0.91162\n",
      "[905]\tvalidation_0-rmse:0.91166\n",
      "[906]\tvalidation_0-rmse:0.91154\n",
      "[907]\tvalidation_0-rmse:0.91163\n",
      "[908]\tvalidation_0-rmse:0.91167\n",
      "[909]\tvalidation_0-rmse:0.91168\n",
      "[910]\tvalidation_0-rmse:0.91161\n",
      "[911]\tvalidation_0-rmse:0.91168\n",
      "[912]\tvalidation_0-rmse:0.91172\n",
      "[913]\tvalidation_0-rmse:0.91179\n",
      "[914]\tvalidation_0-rmse:0.91188\n",
      "[915]\tvalidation_0-rmse:0.91201\n",
      "[916]\tvalidation_0-rmse:0.91207\n",
      "[917]\tvalidation_0-rmse:0.91202\n",
      "[918]\tvalidation_0-rmse:0.91214\n",
      "[919]\tvalidation_0-rmse:0.91201\n",
      "[920]\tvalidation_0-rmse:0.91205\n",
      "[921]\tvalidation_0-rmse:0.91200\n",
      "[922]\tvalidation_0-rmse:0.91194\n",
      "[923]\tvalidation_0-rmse:0.91198\n",
      "[924]\tvalidation_0-rmse:0.91210\n",
      "[925]\tvalidation_0-rmse:0.91206\n",
      "[926]\tvalidation_0-rmse:0.91199\n",
      "[927]\tvalidation_0-rmse:0.91206\n",
      "[928]\tvalidation_0-rmse:0.91202\n",
      "[929]\tvalidation_0-rmse:0.91201\n",
      "[930]\tvalidation_0-rmse:0.91205\n",
      "[931]\tvalidation_0-rmse:0.91202\n",
      "[932]\tvalidation_0-rmse:0.91208\n",
      "[933]\tvalidation_0-rmse:0.91207\n",
      "[934]\tvalidation_0-rmse:0.91210\n",
      "[935]\tvalidation_0-rmse:0.91206\n",
      "[936]\tvalidation_0-rmse:0.91203\n",
      "[937]\tvalidation_0-rmse:0.91214\n",
      "[938]\tvalidation_0-rmse:0.91217\n",
      "[939]\tvalidation_0-rmse:0.91220\n",
      "[940]\tvalidation_0-rmse:0.91222\n",
      "[941]\tvalidation_0-rmse:0.91224\n",
      "[942]\tvalidation_0-rmse:0.91235\n",
      "[943]\tvalidation_0-rmse:0.91226\n",
      "[944]\tvalidation_0-rmse:0.91216\n",
      "[945]\tvalidation_0-rmse:0.91219\n",
      "[946]\tvalidation_0-rmse:0.91212\n",
      "[947]\tvalidation_0-rmse:0.91215\n",
      "[948]\tvalidation_0-rmse:0.91205\n",
      "[949]\tvalidation_0-rmse:0.91211\n",
      "[950]\tvalidation_0-rmse:0.91214\n",
      "[951]\tvalidation_0-rmse:0.91217\n",
      "[952]\tvalidation_0-rmse:0.91210\n",
      "[953]\tvalidation_0-rmse:0.91215\n",
      "[954]\tvalidation_0-rmse:0.91215\n",
      "[955]\tvalidation_0-rmse:0.91204\n",
      "[956]\tvalidation_0-rmse:0.91209\n",
      "[957]\tvalidation_0-rmse:0.91207\n",
      "[958]\tvalidation_0-rmse:0.91210\n",
      "[959]\tvalidation_0-rmse:0.91213\n",
      "[960]\tvalidation_0-rmse:0.91208\n",
      "[961]\tvalidation_0-rmse:0.91212\n",
      "[962]\tvalidation_0-rmse:0.91220\n",
      "[963]\tvalidation_0-rmse:0.91221\n",
      "[964]\tvalidation_0-rmse:0.91213\n",
      "[965]\tvalidation_0-rmse:0.91215\n",
      "[966]\tvalidation_0-rmse:0.91219\n",
      "[967]\tvalidation_0-rmse:0.91224\n",
      "[968]\tvalidation_0-rmse:0.91227\n",
      "[969]\tvalidation_0-rmse:0.91236\n",
      "[970]\tvalidation_0-rmse:0.91226\n",
      "[971]\tvalidation_0-rmse:0.91229\n",
      "[972]\tvalidation_0-rmse:0.91224\n",
      "[973]\tvalidation_0-rmse:0.91218\n",
      "[974]\tvalidation_0-rmse:0.91212\n",
      "[975]\tvalidation_0-rmse:0.91204\n",
      "[976]\tvalidation_0-rmse:0.91212\n",
      "[977]\tvalidation_0-rmse:0.91207\n",
      "[978]\tvalidation_0-rmse:0.91207\n",
      "[979]\tvalidation_0-rmse:0.91209\n",
      "[980]\tvalidation_0-rmse:0.91200\n",
      "[981]\tvalidation_0-rmse:0.91204\n",
      "[982]\tvalidation_0-rmse:0.91207\n",
      "[983]\tvalidation_0-rmse:0.91206\n",
      "[984]\tvalidation_0-rmse:0.91199\n",
      "[985]\tvalidation_0-rmse:0.91195\n",
      "[986]\tvalidation_0-rmse:0.91190\n",
      "[987]\tvalidation_0-rmse:0.91190\n",
      "[988]\tvalidation_0-rmse:0.91193\n",
      "[989]\tvalidation_0-rmse:0.91188\n",
      "[990]\tvalidation_0-rmse:0.91187\n",
      "[991]\tvalidation_0-rmse:0.91178\n",
      "[992]\tvalidation_0-rmse:0.91179\n",
      "[993]\tvalidation_0-rmse:0.91183\n",
      "[994]\tvalidation_0-rmse:0.91175\n",
      "[995]\tvalidation_0-rmse:0.91176\n",
      "[996]\tvalidation_0-rmse:0.91171\n",
      "[997]\tvalidation_0-rmse:0.91180\n",
      "[998]\tvalidation_0-rmse:0.91178\n",
      "[999]\tvalidation_0-rmse:0.91183\n"
     ]
    }
   ],
   "source": [
    "# XGBoost Model\n",
    "xgb_model = xgb.XGBRegressor(objective='reg:squarederror', n_estimators=1000, learning_rate=0.01, max_depth=6,\n",
    "                             subsample=0.8, colsample_bytree=0.8, random_state=42, eval_metric=\"rmse\")\n",
    "xgb_model.fit(X_train_scaled, y_train_scaled, eval_set=[(X_test_scaled, y_test_scaled)], verbose=True)\n",
    "yxg_pred_scaled = xgb_model.predict(X_test_scaled)\n",
    "yxg_pred = scaler_y.inverse_transform(yxg_pred_scaled.reshape(-1, 1)).flatten()\n"
   ]
  },
  {
   "cell_type": "code",
   "execution_count": 78,
   "metadata": {},
   "outputs": [
    {
     "name": "stdout",
     "output_type": "stream",
     "text": [
      "XGBoost MAE: 589441.25\n",
      "XGBoost RMSE: 896825.61\n"
     ]
    }
   ],
   "source": [
    "# XGBoost Metrics\n",
    "mae_xgb = mean_absolute_error(y_test, yxg_pred)\n",
    "rmse_xgb = np.sqrt(mean_squared_error(y_test, yxg_pred))\n",
    "print(f\"XGBoost MAE: {mae_xgb:.2f}\")\n",
    "print(f\"XGBoost RMSE: {rmse_xgb:.2f}\")\n"
   ]
  },
  {
   "cell_type": "code",
   "execution_count": 79,
   "metadata": {},
   "outputs": [
    {
     "name": "stdout",
     "output_type": "stream",
     "text": [
      "XG boost R² Score: 0.2038\n"
     ]
    }
   ],
   "source": [
    "from sklearn.metrics import r2_score\n",
    "\n",
    "r2_rf = r2_score(y_test, yxg_pred)\n",
    "print(f\"XG boost R² Score: {r2_rf:.4f}\")"
   ]
  },
  {
   "cell_type": "code",
   "execution_count": 80,
   "metadata": {},
   "outputs": [
    {
     "data": {
      "image/png": "[encoded data removed]",
      "text/plain": [
       "<Figure size 1200x600 with 1 Axes>"
      ]
     },
     "metadata": {},
     "output_type": "display_data"
    }
   ],
   "source": [
    "# Visualization\n",
    "plt.figure(figsize=(12, 6))\n",
    "plt.plot(data.index, data[\"sales\"], label=\"Actual Sales\", color=\"black\", linewidth=2)\n",
    "# plt.plot(X_test.index, yran_pred, label=\"Random Forest Forecast\", color=\"red\", linestyle=\"dashed\", linewidth=2)\n",
    "\n",
    "plt.plot(X_test.index, yxg_pred, label=\"XGBoost Forecast\", color=\"blue\", linestyle=\"dashed\", linewidth=2)\n",
    "plt.title(\"sales Forecasting using Random Forest\")\n",
    "plt.legend()\n",
    "plt.show()\n",
    "\n"
   ]
  },
  {
   "cell_type": "code",
   "execution_count": 81,
   "metadata": {},
   "outputs": [
    {
     "data": {
      "text/plain": [
       "DatetimeIndex(['2077-11-01', '2077-12-01', '2078-01-01', '2078-02-01',\n",
       "               '2078-03-01', '2078-04-01', '2078-05-01', '2078-06-01',\n",
       "               '2078-07-01', '2078-08-01', '2078-09-01', '2078-10-01',\n",
       "               '2078-11-01', '2078-12-01', '2079-01-01', '2079-02-01',\n",
       "               '2079-03-01', '2079-04-01', '2079-05-01', '2079-06-01',\n",
       "               '2079-07-01', '2079-08-01', '2079-09-01', '2079-10-01',\n",
       "               '2079-11-01', '2079-12-01', '2080-01-01', '2080-02-01',\n",
       "               '2080-03-01', '2080-04-01', '2080-05-01', '2080-06-01',\n",
       "               '2080-07-01', '2080-08-01', '2080-09-01', '2080-10-01',\n",
       "               '2080-11-01', '2080-12-01', '2081-01-01', '2081-02-01',\n",
       "               '2081-03-01', '2081-04-01', '2081-05-01', '2081-06-01',\n",
       "               '2081-07-01', '2081-08-01', '2081-09-01', '2081-10-01'],\n",
       "              dtype='datetime64[ns]', name='date', freq=None)"
      ]
     },
     "execution_count": 81,
     "metadata": {},
     "output_type": "execute_result"
    }
   ],
   "source": [
    "# data[\"sales\"][-16:]\n",
    "data.index[-(len(X_test)):]"
   ]
  },
  {
   "cell_type": "code",
   "execution_count": 82,
   "metadata": {},
   "outputs": [
    {
     "data": {
      "text/plain": [
       "DatetimeIndex(['2075-04-01', '2075-05-01', '2075-06-01', '2075-07-01',\n",
       "               '2075-08-01', '2075-09-01', '2075-10-01', '2075-11-01',\n",
       "               '2075-12-01', '2076-01-01', '2076-02-01', '2076-03-01',\n",
       "               '2076-04-01', '2076-05-01', '2076-06-01', '2076-07-01',\n",
       "               '2076-08-01', '2076-09-01', '2076-10-01', '2076-11-01',\n",
       "               '2076-12-01', '2077-01-01', '2077-02-01', '2077-03-01',\n",
       "               '2077-04-01', '2077-05-01', '2077-06-01', '2077-07-01',\n",
       "               '2077-08-01', '2077-09-01', '2077-10-01'],\n",
       "              dtype='datetime64[ns]', name='date', freq=None)"
      ]
     },
     "execution_count": 82,
     "metadata": {},
     "output_type": "execute_result"
    }
   ],
   "source": [
    "data.index[:-(len(X_test))]"
   ]
  },
  {
   "cell_type": "code",
   "execution_count": 83,
   "metadata": {},
   "outputs": [
    {
     "data": {
      "text/plain": [
       "date\n",
       "2075-04-01     378902.612\n",
       "2075-05-01     829865.695\n",
       "2075-06-01    1746060.327\n",
       "2075-07-01    1333439.695\n",
       "2075-08-01    1736802.965\n",
       "2075-09-01    1388630.073\n",
       "2075-10-01    1248765.667\n",
       "2075-11-01    1869286.573\n",
       "2075-12-01    1827143.181\n",
       "2076-01-01    4963822.732\n",
       "2076-02-01    3857721.124\n",
       "2076-03-01     173641.299\n",
       "2076-04-01     422148.401\n",
       "2076-05-01     969291.923\n",
       "2076-06-01    2304377.182\n",
       "2076-07-01    1431445.462\n",
       "2076-08-01    2187042.394\n",
       "2076-09-01    1864700.025\n",
       "2076-10-01    1714617.569\n",
       "2076-11-01    2282201.108\n",
       "2076-12-01     610578.237\n",
       "2077-01-01     181453.364\n",
       "2077-02-01    2047487.313\n",
       "2077-03-01    1911844.418\n",
       "2077-04-01     765539.316\n",
       "2077-05-01     768077.232\n",
       "2077-06-01    2651188.887\n",
       "2077-07-01    1579149.317\n",
       "2077-08-01    1635635.748\n",
       "2077-09-01    1860109.562\n",
       "2077-10-01    1520314.982\n",
       "Name: sales, dtype: float64"
      ]
     },
     "execution_count": 83,
     "metadata": {},
     "output_type": "execute_result"
    }
   ],
   "source": [
    "data[\"sales\"][:-(len(X_test))]"
   ]
  },
  {
   "cell_type": "markdown",
   "metadata": {},
   "source": [
    "### Visualization of Random Forest and XG boost model"
   ]
  },
  {
   "cell_type": "code",
   "execution_count": 84,
   "metadata": {},
   "outputs": [
    {
     "data": {
      "image/png": "[encoded data removed]",
      "text/plain": [
       "<Figure size 1000x800 with 1 Axes>"
      ]
     },
     "metadata": {},
     "output_type": "display_data"
    }
   ],
   "source": [
    "plt.figure(figsize=(10,8))\n",
    "plt.plot(data.index[:-(len(X_test))], data[\"sales\"][:-(len(X_test))], label=\"Actual Sales (Train)\", color=\"black\", linestyle=\"solid\", linewidth=2)\n",
    "plt.plot(data.index[-(len(X_test)):], data[\"sales\"][-(len(X_test)):], label=\"Test Data\", color=\"brown\", linestyle=\"solid\", linewidth=2)\n",
    "plt.plot(X_test.index, yran_pred, label=\"Random Forest Forecast\", color=\"red\", linestyle=\"dashed\", linewidth=2 )\n",
    "plt.plot(X_test.index, yxg_pred, label=\"XG Boost Forecast\", color=\"blue\", linestyle=\"dashed\", linewidth=2)\n",
    "plt.title(\"Comparision of Random Forest and XG boost performance from 2074-2081 data for JGI\")\n",
    "plt.xlabel(\"Date\")\n",
    "plt.ylabel(\"Month wise Sales\")\n",
    "plt.legend()\n",
    "plt.show()"
   ]
  },
  {
   "cell_type": "code",
   "execution_count": 85,
   "metadata": {},
   "outputs": [
    {
     "data": {
      "text/plain": [
       "DatetimeIndex(['2077-11-01', '2077-12-01', '2078-01-01', '2078-02-01',\n",
       "               '2078-03-01', '2078-04-01', '2078-05-01', '2078-06-01',\n",
       "               '2078-07-01', '2078-08-01', '2078-09-01', '2078-10-01',\n",
       "               '2078-11-01', '2078-12-01', '2079-01-01', '2079-02-01',\n",
       "               '2079-03-01', '2079-04-01', '2079-05-01', '2079-06-01',\n",
       "               '2079-07-01', '2079-08-01', '2079-09-01', '2079-10-01',\n",
       "               '2079-11-01', '2079-12-01', '2080-01-01', '2080-02-01',\n",
       "               '2080-03-01', '2080-04-01', '2080-05-01', '2080-06-01',\n",
       "               '2080-07-01', '2080-08-01', '2080-09-01', '2080-10-01',\n",
       "               '2080-11-01', '2080-12-01', '2081-01-01', '2081-02-01',\n",
       "               '2081-03-01', '2081-04-01', '2081-05-01', '2081-06-01',\n",
       "               '2081-07-01', '2081-08-01', '2081-09-01', '2081-10-01'],\n",
       "              dtype='datetime64[ns]', name='date', freq=None)"
      ]
     },
     "execution_count": 85,
     "metadata": {},
     "output_type": "execute_result"
    }
   ],
   "source": [
    "X_test.index"
   ]
  }
 ],
 "metadata": {
  "kernelspec": {
   "display_name": "Python 3",
   "language": "python",
   "name": "python3"
  },
  "language_info": {
   "codemirror_mode": {
    "name": "ipython",
    "version": 3
   },
   "file_extension": ".py",
   "mimetype": "text/x-python",
   "name": "python",
   "nbconvert_exporter": "python",
   "pygments_lexer": "ipython3",
   "version": "3.12.3"
  }
 },
 "nbformat": 4,
 "nbformat_minor": 2
}
