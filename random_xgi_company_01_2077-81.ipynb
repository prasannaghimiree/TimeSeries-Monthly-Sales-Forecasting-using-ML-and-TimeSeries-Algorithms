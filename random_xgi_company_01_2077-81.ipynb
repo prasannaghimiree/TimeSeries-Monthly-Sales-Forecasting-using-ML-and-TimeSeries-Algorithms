{
 "cells": [
  {
   "cell_type": "code",
   "execution_count": 30,
   "metadata": {},
   "outputs": [],
   "source": [
    "#importing the libraries\n",
    "import numpy as np\n",
    "import pandas as pd\n",
    "import matplotlib.pyplot as plt\n",
    "import plotly.graph_objs as go\n",
    "import plotly.offline as pyo\n",
    "from sklearn.preprocessing import MinMaxScaler, StandardScaler\n",
    "from sklearn.model_selection import train_test_split\n",
    "from sklearn.metrics import root_mean_squared_error, mean_absolute_error, mean_squared_error, r2_score\n",
    "from sklearn.ensemble import RandomForestRegressor\n",
    "import xgboost as xgb"
   ]
  },
  {
   "cell_type": "code",
   "execution_count": 31,
   "metadata": {},
   "outputs": [],
   "source": [
    "df = pd.read_csv(r\"dataset\\company_01_merge_sales_without_previous.csv\", parse_dates=[\"date\"], index_col=\"date\")\n",
    "df = df.sort_index()\n",
    "df.dropna(inplace=True)"
   ]
  },
  {
   "cell_type": "code",
   "execution_count": 32,
   "metadata": {},
   "outputs": [
    {
     "data": {
      "text/plain": [
       "DatetimeIndex(['2077-04-01', '2077-05-01', '2077-06-01', '2077-07-01',\n",
       "               '2077-08-01', '2077-09-01', '2077-10-01', '2077-11-01',\n",
       "               '2077-12-01', '2078-01-01', '2078-02-01', '2078-03-01',\n",
       "               '2078-04-01', '2078-05-01', '2078-06-01', '2078-07-01',\n",
       "               '2078-08-01', '2078-09-01', '2078-10-01', '2078-11-01',\n",
       "               '2078-12-01', '2079-01-01', '2079-02-01', '2079-03-01',\n",
       "               '2079-04-01', '2079-05-01', '2079-06-01', '2079-07-01',\n",
       "               '2079-08-01', '2079-09-01', '2079-10-01', '2079-11-01',\n",
       "               '2079-12-01', '2080-01-01', '2080-02-01', '2080-03-01',\n",
       "               '2080-04-01', '2080-05-01', '2080-06-01', '2080-07-01',\n",
       "               '2080-08-01', '2080-09-01', '2080-10-01', '2080-11-01',\n",
       "               '2080-12-01', '2081-01-01', '2081-02-01', '2081-03-01',\n",
       "               '2081-04-01', '2081-05-01', '2081-06-01', '2081-07-01',\n",
       "               '2081-08-01', '2081-09-01', '2081-10-01', '2081-11-01'],\n",
       "              dtype='datetime64[ns]', name='date', freq=None)"
      ]
     },
     "execution_count": 32,
     "metadata": {},
     "output_type": "execute_result"
    }
   ],
   "source": [
    "df.index"
   ]
  },
  {
   "cell_type": "code",
   "execution_count": 33,
   "metadata": {},
   "outputs": [
    {
     "data": {
      "text/plain": [
       "Index(['sales'], dtype='object')"
      ]
     },
     "execution_count": 33,
     "metadata": {},
     "output_type": "execute_result"
    }
   ],
   "source": [
    "df.columns"
   ]
  },
  {
   "cell_type": "code",
   "execution_count": 34,
   "metadata": {},
   "outputs": [
    {
     "data": {
      "application/vnd.plotly.v1+json": {
       "config": {
        "linkText": "Export to plot.ly",
        "plotlyServerURL": "https://plot.ly",
        "showLink": false
       },
       "data": [
        {
         "line": {
          "shape": "spline"
         },
         "mode": "lines+markers",
         "name": "Fiscal Year 2077-2078",
         "type": "scatter",
         "x": [
          "Shrawan",
          "Bhadra",
          "Asoj",
          "Kartik",
          "Mangsir",
          "Poush",
          "Magh",
          "Falgun",
          "Chaitra",
          "Baishakh",
          "Jestha",
          "Ashadh"
         ],
         "y": [
          155470501.25,
          174686903.4,
          312451911.7,
          195434472.76,
          289934595.8,
          377601661.75,
          182634358.82,
          302130721.2,
          399049552.64,
          1029635779.15,
          271075714.16,
          11690975.02
         ]
        },
        {
         "line": {
          "shape": "spline"
         },
         "mode": "lines+markers",
         "name": "Fiscal Year 2078-2079",
         "type": "scatter",
         "x": [
          "Shrawan",
          "Bhadra",
          "Asoj",
          "Kartik",
          "Mangsir",
          "Poush",
          "Magh",
          "Falgun",
          "Chaitra",
          "Baishakh",
          "Jestha",
          "Ashadh"
         ],
         "y": [
          53520162.44,
          137992315.52,
          505038261.87,
          103503942,
          453931468.4,
          371586402.85,
          96011362.1,
          465666384.73,
          645545415.96,
          879379146.32,
          348142424,
          971318
         ]
        },
        {
         "line": {
          "shape": "spline"
         },
         "mode": "lines+markers",
         "name": "Fiscal Year 2079-2080",
         "type": "scatter",
         "x": [
          "Shrawan",
          "Bhadra",
          "Asoj",
          "Kartik",
          "Mangsir",
          "Poush",
          "Magh",
          "Falgun",
          "Chaitra",
          "Baishakh",
          "Jestha",
          "Ashadh"
         ],
         "y": [
          52934750,
          380463462.2,
          322358293.65,
          97004859.42,
          44414166.5,
          398955480.65,
          42168978.85,
          223128142.1,
          840761479.06,
          465965830.8,
          82485351.18,
          21949290.46
         ]
        },
        {
         "line": {
          "shape": "spline"
         },
         "mode": "lines+markers",
         "name": "Fiscal Year 2080-2081",
         "type": "scatter",
         "x": [
          "Shrawan",
          "Bhadra",
          "Asoj",
          "Kartik",
          "Mangsir",
          "Poush",
          "Magh",
          "Falgun",
          "Chaitra",
          "Baishakh",
          "Jestha",
          "Ashadh"
         ],
         "y": [
          36314640,
          48065241.03,
          408792471.23,
          28326755,
          265459562.5,
          169315223.02,
          42567228.03,
          178127862.1,
          229439178.44,
          572657580.46,
          103396366.03,
          57982.3
         ]
        },
        {
         "line": {
          "shape": "spline"
         },
         "mode": "lines+markers",
         "name": "Fiscal Year 2081-2082",
         "type": "scatter",
         "x": [
          "Shrawan",
          "Bhadra",
          "Asoj",
          "Kartik",
          "Mangsir",
          "Poush",
          "Magh",
          "Falgun"
         ],
         "y": [
          117019871.2,
          259450136.69,
          358074592.78,
          226447289.39,
          239345049.18,
          309776466.8,
          382738843.5,
          126647902.55
         ]
        }
       ],
       "layout": {
        "hovermode": "x unified",
        "template": {
         "data": {
          "bar": [
           {
            "error_x": {
             "color": "#f2f5fa"
            },
            "error_y": {
             "color": "#f2f5fa"
            },
            "marker": {
             "line": {
              "color": "rgb(17,17,17)",
              "width": 0.5
             },
             "pattern": {
              "fillmode": "overlay",
              "size": 10,
              "solidity": 0.2
             }
            },
            "type": "bar"
           }
          ],
          "barpolar": [
           {
            "marker": {
             "line": {
              "color": "rgb(17,17,17)",
              "width": 0.5
             },
             "pattern": {
              "fillmode": "overlay",
              "size": 10,
              "solidity": 0.2
             }
            },
            "type": "barpolar"
           }
          ],
          "carpet": [
           {
            "aaxis": {
             "endlinecolor": "#A2B1C6",
             "gridcolor": "#506784",
             "linecolor": "#506784",
             "minorgridcolor": "#506784",
             "startlinecolor": "#A2B1C6"
            },
            "baxis": {
             "endlinecolor": "#A2B1C6",
             "gridcolor": "#506784",
             "linecolor": "#506784",
             "minorgridcolor": "#506784",
             "startlinecolor": "#A2B1C6"
            },
            "type": "carpet"
           }
          ],
          "choropleth": [
           {
            "colorbar": {
             "outlinewidth": 0,
             "ticks": ""
            },
            "type": "choropleth"
           }
          ],
          "contour": [
           {
            "colorbar": {
             "outlinewidth": 0,
             "ticks": ""
            },
            "colorscale": [
             [
              0,
              "#0d0887"
             ],
             [
              0.1111111111111111,
              "#46039f"
             ],
             [
              0.2222222222222222,
              "#7201a8"
             ],
             [
              0.3333333333333333,
              "#9c179e"
             ],
             [
              0.4444444444444444,
              "#bd3786"
             ],
             [
              0.5555555555555556,
              "#d8576b"
             ],
             [
              0.6666666666666666,
              "#ed7953"
             ],
             [
              0.7777777777777778,
              "#fb9f3a"
             ],
             [
              0.8888888888888888,
              "#fdca26"
             ],
             [
              1,
              "#f0f921"
             ]
            ],
            "type": "contour"
           }
          ],
          "contourcarpet": [
           {
            "colorbar": {
             "outlinewidth": 0,
             "ticks": ""
            },
            "type": "contourcarpet"
           }
          ],
          "heatmap": [
           {
            "colorbar": {
             "outlinewidth": 0,
             "ticks": ""
            },
            "colorscale": [
             [
              0,
              "#0d0887"
             ],
             [
              0.1111111111111111,
              "#46039f"
             ],
             [
              0.2222222222222222,
              "#7201a8"
             ],
             [
              0.3333333333333333,
              "#9c179e"
             ],
             [
              0.4444444444444444,
              "#bd3786"
             ],
             [
              0.5555555555555556,
              "#d8576b"
             ],
             [
              0.6666666666666666,
              "#ed7953"
             ],
             [
              0.7777777777777778,
              "#fb9f3a"
             ],
             [
              0.8888888888888888,
              "#fdca26"
             ],
             [
              1,
              "#f0f921"
             ]
            ],
            "type": "heatmap"
           }
          ],
          "heatmapgl": [
           {
            "colorbar": {
             "outlinewidth": 0,
             "ticks": ""
            },
            "colorscale": [
             [
              0,
              "#0d0887"
             ],
             [
              0.1111111111111111,
              "#46039f"
             ],
             [
              0.2222222222222222,
              "#7201a8"
             ],
             [
              0.3333333333333333,
              "#9c179e"
             ],
             [
              0.4444444444444444,
              "#bd3786"
             ],
             [
              0.5555555555555556,
              "#d8576b"
             ],
             [
              0.6666666666666666,
              "#ed7953"
             ],
             [
              0.7777777777777778,
              "#fb9f3a"
             ],
             [
              0.8888888888888888,
              "#fdca26"
             ],
             [
              1,
              "#f0f921"
             ]
            ],
            "type": "heatmapgl"
           }
          ],
          "histogram": [
           {
            "marker": {
             "pattern": {
              "fillmode": "overlay",
              "size": 10,
              "solidity": 0.2
             }
            },
            "type": "histogram"
           }
          ],
          "histogram2d": [
           {
            "colorbar": {
             "outlinewidth": 0,
             "ticks": ""
            },
            "colorscale": [
             [
              0,
              "#0d0887"
             ],
             [
              0.1111111111111111,
              "#46039f"
             ],
             [
              0.2222222222222222,
              "#7201a8"
             ],
             [
              0.3333333333333333,
              "#9c179e"
             ],
             [
              0.4444444444444444,
              "#bd3786"
             ],
             [
              0.5555555555555556,
              "#d8576b"
             ],
             [
              0.6666666666666666,
              "#ed7953"
             ],
             [
              0.7777777777777778,
              "#fb9f3a"
             ],
             [
              0.8888888888888888,
              "#fdca26"
             ],
             [
              1,
              "#f0f921"
             ]
            ],
            "type": "histogram2d"
           }
          ],
          "histogram2dcontour": [
           {
            "colorbar": {
             "outlinewidth": 0,
             "ticks": ""
            },
            "colorscale": [
             [
              0,
              "#0d0887"
             ],
             [
              0.1111111111111111,
              "#46039f"
             ],
             [
              0.2222222222222222,
              "#7201a8"
             ],
             [
              0.3333333333333333,
              "#9c179e"
             ],
             [
              0.4444444444444444,
              "#bd3786"
             ],
             [
              0.5555555555555556,
              "#d8576b"
             ],
             [
              0.6666666666666666,
              "#ed7953"
             ],
             [
              0.7777777777777778,
              "#fb9f3a"
             ],
             [
              0.8888888888888888,
              "#fdca26"
             ],
             [
              1,
              "#f0f921"
             ]
            ],
            "type": "histogram2dcontour"
           }
          ],
          "mesh3d": [
           {
            "colorbar": {
             "outlinewidth": 0,
             "ticks": ""
            },
            "type": "mesh3d"
           }
          ],
          "parcoords": [
           {
            "line": {
             "colorbar": {
              "outlinewidth": 0,
              "ticks": ""
             }
            },
            "type": "parcoords"
           }
          ],
          "pie": [
           {
            "automargin": true,
            "type": "pie"
           }
          ],
          "scatter": [
           {
            "marker": {
             "line": {
              "color": "#283442"
             }
            },
            "type": "scatter"
           }
          ],
          "scatter3d": [
           {
            "line": {
             "colorbar": {
              "outlinewidth": 0,
              "ticks": ""
             }
            },
            "marker": {
             "colorbar": {
              "outlinewidth": 0,
              "ticks": ""
             }
            },
            "type": "scatter3d"
           }
          ],
          "scattercarpet": [
           {
            "marker": {
             "colorbar": {
              "outlinewidth": 0,
              "ticks": ""
             }
            },
            "type": "scattercarpet"
           }
          ],
          "scattergeo": [
           {
            "marker": {
             "colorbar": {
              "outlinewidth": 0,
              "ticks": ""
             }
            },
            "type": "scattergeo"
           }
          ],
          "scattergl": [
           {
            "marker": {
             "line": {
              "color": "#283442"
             }
            },
            "type": "scattergl"
           }
          ],
          "scattermapbox": [
           {
            "marker": {
             "colorbar": {
              "outlinewidth": 0,
              "ticks": ""
             }
            },
            "type": "scattermapbox"
           }
          ],
          "scatterpolar": [
           {
            "marker": {
             "colorbar": {
              "outlinewidth": 0,
              "ticks": ""
             }
            },
            "type": "scatterpolar"
           }
          ],
          "scatterpolargl": [
           {
            "marker": {
             "colorbar": {
              "outlinewidth": 0,
              "ticks": ""
             }
            },
            "type": "scatterpolargl"
           }
          ],
          "scatterternary": [
           {
            "marker": {
             "colorbar": {
              "outlinewidth": 0,
              "ticks": ""
             }
            },
            "type": "scatterternary"
           }
          ],
          "surface": [
           {
            "colorbar": {
             "outlinewidth": 0,
             "ticks": ""
            },
            "colorscale": [
             [
              0,
              "#0d0887"
             ],
             [
              0.1111111111111111,
              "#46039f"
             ],
             [
              0.2222222222222222,
              "#7201a8"
             ],
             [
              0.3333333333333333,
              "#9c179e"
             ],
             [
              0.4444444444444444,
              "#bd3786"
             ],
             [
              0.5555555555555556,
              "#d8576b"
             ],
             [
              0.6666666666666666,
              "#ed7953"
             ],
             [
              0.7777777777777778,
              "#fb9f3a"
             ],
             [
              0.8888888888888888,
              "#fdca26"
             ],
             [
              1,
              "#f0f921"
             ]
            ],
            "type": "surface"
           }
          ],
          "table": [
           {
            "cells": {
             "fill": {
              "color": "#506784"
             },
             "line": {
              "color": "rgb(17,17,17)"
             }
            },
            "header": {
             "fill": {
              "color": "#2a3f5f"
             },
             "line": {
              "color": "rgb(17,17,17)"
             }
            },
            "type": "table"
           }
          ]
         },
         "layout": {
          "annotationdefaults": {
           "arrowcolor": "#f2f5fa",
           "arrowhead": 0,
           "arrowwidth": 1
          },
          "autotypenumbers": "strict",
          "coloraxis": {
           "colorbar": {
            "outlinewidth": 0,
            "ticks": ""
           }
          },
          "colorscale": {
           "diverging": [
            [
             0,
             "#8e0152"
            ],
            [
             0.1,
             "#c51b7d"
            ],
            [
             0.2,
             "#de77ae"
            ],
            [
             0.3,
             "#f1b6da"
            ],
            [
             0.4,
             "#fde0ef"
            ],
            [
             0.5,
             "#f7f7f7"
            ],
            [
             0.6,
             "#e6f5d0"
            ],
            [
             0.7,
             "#b8e186"
            ],
            [
             0.8,
             "#7fbc41"
            ],
            [
             0.9,
             "#4d9221"
            ],
            [
             1,
             "#276419"
            ]
           ],
           "sequential": [
            [
             0,
             "#0d0887"
            ],
            [
             0.1111111111111111,
             "#46039f"
            ],
            [
             0.2222222222222222,
             "#7201a8"
            ],
            [
             0.3333333333333333,
             "#9c179e"
            ],
            [
             0.4444444444444444,
             "#bd3786"
            ],
            [
             0.5555555555555556,
             "#d8576b"
            ],
            [
             0.6666666666666666,
             "#ed7953"
            ],
            [
             0.7777777777777778,
             "#fb9f3a"
            ],
            [
             0.8888888888888888,
             "#fdca26"
            ],
            [
             1,
             "#f0f921"
            ]
           ],
           "sequentialminus": [
            [
             0,
             "#0d0887"
            ],
            [
             0.1111111111111111,
             "#46039f"
            ],
            [
             0.2222222222222222,
             "#7201a8"
            ],
            [
             0.3333333333333333,
             "#9c179e"
            ],
            [
             0.4444444444444444,
             "#bd3786"
            ],
            [
             0.5555555555555556,
             "#d8576b"
            ],
            [
             0.6666666666666666,
             "#ed7953"
            ],
            [
             0.7777777777777778,
             "#fb9f3a"
            ],
            [
             0.8888888888888888,
             "#fdca26"
            ],
            [
             1,
             "#f0f921"
            ]
           ]
          },
          "colorway": [
           "#636efa",
           "#EF553B",
           "#00cc96",
           "#ab63fa",
           "#FFA15A",
           "#19d3f3",
           "#FF6692",
           "#B6E880",
           "#FF97FF",
           "#FECB52"
          ],
          "font": {
           "color": "#f2f5fa"
          },
          "geo": {
           "bgcolor": "rgb(17,17,17)",
           "lakecolor": "rgb(17,17,17)",
           "landcolor": "rgb(17,17,17)",
           "showlakes": true,
           "showland": true,
           "subunitcolor": "#506784"
          },
          "hoverlabel": {
           "align": "left"
          },
          "hovermode": "closest",
          "mapbox": {
           "style": "dark"
          },
          "paper_bgcolor": "rgb(17,17,17)",
          "plot_bgcolor": "rgb(17,17,17)",
          "polar": {
           "angularaxis": {
            "gridcolor": "#506784",
            "linecolor": "#506784",
            "ticks": ""
           },
           "bgcolor": "rgb(17,17,17)",
           "radialaxis": {
            "gridcolor": "#506784",
            "linecolor": "#506784",
            "ticks": ""
           }
          },
          "scene": {
           "xaxis": {
            "backgroundcolor": "rgb(17,17,17)",
            "gridcolor": "#506784",
            "gridwidth": 2,
            "linecolor": "#506784",
            "showbackground": true,
            "ticks": "",
            "zerolinecolor": "#C8D4E3"
           },
           "yaxis": {
            "backgroundcolor": "rgb(17,17,17)",
            "gridcolor": "#506784",
            "gridwidth": 2,
            "linecolor": "#506784",
            "showbackground": true,
            "ticks": "",
            "zerolinecolor": "#C8D4E3"
           },
           "zaxis": {
            "backgroundcolor": "rgb(17,17,17)",
            "gridcolor": "#506784",
            "gridwidth": 2,
            "linecolor": "#506784",
            "showbackground": true,
            "ticks": "",
            "zerolinecolor": "#C8D4E3"
           }
          },
          "shapedefaults": {
           "line": {
            "color": "#f2f5fa"
           }
          },
          "sliderdefaults": {
           "bgcolor": "#C8D4E3",
           "bordercolor": "rgb(17,17,17)",
           "borderwidth": 1,
           "tickwidth": 0
          },
          "ternary": {
           "aaxis": {
            "gridcolor": "#506784",
            "linecolor": "#506784",
            "ticks": ""
           },
           "baxis": {
            "gridcolor": "#506784",
            "linecolor": "#506784",
            "ticks": ""
           },
           "bgcolor": "rgb(17,17,17)",
           "caxis": {
            "gridcolor": "#506784",
            "linecolor": "#506784",
            "ticks": ""
           }
          },
          "title": {
           "x": 0.05
          },
          "updatemenudefaults": {
           "bgcolor": "#506784",
           "borderwidth": 0
          },
          "xaxis": {
           "automargin": true,
           "gridcolor": "#283442",
           "linecolor": "#506784",
           "ticks": "",
           "title": {
            "standoff": 15
           },
           "zerolinecolor": "#283442",
           "zerolinewidth": 2
          },
          "yaxis": {
           "automargin": true,
           "gridcolor": "#283442",
           "linecolor": "#506784",
           "ticks": "",
           "title": {
            "standoff": 15
           },
           "zerolinecolor": "#283442",
           "zerolinewidth": 2
          }
         }
        },
        "title": {
         "text": "Sales Trend by Fiscal Year"
        },
        "xaxis": {
         "categoryarray": [
          "Shrawan",
          "Bhadra",
          "Asoj",
          "Kartik",
          "Mangsir",
          "Poush",
          "Magh",
          "Falgun",
          "Chaitra",
          "Baishakh",
          "Jestha",
          "Ashadh"
         ],
         "categoryorder": "array",
         "title": {
          "text": "Nepali Month"
         }
        },
        "yaxis": {
         "title": {
          "text": "Sales"
         }
        }
       }
      }
     },
     "metadata": {},
     "output_type": "display_data"
    }
   ],
   "source": [
    "# data visualization using plotly\n",
    "import pandas as pd\n",
    "import plotly.graph_objs as go\n",
    "import plotly.offline as pyo\n",
    "\n",
    "df_sales = pd.read_csv(r\"dataset\\company_01_merge_sales_without_previous.csv\")\n",
    "\n",
    "df_sales.columns = ['date','sales']\n",
    "\n",
    "df_sales[['Year', 'Month']] = df_sales['date'].str.split('-', expand=True)\n",
    "df_sales['Year'] = df_sales['Year'].astype(int)\n",
    "df_sales['Month'] = df_sales['Month'].astype(int)\n",
    "nepali_months_fiscal_order = {\n",
    "    4: \"Shrawan\", 5: \"Bhadra\", 6: \"Asoj\", 7: \"Kartik\",\n",
    "    8: \"Mangsir\", 9: \"Poush\", 10: \"Magh\", 11: \"Falgun\",\n",
    "    12: \"Chaitra\", 1: \"Baishakh\", 2: \"Jestha\", 3: \"Ashadh\"\n",
    "}\n",
    "\n",
    "df_sales['Month_Name'] = df_sales['Month'].map(nepali_months_fiscal_order)\n",
    "\n",
    "\n",
    "df_sales['Fiscal_Year'] = df_sales.apply(lambda row: \n",
    "                                         f\"{row['Year']}-{row['Year']+1}\" if row['Month'] >= 4 \n",
    "                                         else f\"{row['Year']-1}-{row['Year']}\", axis=1)\n",
    "\n",
    "df_sales['Month_Order'] = df_sales['Month'].apply(lambda x: list(nepali_months_fiscal_order.keys()).index(x))\n",
    "\n",
    "df_sales = df_sales.sort_values(by=['Fiscal_Year', 'Month_Order'])\n",
    "\n",
    "fig = go.Figure()\n",
    "\n",
    "fiscal_years = df_sales['Fiscal_Year'].unique()\n",
    "\n",
    "for fy in fiscal_years:\n",
    "    df_fy = df_sales[df_sales['Fiscal_Year'] == fy]\n",
    "    fig.add_trace(go.Scatter(\n",
    "        x=df_fy['Month_Name'], \n",
    "        y=df_fy['sales'], \n",
    "        mode='lines+markers',\n",
    "        name=f'Fiscal Year {fy}',\n",
    "        line=dict(shape='spline')  \n",
    "    ))\n",
    "\n",
    "fig.update_layout(\n",
    "    title=\"Sales Trend by Fiscal Year\",\n",
    "    xaxis_title=\"Nepali Month\",\n",
    "    yaxis_title=\"Sales\",\n",
    "    xaxis=dict(categoryorder='array', categoryarray=list(nepali_months_fiscal_order.values())),\n",
    "    template=\"plotly_dark\",\n",
    "    hovermode=\"x unified\"\n",
    ")\n",
    "\n",
    "pyo.iplot(fig)\n"
   ]
  },
  {
   "cell_type": "code",
   "execution_count": 35,
   "metadata": {},
   "outputs": [
    {
     "name": "stdout",
     "output_type": "stream",
     "text": [
      "ACF values are : \n",
      "0 1.0\n",
      "1 0.21642290366356062\n",
      "2 -0.19878211954193756\n",
      "3 -0.20194572036817451\n",
      "4 -0.04332738238924328\n",
      "5 0.12294703598312849\n",
      "6 -0.029605836487117333\n",
      "7 0.07983701014694891\n",
      "8 -0.09553039359457056\n",
      "9 -0.2257657556810469\n",
      "10 -0.12500378283051955\n",
      "11 0.27739044017082604\n",
      "12 0.5216395529083928\n",
      "13 0.19431738652426503\n",
      "14 -0.25901866289623765\n",
      "15 -0.19798334355377387\n",
      "16 0.03657907520940899\n",
      "17 -0.0071094852381690275\n",
      "18 -0.03607993638028123\n",
      "19 -0.06274711029032952\n",
      "20 -0.0882660482241003\n",
      "21 -0.19260168310085504\n",
      "22 -0.10282076496629688\n",
      "23 0.1317885943373276\n",
      "24 0.27984360229579197\n",
      "25 -0.015090749307879835\n",
      "26 -0.1815117433346813\n",
      "PACF values are : \n",
      "0 1.0\n",
      "1 0.2203578655483527\n",
      "2 -0.2677009204190133\n",
      "3 -0.10959487837332409\n",
      "4 -0.02067034087310491\n",
      "5 0.08936844238303855\n",
      "6 -0.14318020586878555\n",
      "7 0.19922793403375788\n",
      "8 -0.22855617266309364\n",
      "9 -0.17812592407178146\n",
      "10 -0.10348664538699581\n",
      "11 0.4237356035395459\n",
      "12 0.4749241642284218\n",
      "13 0.3636380561472342\n",
      "14 -0.367009049838005\n",
      "15 -0.13959428201102073\n",
      "16 -0.09216393102313981\n",
      "17 -0.21880755727454107\n",
      "18 -0.294902530744473\n",
      "19 -0.15039694944693474\n",
      "20 -0.06577453603059946\n",
      "21 0.012509402092472512\n",
      "22 -0.11060669660747975\n",
      "23 -0.4959655361634876\n",
      "24 -0.22852558215509214\n",
      "25 -0.939316634657281\n",
      "26 -5.05607659924298\n",
      "The PACF values are : \n",
      "0 1.0\n",
      "1 0.2203578655483527\n",
      "2 -0.2677009204190133\n",
      "3 -0.10959487837332409\n",
      "4 -0.02067034087310491\n",
      "5 0.08936844238303855\n",
      "6 -0.14318020586878555\n",
      "7 0.19922793403375788\n",
      "8 -0.22855617266309364\n",
      "9 -0.17812592407178146\n",
      "10 -0.10348664538699581\n",
      "11 0.4237356035395459\n",
      "12 0.4749241642284218\n",
      "13 0.3636380561472342\n",
      "14 -0.367009049838005\n",
      "15 -0.13959428201102073\n",
      "16 -0.09216393102313981\n",
      "17 -0.21880755727454107\n",
      "18 -0.294902530744473\n",
      "19 -0.15039694944693474\n",
      "20 -0.06577453603059946\n",
      "21 0.012509402092472512\n",
      "22 -0.11060669660747975\n",
      "23 -0.4959655361634876\n",
      "24 -0.22852558215509214\n",
      "25 -0.939316634657281\n",
      "26 -5.05607659924298\n"
     ]
    },
    {
     "data": {
      "image/png": "[encoded data removed]",
      "text/plain": [
       "<Figure size 1200x600 with 2 Axes>"
      ]
     },
     "metadata": {},
     "output_type": "display_data"
    }
   ],
   "source": [
    "# analyzing auto_correlation and partial auto correlation\n",
    "\n",
    "from statsmodels.graphics.tsaplots import plot_acf, plot_pacf\n",
    "from statsmodels.tsa.stattools import acf, pacf\n",
    "import matplotlib.pyplot as plt\n",
    "\n",
    "# Calculate the ACF and PACF\n",
    "\n",
    "acf_values = acf(df[\"sales\"], nlags=27, fft=False)\n",
    "pacf_values = pacf(df[\"sales\"], nlags=27)\n",
    "\n",
    "# # Print ACF and PACF values\n",
    "print(\"ACF values are : \")\n",
    "for i in range (0,27):\n",
    "    print(i,acf_values[i])\n",
    "    \n",
    "print(\"PACF values are : \")\n",
    "for i in range (0,27):\n",
    "    print(i,pacf_values[i])\n",
    "\n",
    "print(\"The PACF values are : \")\n",
    "for i in range (0, 27):\n",
    "    print(i, pacf_values[i])\n",
    "    pass\n",
    "\n",
    "# Plot the ACF and PACF\n",
    "plt.figure(figsize=(12, 6))\n",
    "\n",
    "plt.subplot(2, 1, 1)\n",
    "plot_acf(df[\"sales\"], lags=27, ax=plt.gca())  \n",
    "plt.title(\"Autocorrelation Function (ACF)\")\n",
    "\n",
    "plt.subplot(2, 1, 2)\n",
    "plot_pacf(df[\"sales\"], lags=27, ax=plt.gca())  \n",
    "plt.title(\"Partial Autocorrelation Function (PACF)\")\n",
    "\n",
    "plt.tight_layout()\n",
    "plt.show()\n",
    "\n",
    "\n"
   ]
  },
  {
   "cell_type": "code",
   "execution_count": 36,
   "metadata": {},
   "outputs": [
    {
     "name": "stdout",
     "output_type": "stream",
     "text": [
      "ACF values are : \n",
      "[ 1.          0.2164229  -0.19878212 -0.20194572 -0.04332738  0.12294704\n",
      " -0.02960584  0.07983701 -0.09553039 -0.22576576 -0.12500378  0.27739044\n",
      "  0.52163955  0.19431739 -0.25901866 -0.19798334  0.03657908 -0.00710949\n",
      " -0.03607994 -0.06274711 -0.08826605 -0.19260168 -0.10282076  0.13178859\n",
      "  0.2798436  -0.01509075 -0.18151174 -0.1398563 ]\n"
     ]
    }
   ],
   "source": [
    "print(\"ACF values are : \")\n",
    "print(acf_values)"
   ]
  },
  {
   "cell_type": "code",
   "execution_count": 37,
   "metadata": {},
   "outputs": [
    {
     "name": "stdout",
     "output_type": "stream",
     "text": [
      "PACF values are : \n",
      "[ 1.          0.22035787 -0.26770092 -0.10959488 -0.02067034  0.08936844\n",
      " -0.14318021  0.19922793 -0.22855617 -0.17812592 -0.10348665  0.4237356\n",
      "  0.47492416  0.36363806 -0.36700905 -0.13959428 -0.09216393 -0.21880756\n",
      " -0.29490253 -0.15039695 -0.06577454  0.0125094  -0.1106067  -0.49596554\n",
      " -0.22852558 -0.93931663 -5.0560766   1.36066263]\n"
     ]
    }
   ],
   "source": [
    "print(\"PACF values are : \")\n",
    "print(pacf_values)"
   ]
  },
  {
   "cell_type": "code",
   "execution_count": 38,
   "metadata": {},
   "outputs": [],
   "source": [
    "df[\"year\"] = df.index.year\n",
    "df[\"month\"] = df.index.month\n",
    "df[\"quarter\"] = df.index.quarter"
   ]
  },
  {
   "cell_type": "code",
   "execution_count": 39,
   "metadata": {},
   "outputs": [],
   "source": [
    "df[\"year\"] = df.index.year\n",
    "df[\"month\"] = df.index.month\n",
    "df[\"quarter\"] = df.index.quarter\n",
    "df[\"lag_1\"] = df[\"sales\"].shift(1)\n",
    "df[\"lag_2\"] = df[\"sales\"].shift(2)\n",
    "# df[\"lag_11\"] = df[\"sales\"].shift(11)\n",
    "df[\"lag_12\"] = df[\"sales\"].shift(12)\n",
    "# df[\"lag_24\"] = df[\"sales\"].shift(24)\n",
    "\n",
    "df[\"rolling_mean_3\"] = df[\"sales\"].rolling(window=3).mean()\n",
    "df[\"rolling_mean_6\"] = df[\"sales\"].rolling(window=6).mean() \n",
    "\n",
    "\n",
    "df.dropna(inplace=True)"
   ]
  },
  {
   "cell_type": "code",
   "execution_count": 40,
   "metadata": {},
   "outputs": [],
   "source": [
    "# Train-Test Split\n",
    "train_size = int(len(df) * 0.8)\n",
    "train, test = df.iloc[:train_size], df.iloc[train_size:]\n",
    "X_train, y_train = train.drop(columns=[\"sales\"]), train[\"sales\"]\n",
    "X_test, y_test = test.drop(columns=[\"sales\"]), test[\"sales\"]"
   ]
  },
  {
   "cell_type": "code",
   "execution_count": 41,
   "metadata": {},
   "outputs": [],
   "source": [
    "# Standardization\n",
    "scaler_X = StandardScaler()\n",
    "scaler_y = StandardScaler()\n",
    "# scaler_X = MinMaxScaler()\n",
    "# scaler_y = MinMaxScaler()\n",
    "X_train_scaled = scaler_X.fit_transform(X_train)\n",
    "X_test_scaled = scaler_X.transform(X_test)\n",
    "y_train_scaled = scaler_y.fit_transform(y_train.values.reshape(-1, 1)).flatten()\n",
    "y_test_scaled = scaler_y.transform(y_test.values.reshape(-1, 1)).flatten()"
   ]
  },
  {
   "cell_type": "code",
   "execution_count": 42,
   "metadata": {},
   "outputs": [],
   "source": [
    "# from sklearn.model_selection import GridSearchCV\n",
    "\n",
    "# # Hyperparameter Tuning\n",
    "# param_grid = {\n",
    "#     \"n_estimators\": [500, 1000, 1500],\n",
    "#     \"max_depth\": [5, 10, 15],\n",
    "#     \"min_samples_split\": [2, 5, 10],\n",
    "#     \"min_samples_leaf\": [1, 2, 4]\n",
    "\n",
    "# }\n"
   ]
  },
  {
   "cell_type": "code",
   "execution_count": 43,
   "metadata": {},
   "outputs": [],
   "source": [
    "# #Hyperparameter Tuning and cross-validation using Grid Search Technique\n",
    "# rf = RandomForestRegressor(random_state=42, n_jobs=-1, verbose=True)\n",
    "# grid_search = GridSearchCV(rf, param_grid, cv=10, scoring=\"neg_mean_squared_error\", verbose=1, n_jobs=-1)\n",
    "# grid_search.fit(X_train_scaled, y_train_scaled)"
   ]
  },
  {
   "cell_type": "code",
   "execution_count": 44,
   "metadata": {},
   "outputs": [
    {
     "name": "stderr",
     "output_type": "stream",
     "text": [
      "[Parallel(n_jobs=-1)]: Using backend ThreadingBackend with 16 concurrent workers.\n",
      "[Parallel(n_jobs=-1)]: Done  18 tasks      | elapsed:    0.0s\n",
      "[Parallel(n_jobs=-1)]: Done 168 tasks      | elapsed:    0.1s\n",
      "[Parallel(n_jobs=-1)]: Done 418 tasks      | elapsed:    0.4s\n",
      "[Parallel(n_jobs=-1)]: Done 768 tasks      | elapsed:    0.9s\n",
      "[Parallel(n_jobs=-1)]: Done 1000 out of 1000 | elapsed:    1.2s finished\n",
      "[Parallel(n_jobs=16)]: Using backend ThreadingBackend with 16 concurrent workers.\n",
      "[Parallel(n_jobs=16)]: Done  18 tasks      | elapsed:    0.0s\n",
      "[Parallel(n_jobs=16)]: Done 168 tasks      | elapsed:    0.0s\n",
      "[Parallel(n_jobs=16)]: Done 418 tasks      | elapsed:    0.0s\n",
      "[Parallel(n_jobs=16)]: Done 768 tasks      | elapsed:    0.0s\n",
      "[Parallel(n_jobs=16)]: Done 1000 out of 1000 | elapsed:    0.1s finished\n"
     ]
    }
   ],
   "source": [
    "# Random Forest Model\n",
    "rf_model = RandomForestRegressor(n_estimators=1000, max_depth=20, random_state=42, n_jobs=-1, verbose=1)\n",
    "rf_model.fit(X_train_scaled, y_train_scaled)\n",
    "yran_pred_scaled = rf_model.predict(X_test_scaled)\n",
    "yran_pred = scaler_y.inverse_transform(yran_pred_scaled.reshape(-1, 1)).flatten()"
   ]
  },
  {
   "cell_type": "code",
   "execution_count": 45,
   "metadata": {},
   "outputs": [],
   "source": [
    "# rf=RandomForestRegressor(random_stae=42, n_jobs=-1, verbose=True)\n",
    "# grid_search = GridSearchCV(rf, param_grid, cv=10, scoring=\"neg_mean_s\")"
   ]
  },
  {
   "cell_type": "code",
   "execution_count": 46,
   "metadata": {},
   "outputs": [],
   "source": [
    "# rf=RandomForestRegressor(random_state=42,n_jobs=-1,verbose=True)\n"
   ]
  },
  {
   "cell_type": "code",
   "execution_count": 47,
   "metadata": {},
   "outputs": [],
   "source": [
    "# #\n",
    "# best_rf = grid_search.best_estimator_\n",
    "# y_pred_scaled = best_rf.predict(X_test_scaled)\n",
    "# yran_pred = scaler_y.inverse_transform(y_pred_scaled.reshape(-1,1)).flatten()"
   ]
  },
  {
   "cell_type": "code",
   "execution_count": 48,
   "metadata": {},
   "outputs": [
    {
     "name": "stdout",
     "output_type": "stream",
     "text": [
      "Random Forest MAE: 96192366.71\n",
      "Random Forest RMSE: 115402129.74\n"
     ]
    }
   ],
   "source": [
    "# Random Forest Metrics\n",
    "mae_rf = mean_absolute_error(y_test, yran_pred)\n",
    "rmse_rf = np.sqrt(mean_squared_error(y_test, yran_pred))\n",
    "print(f\"Random Forest MAE: {mae_rf:.2f}\")\n",
    "print(f\"Random Forest RMSE: {rmse_rf:.2f}\")"
   ]
  },
  {
   "cell_type": "code",
   "execution_count": 49,
   "metadata": {},
   "outputs": [
    {
     "name": "stdout",
     "output_type": "stream",
     "text": [
      "Random Forest R² Score: 0.0263\n"
     ]
    }
   ],
   "source": [
    "from sklearn.metrics import r2_score\n",
    "\n",
    "r2_rf = r2_score(y_test, yran_pred)\n",
    "print(f\"Random Forest R² Score: {r2_rf:.4f}\")\n"
   ]
  },
  {
   "cell_type": "code",
   "execution_count": 50,
   "metadata": {},
   "outputs": [
    {
     "data": {
      "text/plain": [
       "DatetimeIndex(['2078-04-01', '2078-05-01', '2078-06-01', '2078-07-01',\n",
       "               '2078-08-01', '2078-09-01', '2078-10-01', '2078-11-01',\n",
       "               '2078-12-01', '2079-01-01', '2079-02-01', '2079-03-01',\n",
       "               '2079-04-01', '2079-05-01', '2079-06-01', '2079-07-01',\n",
       "               '2079-08-01', '2079-09-01', '2079-10-01', '2079-11-01',\n",
       "               '2079-12-01', '2080-01-01', '2080-02-01', '2080-03-01',\n",
       "               '2080-04-01', '2080-05-01', '2080-06-01', '2080-07-01',\n",
       "               '2080-08-01', '2080-09-01', '2080-10-01', '2080-11-01',\n",
       "               '2080-12-01', '2081-01-01', '2081-02-01', '2081-03-01',\n",
       "               '2081-04-01', '2081-05-01', '2081-06-01', '2081-07-01',\n",
       "               '2081-08-01', '2081-09-01', '2081-10-01', '2081-11-01'],\n",
       "              dtype='datetime64[ns]', name='date', freq=None)"
      ]
     },
     "execution_count": 50,
     "metadata": {},
     "output_type": "execute_result"
    }
   ],
   "source": [
    "df.index"
   ]
  },
  {
   "cell_type": "code",
   "execution_count": 51,
   "metadata": {},
   "outputs": [
    {
     "data": {
      "text/plain": [
       "date\n",
       "2078-04-01    5.352016e+07\n",
       "2078-05-01    1.379923e+08\n",
       "2078-06-01    5.050383e+08\n",
       "2078-07-01    1.035039e+08\n",
       "2078-08-01    4.539315e+08\n",
       "2078-09-01    3.715864e+08\n",
       "2078-10-01    9.601136e+07\n",
       "2078-11-01    4.656664e+08\n",
       "2078-12-01    6.455454e+08\n",
       "2079-01-01    8.793791e+08\n",
       "2079-02-01    3.481424e+08\n",
       "2079-03-01    9.713180e+05\n",
       "2079-04-01    5.293475e+07\n",
       "2079-05-01    3.804635e+08\n",
       "2079-06-01    3.223583e+08\n",
       "2079-07-01    9.700486e+07\n",
       "2079-08-01    4.441417e+07\n",
       "2079-09-01    3.989555e+08\n",
       "2079-10-01    4.216898e+07\n",
       "2079-11-01    2.231281e+08\n",
       "2079-12-01    8.407615e+08\n",
       "2080-01-01    4.659658e+08\n",
       "2080-02-01    8.248535e+07\n",
       "2080-03-01    2.194929e+07\n",
       "2080-04-01    3.631464e+07\n",
       "2080-05-01    4.806524e+07\n",
       "2080-06-01    4.087925e+08\n",
       "2080-07-01    2.832676e+07\n",
       "2080-08-01    2.654596e+08\n",
       "2080-09-01    1.693152e+08\n",
       "2080-10-01    4.256723e+07\n",
       "2080-11-01    1.781279e+08\n",
       "2080-12-01    2.294392e+08\n",
       "2081-01-01    5.726576e+08\n",
       "2081-02-01    1.033964e+08\n",
       "2081-03-01    5.798230e+04\n",
       "2081-04-01    1.170199e+08\n",
       "2081-05-01    2.594501e+08\n",
       "2081-06-01    3.580746e+08\n",
       "2081-07-01    2.264473e+08\n",
       "2081-08-01    2.393450e+08\n",
       "2081-09-01    3.097765e+08\n",
       "2081-10-01    3.827388e+08\n",
       "2081-11-01    1.266479e+08\n",
       "Name: sales, dtype: float64"
      ]
     },
     "execution_count": 51,
     "metadata": {},
     "output_type": "execute_result"
    }
   ],
   "source": [
    "df['sales']"
   ]
  },
  {
   "cell_type": "code",
   "execution_count": 52,
   "metadata": {},
   "outputs": [
    {
     "data": {
      "text/plain": [
       "DatetimeIndex(['2081-03-01', '2081-04-01', '2081-05-01', '2081-06-01',\n",
       "               '2081-07-01', '2081-08-01', '2081-09-01', '2081-10-01',\n",
       "               '2081-11-01'],\n",
       "              dtype='datetime64[ns]', name='date', freq=None)"
      ]
     },
     "execution_count": 52,
     "metadata": {},
     "output_type": "execute_result"
    }
   ],
   "source": [
    "test.index"
   ]
  },
  {
   "cell_type": "code",
   "execution_count": 53,
   "metadata": {},
   "outputs": [
    {
     "data": {
      "image/png": "[encoded data removed]",
      "text/plain": [
       "<Figure size 1200x800 with 1 Axes>"
      ]
     },
     "metadata": {},
     "output_type": "display_data"
    }
   ],
   "source": [
    "plt.figure(figsize=(12,8))\n",
    "plt.plot(df.index, df['sales'], label=\"Actual Data\", color=\"black\", linewidth=1)\n",
    "plt.plot(test.index, yran_pred, label=\"Random Forest Forecast\", color=\"red\", linestyle=\"dashed\", linewidth=3)\n",
    "plt.title(\"Random Forest of company 01 from 2077-2081\")\n",
    "plt.xlabel(\"Years\")\n",
    "plt.ylabel(\"Monthly Sales\")\n",
    "plt.legend()\n",
    "plt.show()"
   ]
  },
  {
   "cell_type": "markdown",
   "metadata": {},
   "source": [
    "### XG boost"
   ]
  },
  {
   "cell_type": "code",
   "execution_count": 54,
   "metadata": {},
   "outputs": [
    {
     "name": "stdout",
     "output_type": "stream",
     "text": [
      "[0]\tvalidation_0-rmse:0.51042\n",
      "[1]\tvalidation_0-rmse:0.50287\n",
      "[2]\tvalidation_0-rmse:0.50188\n",
      "[3]\tvalidation_0-rmse:0.49343\n",
      "[4]\tvalidation_0-rmse:0.48548\n",
      "[5]\tvalidation_0-rmse:0.48082\n",
      "[6]\tvalidation_0-rmse:0.47352\n",
      "[7]\tvalidation_0-rmse:0.47172\n",
      "[8]\tvalidation_0-rmse:0.46186\n",
      "[9]\tvalidation_0-rmse:0.46931\n",
      "[10]\tvalidation_0-rmse:0.46519\n",
      "[11]\tvalidation_0-rmse:0.46252\n",
      "[12]\tvalidation_0-rmse:0.46301\n",
      "[13]\tvalidation_0-rmse:0.45660\n",
      "[14]\tvalidation_0-rmse:0.45004\n",
      "[15]\tvalidation_0-rmse:0.44658\n",
      "[16]\tvalidation_0-rmse:0.44876\n",
      "[17]\tvalidation_0-rmse:0.44966\n",
      "[18]\tvalidation_0-rmse:0.44854\n",
      "[19]\tvalidation_0-rmse:0.44593\n",
      "[20]\tvalidation_0-rmse:0.44200\n",
      "[21]\tvalidation_0-rmse:0.44482\n",
      "[22]\tvalidation_0-rmse:0.44635\n",
      "[23]\tvalidation_0-rmse:0.44916\n",
      "[24]\tvalidation_0-rmse:0.45306\n",
      "[25]\tvalidation_0-rmse:0.45568\n",
      "[26]\tvalidation_0-rmse:0.46205\n",
      "[27]\tvalidation_0-rmse:0.46306\n",
      "[28]\tvalidation_0-rmse:0.46685\n",
      "[29]\tvalidation_0-rmse:0.47124\n",
      "[30]\tvalidation_0-rmse:0.46857\n",
      "[31]\tvalidation_0-rmse:0.46518\n",
      "[32]\tvalidation_0-rmse:0.47279\n",
      "[33]\tvalidation_0-rmse:0.47572\n",
      "[34]\tvalidation_0-rmse:0.47621\n",
      "[35]\tvalidation_0-rmse:0.48168\n",
      "[36]\tvalidation_0-rmse:0.48417\n",
      "[37]\tvalidation_0-rmse:0.48683\n",
      "[38]\tvalidation_0-rmse:0.48588\n",
      "[39]\tvalidation_0-rmse:0.48625\n",
      "[40]\tvalidation_0-rmse:0.48664\n",
      "[41]\tvalidation_0-rmse:0.48723\n",
      "[42]\tvalidation_0-rmse:0.49031\n",
      "[43]\tvalidation_0-rmse:0.49066\n",
      "[44]\tvalidation_0-rmse:0.49394\n",
      "[45]\tvalidation_0-rmse:0.49691\n",
      "[46]\tvalidation_0-rmse:0.49774\n",
      "[47]\tvalidation_0-rmse:0.49769\n",
      "[48]\tvalidation_0-rmse:0.49891\n",
      "[49]\tvalidation_0-rmse:0.50240\n",
      "[50]\tvalidation_0-rmse:0.50486\n",
      "[51]\tvalidation_0-rmse:0.50396\n",
      "[52]\tvalidation_0-rmse:0.50009\n",
      "[53]\tvalidation_0-rmse:0.49910\n",
      "[54]\tvalidation_0-rmse:0.50022\n",
      "[55]\tvalidation_0-rmse:0.49879\n",
      "[56]\tvalidation_0-rmse:0.50004\n",
      "[57]\tvalidation_0-rmse:0.50032\n",
      "[58]\tvalidation_0-rmse:0.49873\n",
      "[59]\tvalidation_0-rmse:0.49899\n",
      "[60]\tvalidation_0-rmse:0.50068\n",
      "[61]\tvalidation_0-rmse:0.50018\n",
      "[62]\tvalidation_0-rmse:0.49988\n",
      "[63]\tvalidation_0-rmse:0.50001\n",
      "[64]\tvalidation_0-rmse:0.50017\n",
      "[65]\tvalidation_0-rmse:0.50013\n",
      "[66]\tvalidation_0-rmse:0.50088\n",
      "[67]\tvalidation_0-rmse:0.50103\n",
      "[68]\tvalidation_0-rmse:0.50098\n",
      "[69]\tvalidation_0-rmse:0.50144\n",
      "[70]\tvalidation_0-rmse:0.50128\n",
      "[71]\tvalidation_0-rmse:0.50230\n",
      "[72]\tvalidation_0-rmse:0.50253\n",
      "[73]\tvalidation_0-rmse:0.50215\n",
      "[74]\tvalidation_0-rmse:0.50233\n",
      "[75]\tvalidation_0-rmse:0.50385\n",
      "[76]\tvalidation_0-rmse:0.50600\n",
      "[77]\tvalidation_0-rmse:0.50592\n",
      "[78]\tvalidation_0-rmse:0.50606\n",
      "[79]\tvalidation_0-rmse:0.50599\n",
      "[80]\tvalidation_0-rmse:0.50711\n",
      "[81]\tvalidation_0-rmse:0.50601\n",
      "[82]\tvalidation_0-rmse:0.50709\n",
      "[83]\tvalidation_0-rmse:0.50715\n",
      "[84]\tvalidation_0-rmse:0.50644\n",
      "[85]\tvalidation_0-rmse:0.50695\n",
      "[86]\tvalidation_0-rmse:0.50643\n",
      "[87]\tvalidation_0-rmse:0.50578\n",
      "[88]\tvalidation_0-rmse:0.50593\n",
      "[89]\tvalidation_0-rmse:0.50593\n",
      "[90]\tvalidation_0-rmse:0.50581\n",
      "[91]\tvalidation_0-rmse:0.50523\n",
      "[92]\tvalidation_0-rmse:0.50576\n",
      "[93]\tvalidation_0-rmse:0.50535\n",
      "[94]\tvalidation_0-rmse:0.50514\n",
      "[95]\tvalidation_0-rmse:0.50583\n",
      "[96]\tvalidation_0-rmse:0.50571\n",
      "[97]\tvalidation_0-rmse:0.50536\n",
      "[98]\tvalidation_0-rmse:0.50491\n",
      "[99]\tvalidation_0-rmse:0.50485\n",
      "[100]\tvalidation_0-rmse:0.50445\n",
      "[101]\tvalidation_0-rmse:0.50504\n",
      "[102]\tvalidation_0-rmse:0.50526\n",
      "[103]\tvalidation_0-rmse:0.50580\n",
      "[104]\tvalidation_0-rmse:0.50614\n",
      "[105]\tvalidation_0-rmse:0.50616\n",
      "[106]\tvalidation_0-rmse:0.50591\n",
      "[107]\tvalidation_0-rmse:0.50566\n",
      "[108]\tvalidation_0-rmse:0.50619\n",
      "[109]\tvalidation_0-rmse:0.50614\n",
      "[110]\tvalidation_0-rmse:0.50651\n",
      "[111]\tvalidation_0-rmse:0.50661\n",
      "[112]\tvalidation_0-rmse:0.50683\n",
      "[113]\tvalidation_0-rmse:0.50714\n",
      "[114]\tvalidation_0-rmse:0.50770\n",
      "[115]\tvalidation_0-rmse:0.50805\n",
      "[116]\tvalidation_0-rmse:0.50809\n",
      "[117]\tvalidation_0-rmse:0.50812\n",
      "[118]\tvalidation_0-rmse:0.50807\n",
      "[119]\tvalidation_0-rmse:0.50779\n",
      "[120]\tvalidation_0-rmse:0.50819\n",
      "[121]\tvalidation_0-rmse:0.50827\n",
      "[122]\tvalidation_0-rmse:0.50880\n",
      "[123]\tvalidation_0-rmse:0.50831\n",
      "[124]\tvalidation_0-rmse:0.50857\n",
      "[125]\tvalidation_0-rmse:0.50841\n",
      "[126]\tvalidation_0-rmse:0.50837\n",
      "[127]\tvalidation_0-rmse:0.50849\n",
      "[128]\tvalidation_0-rmse:0.50826\n",
      "[129]\tvalidation_0-rmse:0.50825\n",
      "[130]\tvalidation_0-rmse:0.50815\n",
      "[131]\tvalidation_0-rmse:0.50842\n",
      "[132]\tvalidation_0-rmse:0.50864\n",
      "[133]\tvalidation_0-rmse:0.50885\n",
      "[134]\tvalidation_0-rmse:0.50909\n",
      "[135]\tvalidation_0-rmse:0.50948\n",
      "[136]\tvalidation_0-rmse:0.50962\n",
      "[137]\tvalidation_0-rmse:0.50898\n",
      "[138]\tvalidation_0-rmse:0.50898\n",
      "[139]\tvalidation_0-rmse:0.50921\n",
      "[140]\tvalidation_0-rmse:0.50941\n",
      "[141]\tvalidation_0-rmse:0.50956\n",
      "[142]\tvalidation_0-rmse:0.50977\n",
      "[143]\tvalidation_0-rmse:0.50992\n",
      "[144]\tvalidation_0-rmse:0.50972\n",
      "[145]\tvalidation_0-rmse:0.50985\n",
      "[146]\tvalidation_0-rmse:0.50989\n",
      "[147]\tvalidation_0-rmse:0.50932\n",
      "[148]\tvalidation_0-rmse:0.50939\n",
      "[149]\tvalidation_0-rmse:0.50877\n",
      "[150]\tvalidation_0-rmse:0.50881\n",
      "[151]\tvalidation_0-rmse:0.50878\n",
      "[152]\tvalidation_0-rmse:0.50877\n",
      "[153]\tvalidation_0-rmse:0.50856\n",
      "[154]\tvalidation_0-rmse:0.50842\n",
      "[155]\tvalidation_0-rmse:0.50833\n",
      "[156]\tvalidation_0-rmse:0.50814\n",
      "[157]\tvalidation_0-rmse:0.50821\n",
      "[158]\tvalidation_0-rmse:0.50810\n",
      "[159]\tvalidation_0-rmse:0.50817\n",
      "[160]\tvalidation_0-rmse:0.50817\n",
      "[161]\tvalidation_0-rmse:0.50821\n",
      "[162]\tvalidation_0-rmse:0.50814\n",
      "[163]\tvalidation_0-rmse:0.50819\n",
      "[164]\tvalidation_0-rmse:0.50823\n",
      "[165]\tvalidation_0-rmse:0.50789\n",
      "[166]\tvalidation_0-rmse:0.50788\n",
      "[167]\tvalidation_0-rmse:0.50794\n",
      "[168]\tvalidation_0-rmse:0.50794\n",
      "[169]\tvalidation_0-rmse:0.50805\n",
      "[170]\tvalidation_0-rmse:0.50815\n",
      "[171]\tvalidation_0-rmse:0.50825\n",
      "[172]\tvalidation_0-rmse:0.50818\n",
      "[173]\tvalidation_0-rmse:0.50812\n",
      "[174]\tvalidation_0-rmse:0.50823\n",
      "[175]\tvalidation_0-rmse:0.50807\n",
      "[176]\tvalidation_0-rmse:0.50804\n",
      "[177]\tvalidation_0-rmse:0.50811\n",
      "[178]\tvalidation_0-rmse:0.50812\n",
      "[179]\tvalidation_0-rmse:0.50808\n",
      "[180]\tvalidation_0-rmse:0.50795\n",
      "[181]\tvalidation_0-rmse:0.50791\n",
      "[182]\tvalidation_0-rmse:0.50780\n",
      "[183]\tvalidation_0-rmse:0.50786\n",
      "[184]\tvalidation_0-rmse:0.50789\n",
      "[185]\tvalidation_0-rmse:0.50789\n",
      "[186]\tvalidation_0-rmse:0.50770\n",
      "[187]\tvalidation_0-rmse:0.50777\n",
      "[188]\tvalidation_0-rmse:0.50763\n",
      "[189]\tvalidation_0-rmse:0.50765\n",
      "[190]\tvalidation_0-rmse:0.50761\n",
      "[191]\tvalidation_0-rmse:0.50754\n",
      "[192]\tvalidation_0-rmse:0.50752\n",
      "[193]\tvalidation_0-rmse:0.50741\n",
      "[194]\tvalidation_0-rmse:0.50748\n",
      "[195]\tvalidation_0-rmse:0.50749\n",
      "[196]\tvalidation_0-rmse:0.50750\n",
      "[197]\tvalidation_0-rmse:0.50753\n",
      "[198]\tvalidation_0-rmse:0.50754\n",
      "[199]\tvalidation_0-rmse:0.50746\n",
      "[200]\tvalidation_0-rmse:0.50748\n",
      "[201]\tvalidation_0-rmse:0.50742\n",
      "[202]\tvalidation_0-rmse:0.50738\n",
      "[203]\tvalidation_0-rmse:0.50737\n",
      "[204]\tvalidation_0-rmse:0.50721\n",
      "[205]\tvalidation_0-rmse:0.50717\n",
      "[206]\tvalidation_0-rmse:0.50714\n",
      "[207]\tvalidation_0-rmse:0.50712\n",
      "[208]\tvalidation_0-rmse:0.50705\n",
      "[209]\tvalidation_0-rmse:0.50705\n",
      "[210]\tvalidation_0-rmse:0.50701\n",
      "[211]\tvalidation_0-rmse:0.50702\n",
      "[212]\tvalidation_0-rmse:0.50699\n",
      "[213]\tvalidation_0-rmse:0.50698\n",
      "[214]\tvalidation_0-rmse:0.50697\n",
      "[215]\tvalidation_0-rmse:0.50698\n",
      "[216]\tvalidation_0-rmse:0.50694\n",
      "[217]\tvalidation_0-rmse:0.50691\n",
      "[218]\tvalidation_0-rmse:0.50692\n",
      "[219]\tvalidation_0-rmse:0.50690\n",
      "[220]\tvalidation_0-rmse:0.50693\n",
      "[221]\tvalidation_0-rmse:0.50695\n",
      "[222]\tvalidation_0-rmse:0.50683\n",
      "[223]\tvalidation_0-rmse:0.50684\n",
      "[224]\tvalidation_0-rmse:0.50686\n",
      "[225]\tvalidation_0-rmse:0.50687\n",
      "[226]\tvalidation_0-rmse:0.50684\n",
      "[227]\tvalidation_0-rmse:0.50674\n",
      "[228]\tvalidation_0-rmse:0.50671\n",
      "[229]\tvalidation_0-rmse:0.50673\n",
      "[230]\tvalidation_0-rmse:0.50671\n",
      "[231]\tvalidation_0-rmse:0.50667\n",
      "[232]\tvalidation_0-rmse:0.50665\n",
      "[233]\tvalidation_0-rmse:0.50664\n",
      "[234]\tvalidation_0-rmse:0.50664\n",
      "[235]\tvalidation_0-rmse:0.50664\n",
      "[236]\tvalidation_0-rmse:0.50662\n",
      "[237]\tvalidation_0-rmse:0.50663\n",
      "[238]\tvalidation_0-rmse:0.50661\n",
      "[239]\tvalidation_0-rmse:0.50664\n",
      "[240]\tvalidation_0-rmse:0.50664\n",
      "[241]\tvalidation_0-rmse:0.50662\n",
      "[242]\tvalidation_0-rmse:0.50662\n",
      "[243]\tvalidation_0-rmse:0.50660\n",
      "[244]\tvalidation_0-rmse:0.50663\n",
      "[245]\tvalidation_0-rmse:0.50664\n",
      "[246]\tvalidation_0-rmse:0.50662\n",
      "[247]\tvalidation_0-rmse:0.50662\n",
      "[248]\tvalidation_0-rmse:0.50664\n",
      "[249]\tvalidation_0-rmse:0.50661\n",
      "[250]\tvalidation_0-rmse:0.50661\n",
      "[251]\tvalidation_0-rmse:0.50658\n",
      "[252]\tvalidation_0-rmse:0.50658\n",
      "[253]\tvalidation_0-rmse:0.50657\n",
      "[254]\tvalidation_0-rmse:0.50657\n",
      "[255]\tvalidation_0-rmse:0.50654\n",
      "[256]\tvalidation_0-rmse:0.50655\n",
      "[257]\tvalidation_0-rmse:0.50655\n",
      "[258]\tvalidation_0-rmse:0.50653\n",
      "[259]\tvalidation_0-rmse:0.50651\n",
      "[260]\tvalidation_0-rmse:0.50651\n",
      "[261]\tvalidation_0-rmse:0.50647\n",
      "[262]\tvalidation_0-rmse:0.50647\n",
      "[263]\tvalidation_0-rmse:0.50646\n",
      "[264]\tvalidation_0-rmse:0.50646\n",
      "[265]\tvalidation_0-rmse:0.50641\n",
      "[266]\tvalidation_0-rmse:0.50642\n",
      "[267]\tvalidation_0-rmse:0.50639\n",
      "[268]\tvalidation_0-rmse:0.50640\n",
      "[269]\tvalidation_0-rmse:0.50640\n",
      "[270]\tvalidation_0-rmse:0.50637\n",
      "[271]\tvalidation_0-rmse:0.50637\n",
      "[272]\tvalidation_0-rmse:0.50636\n",
      "[273]\tvalidation_0-rmse:0.50635\n",
      "[274]\tvalidation_0-rmse:0.50634\n",
      "[275]\tvalidation_0-rmse:0.50634\n",
      "[276]\tvalidation_0-rmse:0.50635\n",
      "[277]\tvalidation_0-rmse:0.50634\n",
      "[278]\tvalidation_0-rmse:0.50633\n",
      "[279]\tvalidation_0-rmse:0.50633\n",
      "[280]\tvalidation_0-rmse:0.50634\n",
      "[281]\tvalidation_0-rmse:0.50630\n",
      "[282]\tvalidation_0-rmse:0.50630\n",
      "[283]\tvalidation_0-rmse:0.50627\n",
      "[284]\tvalidation_0-rmse:0.50627\n",
      "[285]\tvalidation_0-rmse:0.50626\n",
      "[286]\tvalidation_0-rmse:0.50624\n",
      "[287]\tvalidation_0-rmse:0.50622\n",
      "[288]\tvalidation_0-rmse:0.50619\n",
      "[289]\tvalidation_0-rmse:0.50619\n",
      "[290]\tvalidation_0-rmse:0.50620\n",
      "[291]\tvalidation_0-rmse:0.50619\n",
      "[292]\tvalidation_0-rmse:0.50619\n",
      "[293]\tvalidation_0-rmse:0.50617\n",
      "[294]\tvalidation_0-rmse:0.50617\n",
      "[295]\tvalidation_0-rmse:0.50618\n",
      "[296]\tvalidation_0-rmse:0.50618\n",
      "[297]\tvalidation_0-rmse:0.50618\n",
      "[298]\tvalidation_0-rmse:0.50618\n",
      "[299]\tvalidation_0-rmse:0.50618\n",
      "[300]\tvalidation_0-rmse:0.50618\n",
      "[301]\tvalidation_0-rmse:0.50618\n",
      "[302]\tvalidation_0-rmse:0.50618\n",
      "[303]\tvalidation_0-rmse:0.50618\n",
      "[304]\tvalidation_0-rmse:0.50617\n",
      "[305]\tvalidation_0-rmse:0.50619\n",
      "[306]\tvalidation_0-rmse:0.50618\n",
      "[307]\tvalidation_0-rmse:0.50618\n",
      "[308]\tvalidation_0-rmse:0.50617\n",
      "[309]\tvalidation_0-rmse:0.50618\n",
      "[310]\tvalidation_0-rmse:0.50617\n",
      "[311]\tvalidation_0-rmse:0.50617\n",
      "[312]\tvalidation_0-rmse:0.50617\n",
      "[313]\tvalidation_0-rmse:0.50617\n",
      "[314]\tvalidation_0-rmse:0.50617\n",
      "[315]\tvalidation_0-rmse:0.50617\n",
      "[316]\tvalidation_0-rmse:0.50616\n",
      "[317]\tvalidation_0-rmse:0.50616\n",
      "[318]\tvalidation_0-rmse:0.50615\n",
      "[319]\tvalidation_0-rmse:0.50615\n",
      "[320]\tvalidation_0-rmse:0.50615\n",
      "[321]\tvalidation_0-rmse:0.50616\n",
      "[322]\tvalidation_0-rmse:0.50616\n",
      "[323]\tvalidation_0-rmse:0.50616\n",
      "[324]\tvalidation_0-rmse:0.50616\n",
      "[325]\tvalidation_0-rmse:0.50616\n",
      "[326]\tvalidation_0-rmse:0.50616\n",
      "[327]\tvalidation_0-rmse:0.50616\n",
      "[328]\tvalidation_0-rmse:0.50616\n",
      "[329]\tvalidation_0-rmse:0.50615\n",
      "[330]\tvalidation_0-rmse:0.50615\n",
      "[331]\tvalidation_0-rmse:0.50615\n",
      "[332]\tvalidation_0-rmse:0.50616\n",
      "[333]\tvalidation_0-rmse:0.50615\n",
      "[334]\tvalidation_0-rmse:0.50615\n",
      "[335]\tvalidation_0-rmse:0.50615\n",
      "[336]\tvalidation_0-rmse:0.50615\n",
      "[337]\tvalidation_0-rmse:0.50616\n",
      "[338]\tvalidation_0-rmse:0.50614\n",
      "[339]\tvalidation_0-rmse:0.50614\n",
      "[340]\tvalidation_0-rmse:0.50614\n",
      "[341]\tvalidation_0-rmse:0.50614\n",
      "[342]\tvalidation_0-rmse:0.50614\n",
      "[343]\tvalidation_0-rmse:0.50612\n",
      "[344]\tvalidation_0-rmse:0.50612\n",
      "[345]\tvalidation_0-rmse:0.50612\n",
      "[346]\tvalidation_0-rmse:0.50612\n",
      "[347]\tvalidation_0-rmse:0.50612\n",
      "[348]\tvalidation_0-rmse:0.50612\n",
      "[349]\tvalidation_0-rmse:0.50612\n",
      "[350]\tvalidation_0-rmse:0.50612\n",
      "[351]\tvalidation_0-rmse:0.50612\n",
      "[352]\tvalidation_0-rmse:0.50612\n",
      "[353]\tvalidation_0-rmse:0.50612\n",
      "[354]\tvalidation_0-rmse:0.50613\n",
      "[355]\tvalidation_0-rmse:0.50613\n",
      "[356]\tvalidation_0-rmse:0.50613\n",
      "[357]\tvalidation_0-rmse:0.50612\n",
      "[358]\tvalidation_0-rmse:0.50612\n",
      "[359]\tvalidation_0-rmse:0.50612\n",
      "[360]\tvalidation_0-rmse:0.50610\n",
      "[361]\tvalidation_0-rmse:0.50611\n",
      "[362]\tvalidation_0-rmse:0.50610\n",
      "[363]\tvalidation_0-rmse:0.50610\n",
      "[364]\tvalidation_0-rmse:0.50610\n",
      "[365]\tvalidation_0-rmse:0.50610\n",
      "[366]\tvalidation_0-rmse:0.50610\n",
      "[367]\tvalidation_0-rmse:0.50610\n",
      "[368]\tvalidation_0-rmse:0.50610\n",
      "[369]\tvalidation_0-rmse:0.50610\n",
      "[370]\tvalidation_0-rmse:0.50610\n",
      "[371]\tvalidation_0-rmse:0.50610\n",
      "[372]\tvalidation_0-rmse:0.50610\n",
      "[373]\tvalidation_0-rmse:0.50610\n",
      "[374]\tvalidation_0-rmse:0.50610\n",
      "[375]\tvalidation_0-rmse:0.50610\n",
      "[376]\tvalidation_0-rmse:0.50610\n",
      "[377]\tvalidation_0-rmse:0.50610\n",
      "[378]\tvalidation_0-rmse:0.50610\n",
      "[379]\tvalidation_0-rmse:0.50610\n",
      "[380]\tvalidation_0-rmse:0.50610\n",
      "[381]\tvalidation_0-rmse:0.50610\n",
      "[382]\tvalidation_0-rmse:0.50610\n",
      "[383]\tvalidation_0-rmse:0.50610\n",
      "[384]\tvalidation_0-rmse:0.50610\n",
      "[385]\tvalidation_0-rmse:0.50610\n",
      "[386]\tvalidation_0-rmse:0.50610\n",
      "[387]\tvalidation_0-rmse:0.50609\n",
      "[388]\tvalidation_0-rmse:0.50609\n",
      "[389]\tvalidation_0-rmse:0.50610\n",
      "[390]\tvalidation_0-rmse:0.50610\n",
      "[391]\tvalidation_0-rmse:0.50610\n",
      "[392]\tvalidation_0-rmse:0.50610\n",
      "[393]\tvalidation_0-rmse:0.50610\n",
      "[394]\tvalidation_0-rmse:0.50610\n",
      "[395]\tvalidation_0-rmse:0.50610\n",
      "[396]\tvalidation_0-rmse:0.50610\n",
      "[397]\tvalidation_0-rmse:0.50610\n",
      "[398]\tvalidation_0-rmse:0.50610\n",
      "[399]\tvalidation_0-rmse:0.50610\n",
      "[400]\tvalidation_0-rmse:0.50610\n",
      "[401]\tvalidation_0-rmse:0.50610\n",
      "[402]\tvalidation_0-rmse:0.50610\n",
      "[403]\tvalidation_0-rmse:0.50610\n",
      "[404]\tvalidation_0-rmse:0.50610\n",
      "[405]\tvalidation_0-rmse:0.50610\n",
      "[406]\tvalidation_0-rmse:0.50610\n",
      "[407]\tvalidation_0-rmse:0.50610\n",
      "[408]\tvalidation_0-rmse:0.50610\n",
      "[409]\tvalidation_0-rmse:0.50610\n",
      "[410]\tvalidation_0-rmse:0.50610\n",
      "[411]\tvalidation_0-rmse:0.50610\n",
      "[412]\tvalidation_0-rmse:0.50610\n",
      "[413]\tvalidation_0-rmse:0.50610\n",
      "[414]\tvalidation_0-rmse:0.50610\n",
      "[415]\tvalidation_0-rmse:0.50610\n",
      "[416]\tvalidation_0-rmse:0.50610\n",
      "[417]\tvalidation_0-rmse:0.50610\n",
      "[418]\tvalidation_0-rmse:0.50610\n",
      "[419]\tvalidation_0-rmse:0.50610\n",
      "[420]\tvalidation_0-rmse:0.50610\n",
      "[421]\tvalidation_0-rmse:0.50610\n",
      "[422]\tvalidation_0-rmse:0.50610\n",
      "[423]\tvalidation_0-rmse:0.50610\n",
      "[424]\tvalidation_0-rmse:0.50610\n",
      "[425]\tvalidation_0-rmse:0.50610\n",
      "[426]\tvalidation_0-rmse:0.50611\n",
      "[427]\tvalidation_0-rmse:0.50610\n",
      "[428]\tvalidation_0-rmse:0.50610\n",
      "[429]\tvalidation_0-rmse:0.50610\n",
      "[430]\tvalidation_0-rmse:0.50611\n",
      "[431]\tvalidation_0-rmse:0.50611\n",
      "[432]\tvalidation_0-rmse:0.50610\n",
      "[433]\tvalidation_0-rmse:0.50610\n",
      "[434]\tvalidation_0-rmse:0.50610\n",
      "[435]\tvalidation_0-rmse:0.50610\n",
      "[436]\tvalidation_0-rmse:0.50611\n",
      "[437]\tvalidation_0-rmse:0.50611\n",
      "[438]\tvalidation_0-rmse:0.50610\n",
      "[439]\tvalidation_0-rmse:0.50611\n",
      "[440]\tvalidation_0-rmse:0.50611\n",
      "[441]\tvalidation_0-rmse:0.50611\n",
      "[442]\tvalidation_0-rmse:0.50610\n",
      "[443]\tvalidation_0-rmse:0.50610\n",
      "[444]\tvalidation_0-rmse:0.50611\n",
      "[445]\tvalidation_0-rmse:0.50611\n",
      "[446]\tvalidation_0-rmse:0.50611\n",
      "[447]\tvalidation_0-rmse:0.50611\n",
      "[448]\tvalidation_0-rmse:0.50610\n",
      "[449]\tvalidation_0-rmse:0.50610\n",
      "[450]\tvalidation_0-rmse:0.50610\n",
      "[451]\tvalidation_0-rmse:0.50610\n",
      "[452]\tvalidation_0-rmse:0.50610\n",
      "[453]\tvalidation_0-rmse:0.50610\n",
      "[454]\tvalidation_0-rmse:0.50610\n",
      "[455]\tvalidation_0-rmse:0.50610\n",
      "[456]\tvalidation_0-rmse:0.50610\n",
      "[457]\tvalidation_0-rmse:0.50609\n",
      "[458]\tvalidation_0-rmse:0.50610\n",
      "[459]\tvalidation_0-rmse:0.50610\n",
      "[460]\tvalidation_0-rmse:0.50610\n",
      "[461]\tvalidation_0-rmse:0.50610\n",
      "[462]\tvalidation_0-rmse:0.50610\n",
      "[463]\tvalidation_0-rmse:0.50610\n",
      "[464]\tvalidation_0-rmse:0.50610\n",
      "[465]\tvalidation_0-rmse:0.50610\n",
      "[466]\tvalidation_0-rmse:0.50610\n",
      "[467]\tvalidation_0-rmse:0.50610\n",
      "[468]\tvalidation_0-rmse:0.50610\n",
      "[469]\tvalidation_0-rmse:0.50610\n",
      "[470]\tvalidation_0-rmse:0.50610\n",
      "[471]\tvalidation_0-rmse:0.50609\n",
      "[472]\tvalidation_0-rmse:0.50609\n",
      "[473]\tvalidation_0-rmse:0.50609\n",
      "[474]\tvalidation_0-rmse:0.50609\n",
      "[475]\tvalidation_0-rmse:0.50610\n",
      "[476]\tvalidation_0-rmse:0.50610\n",
      "[477]\tvalidation_0-rmse:0.50610\n",
      "[478]\tvalidation_0-rmse:0.50610\n",
      "[479]\tvalidation_0-rmse:0.50610\n",
      "[480]\tvalidation_0-rmse:0.50610\n",
      "[481]\tvalidation_0-rmse:0.50610\n",
      "[482]\tvalidation_0-rmse:0.50610\n",
      "[483]\tvalidation_0-rmse:0.50610\n",
      "[484]\tvalidation_0-rmse:0.50610\n",
      "[485]\tvalidation_0-rmse:0.50610\n",
      "[486]\tvalidation_0-rmse:0.50610\n",
      "[487]\tvalidation_0-rmse:0.50610\n",
      "[488]\tvalidation_0-rmse:0.50610\n",
      "[489]\tvalidation_0-rmse:0.50610\n",
      "[490]\tvalidation_0-rmse:0.50610\n",
      "[491]\tvalidation_0-rmse:0.50610\n",
      "[492]\tvalidation_0-rmse:0.50610\n",
      "[493]\tvalidation_0-rmse:0.50611\n",
      "[494]\tvalidation_0-rmse:0.50611\n",
      "[495]\tvalidation_0-rmse:0.50611\n",
      "[496]\tvalidation_0-rmse:0.50611\n",
      "[497]\tvalidation_0-rmse:0.50611\n",
      "[498]\tvalidation_0-rmse:0.50611\n",
      "[499]\tvalidation_0-rmse:0.50611\n",
      "[500]\tvalidation_0-rmse:0.50611\n",
      "[501]\tvalidation_0-rmse:0.50611\n",
      "[502]\tvalidation_0-rmse:0.50611\n",
      "[503]\tvalidation_0-rmse:0.50611\n",
      "[504]\tvalidation_0-rmse:0.50611\n",
      "[505]\tvalidation_0-rmse:0.50611\n",
      "[506]\tvalidation_0-rmse:0.50611\n",
      "[507]\tvalidation_0-rmse:0.50611\n",
      "[508]\tvalidation_0-rmse:0.50611\n",
      "[509]\tvalidation_0-rmse:0.50611\n",
      "[510]\tvalidation_0-rmse:0.50611\n",
      "[511]\tvalidation_0-rmse:0.50611\n",
      "[512]\tvalidation_0-rmse:0.50612\n",
      "[513]\tvalidation_0-rmse:0.50611\n",
      "[514]\tvalidation_0-rmse:0.50611\n",
      "[515]\tvalidation_0-rmse:0.50611\n",
      "[516]\tvalidation_0-rmse:0.50611\n",
      "[517]\tvalidation_0-rmse:0.50611\n",
      "[518]\tvalidation_0-rmse:0.50612\n",
      "[519]\tvalidation_0-rmse:0.50612\n",
      "[520]\tvalidation_0-rmse:0.50612\n",
      "[521]\tvalidation_0-rmse:0.50611\n",
      "[522]\tvalidation_0-rmse:0.50611\n",
      "[523]\tvalidation_0-rmse:0.50611\n",
      "[524]\tvalidation_0-rmse:0.50611\n",
      "[525]\tvalidation_0-rmse:0.50612\n",
      "[526]\tvalidation_0-rmse:0.50612\n",
      "[527]\tvalidation_0-rmse:0.50612\n",
      "[528]\tvalidation_0-rmse:0.50611\n",
      "[529]\tvalidation_0-rmse:0.50611\n",
      "[530]\tvalidation_0-rmse:0.50611\n",
      "[531]\tvalidation_0-rmse:0.50611\n",
      "[532]\tvalidation_0-rmse:0.50611\n",
      "[533]\tvalidation_0-rmse:0.50611\n",
      "[534]\tvalidation_0-rmse:0.50611\n",
      "[535]\tvalidation_0-rmse:0.50611\n",
      "[536]\tvalidation_0-rmse:0.50611\n",
      "[537]\tvalidation_0-rmse:0.50611\n",
      "[538]\tvalidation_0-rmse:0.50611\n",
      "[539]\tvalidation_0-rmse:0.50610\n",
      "[540]\tvalidation_0-rmse:0.50610\n",
      "[541]\tvalidation_0-rmse:0.50611\n",
      "[542]\tvalidation_0-rmse:0.50610\n",
      "[543]\tvalidation_0-rmse:0.50610\n",
      "[544]\tvalidation_0-rmse:0.50611\n",
      "[545]\tvalidation_0-rmse:0.50611\n",
      "[546]\tvalidation_0-rmse:0.50611\n",
      "[547]\tvalidation_0-rmse:0.50611\n",
      "[548]\tvalidation_0-rmse:0.50610\n",
      "[549]\tvalidation_0-rmse:0.50610\n",
      "[550]\tvalidation_0-rmse:0.50610\n",
      "[551]\tvalidation_0-rmse:0.50610\n",
      "[552]\tvalidation_0-rmse:0.50610\n",
      "[553]\tvalidation_0-rmse:0.50610\n",
      "[554]\tvalidation_0-rmse:0.50610\n",
      "[555]\tvalidation_0-rmse:0.50610\n",
      "[556]\tvalidation_0-rmse:0.50610\n",
      "[557]\tvalidation_0-rmse:0.50610\n",
      "[558]\tvalidation_0-rmse:0.50610\n",
      "[559]\tvalidation_0-rmse:0.50610\n",
      "[560]\tvalidation_0-rmse:0.50611\n",
      "[561]\tvalidation_0-rmse:0.50611\n",
      "[562]\tvalidation_0-rmse:0.50611\n",
      "[563]\tvalidation_0-rmse:0.50610\n",
      "[564]\tvalidation_0-rmse:0.50610\n",
      "[565]\tvalidation_0-rmse:0.50610\n",
      "[566]\tvalidation_0-rmse:0.50610\n",
      "[567]\tvalidation_0-rmse:0.50610\n",
      "[568]\tvalidation_0-rmse:0.50610\n",
      "[569]\tvalidation_0-rmse:0.50610\n",
      "[570]\tvalidation_0-rmse:0.50610\n",
      "[571]\tvalidation_0-rmse:0.50610\n",
      "[572]\tvalidation_0-rmse:0.50610\n",
      "[573]\tvalidation_0-rmse:0.50610\n",
      "[574]\tvalidation_0-rmse:0.50610\n",
      "[575]\tvalidation_0-rmse:0.50610\n",
      "[576]\tvalidation_0-rmse:0.50609\n",
      "[577]\tvalidation_0-rmse:0.50609\n",
      "[578]\tvalidation_0-rmse:0.50609\n",
      "[579]\tvalidation_0-rmse:0.50609\n",
      "[580]\tvalidation_0-rmse:0.50609\n",
      "[581]\tvalidation_0-rmse:0.50609\n",
      "[582]\tvalidation_0-rmse:0.50609\n",
      "[583]\tvalidation_0-rmse:0.50609\n",
      "[584]\tvalidation_0-rmse:0.50609\n",
      "[585]\tvalidation_0-rmse:0.50609\n",
      "[586]\tvalidation_0-rmse:0.50608\n",
      "[587]\tvalidation_0-rmse:0.50609\n",
      "[588]\tvalidation_0-rmse:0.50609\n",
      "[589]\tvalidation_0-rmse:0.50609\n",
      "[590]\tvalidation_0-rmse:0.50608\n",
      "[591]\tvalidation_0-rmse:0.50608\n",
      "[592]\tvalidation_0-rmse:0.50608\n",
      "[593]\tvalidation_0-rmse:0.50608\n",
      "[594]\tvalidation_0-rmse:0.50608\n",
      "[595]\tvalidation_0-rmse:0.50608\n",
      "[596]\tvalidation_0-rmse:0.50608\n",
      "[597]\tvalidation_0-rmse:0.50608\n",
      "[598]\tvalidation_0-rmse:0.50608\n",
      "[599]\tvalidation_0-rmse:0.50608\n",
      "[600]\tvalidation_0-rmse:0.50608\n",
      "[601]\tvalidation_0-rmse:0.50608\n",
      "[602]\tvalidation_0-rmse:0.50608\n",
      "[603]\tvalidation_0-rmse:0.50608\n",
      "[604]\tvalidation_0-rmse:0.50608\n",
      "[605]\tvalidation_0-rmse:0.50608\n",
      "[606]\tvalidation_0-rmse:0.50608\n",
      "[607]\tvalidation_0-rmse:0.50608\n",
      "[608]\tvalidation_0-rmse:0.50608\n",
      "[609]\tvalidation_0-rmse:0.50608\n",
      "[610]\tvalidation_0-rmse:0.50608\n",
      "[611]\tvalidation_0-rmse:0.50608\n",
      "[612]\tvalidation_0-rmse:0.50608\n",
      "[613]\tvalidation_0-rmse:0.50609\n",
      "[614]\tvalidation_0-rmse:0.50609\n",
      "[615]\tvalidation_0-rmse:0.50609\n",
      "[616]\tvalidation_0-rmse:0.50608\n",
      "[617]\tvalidation_0-rmse:0.50608\n",
      "[618]\tvalidation_0-rmse:0.50608\n",
      "[619]\tvalidation_0-rmse:0.50608\n",
      "[620]\tvalidation_0-rmse:0.50608\n",
      "[621]\tvalidation_0-rmse:0.50608\n",
      "[622]\tvalidation_0-rmse:0.50608\n",
      "[623]\tvalidation_0-rmse:0.50608\n",
      "[624]\tvalidation_0-rmse:0.50608\n",
      "[625]\tvalidation_0-rmse:0.50608\n",
      "[626]\tvalidation_0-rmse:0.50608\n",
      "[627]\tvalidation_0-rmse:0.50609\n",
      "[628]\tvalidation_0-rmse:0.50609\n",
      "[629]\tvalidation_0-rmse:0.50609\n",
      "[630]\tvalidation_0-rmse:0.50609\n",
      "[631]\tvalidation_0-rmse:0.50609\n",
      "[632]\tvalidation_0-rmse:0.50609\n",
      "[633]\tvalidation_0-rmse:0.50609\n",
      "[634]\tvalidation_0-rmse:0.50609\n",
      "[635]\tvalidation_0-rmse:0.50609\n",
      "[636]\tvalidation_0-rmse:0.50609\n",
      "[637]\tvalidation_0-rmse:0.50609\n",
      "[638]\tvalidation_0-rmse:0.50609\n",
      "[639]\tvalidation_0-rmse:0.50609\n",
      "[640]\tvalidation_0-rmse:0.50609\n",
      "[641]\tvalidation_0-rmse:0.50609\n",
      "[642]\tvalidation_0-rmse:0.50609\n",
      "[643]\tvalidation_0-rmse:0.50609\n",
      "[644]\tvalidation_0-rmse:0.50609\n",
      "[645]\tvalidation_0-rmse:0.50609\n",
      "[646]\tvalidation_0-rmse:0.50609\n",
      "[647]\tvalidation_0-rmse:0.50609\n",
      "[648]\tvalidation_0-rmse:0.50609\n",
      "[649]\tvalidation_0-rmse:0.50609\n",
      "[650]\tvalidation_0-rmse:0.50609\n",
      "[651]\tvalidation_0-rmse:0.50609\n",
      "[652]\tvalidation_0-rmse:0.50609\n",
      "[653]\tvalidation_0-rmse:0.50609\n",
      "[654]\tvalidation_0-rmse:0.50609\n",
      "[655]\tvalidation_0-rmse:0.50609\n",
      "[656]\tvalidation_0-rmse:0.50609\n",
      "[657]\tvalidation_0-rmse:0.50609\n",
      "[658]\tvalidation_0-rmse:0.50609\n",
      "[659]\tvalidation_0-rmse:0.50609\n",
      "[660]\tvalidation_0-rmse:0.50609\n",
      "[661]\tvalidation_0-rmse:0.50609\n",
      "[662]\tvalidation_0-rmse:0.50609\n",
      "[663]\tvalidation_0-rmse:0.50609\n",
      "[664]\tvalidation_0-rmse:0.50609\n",
      "[665]\tvalidation_0-rmse:0.50609\n",
      "[666]\tvalidation_0-rmse:0.50609\n",
      "[667]\tvalidation_0-rmse:0.50609\n",
      "[668]\tvalidation_0-rmse:0.50609\n",
      "[669]\tvalidation_0-rmse:0.50609\n",
      "[670]\tvalidation_0-rmse:0.50609\n",
      "[671]\tvalidation_0-rmse:0.50609\n",
      "[672]\tvalidation_0-rmse:0.50609\n",
      "[673]\tvalidation_0-rmse:0.50609\n",
      "[674]\tvalidation_0-rmse:0.50609\n",
      "[675]\tvalidation_0-rmse:0.50609\n",
      "[676]\tvalidation_0-rmse:0.50609\n",
      "[677]\tvalidation_0-rmse:0.50609\n",
      "[678]\tvalidation_0-rmse:0.50609\n",
      "[679]\tvalidation_0-rmse:0.50609\n",
      "[680]\tvalidation_0-rmse:0.50609\n",
      "[681]\tvalidation_0-rmse:0.50609\n",
      "[682]\tvalidation_0-rmse:0.50609\n",
      "[683]\tvalidation_0-rmse:0.50609\n",
      "[684]\tvalidation_0-rmse:0.50609\n",
      "[685]\tvalidation_0-rmse:0.50609\n",
      "[686]\tvalidation_0-rmse:0.50609\n",
      "[687]\tvalidation_0-rmse:0.50609\n",
      "[688]\tvalidation_0-rmse:0.50609\n",
      "[689]\tvalidation_0-rmse:0.50609\n",
      "[690]\tvalidation_0-rmse:0.50609\n",
      "[691]\tvalidation_0-rmse:0.50609\n",
      "[692]\tvalidation_0-rmse:0.50609\n",
      "[693]\tvalidation_0-rmse:0.50609\n",
      "[694]\tvalidation_0-rmse:0.50609\n",
      "[695]\tvalidation_0-rmse:0.50609\n",
      "[696]\tvalidation_0-rmse:0.50609\n",
      "[697]\tvalidation_0-rmse:0.50609\n",
      "[698]\tvalidation_0-rmse:0.50609\n",
      "[699]\tvalidation_0-rmse:0.50609\n",
      "[700]\tvalidation_0-rmse:0.50609\n",
      "[701]\tvalidation_0-rmse:0.50609\n",
      "[702]\tvalidation_0-rmse:0.50609\n",
      "[703]\tvalidation_0-rmse:0.50609\n",
      "[704]\tvalidation_0-rmse:0.50610\n",
      "[705]\tvalidation_0-rmse:0.50610\n",
      "[706]\tvalidation_0-rmse:0.50609\n",
      "[707]\tvalidation_0-rmse:0.50610\n",
      "[708]\tvalidation_0-rmse:0.50610\n",
      "[709]\tvalidation_0-rmse:0.50610\n",
      "[710]\tvalidation_0-rmse:0.50610\n",
      "[711]\tvalidation_0-rmse:0.50610\n",
      "[712]\tvalidation_0-rmse:0.50610\n",
      "[713]\tvalidation_0-rmse:0.50610\n",
      "[714]\tvalidation_0-rmse:0.50610\n",
      "[715]\tvalidation_0-rmse:0.50610\n",
      "[716]\tvalidation_0-rmse:0.50610\n",
      "[717]\tvalidation_0-rmse:0.50610\n",
      "[718]\tvalidation_0-rmse:0.50610\n",
      "[719]\tvalidation_0-rmse:0.50610\n",
      "[720]\tvalidation_0-rmse:0.50610\n",
      "[721]\tvalidation_0-rmse:0.50610\n",
      "[722]\tvalidation_0-rmse:0.50610\n",
      "[723]\tvalidation_0-rmse:0.50610\n",
      "[724]\tvalidation_0-rmse:0.50609\n",
      "[725]\tvalidation_0-rmse:0.50609\n",
      "[726]\tvalidation_0-rmse:0.50609\n",
      "[727]\tvalidation_0-rmse:0.50609\n",
      "[728]\tvalidation_0-rmse:0.50609\n",
      "[729]\tvalidation_0-rmse:0.50609\n",
      "[730]\tvalidation_0-rmse:0.50609\n",
      "[731]\tvalidation_0-rmse:0.50609\n",
      "[732]\tvalidation_0-rmse:0.50609\n",
      "[733]\tvalidation_0-rmse:0.50609\n",
      "[734]\tvalidation_0-rmse:0.50609\n",
      "[735]\tvalidation_0-rmse:0.50609\n",
      "[736]\tvalidation_0-rmse:0.50609\n",
      "[737]\tvalidation_0-rmse:0.50609\n",
      "[738]\tvalidation_0-rmse:0.50609\n",
      "[739]\tvalidation_0-rmse:0.50609\n",
      "[740]\tvalidation_0-rmse:0.50609\n",
      "[741]\tvalidation_0-rmse:0.50609\n",
      "[742]\tvalidation_0-rmse:0.50609\n",
      "[743]\tvalidation_0-rmse:0.50609\n",
      "[744]\tvalidation_0-rmse:0.50609\n",
      "[745]\tvalidation_0-rmse:0.50609\n",
      "[746]\tvalidation_0-rmse:0.50609\n",
      "[747]\tvalidation_0-rmse:0.50609\n",
      "[748]\tvalidation_0-rmse:0.50609\n",
      "[749]\tvalidation_0-rmse:0.50609\n",
      "[750]\tvalidation_0-rmse:0.50609\n",
      "[751]\tvalidation_0-rmse:0.50609\n",
      "[752]\tvalidation_0-rmse:0.50610\n",
      "[753]\tvalidation_0-rmse:0.50610\n",
      "[754]\tvalidation_0-rmse:0.50610\n",
      "[755]\tvalidation_0-rmse:0.50610\n",
      "[756]\tvalidation_0-rmse:0.50609\n",
      "[757]\tvalidation_0-rmse:0.50609\n",
      "[758]\tvalidation_0-rmse:0.50609\n",
      "[759]\tvalidation_0-rmse:0.50609\n",
      "[760]\tvalidation_0-rmse:0.50609\n",
      "[761]\tvalidation_0-rmse:0.50609\n",
      "[762]\tvalidation_0-rmse:0.50609\n",
      "[763]\tvalidation_0-rmse:0.50609\n",
      "[764]\tvalidation_0-rmse:0.50609\n",
      "[765]\tvalidation_0-rmse:0.50609\n",
      "[766]\tvalidation_0-rmse:0.50609\n",
      "[767]\tvalidation_0-rmse:0.50609\n",
      "[768]\tvalidation_0-rmse:0.50610\n",
      "[769]\tvalidation_0-rmse:0.50610\n",
      "[770]\tvalidation_0-rmse:0.50610\n",
      "[771]\tvalidation_0-rmse:0.50610\n",
      "[772]\tvalidation_0-rmse:0.50610\n",
      "[773]\tvalidation_0-rmse:0.50610\n",
      "[774]\tvalidation_0-rmse:0.50610\n",
      "[775]\tvalidation_0-rmse:0.50609\n",
      "[776]\tvalidation_0-rmse:0.50609\n",
      "[777]\tvalidation_0-rmse:0.50609\n",
      "[778]\tvalidation_0-rmse:0.50609\n",
      "[779]\tvalidation_0-rmse:0.50609\n",
      "[780]\tvalidation_0-rmse:0.50609\n",
      "[781]\tvalidation_0-rmse:0.50609\n",
      "[782]\tvalidation_0-rmse:0.50609\n",
      "[783]\tvalidation_0-rmse:0.50609\n",
      "[784]\tvalidation_0-rmse:0.50609\n",
      "[785]\tvalidation_0-rmse:0.50609\n",
      "[786]\tvalidation_0-rmse:0.50609\n",
      "[787]\tvalidation_0-rmse:0.50609\n",
      "[788]\tvalidation_0-rmse:0.50610\n",
      "[789]\tvalidation_0-rmse:0.50610\n",
      "[790]\tvalidation_0-rmse:0.50610\n",
      "[791]\tvalidation_0-rmse:0.50610\n",
      "[792]\tvalidation_0-rmse:0.50610\n",
      "[793]\tvalidation_0-rmse:0.50609\n",
      "[794]\tvalidation_0-rmse:0.50609\n",
      "[795]\tvalidation_0-rmse:0.50609\n",
      "[796]\tvalidation_0-rmse:0.50609\n",
      "[797]\tvalidation_0-rmse:0.50609\n",
      "[798]\tvalidation_0-rmse:0.50609\n",
      "[799]\tvalidation_0-rmse:0.50609\n",
      "[800]\tvalidation_0-rmse:0.50609\n",
      "[801]\tvalidation_0-rmse:0.50609\n",
      "[802]\tvalidation_0-rmse:0.50609\n",
      "[803]\tvalidation_0-rmse:0.50609\n",
      "[804]\tvalidation_0-rmse:0.50609\n",
      "[805]\tvalidation_0-rmse:0.50609\n",
      "[806]\tvalidation_0-rmse:0.50609\n",
      "[807]\tvalidation_0-rmse:0.50609\n",
      "[808]\tvalidation_0-rmse:0.50609\n",
      "[809]\tvalidation_0-rmse:0.50609\n",
      "[810]\tvalidation_0-rmse:0.50609\n",
      "[811]\tvalidation_0-rmse:0.50609\n",
      "[812]\tvalidation_0-rmse:0.50609\n",
      "[813]\tvalidation_0-rmse:0.50609\n",
      "[814]\tvalidation_0-rmse:0.50610\n",
      "[815]\tvalidation_0-rmse:0.50609\n",
      "[816]\tvalidation_0-rmse:0.50610\n",
      "[817]\tvalidation_0-rmse:0.50609\n",
      "[818]\tvalidation_0-rmse:0.50609\n",
      "[819]\tvalidation_0-rmse:0.50609\n",
      "[820]\tvalidation_0-rmse:0.50609\n",
      "[821]\tvalidation_0-rmse:0.50609\n",
      "[822]\tvalidation_0-rmse:0.50609\n",
      "[823]\tvalidation_0-rmse:0.50609\n",
      "[824]\tvalidation_0-rmse:0.50609\n",
      "[825]\tvalidation_0-rmse:0.50609\n",
      "[826]\tvalidation_0-rmse:0.50609\n",
      "[827]\tvalidation_0-rmse:0.50609\n",
      "[828]\tvalidation_0-rmse:0.50609\n",
      "[829]\tvalidation_0-rmse:0.50609\n",
      "[830]\tvalidation_0-rmse:0.50609\n",
      "[831]\tvalidation_0-rmse:0.50609\n",
      "[832]\tvalidation_0-rmse:0.50609\n",
      "[833]\tvalidation_0-rmse:0.50609\n",
      "[834]\tvalidation_0-rmse:0.50609\n",
      "[835]\tvalidation_0-rmse:0.50609\n",
      "[836]\tvalidation_0-rmse:0.50609\n",
      "[837]\tvalidation_0-rmse:0.50609\n",
      "[838]\tvalidation_0-rmse:0.50609\n",
      "[839]\tvalidation_0-rmse:0.50609\n",
      "[840]\tvalidation_0-rmse:0.50609\n",
      "[841]\tvalidation_0-rmse:0.50609\n",
      "[842]\tvalidation_0-rmse:0.50609\n",
      "[843]\tvalidation_0-rmse:0.50609\n",
      "[844]\tvalidation_0-rmse:0.50609\n",
      "[845]\tvalidation_0-rmse:0.50609\n",
      "[846]\tvalidation_0-rmse:0.50609\n",
      "[847]\tvalidation_0-rmse:0.50609\n",
      "[848]\tvalidation_0-rmse:0.50609\n",
      "[849]\tvalidation_0-rmse:0.50609\n",
      "[850]\tvalidation_0-rmse:0.50609\n",
      "[851]\tvalidation_0-rmse:0.50609\n",
      "[852]\tvalidation_0-rmse:0.50609\n",
      "[853]\tvalidation_0-rmse:0.50609\n",
      "[854]\tvalidation_0-rmse:0.50609\n",
      "[855]\tvalidation_0-rmse:0.50609\n",
      "[856]\tvalidation_0-rmse:0.50609\n",
      "[857]\tvalidation_0-rmse:0.50609\n",
      "[858]\tvalidation_0-rmse:0.50609\n",
      "[859]\tvalidation_0-rmse:0.50609\n",
      "[860]\tvalidation_0-rmse:0.50609\n",
      "[861]\tvalidation_0-rmse:0.50609\n",
      "[862]\tvalidation_0-rmse:0.50609\n",
      "[863]\tvalidation_0-rmse:0.50609\n",
      "[864]\tvalidation_0-rmse:0.50609\n",
      "[865]\tvalidation_0-rmse:0.50609\n",
      "[866]\tvalidation_0-rmse:0.50609\n",
      "[867]\tvalidation_0-rmse:0.50609\n",
      "[868]\tvalidation_0-rmse:0.50610\n",
      "[869]\tvalidation_0-rmse:0.50609\n",
      "[870]\tvalidation_0-rmse:0.50610\n",
      "[871]\tvalidation_0-rmse:0.50610\n",
      "[872]\tvalidation_0-rmse:0.50610\n",
      "[873]\tvalidation_0-rmse:0.50610\n",
      "[874]\tvalidation_0-rmse:0.50610\n",
      "[875]\tvalidation_0-rmse:0.50610\n",
      "[876]\tvalidation_0-rmse:0.50610\n",
      "[877]\tvalidation_0-rmse:0.50610\n",
      "[878]\tvalidation_0-rmse:0.50610\n",
      "[879]\tvalidation_0-rmse:0.50610\n",
      "[880]\tvalidation_0-rmse:0.50610\n",
      "[881]\tvalidation_0-rmse:0.50610\n",
      "[882]\tvalidation_0-rmse:0.50610\n",
      "[883]\tvalidation_0-rmse:0.50610\n",
      "[884]\tvalidation_0-rmse:0.50610\n",
      "[885]\tvalidation_0-rmse:0.50610\n",
      "[886]\tvalidation_0-rmse:0.50610\n",
      "[887]\tvalidation_0-rmse:0.50610\n",
      "[888]\tvalidation_0-rmse:0.50610\n",
      "[889]\tvalidation_0-rmse:0.50610\n",
      "[890]\tvalidation_0-rmse:0.50610\n",
      "[891]\tvalidation_0-rmse:0.50610\n",
      "[892]\tvalidation_0-rmse:0.50610\n",
      "[893]\tvalidation_0-rmse:0.50610\n",
      "[894]\tvalidation_0-rmse:0.50610\n",
      "[895]\tvalidation_0-rmse:0.50610\n",
      "[896]\tvalidation_0-rmse:0.50610\n",
      "[897]\tvalidation_0-rmse:0.50610\n",
      "[898]\tvalidation_0-rmse:0.50610\n",
      "[899]\tvalidation_0-rmse:0.50610\n",
      "[900]\tvalidation_0-rmse:0.50610\n",
      "[901]\tvalidation_0-rmse:0.50610\n",
      "[902]\tvalidation_0-rmse:0.50610\n",
      "[903]\tvalidation_0-rmse:0.50610\n",
      "[904]\tvalidation_0-rmse:0.50610\n",
      "[905]\tvalidation_0-rmse:0.50610\n",
      "[906]\tvalidation_0-rmse:0.50610\n",
      "[907]\tvalidation_0-rmse:0.50610\n",
      "[908]\tvalidation_0-rmse:0.50610\n",
      "[909]\tvalidation_0-rmse:0.50610\n",
      "[910]\tvalidation_0-rmse:0.50610\n",
      "[911]\tvalidation_0-rmse:0.50610\n",
      "[912]\tvalidation_0-rmse:0.50610\n",
      "[913]\tvalidation_0-rmse:0.50610\n",
      "[914]\tvalidation_0-rmse:0.50610\n",
      "[915]\tvalidation_0-rmse:0.50610\n",
      "[916]\tvalidation_0-rmse:0.50610\n",
      "[917]\tvalidation_0-rmse:0.50610\n",
      "[918]\tvalidation_0-rmse:0.50610\n",
      "[919]\tvalidation_0-rmse:0.50610\n",
      "[920]\tvalidation_0-rmse:0.50610\n",
      "[921]\tvalidation_0-rmse:0.50610\n",
      "[922]\tvalidation_0-rmse:0.50610\n",
      "[923]\tvalidation_0-rmse:0.50610\n",
      "[924]\tvalidation_0-rmse:0.50610\n",
      "[925]\tvalidation_0-rmse:0.50610\n",
      "[926]\tvalidation_0-rmse:0.50609\n",
      "[927]\tvalidation_0-rmse:0.50609\n",
      "[928]\tvalidation_0-rmse:0.50609\n",
      "[929]\tvalidation_0-rmse:0.50609\n",
      "[930]\tvalidation_0-rmse:0.50609\n",
      "[931]\tvalidation_0-rmse:0.50609\n",
      "[932]\tvalidation_0-rmse:0.50609\n",
      "[933]\tvalidation_0-rmse:0.50609\n",
      "[934]\tvalidation_0-rmse:0.50609\n",
      "[935]\tvalidation_0-rmse:0.50609\n",
      "[936]\tvalidation_0-rmse:0.50609\n",
      "[937]\tvalidation_0-rmse:0.50609\n",
      "[938]\tvalidation_0-rmse:0.50609\n",
      "[939]\tvalidation_0-rmse:0.50610\n",
      "[940]\tvalidation_0-rmse:0.50610\n",
      "[941]\tvalidation_0-rmse:0.50610\n",
      "[942]\tvalidation_0-rmse:0.50610\n",
      "[943]\tvalidation_0-rmse:0.50610\n",
      "[944]\tvalidation_0-rmse:0.50610\n",
      "[945]\tvalidation_0-rmse:0.50610\n",
      "[946]\tvalidation_0-rmse:0.50610\n",
      "[947]\tvalidation_0-rmse:0.50610\n",
      "[948]\tvalidation_0-rmse:0.50610\n",
      "[949]\tvalidation_0-rmse:0.50610\n",
      "[950]\tvalidation_0-rmse:0.50610\n",
      "[951]\tvalidation_0-rmse:0.50610\n",
      "[952]\tvalidation_0-rmse:0.50610\n",
      "[953]\tvalidation_0-rmse:0.50610\n",
      "[954]\tvalidation_0-rmse:0.50610\n",
      "[955]\tvalidation_0-rmse:0.50610\n",
      "[956]\tvalidation_0-rmse:0.50610\n",
      "[957]\tvalidation_0-rmse:0.50610\n",
      "[958]\tvalidation_0-rmse:0.50610\n",
      "[959]\tvalidation_0-rmse:0.50609\n",
      "[960]\tvalidation_0-rmse:0.50610\n",
      "[961]\tvalidation_0-rmse:0.50609\n",
      "[962]\tvalidation_0-rmse:0.50610\n",
      "[963]\tvalidation_0-rmse:0.50610\n",
      "[964]\tvalidation_0-rmse:0.50609\n",
      "[965]\tvalidation_0-rmse:0.50610\n",
      "[966]\tvalidation_0-rmse:0.50609\n",
      "[967]\tvalidation_0-rmse:0.50609\n",
      "[968]\tvalidation_0-rmse:0.50609\n",
      "[969]\tvalidation_0-rmse:0.50610\n",
      "[970]\tvalidation_0-rmse:0.50609\n",
      "[971]\tvalidation_0-rmse:0.50610\n",
      "[972]\tvalidation_0-rmse:0.50609\n",
      "[973]\tvalidation_0-rmse:0.50609\n",
      "[974]\tvalidation_0-rmse:0.50609\n",
      "[975]\tvalidation_0-rmse:0.50609\n",
      "[976]\tvalidation_0-rmse:0.50609\n",
      "[977]\tvalidation_0-rmse:0.50609\n",
      "[978]\tvalidation_0-rmse:0.50609\n",
      "[979]\tvalidation_0-rmse:0.50609\n",
      "[980]\tvalidation_0-rmse:0.50609\n",
      "[981]\tvalidation_0-rmse:0.50609\n",
      "[982]\tvalidation_0-rmse:0.50609\n",
      "[983]\tvalidation_0-rmse:0.50610\n",
      "[984]\tvalidation_0-rmse:0.50609\n",
      "[985]\tvalidation_0-rmse:0.50610\n",
      "[986]\tvalidation_0-rmse:0.50609\n",
      "[987]\tvalidation_0-rmse:0.50610\n",
      "[988]\tvalidation_0-rmse:0.50610\n",
      "[989]\tvalidation_0-rmse:0.50610\n",
      "[990]\tvalidation_0-rmse:0.50610\n",
      "[991]\tvalidation_0-rmse:0.50610\n",
      "[992]\tvalidation_0-rmse:0.50610\n",
      "[993]\tvalidation_0-rmse:0.50610\n",
      "[994]\tvalidation_0-rmse:0.50610\n",
      "[995]\tvalidation_0-rmse:0.50610\n",
      "[996]\tvalidation_0-rmse:0.50610\n",
      "[997]\tvalidation_0-rmse:0.50610\n",
      "[998]\tvalidation_0-rmse:0.50610\n",
      "[999]\tvalidation_0-rmse:0.50610\n"
     ]
    }
   ],
   "source": [
    "\n",
    "# XGBoost Model\n",
    "xgb_model = xgb.XGBRegressor(objective='reg:squarederror', n_estimators=1000, learning_rate=0.05, max_depth=6,\n",
    "                             subsample=0.8, colsample_bytree=0.8, random_state=42, eval_metric=\"rmse\")\n",
    "xgb_model.fit(X_train_scaled, y_train_scaled, eval_set=[(X_test_scaled, y_test_scaled)], verbose=True)\n",
    "yxg_pred_scaled = xgb_model.predict(X_test_scaled)\n",
    "yxg_pred = scaler_y.inverse_transform(yxg_pred_scaled.reshape(-1, 1)).flatten()\n"
   ]
  },
  {
   "cell_type": "code",
   "execution_count": 55,
   "metadata": {},
   "outputs": [
    {
     "name": "stdout",
     "output_type": "stream",
     "text": [
      "XGBoost MAE 2077-2081: 93915521.41\n",
      "XGBoost RMSE 2077-2081: 117761128.45\n"
     ]
    }
   ],
   "source": [
    "# XGBoost Metrics\n",
    "mae_xgb = mean_absolute_error(y_test, yxg_pred)\n",
    "rmse_xgb = np.sqrt(mean_squared_error(y_test, yxg_pred))\n",
    "print(f\"XGBoost MAE 2077-2081: {mae_xgb:.2f}\")\n",
    "print(f\"XGBoost RMSE 2077-2081: {rmse_xgb:.2f}\")\n"
   ]
  },
  {
   "cell_type": "code",
   "execution_count": 56,
   "metadata": {},
   "outputs": [
    {
     "name": "stdout",
     "output_type": "stream",
     "text": [
      "XG boost R² Score 2077-2081: -0.0139\n"
     ]
    }
   ],
   "source": [
    "from sklearn.metrics import r2_score\n",
    "\n",
    "r2_rf = r2_score(y_test, yxg_pred)\n",
    "print(f\"XG boost R² Score 2077-2081: {r2_rf:.4f}\")"
   ]
  },
  {
   "cell_type": "code",
   "execution_count": 57,
   "metadata": {},
   "outputs": [
    {
     "data": {
      "image/png": "[encoded data removed]",
      "text/plain": [
       "<Figure size 1200x600 with 1 Axes>"
      ]
     },
     "metadata": {},
     "output_type": "display_data"
    }
   ],
   "source": [
    "# Visualization\n",
    "plt.figure(figsize=(12, 6))\n",
    "plt.plot(df.index, df[\"sales\"], label=\"Actual Sales\", color=\"black\", linewidth=2)\n",
    "\n",
    "plt.plot(X_test.index, yxg_pred, label=\"XGBoost Forecast\", color=\"blue\", linestyle=\"dashed\", linewidth=2)\n",
    "plt.title(\"sales Forecasting using XG boost from 2077-2081 data\")\n",
    "plt.legend()\n",
    "plt.show()\n",
    "\n"
   ]
  },
  {
   "cell_type": "markdown",
   "metadata": {},
   "source": [
    "### Comparision from Random Forest and XG boost from 2074-2081 data and Visualizing them\n",
    "\n",
    "Random Forest                           XG Boost\n",
    "1. MAE random: 86684694.75   ----------------             1. MAE xgb: 89519934.83\n",
    "2. RMSE random: 106753684.67 ----------------            2. RMSE xgb: 113117043.91\n",
    "3. R2 score random: 0.4578-----------------             3. R2_score xgb: 0.3912"
   ]
  },
  {
   "cell_type": "code",
   "execution_count": 58,
   "metadata": {},
   "outputs": [
    {
     "data": {
      "image/png": "[encoded data removed]",
      "text/plain": [
       "<Figure size 1000x800 with 1 Axes>"
      ]
     },
     "metadata": {},
     "output_type": "display_data"
    }
   ],
   "source": [
    "plt.figure(figsize=(10,8))\n",
    "plt.plot(df.index[:-(len(X_test))], df[\"sales\"][:-(len(X_test))], label=\"Actual Sales (Train)\", color=\"black\", linestyle=\"solid\", linewidth=2)\n",
    "plt.plot(df.index[-(len(X_test)):], df[\"sales\"][-(len(X_test)):], label=\"Test Data\", color=\"green\", linestyle=\"solid\", linewidth=2)\n",
    "plt.plot(X_test.index, yran_pred, label=\"Random Forest Forecast\", color=\"red\", linestyle=\"dashed\", linewidth=2 )\n",
    "plt.plot(X_test.index, yxg_pred, label=\"XG Boost Forecast\", color=\"blue\", linestyle=\"dashed\", linewidth=2)\n",
    "plt.title(\"Comparision of Random Forest and XG boost performance from 2074-2081 data for company 01 i.e. HDL\")\n",
    "plt.xlabel(\"Date\")\n",
    "plt.ylabel(\"Month wise Sales\")\n",
    "plt.legend()\n",
    "plt.show()"
   ]
  },
  {
   "cell_type": "code",
   "execution_count": null,
   "metadata": {},
   "outputs": [],
   "source": [
    "# visualization\n",
    "plt.figure(figsize=(10,9))\n",
    "plt.plot(df.index,df[\"sales\"], label=\"Actual\", color=\"black\", linestyle=\"solid\", linewidth=2 )\n",
    "plt.plot(X_test.index)"
   ]
  },
  {
   "cell_type": "code",
   "execution_count": 59,
   "metadata": {},
   "outputs": [
    {
     "data": {
      "text/plain": [
       "DatetimeIndex(['2081-03-01', '2081-04-01', '2081-05-01', '2081-06-01',\n",
       "               '2081-07-01', '2081-08-01', '2081-09-01', '2081-10-01',\n",
       "               '2081-11-01'],\n",
       "              dtype='datetime64[ns]', name='date', freq=None)"
      ]
     },
     "execution_count": 59,
     "metadata": {},
     "output_type": "execute_result"
    }
   ],
   "source": [
    "X_test.index"
   ]
  },
  {
   "cell_type": "code",
   "execution_count": 61,
   "metadata": {},
   "outputs": [
    {
     "data": {
      "text/plain": [
       "date\n",
       "2078-04-01    5.352016e+07\n",
       "2078-05-01    1.379923e+08\n",
       "2078-06-01    5.050383e+08\n",
       "2078-07-01    1.035039e+08\n",
       "2078-08-01    4.539315e+08\n",
       "Name: sales, dtype: float64"
      ]
     },
     "execution_count": 61,
     "metadata": {},
     "output_type": "execute_result"
    }
   ],
   "source": [
    "df[\"sales\"].head()"
   ]
  },
  {
   "cell_type": "code",
   "execution_count": 60,
   "metadata": {},
   "outputs": [
    {
     "data": {
      "text/plain": [
       "DatetimeIndex(['2081-03-01', '2081-04-01', '2081-05-01', '2081-06-01',\n",
       "               '2081-07-01', '2081-08-01', '2081-09-01', '2081-10-01',\n",
       "               '2081-11-01'],\n",
       "              dtype='datetime64[ns]', name='date', freq=None)"
      ]
     },
     "execution_count": 60,
     "metadata": {},
     "output_type": "execute_result"
    }
   ],
   "source": [
    "df.index[-(len(X_test)):]"
   ]
  }
 ],
 "metadata": {
  "kernelspec": {
   "display_name": "Python 3",
   "language": "python",
   "name": "python3"
  },
  "language_info": {
   "codemirror_mode": {
    "name": "ipython",
    "version": 3
   },
   "file_extension": ".py",
   "mimetype": "text/x-python",
   "name": "python",
   "nbconvert_exporter": "python",
   "pygments_lexer": "ipython3",
   "version": "3.12.3"
  }
 },
 "nbformat": 4,
 "nbformat_minor": 2
}
