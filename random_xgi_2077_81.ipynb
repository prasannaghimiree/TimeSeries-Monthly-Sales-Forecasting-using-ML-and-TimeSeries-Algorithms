{
 "cells": [
  {
   "cell_type": "markdown",
   "metadata": {},
   "source": [
    "### Utilizing Random Forest model to train from 2077-2081 overall company data\n",
    "\n",
    "dataset: dataset\\data_in_million.csv\n",
    "Here data in billion is compressed into million.\n",
    "Visualization is done\n",
    "Scaling is used\n",
    "Coorelation is measured\n",
    "performance metrics: R^2 score, RMSE, MSE, MAE"
   ]
  },
  {
   "cell_type": "code",
   "execution_count": 2,
   "metadata": {},
   "outputs": [],
   "source": [
    "import pandas as pd\n",
    "import numpy as np\n",
    "import shap\n",
    "import xgboost as xgb\n",
    "import matplotlib.pyplot as plt\n",
    "from sklearn.model_selection import train_test_split\n",
    "from sklearn.ensemble import RandomForestRegressor\n",
    "from sklearn.metrics import mean_absolute_error, mean_squared_error, r2_score"
   ]
  },
  {
   "cell_type": "code",
   "execution_count": 3,
   "metadata": {},
   "outputs": [],
   "source": [
    "# Load dataset\n",
    "data = pd.read_csv(r\"dataset\\data_in_million.csv\")\n",
    "data['date'] = pd.to_datetime(data['date'])\n",
    "data.set_index('date', inplace=True)\n"
   ]
  },
  {
   "cell_type": "code",
   "execution_count": 4,
   "metadata": {},
   "outputs": [
    {
     "data": {
      "application/vnd.plotly.v1+json": {
       "config": {
        "linkText": "Export to plot.ly",
        "plotlyServerURL": "https://plot.ly",
        "showLink": false
       },
       "data": [
        {
         "line": {
          "shape": "spline"
         },
         "mode": "lines+markers",
         "name": "Fiscal Year 2077-2078",
         "type": "scatter",
         "x": [
          "Shrawan",
          "Bhadra",
          "Asoj",
          "Kartik",
          "Mangsir",
          "Poush",
          "Magh",
          "Falgun",
          "Chaitra",
          "Baishakh",
          "Jestha",
          "Ashadh"
         ],
         "y": [
          765539.317,
          768077.233,
          2651188.887,
          1579149.318,
          1635635.749,
          1860110.563,
          1520314.982,
          2092601.069,
          2624344.633,
          4447452.163,
          2073400.763,
          1718202.439
         ]
        },
        {
         "line": {
          "shape": "spline"
         },
         "mode": "lines+markers",
         "name": "Fiscal Year 2078-2079",
         "type": "scatter",
         "x": [
          "Shrawan",
          "Bhadra",
          "Asoj",
          "Kartik",
          "Mangsir",
          "Poush",
          "Magh",
          "Falgun",
          "Chaitra",
          "Baishakh",
          "Jestha",
          "Ashadh"
         ],
         "y": [
          551359.383,
          1180627.413,
          3238089.542,
          1432056.839,
          1910279.775,
          1817611.563,
          1291884.629,
          2348388.973,
          3466150.58,
          4630011.882,
          3593008.456,
          630830.568
         ]
        },
        {
         "line": {
          "shape": "spline"
         },
         "mode": "lines+markers",
         "name": "Fiscal Year 2079-2080",
         "type": "scatter",
         "x": [
          "Shrawan",
          "Bhadra",
          "Asoj",
          "Kartik",
          "Mangsir",
          "Poush",
          "Magh",
          "Falgun",
          "Chaitra",
          "Baishakh",
          "Jestha",
          "Ashadh"
         ],
         "y": [
          537362.152,
          2110328.74,
          1459718.42,
          1494170.115,
          1165246.578,
          1631504.163,
          1269479.724,
          2118856.915,
          3404015.89,
          2956416.351,
          3351521.109,
          456534.929
         ]
        },
        {
         "line": {
          "shape": "spline"
         },
         "mode": "lines+markers",
         "name": "Fiscal Year 2080-2081",
         "type": "scatter",
         "x": [
          "Shrawan",
          "Bhadra",
          "Asoj",
          "Kartik",
          "Mangsir",
          "Poush",
          "Magh",
          "Falgun",
          "Chaitra",
          "Baishakh",
          "Jestha",
          "Ashadh"
         ],
         "y": [
          315444.544,
          777364.928,
          1803652.032,
          1088242.622,
          1673803.337,
          1417110.898,
          1109086.277,
          1419765.396,
          1533800.329,
          2132484.094,
          1917719.536,
          520614.986
         ]
        },
        {
         "line": {
          "shape": "spline"
         },
         "mode": "lines+markers",
         "name": "Fiscal Year 2081-2082",
         "type": "scatter",
         "x": [
          "Shrawan",
          "Bhadra",
          "Asoj",
          "Kartik",
          "Mangsir",
          "Poush",
          "Magh"
         ],
         "y": [
          561010.808,
          1152383.26,
          1552620.75,
          1213552.266,
          1411079.792,
          1300169.514,
          1011251.734
         ]
        }
       ],
       "layout": {
        "hovermode": "x unified",
        "template": {
         "data": {
          "bar": [
           {
            "error_x": {
             "color": "#f2f5fa"
            },
            "error_y": {
             "color": "#f2f5fa"
            },
            "marker": {
             "line": {
              "color": "rgb(17,17,17)",
              "width": 0.5
             },
             "pattern": {
              "fillmode": "overlay",
              "size": 10,
              "solidity": 0.2
             }
            },
            "type": "bar"
           }
          ],
          "barpolar": [
           {
            "marker": {
             "line": {
              "color": "rgb(17,17,17)",
              "width": 0.5
             },
             "pattern": {
              "fillmode": "overlay",
              "size": 10,
              "solidity": 0.2
             }
            },
            "type": "barpolar"
           }
          ],
          "carpet": [
           {
            "aaxis": {
             "endlinecolor": "#A2B1C6",
             "gridcolor": "#506784",
             "linecolor": "#506784",
             "minorgridcolor": "#506784",
             "startlinecolor": "#A2B1C6"
            },
            "baxis": {
             "endlinecolor": "#A2B1C6",
             "gridcolor": "#506784",
             "linecolor": "#506784",
             "minorgridcolor": "#506784",
             "startlinecolor": "#A2B1C6"
            },
            "type": "carpet"
           }
          ],
          "choropleth": [
           {
            "colorbar": {
             "outlinewidth": 0,
             "ticks": ""
            },
            "type": "choropleth"
           }
          ],
          "contour": [
           {
            "colorbar": {
             "outlinewidth": 0,
             "ticks": ""
            },
            "colorscale": [
             [
              0,
              "#0d0887"
             ],
             [
              0.1111111111111111,
              "#46039f"
             ],
             [
              0.2222222222222222,
              "#7201a8"
             ],
             [
              0.3333333333333333,
              "#9c179e"
             ],
             [
              0.4444444444444444,
              "#bd3786"
             ],
             [
              0.5555555555555556,
              "#d8576b"
             ],
             [
              0.6666666666666666,
              "#ed7953"
             ],
             [
              0.7777777777777778,
              "#fb9f3a"
             ],
             [
              0.8888888888888888,
              "#fdca26"
             ],
             [
              1,
              "#f0f921"
             ]
            ],
            "type": "contour"
           }
          ],
          "contourcarpet": [
           {
            "colorbar": {
             "outlinewidth": 0,
             "ticks": ""
            },
            "type": "contourcarpet"
           }
          ],
          "heatmap": [
           {
            "colorbar": {
             "outlinewidth": 0,
             "ticks": ""
            },
            "colorscale": [
             [
              0,
              "#0d0887"
             ],
             [
              0.1111111111111111,
              "#46039f"
             ],
             [
              0.2222222222222222,
              "#7201a8"
             ],
             [
              0.3333333333333333,
              "#9c179e"
             ],
             [
              0.4444444444444444,
              "#bd3786"
             ],
             [
              0.5555555555555556,
              "#d8576b"
             ],
             [
              0.6666666666666666,
              "#ed7953"
             ],
             [
              0.7777777777777778,
              "#fb9f3a"
             ],
             [
              0.8888888888888888,
              "#fdca26"
             ],
             [
              1,
              "#f0f921"
             ]
            ],
            "type": "heatmap"
           }
          ],
          "heatmapgl": [
           {
            "colorbar": {
             "outlinewidth": 0,
             "ticks": ""
            },
            "colorscale": [
             [
              0,
              "#0d0887"
             ],
             [
              0.1111111111111111,
              "#46039f"
             ],
             [
              0.2222222222222222,
              "#7201a8"
             ],
             [
              0.3333333333333333,
              "#9c179e"
             ],
             [
              0.4444444444444444,
              "#bd3786"
             ],
             [
              0.5555555555555556,
              "#d8576b"
             ],
             [
              0.6666666666666666,
              "#ed7953"
             ],
             [
              0.7777777777777778,
              "#fb9f3a"
             ],
             [
              0.8888888888888888,
              "#fdca26"
             ],
             [
              1,
              "#f0f921"
             ]
            ],
            "type": "heatmapgl"
           }
          ],
          "histogram": [
           {
            "marker": {
             "pattern": {
              "fillmode": "overlay",
              "size": 10,
              "solidity": 0.2
             }
            },
            "type": "histogram"
           }
          ],
          "histogram2d": [
           {
            "colorbar": {
             "outlinewidth": 0,
             "ticks": ""
            },
            "colorscale": [
             [
              0,
              "#0d0887"
             ],
             [
              0.1111111111111111,
              "#46039f"
             ],
             [
              0.2222222222222222,
              "#7201a8"
             ],
             [
              0.3333333333333333,
              "#9c179e"
             ],
             [
              0.4444444444444444,
              "#bd3786"
             ],
             [
              0.5555555555555556,
              "#d8576b"
             ],
             [
              0.6666666666666666,
              "#ed7953"
             ],
             [
              0.7777777777777778,
              "#fb9f3a"
             ],
             [
              0.8888888888888888,
              "#fdca26"
             ],
             [
              1,
              "#f0f921"
             ]
            ],
            "type": "histogram2d"
           }
          ],
          "histogram2dcontour": [
           {
            "colorbar": {
             "outlinewidth": 0,
             "ticks": ""
            },
            "colorscale": [
             [
              0,
              "#0d0887"
             ],
             [
              0.1111111111111111,
              "#46039f"
             ],
             [
              0.2222222222222222,
              "#7201a8"
             ],
             [
              0.3333333333333333,
              "#9c179e"
             ],
             [
              0.4444444444444444,
              "#bd3786"
             ],
             [
              0.5555555555555556,
              "#d8576b"
             ],
             [
              0.6666666666666666,
              "#ed7953"
             ],
             [
              0.7777777777777778,
              "#fb9f3a"
             ],
             [
              0.8888888888888888,
              "#fdca26"
             ],
             [
              1,
              "#f0f921"
             ]
            ],
            "type": "histogram2dcontour"
           }
          ],
          "mesh3d": [
           {
            "colorbar": {
             "outlinewidth": 0,
             "ticks": ""
            },
            "type": "mesh3d"
           }
          ],
          "parcoords": [
           {
            "line": {
             "colorbar": {
              "outlinewidth": 0,
              "ticks": ""
             }
            },
            "type": "parcoords"
           }
          ],
          "pie": [
           {
            "automargin": true,
            "type": "pie"
           }
          ],
          "scatter": [
           {
            "marker": {
             "line": {
              "color": "#283442"
             }
            },
            "type": "scatter"
           }
          ],
          "scatter3d": [
           {
            "line": {
             "colorbar": {
              "outlinewidth": 0,
              "ticks": ""
             }
            },
            "marker": {
             "colorbar": {
              "outlinewidth": 0,
              "ticks": ""
             }
            },
            "type": "scatter3d"
           }
          ],
          "scattercarpet": [
           {
            "marker": {
             "colorbar": {
              "outlinewidth": 0,
              "ticks": ""
             }
            },
            "type": "scattercarpet"
           }
          ],
          "scattergeo": [
           {
            "marker": {
             "colorbar": {
              "outlinewidth": 0,
              "ticks": ""
             }
            },
            "type": "scattergeo"
           }
          ],
          "scattergl": [
           {
            "marker": {
             "line": {
              "color": "#283442"
             }
            },
            "type": "scattergl"
           }
          ],
          "scattermapbox": [
           {
            "marker": {
             "colorbar": {
              "outlinewidth": 0,
              "ticks": ""
             }
            },
            "type": "scattermapbox"
           }
          ],
          "scatterpolar": [
           {
            "marker": {
             "colorbar": {
              "outlinewidth": 0,
              "ticks": ""
             }
            },
            "type": "scatterpolar"
           }
          ],
          "scatterpolargl": [
           {
            "marker": {
             "colorbar": {
              "outlinewidth": 0,
              "ticks": ""
             }
            },
            "type": "scatterpolargl"
           }
          ],
          "scatterternary": [
           {
            "marker": {
             "colorbar": {
              "outlinewidth": 0,
              "ticks": ""
             }
            },
            "type": "scatterternary"
           }
          ],
          "surface": [
           {
            "colorbar": {
             "outlinewidth": 0,
             "ticks": ""
            },
            "colorscale": [
             [
              0,
              "#0d0887"
             ],
             [
              0.1111111111111111,
              "#46039f"
             ],
             [
              0.2222222222222222,
              "#7201a8"
             ],
             [
              0.3333333333333333,
              "#9c179e"
             ],
             [
              0.4444444444444444,
              "#bd3786"
             ],
             [
              0.5555555555555556,
              "#d8576b"
             ],
             [
              0.6666666666666666,
              "#ed7953"
             ],
             [
              0.7777777777777778,
              "#fb9f3a"
             ],
             [
              0.8888888888888888,
              "#fdca26"
             ],
             [
              1,
              "#f0f921"
             ]
            ],
            "type": "surface"
           }
          ],
          "table": [
           {
            "cells": {
             "fill": {
              "color": "#506784"
             },
             "line": {
              "color": "rgb(17,17,17)"
             }
            },
            "header": {
             "fill": {
              "color": "#2a3f5f"
             },
             "line": {
              "color": "rgb(17,17,17)"
             }
            },
            "type": "table"
           }
          ]
         },
         "layout": {
          "annotationdefaults": {
           "arrowcolor": "#f2f5fa",
           "arrowhead": 0,
           "arrowwidth": 1
          },
          "autotypenumbers": "strict",
          "coloraxis": {
           "colorbar": {
            "outlinewidth": 0,
            "ticks": ""
           }
          },
          "colorscale": {
           "diverging": [
            [
             0,
             "#8e0152"
            ],
            [
             0.1,
             "#c51b7d"
            ],
            [
             0.2,
             "#de77ae"
            ],
            [
             0.3,
             "#f1b6da"
            ],
            [
             0.4,
             "#fde0ef"
            ],
            [
             0.5,
             "#f7f7f7"
            ],
            [
             0.6,
             "#e6f5d0"
            ],
            [
             0.7,
             "#b8e186"
            ],
            [
             0.8,
             "#7fbc41"
            ],
            [
             0.9,
             "#4d9221"
            ],
            [
             1,
             "#276419"
            ]
           ],
           "sequential": [
            [
             0,
             "#0d0887"
            ],
            [
             0.1111111111111111,
             "#46039f"
            ],
            [
             0.2222222222222222,
             "#7201a8"
            ],
            [
             0.3333333333333333,
             "#9c179e"
            ],
            [
             0.4444444444444444,
             "#bd3786"
            ],
            [
             0.5555555555555556,
             "#d8576b"
            ],
            [
             0.6666666666666666,
             "#ed7953"
            ],
            [
             0.7777777777777778,
             "#fb9f3a"
            ],
            [
             0.8888888888888888,
             "#fdca26"
            ],
            [
             1,
             "#f0f921"
            ]
           ],
           "sequentialminus": [
            [
             0,
             "#0d0887"
            ],
            [
             0.1111111111111111,
             "#46039f"
            ],
            [
             0.2222222222222222,
             "#7201a8"
            ],
            [
             0.3333333333333333,
             "#9c179e"
            ],
            [
             0.4444444444444444,
             "#bd3786"
            ],
            [
             0.5555555555555556,
             "#d8576b"
            ],
            [
             0.6666666666666666,
             "#ed7953"
            ],
            [
             0.7777777777777778,
             "#fb9f3a"
            ],
            [
             0.8888888888888888,
             "#fdca26"
            ],
            [
             1,
             "#f0f921"
            ]
           ]
          },
          "colorway": [
           "#636efa",
           "#EF553B",
           "#00cc96",
           "#ab63fa",
           "#FFA15A",
           "#19d3f3",
           "#FF6692",
           "#B6E880",
           "#FF97FF",
           "#FECB52"
          ],
          "font": {
           "color": "#f2f5fa"
          },
          "geo": {
           "bgcolor": "rgb(17,17,17)",
           "lakecolor": "rgb(17,17,17)",
           "landcolor": "rgb(17,17,17)",
           "showlakes": true,
           "showland": true,
           "subunitcolor": "#506784"
          },
          "hoverlabel": {
           "align": "left"
          },
          "hovermode": "closest",
          "mapbox": {
           "style": "dark"
          },
          "paper_bgcolor": "rgb(17,17,17)",
          "plot_bgcolor": "rgb(17,17,17)",
          "polar": {
           "angularaxis": {
            "gridcolor": "#506784",
            "linecolor": "#506784",
            "ticks": ""
           },
           "bgcolor": "rgb(17,17,17)",
           "radialaxis": {
            "gridcolor": "#506784",
            "linecolor": "#506784",
            "ticks": ""
           }
          },
          "scene": {
           "xaxis": {
            "backgroundcolor": "rgb(17,17,17)",
            "gridcolor": "#506784",
            "gridwidth": 2,
            "linecolor": "#506784",
            "showbackground": true,
            "ticks": "",
            "zerolinecolor": "#C8D4E3"
           },
           "yaxis": {
            "backgroundcolor": "rgb(17,17,17)",
            "gridcolor": "#506784",
            "gridwidth": 2,
            "linecolor": "#506784",
            "showbackground": true,
            "ticks": "",
            "zerolinecolor": "#C8D4E3"
           },
           "zaxis": {
            "backgroundcolor": "rgb(17,17,17)",
            "gridcolor": "#506784",
            "gridwidth": 2,
            "linecolor": "#506784",
            "showbackground": true,
            "ticks": "",
            "zerolinecolor": "#C8D4E3"
           }
          },
          "shapedefaults": {
           "line": {
            "color": "#f2f5fa"
           }
          },
          "sliderdefaults": {
           "bgcolor": "#C8D4E3",
           "bordercolor": "rgb(17,17,17)",
           "borderwidth": 1,
           "tickwidth": 0
          },
          "ternary": {
           "aaxis": {
            "gridcolor": "#506784",
            "linecolor": "#506784",
            "ticks": ""
           },
           "baxis": {
            "gridcolor": "#506784",
            "linecolor": "#506784",
            "ticks": ""
           },
           "bgcolor": "rgb(17,17,17)",
           "caxis": {
            "gridcolor": "#506784",
            "linecolor": "#506784",
            "ticks": ""
           }
          },
          "title": {
           "x": 0.05
          },
          "updatemenudefaults": {
           "bgcolor": "#506784",
           "borderwidth": 0
          },
          "xaxis": {
           "automargin": true,
           "gridcolor": "#283442",
           "linecolor": "#506784",
           "ticks": "",
           "title": {
            "standoff": 15
           },
           "zerolinecolor": "#283442",
           "zerolinewidth": 2
          },
          "yaxis": {
           "automargin": true,
           "gridcolor": "#283442",
           "linecolor": "#506784",
           "ticks": "",
           "title": {
            "standoff": 15
           },
           "zerolinecolor": "#283442",
           "zerolinewidth": 2
          }
         }
        },
        "title": {
         "text": "Sales Trend by Fiscal Year"
        },
        "xaxis": {
         "categoryarray": [
          "Shrawan",
          "Bhadra",
          "Asoj",
          "Kartik",
          "Mangsir",
          "Poush",
          "Magh",
          "Falgun",
          "Chaitra",
          "Baishakh",
          "Jestha",
          "Ashadh"
         ],
         "categoryorder": "array",
         "title": {
          "text": "Nepali Month"
         }
        },
        "yaxis": {
         "title": {
          "text": "Sales"
         }
        }
       }
      }
     },
     "metadata": {},
     "output_type": "display_data"
    }
   ],
   "source": [
    "\n",
    "# data visualization using plotly\n",
    "\n",
    "import plotly.graph_objs as go\n",
    "import plotly.offline as pyo\n",
    "\n",
    "df_sales = pd.read_csv(r\"dataset\\data_in_million.csv\")\n",
    "\n",
    "df_sales.columns = ['date','sales']\n",
    "\n",
    "df_sales[['Year', 'Month']] = df_sales['date'].str.split('-', expand=True)\n",
    "df_sales['Year'] = df_sales['Year'].astype(int)\n",
    "df_sales['Month'] = df_sales['Month'].astype(int)\n",
    "nepali_months_fiscal_order = {\n",
    "    4: \"Shrawan\", 5: \"Bhadra\", 6: \"Asoj\", 7: \"Kartik\",\n",
    "    8: \"Mangsir\", 9: \"Poush\", 10: \"Magh\", 11: \"Falgun\",\n",
    "    12: \"Chaitra\", 1: \"Baishakh\", 2: \"Jestha\", 3: \"Ashadh\"\n",
    "}\n",
    "\n",
    "df_sales['Month_Name'] = df_sales['Month'].map(nepali_months_fiscal_order)\n",
    "\n",
    "\n",
    "df_sales['Fiscal_Year'] = df_sales.apply(lambda row: \n",
    "                                         f\"{row['Year']}-{row['Year']+1}\" if row['Month'] >= 4 \n",
    "                                         else f\"{row['Year']-1}-{row['Year']}\", axis=1)\n",
    "\n",
    "df_sales['Month_Order'] = df_sales['Month'].apply(lambda x: list(nepali_months_fiscal_order.keys()).index(x))\n",
    "\n",
    "df_sales = df_sales.sort_values(by=['Fiscal_Year', 'Month_Order'])\n",
    "\n",
    "fig = go.Figure()\n",
    "\n",
    "fiscal_years = df_sales['Fiscal_Year'].unique()\n",
    "\n",
    "for fy in fiscal_years:\n",
    "    df_fy = df_sales[df_sales['Fiscal_Year'] == fy]\n",
    "    fig.add_trace(go.Scatter(\n",
    "        x=df_fy['Month_Name'], \n",
    "        y=df_fy['sales'], \n",
    "        mode='lines+markers',\n",
    "        name=f'Fiscal Year {fy}',\n",
    "        line=dict(shape='spline')  \n",
    "    ))\n",
    "\n",
    "fig.update_layout(\n",
    "    title=\"Sales Trend by Fiscal Year\",\n",
    "    xaxis_title=\"Nepali Month\",\n",
    "    yaxis_title=\"Sales\",\n",
    "    xaxis=dict(categoryorder='array', categoryarray=list(nepali_months_fiscal_order.values())),\n",
    "    template=\"plotly_dark\",\n",
    "    hovermode=\"x unified\"\n",
    ")\n",
    "\n",
    "pyo.iplot(fig)\n"
   ]
  },
  {
   "cell_type": "code",
   "execution_count": 5,
   "metadata": {},
   "outputs": [
    {
     "data": {
      "image/png": "[encoded data removed]",
      "text/plain": [
       "<Figure size 1200x600 with 2 Axes>"
      ]
     },
     "metadata": {},
     "output_type": "display_data"
    }
   ],
   "source": [
    "# analyzing auto_correlation and partial auto correlation\n",
    "\n",
    "from statsmodels.graphics.tsaplots import plot_acf, plot_pacf\n",
    "from statsmodels.tsa.stattools import acf, pacf\n",
    "import matplotlib.pyplot as plt\n",
    "\n",
    "# Calculate the ACF and PACF\n",
    "\n",
    "acf_values = acf(data[\"sales\"], nlags=27, fft=False)\n",
    "pacf_values = pacf(data[\"sales\"], nlags=27)\n",
    "\n",
    "# Plot the ACF and PACF\n",
    "plt.figure(figsize=(12, 6))\n",
    "\n",
    "plt.subplot(2, 1, 1)\n",
    "plot_acf(data[\"sales\"], lags=27, ax=plt.gca())  \n",
    "plt.title(\"Autocorrelation Function (ACF)\")\n",
    "\n",
    "plt.subplot(2, 1, 2)\n",
    "plot_pacf(data[\"sales\"], lags=27, ax=plt.gca())  \n",
    "plt.title(\"Partial Autocorrelation Function (PACF)\")\n",
    "\n",
    "plt.tight_layout()\n",
    "plt.show()\n",
    "\n",
    "\n"
   ]
  },
  {
   "cell_type": "code",
   "execution_count": 6,
   "metadata": {},
   "outputs": [
    {
     "name": "stdout",
     "output_type": "stream",
     "text": [
      "The ACF values are : \n",
      "[ 1.          0.42180933 -0.0172801  -0.20512494 -0.14849627  0.07230753\n",
      "  0.07904957  0.07392186 -0.15235237 -0.24611023 -0.0641271   0.37916136\n",
      "  0.63015029  0.31708569 -0.11229154 -0.23740929 -0.17218182 -0.04622351\n",
      "  0.04203564 -0.05709468 -0.13400492 -0.27906906 -0.1554262   0.17631208\n",
      "  0.25727764  0.13210645 -0.11592243 -0.18058989]\n"
     ]
    }
   ],
   "source": [
    "print(f\"The ACF values are : \\n{acf_values}\")\n"
   ]
  },
  {
   "cell_type": "code",
   "execution_count": 7,
   "metadata": {},
   "outputs": [
    {
     "name": "stdout",
     "output_type": "stream",
     "text": [
      "The PACF values are : \n",
      "[ 1.00000000e+00  4.29620614e-01 -2.48343839e-01 -1.31543001e-01\n",
      "  3.26233840e-03  1.56970411e-01 -9.27428930e-02  7.86396110e-02\n",
      " -2.77493258e-01 -7.87169554e-02  1.27439176e-01  5.94846251e-01\n",
      "  5.82540661e-01  8.18726276e-02 -6.80002734e-01 -7.76143138e-01\n",
      " -1.29376157e+00  1.31637619e+00  5.90221334e+00 -1.17935976e+00\n",
      "  7.21949685e-01  7.06434678e-01 -3.45204391e-01 -2.49373212e+00\n",
      "  8.09874239e-01 -4.70507511e+00 -9.45723824e-01 -1.04526502e+00]\n"
     ]
    }
   ],
   "source": [
    "\n",
    "print(f\"The PACF values are : \\n{pacf_values}\")\n",
    "a= pacf_values"
   ]
  },
  {
   "cell_type": "code",
   "execution_count": 8,
   "metadata": {},
   "outputs": [
    {
     "data": {
      "text/plain": [
       "array([ 1.00000000e+00,  4.29620614e-01, -2.48343839e-01, -1.31543001e-01,\n",
       "        3.26233840e-03,  1.56970411e-01, -9.27428930e-02,  7.86396110e-02,\n",
       "       -2.77493258e-01, -7.87169554e-02,  1.27439176e-01,  5.94846251e-01,\n",
       "        5.82540661e-01,  8.18726276e-02, -6.80002734e-01, -7.76143138e-01,\n",
       "       -1.29376157e+00,  1.31637619e+00,  5.90221334e+00, -1.17935976e+00,\n",
       "        7.21949685e-01,  7.06434678e-01, -3.45204391e-01, -2.49373212e+00,\n",
       "        8.09874239e-01, -4.70507511e+00, -9.45723824e-01, -1.04526502e+00])"
      ]
     },
     "execution_count": 8,
     "metadata": {},
     "output_type": "execute_result"
    }
   ],
   "source": [
    "\n",
    "pacf_values"
   ]
  },
  {
   "cell_type": "markdown",
   "metadata": {},
   "source": [
    "#### Feature Engineering\n",
    "1. Lags and Rolling mean are defined\n",
    "2. Lags are calculated from ACF and PACF\n",
    "3. Only using 12 month ago feature as an input"
   ]
  },
  {
   "cell_type": "code",
   "execution_count": 9,
   "metadata": {},
   "outputs": [],
   "source": [
    "# Feature Engineering\n",
    "data['month'] = data.index.month\n",
    "data['year'] = data.index.year\n",
    "data['dayofweek'] = data.index.dayofweek\n",
    "# data['lag_1']=data['sales'].shift(1)\n",
    "# data['lag_11']=data['sales'].shift(11)\n",
    "\n",
    "data['lag_12'] = data['sales'].shift(12)\n",
    "# data['lag_13']=data['sales'.shift(13)]\n",
    "\n",
    "\n",
    "data['rolling_mean_3'] = data['sales'].rolling(window=3).mean()\n",
    "data['rolling_std_6'] = data['sales'].rolling(window=6).std()\n",
    "data.dropna(inplace=True)\n"
   ]
  },
  {
   "cell_type": "code",
   "execution_count": 10,
   "metadata": {},
   "outputs": [],
   "source": [
    "# Train-Test Split 80% and 20%\n",
    "X = data.drop(columns=['sales'])\n",
    "y = data['sales']\n",
    "X_train, X_test, y_train, y_test = train_test_split(X, y, test_size=0.2, shuffle=False)"
   ]
  },
  {
   "cell_type": "code",
   "execution_count": 11,
   "metadata": {},
   "outputs": [
    {
     "name": "stdout",
     "output_type": "stream",
     "text": [
      "The length of training data is : 34 and the length of testing data is : 9\n"
     ]
    }
   ],
   "source": [
    "print(f\"The length of training data is : {len(X_train)} and the length of testing data is : {len(X_test)}\")"
   ]
  },
  {
   "cell_type": "code",
   "execution_count": 12,
   "metadata": {},
   "outputs": [
    {
     "data": {
      "text/html": [
       "<div>\n",
       "<style scoped>\n",
       "    .dataframe tbody tr th:only-of-type {\n",
       "        vertical-align: middle;\n",
       "    }\n",
       "\n",
       "    .dataframe tbody tr th {\n",
       "        vertical-align: top;\n",
       "    }\n",
       "\n",
       "    .dataframe thead th {\n",
       "        text-align: right;\n",
       "    }\n",
       "</style>\n",
       "<table border=\"1\" class=\"dataframe\">\n",
       "  <thead>\n",
       "    <tr style=\"text-align: right;\">\n",
       "      <th></th>\n",
       "      <th>month</th>\n",
       "      <th>year</th>\n",
       "      <th>dayofweek</th>\n",
       "      <th>lag_12</th>\n",
       "      <th>rolling_mean_3</th>\n",
       "      <th>rolling_std_6</th>\n",
       "    </tr>\n",
       "    <tr>\n",
       "      <th>date</th>\n",
       "      <th></th>\n",
       "      <th></th>\n",
       "      <th></th>\n",
       "      <th></th>\n",
       "      <th></th>\n",
       "      <th></th>\n",
       "    </tr>\n",
       "  </thead>\n",
       "  <tbody>\n",
       "    <tr>\n",
       "      <th>2081-02-01</th>\n",
       "      <td>2</td>\n",
       "      <td>2081</td>\n",
       "      <td>5</td>\n",
       "      <td>3351521.109</td>\n",
       "      <td>1.861335e+06</td>\n",
       "      <td>372821.453803</td>\n",
       "    </tr>\n",
       "    <tr>\n",
       "      <th>2081-03-01</th>\n",
       "      <td>3</td>\n",
       "      <td>2081</td>\n",
       "      <td>5</td>\n",
       "      <td>456534.929</td>\n",
       "      <td>1.523606e+06</td>\n",
       "      <td>578225.510853</td>\n",
       "    </tr>\n",
       "    <tr>\n",
       "      <th>2081-04-01</th>\n",
       "      <td>4</td>\n",
       "      <td>2081</td>\n",
       "      <td>1</td>\n",
       "      <td>315444.544</td>\n",
       "      <td>9.997818e+05</td>\n",
       "      <td>675808.330313</td>\n",
       "    </tr>\n",
       "    <tr>\n",
       "      <th>2081-05-01</th>\n",
       "      <td>5</td>\n",
       "      <td>2081</td>\n",
       "      <td>3</td>\n",
       "      <td>777364.928</td>\n",
       "      <td>7.446697e+05</td>\n",
       "      <td>678903.886500</td>\n",
       "    </tr>\n",
       "    <tr>\n",
       "      <th>2081-06-01</th>\n",
       "      <td>6</td>\n",
       "      <td>2081</td>\n",
       "      <td>6</td>\n",
       "      <td>1803652.032</td>\n",
       "      <td>1.088672e+06</td>\n",
       "      <td>680225.704622</td>\n",
       "    </tr>\n",
       "    <tr>\n",
       "      <th>2081-07-01</th>\n",
       "      <td>7</td>\n",
       "      <td>2081</td>\n",
       "      <td>1</td>\n",
       "      <td>1088242.622</td>\n",
       "      <td>1.306185e+06</td>\n",
       "      <td>547452.587467</td>\n",
       "    </tr>\n",
       "    <tr>\n",
       "      <th>2081-08-01</th>\n",
       "      <td>8</td>\n",
       "      <td>2081</td>\n",
       "      <td>4</td>\n",
       "      <td>1673803.337</td>\n",
       "      <td>1.392418e+06</td>\n",
       "      <td>433020.468981</td>\n",
       "    </tr>\n",
       "    <tr>\n",
       "      <th>2081-09-01</th>\n",
       "      <td>9</td>\n",
       "      <td>2081</td>\n",
       "      <td>0</td>\n",
       "      <td>1417110.898</td>\n",
       "      <td>1.308267e+06</td>\n",
       "      <td>343416.409725</td>\n",
       "    </tr>\n",
       "    <tr>\n",
       "      <th>2081-10-01</th>\n",
       "      <td>10</td>\n",
       "      <td>2081</td>\n",
       "      <td>2</td>\n",
       "      <td>1109086.277</td>\n",
       "      <td>1.240834e+06</td>\n",
       "      <td>192137.972934</td>\n",
       "    </tr>\n",
       "  </tbody>\n",
       "</table>\n",
       "</div>"
      ],
      "text/plain": [
       "            month  year  dayofweek       lag_12  rolling_mean_3  rolling_std_6\n",
       "date                                                                          \n",
       "2081-02-01      2  2081          5  3351521.109    1.861335e+06  372821.453803\n",
       "2081-03-01      3  2081          5   456534.929    1.523606e+06  578225.510853\n",
       "2081-04-01      4  2081          1   315444.544    9.997818e+05  675808.330313\n",
       "2081-05-01      5  2081          3   777364.928    7.446697e+05  678903.886500\n",
       "2081-06-01      6  2081          6  1803652.032    1.088672e+06  680225.704622\n",
       "2081-07-01      7  2081          1  1088242.622    1.306185e+06  547452.587467\n",
       "2081-08-01      8  2081          4  1673803.337    1.392418e+06  433020.468981\n",
       "2081-09-01      9  2081          0  1417110.898    1.308267e+06  343416.409725\n",
       "2081-10-01     10  2081          2  1109086.277    1.240834e+06  192137.972934"
      ]
     },
     "execution_count": 12,
     "metadata": {},
     "output_type": "execute_result"
    }
   ],
   "source": [
    "X_test"
   ]
  },
  {
   "cell_type": "code",
   "execution_count": 13,
   "metadata": {},
   "outputs": [],
   "source": [
    "# Standardization\n",
    "from sklearn.preprocessing import StandardScaler, MinMaxScaler\n",
    "\n",
    "scaler_X = StandardScaler()\n",
    "scaler_y = StandardScaler()\n",
    "# scaler_X = MinMaxScaler()\n",
    "# scaler_y = MinMaxScaler()\n",
    "X_train_scaled = scaler_X.fit_transform(X_train)\n",
    "X_test_scaled = scaler_X.transform(X_test)\n",
    "y_train_scaled = scaler_y.fit_transform(y_train.values.reshape(-1, 1)).flatten()\n",
    "y_test_scaled = scaler_y.transform(y_test.values.reshape(-1, 1)).flatten()"
   ]
  },
  {
   "cell_type": "code",
   "execution_count": 14,
   "metadata": {},
   "outputs": [
    {
     "name": "stderr",
     "output_type": "stream",
     "text": [
      "[Parallel(n_jobs=-1)]: Using backend ThreadingBackend with 16 concurrent workers.\n",
      "[Parallel(n_jobs=-1)]: Done  18 tasks      | elapsed:    0.0s\n",
      "[Parallel(n_jobs=-1)]: Done 168 tasks      | elapsed:    0.0s\n",
      "[Parallel(n_jobs=-1)]: Done 418 tasks      | elapsed:    0.2s\n",
      "[Parallel(n_jobs=-1)]: Done 768 tasks      | elapsed:    0.4s\n",
      "[Parallel(n_jobs=-1)]: Done 1000 out of 1000 | elapsed:    0.5s finished\n",
      "[Parallel(n_jobs=16)]: Using backend ThreadingBackend with 16 concurrent workers.\n",
      "[Parallel(n_jobs=16)]: Done  18 tasks      | elapsed:    0.0s\n",
      "[Parallel(n_jobs=16)]: Done 168 tasks      | elapsed:    0.0s\n",
      "[Parallel(n_jobs=16)]: Done 418 tasks      | elapsed:    0.0s\n",
      "[Parallel(n_jobs=16)]: Done 768 tasks      | elapsed:    0.0s\n",
      "[Parallel(n_jobs=16)]: Done 1000 out of 1000 | elapsed:    0.0s finished\n"
     ]
    }
   ],
   "source": [
    "# Random Forest Model\n",
    "rf_model = RandomForestRegressor(n_estimators=1000, max_depth=6, random_state=42, n_jobs=-1, verbose=1)\n",
    "rf_model.fit(X_train_scaled, y_train_scaled)\n",
    "yran_pred_scaled = rf_model.predict(X_test_scaled)\n",
    "yran_pred = scaler_y.inverse_transform(yran_pred_scaled.reshape(-1, 1)).flatten()"
   ]
  },
  {
   "cell_type": "code",
   "execution_count": 15,
   "metadata": {},
   "outputs": [],
   "source": [
    "# from sklearn.model_selection import GridSearchCV\n",
    "# # Hyperparameter Tuning\n",
    "# param_grid = {\n",
    "#     \"n_estimators\": [500, 1000, 1500],\n",
    "#     \"max_depth\": [5, 10, 15],\n",
    "#     \"min_samples_split\": [2, 5, 10],\n",
    "#     \"min_samples_leaf\": [1, 2, 4]\n",
    "\n",
    "# }\n",
    "\n",
    "\n",
    "# #Hyperparameter Tuning and cross-validation using Grid Search Technique\n",
    "# rf = RandomForestRegressor(random_state=42, n_jobs=-1, verbose=True)\n",
    "# grid_search = GridSearchCV(rf, param_grid, cv=5, scoring=\"neg_mean_squared_error\", verbose=1, n_jobs=-1)\n",
    "# grid_search.fit(X_train, y_train)\n",
    "\n",
    "# rf=RandomForestRegressor(random_state=42,n_jobs=-1,verbose=True)\n",
    "# #\n",
    "# best_rf = grid_search.best_estimator_"
   ]
  },
  {
   "cell_type": "code",
   "execution_count": 16,
   "metadata": {},
   "outputs": [
    {
     "name": "stderr",
     "output_type": "stream",
     "text": [
      "[Parallel(n_jobs=16)]: Using backend ThreadingBackend with 16 concurrent workers.\n",
      "[Parallel(n_jobs=16)]: Done  18 tasks      | elapsed:    0.0s\n",
      "[Parallel(n_jobs=16)]: Done 168 tasks      | elapsed:    0.0s\n",
      "[Parallel(n_jobs=16)]: Done 418 tasks      | elapsed:    0.0s\n",
      "[Parallel(n_jobs=16)]: Done 768 tasks      | elapsed:    0.0s\n",
      "[Parallel(n_jobs=16)]: Done 1000 out of 1000 | elapsed:    0.0s finished\n"
     ]
    }
   ],
   "source": [
    "y_pred_scaled = rf_model.predict(X_test_scaled)\n",
    "yran_pred = scaler_y.inverse_transform(y_pred_scaled.reshape(-1,1)).flatten()"
   ]
  },
  {
   "cell_type": "code",
   "execution_count": 17,
   "metadata": {},
   "outputs": [
    {
     "name": "stdout",
     "output_type": "stream",
     "text": [
      "Random Forest MAE: 79728.14\n",
      "Random Forest RMSE: 112815.75\n"
     ]
    }
   ],
   "source": [
    "# Random Forest Metrics\n",
    "mae_rf = mean_absolute_error(y_test, yran_pred)\n",
    "rmse_rf = np.sqrt(mean_squared_error(y_test, yran_pred))\n",
    "print(f\"Random Forest MAE: {mae_rf:.2f}\")\n",
    "print(f\"Random Forest RMSE: {rmse_rf:.2f}\")"
   ]
  },
  {
   "cell_type": "code",
   "execution_count": 18,
   "metadata": {},
   "outputs": [
    {
     "name": "stdout",
     "output_type": "stream",
     "text": [
      "Random Forest R² Score: 0.9284\n"
     ]
    }
   ],
   "source": [
    "from sklearn.metrics import r2_score\n",
    "\n",
    "r2_rf = r2_score(y_test, yran_pred)\n",
    "print(f\"Random Forest R² Score: {r2_rf:.4f}\")\n"
   ]
  },
  {
   "cell_type": "code",
   "execution_count": 19,
   "metadata": {},
   "outputs": [
    {
     "data": {
      "image/png": "[encoded data removed]",
      "text/plain": [
       "<Figure size 1200x600 with 1 Axes>"
      ]
     },
     "metadata": {},
     "output_type": "display_data"
    }
   ],
   "source": [
    "# Visualization\n",
    "plt.figure(figsize=(12, 6))\n",
    "plt.plot(data.index, data[\"sales\"], label=\"Actual Sales\", color=\"black\", linewidth=2, marker='o')\n",
    "plt.plot(X_test.index, yran_pred, label=\"Random Forest Forecast\", color=\"red\", linestyle=\"dashed\", linewidth=2, marker='o')\n",
    "\n",
    "plt.title(\"Sales Forecasting using Random Forest from 2077 to 2081 data\")\n",
    "plt.xlabel(\"date\")\n",
    "plt.ylabel(\"Month wise sales\")\n",
    "plt.legend()\n",
    "plt.show()\n",
    "\n"
   ]
  },
  {
   "cell_type": "code",
   "execution_count": 20,
   "metadata": {},
   "outputs": [
    {
     "ename": "SyntaxError",
     "evalue": "invalid syntax (3988462316.py, line 4)",
     "output_type": "error",
     "traceback": [
      "\u001b[1;36m  Cell \u001b[1;32mIn[20], line 4\u001b[1;36m\u001b[0m\n\u001b[1;33m    yxg_pred =\u001b[0m\n\u001b[1;37m               ^\u001b[0m\n\u001b[1;31mSyntaxError\u001b[0m\u001b[1;31m:\u001b[0m invalid syntax\n"
     ]
    }
   ],
   "source": [
    "xgb_model=xgb.XGBRegressor(objective='reg:squarederror', n_estimator=1000, learning_rate=0.05, max_depth=6, subsample=0.8, colsample_bytree=0.8, random_state=42, eval_metric=\"rmse\")\n",
    "xgb_model.fit(X_train_scaled, y_train_scaled, eval_set=[(X_test_scaled. y_test_scaled)], verbose=True)\n",
    "yxb_pred_scaled = xgb_model.predict(X_test_scaled)\n",
    "yxg_pred = "
   ]
  },
  {
   "cell_type": "markdown",
   "metadata": {},
   "source": [
    "### XG Boost"
   ]
  },
  {
   "cell_type": "code",
   "execution_count": 21,
   "metadata": {},
   "outputs": [
    {
     "name": "stdout",
     "output_type": "stream",
     "text": [
      "[0]\tvalidation_0-rmse:0.70645\n",
      "[1]\tvalidation_0-rmse:0.68132\n",
      "[2]\tvalidation_0-rmse:0.65685\n",
      "[3]\tvalidation_0-rmse:0.63383\n",
      "[4]\tvalidation_0-rmse:0.60984\n",
      "[5]\tvalidation_0-rmse:0.58252\n",
      "[6]\tvalidation_0-rmse:0.56212\n",
      "[7]\tvalidation_0-rmse:0.54020\n",
      "[8]\tvalidation_0-rmse:0.52003\n",
      "[9]\tvalidation_0-rmse:0.49515\n",
      "[10]\tvalidation_0-rmse:0.47675\n",
      "[11]\tvalidation_0-rmse:0.45496\n",
      "[12]\tvalidation_0-rmse:0.43817\n",
      "[13]\tvalidation_0-rmse:0.42150\n",
      "[14]\tvalidation_0-rmse:0.40928\n",
      "[15]\tvalidation_0-rmse:0.40662\n",
      "[16]\tvalidation_0-rmse:0.39049\n",
      "[17]\tvalidation_0-rmse:0.37813\n",
      "[18]\tvalidation_0-rmse:0.36744\n",
      "[19]\tvalidation_0-rmse:0.35399\n",
      "[20]\tvalidation_0-rmse:0.34090\n",
      "[21]\tvalidation_0-rmse:0.32850\n",
      "[22]\tvalidation_0-rmse:0.31451\n",
      "[23]\tvalidation_0-rmse:0.30099\n",
      "[24]\tvalidation_0-rmse:0.28718\n",
      "[25]\tvalidation_0-rmse:0.27835\n",
      "[26]\tvalidation_0-rmse:0.26502\n",
      "[27]\tvalidation_0-rmse:0.25797\n",
      "[28]\tvalidation_0-rmse:0.24799\n",
      "[29]\tvalidation_0-rmse:0.23959\n",
      "[30]\tvalidation_0-rmse:0.23055\n",
      "[31]\tvalidation_0-rmse:0.22117\n",
      "[32]\tvalidation_0-rmse:0.22153\n",
      "[33]\tvalidation_0-rmse:0.22175\n",
      "[34]\tvalidation_0-rmse:0.21225\n",
      "[35]\tvalidation_0-rmse:0.20444\n",
      "[36]\tvalidation_0-rmse:0.19507\n",
      "[37]\tvalidation_0-rmse:0.19174\n",
      "[38]\tvalidation_0-rmse:0.18488\n",
      "[39]\tvalidation_0-rmse:0.18507\n",
      "[40]\tvalidation_0-rmse:0.17952\n",
      "[41]\tvalidation_0-rmse:0.18030\n",
      "[42]\tvalidation_0-rmse:0.17786\n",
      "[43]\tvalidation_0-rmse:0.17382\n",
      "[44]\tvalidation_0-rmse:0.16806\n",
      "[45]\tvalidation_0-rmse:0.16221\n",
      "[46]\tvalidation_0-rmse:0.15986\n",
      "[47]\tvalidation_0-rmse:0.15674\n",
      "[48]\tvalidation_0-rmse:0.15461\n",
      "[49]\tvalidation_0-rmse:0.15119\n",
      "[50]\tvalidation_0-rmse:0.15068\n",
      "[51]\tvalidation_0-rmse:0.14636\n",
      "[52]\tvalidation_0-rmse:0.14431\n",
      "[53]\tvalidation_0-rmse:0.14096\n",
      "[54]\tvalidation_0-rmse:0.14123\n",
      "[55]\tvalidation_0-rmse:0.13582\n",
      "[56]\tvalidation_0-rmse:0.13648\n",
      "[57]\tvalidation_0-rmse:0.13641\n",
      "[58]\tvalidation_0-rmse:0.13218\n",
      "[59]\tvalidation_0-rmse:0.12911\n",
      "[60]\tvalidation_0-rmse:0.12783\n",
      "[61]\tvalidation_0-rmse:0.12796\n",
      "[62]\tvalidation_0-rmse:0.12768\n",
      "[63]\tvalidation_0-rmse:0.12539\n",
      "[64]\tvalidation_0-rmse:0.12363\n",
      "[65]\tvalidation_0-rmse:0.12319\n",
      "[66]\tvalidation_0-rmse:0.12209\n",
      "[67]\tvalidation_0-rmse:0.12161\n",
      "[68]\tvalidation_0-rmse:0.12031\n",
      "[69]\tvalidation_0-rmse:0.11814\n",
      "[70]\tvalidation_0-rmse:0.11879\n",
      "[71]\tvalidation_0-rmse:0.11711\n",
      "[72]\tvalidation_0-rmse:0.11609\n",
      "[73]\tvalidation_0-rmse:0.11465\n",
      "[74]\tvalidation_0-rmse:0.11408\n",
      "[75]\tvalidation_0-rmse:0.11401\n",
      "[76]\tvalidation_0-rmse:0.11446\n",
      "[77]\tvalidation_0-rmse:0.11392\n",
      "[78]\tvalidation_0-rmse:0.11440\n",
      "[79]\tvalidation_0-rmse:0.11471\n",
      "[80]\tvalidation_0-rmse:0.11318\n",
      "[81]\tvalidation_0-rmse:0.11381\n",
      "[82]\tvalidation_0-rmse:0.11425\n",
      "[83]\tvalidation_0-rmse:0.11428\n",
      "[84]\tvalidation_0-rmse:0.11278\n",
      "[85]\tvalidation_0-rmse:0.11343\n",
      "[86]\tvalidation_0-rmse:0.11363\n",
      "[87]\tvalidation_0-rmse:0.11418\n",
      "[88]\tvalidation_0-rmse:0.11435\n",
      "[89]\tvalidation_0-rmse:0.11394\n",
      "[90]\tvalidation_0-rmse:0.11466\n",
      "[91]\tvalidation_0-rmse:0.11385\n",
      "[92]\tvalidation_0-rmse:0.11418\n",
      "[93]\tvalidation_0-rmse:0.11353\n",
      "[94]\tvalidation_0-rmse:0.11348\n",
      "[95]\tvalidation_0-rmse:0.11391\n",
      "[96]\tvalidation_0-rmse:0.11412\n",
      "[97]\tvalidation_0-rmse:0.11457\n",
      "[98]\tvalidation_0-rmse:0.11507\n",
      "[99]\tvalidation_0-rmse:0.11543\n",
      "[100]\tvalidation_0-rmse:0.11590\n",
      "[101]\tvalidation_0-rmse:0.11514\n",
      "[102]\tvalidation_0-rmse:0.11448\n",
      "[103]\tvalidation_0-rmse:0.11504\n",
      "[104]\tvalidation_0-rmse:0.11548\n",
      "[105]\tvalidation_0-rmse:0.11481\n",
      "[106]\tvalidation_0-rmse:0.11464\n",
      "[107]\tvalidation_0-rmse:0.11498\n",
      "[108]\tvalidation_0-rmse:0.11470\n",
      "[109]\tvalidation_0-rmse:0.11408\n",
      "[110]\tvalidation_0-rmse:0.11444\n",
      "[111]\tvalidation_0-rmse:0.11446\n",
      "[112]\tvalidation_0-rmse:0.11438\n",
      "[113]\tvalidation_0-rmse:0.11448\n",
      "[114]\tvalidation_0-rmse:0.11380\n",
      "[115]\tvalidation_0-rmse:0.11383\n",
      "[116]\tvalidation_0-rmse:0.11378\n",
      "[117]\tvalidation_0-rmse:0.11325\n",
      "[118]\tvalidation_0-rmse:0.11311\n",
      "[119]\tvalidation_0-rmse:0.11346\n",
      "[120]\tvalidation_0-rmse:0.11326\n",
      "[121]\tvalidation_0-rmse:0.11302\n",
      "[122]\tvalidation_0-rmse:0.11231\n",
      "[123]\tvalidation_0-rmse:0.11172\n",
      "[124]\tvalidation_0-rmse:0.11147\n",
      "[125]\tvalidation_0-rmse:0.11138\n",
      "[126]\tvalidation_0-rmse:0.11175\n",
      "[127]\tvalidation_0-rmse:0.11205\n",
      "[128]\tvalidation_0-rmse:0.11212\n",
      "[129]\tvalidation_0-rmse:0.11207\n",
      "[130]\tvalidation_0-rmse:0.11213\n",
      "[131]\tvalidation_0-rmse:0.11270\n",
      "[132]\tvalidation_0-rmse:0.11271\n",
      "[133]\tvalidation_0-rmse:0.11243\n",
      "[134]\tvalidation_0-rmse:0.11240\n",
      "[135]\tvalidation_0-rmse:0.11269\n",
      "[136]\tvalidation_0-rmse:0.11255\n",
      "[137]\tvalidation_0-rmse:0.11258\n",
      "[138]\tvalidation_0-rmse:0.11236\n",
      "[139]\tvalidation_0-rmse:0.11253\n",
      "[140]\tvalidation_0-rmse:0.11255\n",
      "[141]\tvalidation_0-rmse:0.11258\n",
      "[142]\tvalidation_0-rmse:0.11272\n",
      "[143]\tvalidation_0-rmse:0.11234\n",
      "[144]\tvalidation_0-rmse:0.11250\n",
      "[145]\tvalidation_0-rmse:0.11268\n",
      "[146]\tvalidation_0-rmse:0.11269\n",
      "[147]\tvalidation_0-rmse:0.11285\n",
      "[148]\tvalidation_0-rmse:0.11266\n",
      "[149]\tvalidation_0-rmse:0.11223\n",
      "[150]\tvalidation_0-rmse:0.11243\n",
      "[151]\tvalidation_0-rmse:0.11246\n",
      "[152]\tvalidation_0-rmse:0.11237\n",
      "[153]\tvalidation_0-rmse:0.11251\n",
      "[154]\tvalidation_0-rmse:0.11276\n",
      "[155]\tvalidation_0-rmse:0.11297\n",
      "[156]\tvalidation_0-rmse:0.11316\n",
      "[157]\tvalidation_0-rmse:0.11282\n",
      "[158]\tvalidation_0-rmse:0.11281\n",
      "[159]\tvalidation_0-rmse:0.11310\n",
      "[160]\tvalidation_0-rmse:0.11288\n",
      "[161]\tvalidation_0-rmse:0.11265\n",
      "[162]\tvalidation_0-rmse:0.11263\n",
      "[163]\tvalidation_0-rmse:0.11287\n",
      "[164]\tvalidation_0-rmse:0.11299\n",
      "[165]\tvalidation_0-rmse:0.11308\n",
      "[166]\tvalidation_0-rmse:0.11307\n",
      "[167]\tvalidation_0-rmse:0.11285\n",
      "[168]\tvalidation_0-rmse:0.11286\n",
      "[169]\tvalidation_0-rmse:0.11296\n",
      "[170]\tvalidation_0-rmse:0.11299\n",
      "[171]\tvalidation_0-rmse:0.11313\n",
      "[172]\tvalidation_0-rmse:0.11306\n",
      "[173]\tvalidation_0-rmse:0.11315\n",
      "[174]\tvalidation_0-rmse:0.11317\n",
      "[175]\tvalidation_0-rmse:0.11327\n",
      "[176]\tvalidation_0-rmse:0.11319\n",
      "[177]\tvalidation_0-rmse:0.11306\n",
      "[178]\tvalidation_0-rmse:0.11318\n",
      "[179]\tvalidation_0-rmse:0.11317\n",
      "[180]\tvalidation_0-rmse:0.11307\n",
      "[181]\tvalidation_0-rmse:0.11307\n",
      "[182]\tvalidation_0-rmse:0.11294\n",
      "[183]\tvalidation_0-rmse:0.11278\n",
      "[184]\tvalidation_0-rmse:0.11284\n",
      "[185]\tvalidation_0-rmse:0.11274\n",
      "[186]\tvalidation_0-rmse:0.11273\n",
      "[187]\tvalidation_0-rmse:0.11259\n",
      "[188]\tvalidation_0-rmse:0.11259\n",
      "[189]\tvalidation_0-rmse:0.11262\n",
      "[190]\tvalidation_0-rmse:0.11267\n",
      "[191]\tvalidation_0-rmse:0.11274\n",
      "[192]\tvalidation_0-rmse:0.11275\n",
      "[193]\tvalidation_0-rmse:0.11270\n",
      "[194]\tvalidation_0-rmse:0.11260\n",
      "[195]\tvalidation_0-rmse:0.11268\n",
      "[196]\tvalidation_0-rmse:0.11274\n",
      "[197]\tvalidation_0-rmse:0.11275\n",
      "[198]\tvalidation_0-rmse:0.11266\n",
      "[199]\tvalidation_0-rmse:0.11258\n",
      "[200]\tvalidation_0-rmse:0.11261\n",
      "[201]\tvalidation_0-rmse:0.11265\n",
      "[202]\tvalidation_0-rmse:0.11272\n",
      "[203]\tvalidation_0-rmse:0.11267\n",
      "[204]\tvalidation_0-rmse:0.11257\n",
      "[205]\tvalidation_0-rmse:0.11254\n",
      "[206]\tvalidation_0-rmse:0.11262\n",
      "[207]\tvalidation_0-rmse:0.11269\n",
      "[208]\tvalidation_0-rmse:0.11272\n",
      "[209]\tvalidation_0-rmse:0.11275\n",
      "[210]\tvalidation_0-rmse:0.11278\n",
      "[211]\tvalidation_0-rmse:0.11275\n",
      "[212]\tvalidation_0-rmse:0.11276\n",
      "[213]\tvalidation_0-rmse:0.11277\n",
      "[214]\tvalidation_0-rmse:0.11279\n",
      "[215]\tvalidation_0-rmse:0.11279\n",
      "[216]\tvalidation_0-rmse:0.11268\n",
      "[217]\tvalidation_0-rmse:0.11268\n",
      "[218]\tvalidation_0-rmse:0.11262\n",
      "[219]\tvalidation_0-rmse:0.11259\n",
      "[220]\tvalidation_0-rmse:0.11264\n",
      "[221]\tvalidation_0-rmse:0.11266\n",
      "[222]\tvalidation_0-rmse:0.11267\n",
      "[223]\tvalidation_0-rmse:0.11258\n",
      "[224]\tvalidation_0-rmse:0.11259\n",
      "[225]\tvalidation_0-rmse:0.11255\n",
      "[226]\tvalidation_0-rmse:0.11253\n",
      "[227]\tvalidation_0-rmse:0.11252\n",
      "[228]\tvalidation_0-rmse:0.11253\n",
      "[229]\tvalidation_0-rmse:0.11252\n",
      "[230]\tvalidation_0-rmse:0.11253\n",
      "[231]\tvalidation_0-rmse:0.11253\n",
      "[232]\tvalidation_0-rmse:0.11259\n",
      "[233]\tvalidation_0-rmse:0.11256\n",
      "[234]\tvalidation_0-rmse:0.11260\n",
      "[235]\tvalidation_0-rmse:0.11256\n",
      "[236]\tvalidation_0-rmse:0.11254\n",
      "[237]\tvalidation_0-rmse:0.11254\n",
      "[238]\tvalidation_0-rmse:0.11257\n",
      "[239]\tvalidation_0-rmse:0.11260\n",
      "[240]\tvalidation_0-rmse:0.11264\n",
      "[241]\tvalidation_0-rmse:0.11265\n",
      "[242]\tvalidation_0-rmse:0.11269\n",
      "[243]\tvalidation_0-rmse:0.11268\n",
      "[244]\tvalidation_0-rmse:0.11271\n",
      "[245]\tvalidation_0-rmse:0.11267\n",
      "[246]\tvalidation_0-rmse:0.11266\n",
      "[247]\tvalidation_0-rmse:0.11266\n",
      "[248]\tvalidation_0-rmse:0.11263\n",
      "[249]\tvalidation_0-rmse:0.11264\n",
      "[250]\tvalidation_0-rmse:0.11263\n",
      "[251]\tvalidation_0-rmse:0.11266\n",
      "[252]\tvalidation_0-rmse:0.11267\n",
      "[253]\tvalidation_0-rmse:0.11264\n",
      "[254]\tvalidation_0-rmse:0.11260\n",
      "[255]\tvalidation_0-rmse:0.11261\n",
      "[256]\tvalidation_0-rmse:0.11261\n",
      "[257]\tvalidation_0-rmse:0.11262\n",
      "[258]\tvalidation_0-rmse:0.11259\n",
      "[259]\tvalidation_0-rmse:0.11260\n",
      "[260]\tvalidation_0-rmse:0.11262\n",
      "[261]\tvalidation_0-rmse:0.11260\n",
      "[262]\tvalidation_0-rmse:0.11261\n",
      "[263]\tvalidation_0-rmse:0.11258\n",
      "[264]\tvalidation_0-rmse:0.11258\n",
      "[265]\tvalidation_0-rmse:0.11256\n",
      "[266]\tvalidation_0-rmse:0.11256\n",
      "[267]\tvalidation_0-rmse:0.11256\n",
      "[268]\tvalidation_0-rmse:0.11256\n",
      "[269]\tvalidation_0-rmse:0.11253\n",
      "[270]\tvalidation_0-rmse:0.11251\n",
      "[271]\tvalidation_0-rmse:0.11252\n",
      "[272]\tvalidation_0-rmse:0.11249\n",
      "[273]\tvalidation_0-rmse:0.11251\n",
      "[274]\tvalidation_0-rmse:0.11248\n",
      "[275]\tvalidation_0-rmse:0.11250\n",
      "[276]\tvalidation_0-rmse:0.11250\n",
      "[277]\tvalidation_0-rmse:0.11250\n",
      "[278]\tvalidation_0-rmse:0.11247\n",
      "[279]\tvalidation_0-rmse:0.11244\n",
      "[280]\tvalidation_0-rmse:0.11245\n",
      "[281]\tvalidation_0-rmse:0.11244\n",
      "[282]\tvalidation_0-rmse:0.11242\n",
      "[283]\tvalidation_0-rmse:0.11240\n",
      "[284]\tvalidation_0-rmse:0.11240\n",
      "[285]\tvalidation_0-rmse:0.11238\n",
      "[286]\tvalidation_0-rmse:0.11238\n",
      "[287]\tvalidation_0-rmse:0.11239\n",
      "[288]\tvalidation_0-rmse:0.11236\n",
      "[289]\tvalidation_0-rmse:0.11235\n",
      "[290]\tvalidation_0-rmse:0.11235\n",
      "[291]\tvalidation_0-rmse:0.11236\n",
      "[292]\tvalidation_0-rmse:0.11233\n",
      "[293]\tvalidation_0-rmse:0.11232\n",
      "[294]\tvalidation_0-rmse:0.11229\n",
      "[295]\tvalidation_0-rmse:0.11229\n",
      "[296]\tvalidation_0-rmse:0.11227\n",
      "[297]\tvalidation_0-rmse:0.11225\n",
      "[298]\tvalidation_0-rmse:0.11224\n",
      "[299]\tvalidation_0-rmse:0.11225\n",
      "[300]\tvalidation_0-rmse:0.11225\n",
      "[301]\tvalidation_0-rmse:0.11225\n",
      "[302]\tvalidation_0-rmse:0.11226\n",
      "[303]\tvalidation_0-rmse:0.11224\n",
      "[304]\tvalidation_0-rmse:0.11224\n",
      "[305]\tvalidation_0-rmse:0.11222\n",
      "[306]\tvalidation_0-rmse:0.11222\n",
      "[307]\tvalidation_0-rmse:0.11221\n",
      "[308]\tvalidation_0-rmse:0.11219\n",
      "[309]\tvalidation_0-rmse:0.11219\n",
      "[310]\tvalidation_0-rmse:0.11218\n",
      "[311]\tvalidation_0-rmse:0.11219\n",
      "[312]\tvalidation_0-rmse:0.11219\n",
      "[313]\tvalidation_0-rmse:0.11218\n",
      "[314]\tvalidation_0-rmse:0.11217\n",
      "[315]\tvalidation_0-rmse:0.11215\n",
      "[316]\tvalidation_0-rmse:0.11215\n",
      "[317]\tvalidation_0-rmse:0.11214\n",
      "[318]\tvalidation_0-rmse:0.11212\n",
      "[319]\tvalidation_0-rmse:0.11213\n",
      "[320]\tvalidation_0-rmse:0.11213\n",
      "[321]\tvalidation_0-rmse:0.11213\n",
      "[322]\tvalidation_0-rmse:0.11213\n",
      "[323]\tvalidation_0-rmse:0.11212\n",
      "[324]\tvalidation_0-rmse:0.11212\n",
      "[325]\tvalidation_0-rmse:0.11212\n",
      "[326]\tvalidation_0-rmse:0.11213\n",
      "[327]\tvalidation_0-rmse:0.11214\n",
      "[328]\tvalidation_0-rmse:0.11213\n",
      "[329]\tvalidation_0-rmse:0.11214\n",
      "[330]\tvalidation_0-rmse:0.11214\n",
      "[331]\tvalidation_0-rmse:0.11213\n",
      "[332]\tvalidation_0-rmse:0.11213\n",
      "[333]\tvalidation_0-rmse:0.11213\n",
      "[334]\tvalidation_0-rmse:0.11212\n",
      "[335]\tvalidation_0-rmse:0.11212\n",
      "[336]\tvalidation_0-rmse:0.11211\n",
      "[337]\tvalidation_0-rmse:0.11210\n",
      "[338]\tvalidation_0-rmse:0.11209\n",
      "[339]\tvalidation_0-rmse:0.11209\n",
      "[340]\tvalidation_0-rmse:0.11209\n",
      "[341]\tvalidation_0-rmse:0.11208\n",
      "[342]\tvalidation_0-rmse:0.11208\n",
      "[343]\tvalidation_0-rmse:0.11207\n",
      "[344]\tvalidation_0-rmse:0.11207\n",
      "[345]\tvalidation_0-rmse:0.11207\n",
      "[346]\tvalidation_0-rmse:0.11207\n",
      "[347]\tvalidation_0-rmse:0.11207\n",
      "[348]\tvalidation_0-rmse:0.11207\n",
      "[349]\tvalidation_0-rmse:0.11207\n",
      "[350]\tvalidation_0-rmse:0.11207\n",
      "[351]\tvalidation_0-rmse:0.11207\n",
      "[352]\tvalidation_0-rmse:0.11207\n",
      "[353]\tvalidation_0-rmse:0.11207\n",
      "[354]\tvalidation_0-rmse:0.11207\n",
      "[355]\tvalidation_0-rmse:0.11207\n",
      "[356]\tvalidation_0-rmse:0.11207\n",
      "[357]\tvalidation_0-rmse:0.11206\n",
      "[358]\tvalidation_0-rmse:0.11206\n",
      "[359]\tvalidation_0-rmse:0.11206\n",
      "[360]\tvalidation_0-rmse:0.11205\n",
      "[361]\tvalidation_0-rmse:0.11205\n",
      "[362]\tvalidation_0-rmse:0.11205\n",
      "[363]\tvalidation_0-rmse:0.11205\n",
      "[364]\tvalidation_0-rmse:0.11205\n",
      "[365]\tvalidation_0-rmse:0.11204\n",
      "[366]\tvalidation_0-rmse:0.11204\n",
      "[367]\tvalidation_0-rmse:0.11204\n",
      "[368]\tvalidation_0-rmse:0.11204\n",
      "[369]\tvalidation_0-rmse:0.11204\n",
      "[370]\tvalidation_0-rmse:0.11204\n",
      "[371]\tvalidation_0-rmse:0.11204\n",
      "[372]\tvalidation_0-rmse:0.11204\n",
      "[373]\tvalidation_0-rmse:0.11204\n",
      "[374]\tvalidation_0-rmse:0.11204\n",
      "[375]\tvalidation_0-rmse:0.11204\n",
      "[376]\tvalidation_0-rmse:0.11205\n",
      "[377]\tvalidation_0-rmse:0.11205\n",
      "[378]\tvalidation_0-rmse:0.11205\n",
      "[379]\tvalidation_0-rmse:0.11205\n",
      "[380]\tvalidation_0-rmse:0.11205\n",
      "[381]\tvalidation_0-rmse:0.11205\n",
      "[382]\tvalidation_0-rmse:0.11205\n",
      "[383]\tvalidation_0-rmse:0.11205\n",
      "[384]\tvalidation_0-rmse:0.11205\n",
      "[385]\tvalidation_0-rmse:0.11205\n",
      "[386]\tvalidation_0-rmse:0.11205\n",
      "[387]\tvalidation_0-rmse:0.11205\n",
      "[388]\tvalidation_0-rmse:0.11205\n",
      "[389]\tvalidation_0-rmse:0.11204\n",
      "[390]\tvalidation_0-rmse:0.11204\n",
      "[391]\tvalidation_0-rmse:0.11204\n",
      "[392]\tvalidation_0-rmse:0.11204\n",
      "[393]\tvalidation_0-rmse:0.11204\n",
      "[394]\tvalidation_0-rmse:0.11204\n",
      "[395]\tvalidation_0-rmse:0.11204\n",
      "[396]\tvalidation_0-rmse:0.11204\n",
      "[397]\tvalidation_0-rmse:0.11204\n",
      "[398]\tvalidation_0-rmse:0.11204\n",
      "[399]\tvalidation_0-rmse:0.11204\n",
      "[400]\tvalidation_0-rmse:0.11204\n",
      "[401]\tvalidation_0-rmse:0.11204\n",
      "[402]\tvalidation_0-rmse:0.11204\n",
      "[403]\tvalidation_0-rmse:0.11204\n",
      "[404]\tvalidation_0-rmse:0.11205\n",
      "[405]\tvalidation_0-rmse:0.11204\n",
      "[406]\tvalidation_0-rmse:0.11204\n",
      "[407]\tvalidation_0-rmse:0.11204\n",
      "[408]\tvalidation_0-rmse:0.11204\n",
      "[409]\tvalidation_0-rmse:0.11204\n",
      "[410]\tvalidation_0-rmse:0.11204\n",
      "[411]\tvalidation_0-rmse:0.11204\n",
      "[412]\tvalidation_0-rmse:0.11204\n",
      "[413]\tvalidation_0-rmse:0.11204\n",
      "[414]\tvalidation_0-rmse:0.11204\n",
      "[415]\tvalidation_0-rmse:0.11204\n",
      "[416]\tvalidation_0-rmse:0.11204\n",
      "[417]\tvalidation_0-rmse:0.11204\n",
      "[418]\tvalidation_0-rmse:0.11204\n",
      "[419]\tvalidation_0-rmse:0.11204\n",
      "[420]\tvalidation_0-rmse:0.11204\n",
      "[421]\tvalidation_0-rmse:0.11204\n",
      "[422]\tvalidation_0-rmse:0.11204\n",
      "[423]\tvalidation_0-rmse:0.11204\n",
      "[424]\tvalidation_0-rmse:0.11204\n",
      "[425]\tvalidation_0-rmse:0.11204\n",
      "[426]\tvalidation_0-rmse:0.11204\n",
      "[427]\tvalidation_0-rmse:0.11203\n",
      "[428]\tvalidation_0-rmse:0.11204\n",
      "[429]\tvalidation_0-rmse:0.11204\n",
      "[430]\tvalidation_0-rmse:0.11203\n",
      "[431]\tvalidation_0-rmse:0.11203\n",
      "[432]\tvalidation_0-rmse:0.11203\n",
      "[433]\tvalidation_0-rmse:0.11203\n",
      "[434]\tvalidation_0-rmse:0.11203\n",
      "[435]\tvalidation_0-rmse:0.11203\n",
      "[436]\tvalidation_0-rmse:0.11203\n",
      "[437]\tvalidation_0-rmse:0.11203\n",
      "[438]\tvalidation_0-rmse:0.11203\n",
      "[439]\tvalidation_0-rmse:0.11203\n",
      "[440]\tvalidation_0-rmse:0.11203\n",
      "[441]\tvalidation_0-rmse:0.11203\n",
      "[442]\tvalidation_0-rmse:0.11203\n",
      "[443]\tvalidation_0-rmse:0.11203\n",
      "[444]\tvalidation_0-rmse:0.11203\n",
      "[445]\tvalidation_0-rmse:0.11203\n",
      "[446]\tvalidation_0-rmse:0.11203\n",
      "[447]\tvalidation_0-rmse:0.11203\n",
      "[448]\tvalidation_0-rmse:0.11203\n",
      "[449]\tvalidation_0-rmse:0.11203\n",
      "[450]\tvalidation_0-rmse:0.11203\n",
      "[451]\tvalidation_0-rmse:0.11203\n",
      "[452]\tvalidation_0-rmse:0.11203\n",
      "[453]\tvalidation_0-rmse:0.11202\n",
      "[454]\tvalidation_0-rmse:0.11202\n",
      "[455]\tvalidation_0-rmse:0.11202\n",
      "[456]\tvalidation_0-rmse:0.11202\n",
      "[457]\tvalidation_0-rmse:0.11202\n",
      "[458]\tvalidation_0-rmse:0.11202\n",
      "[459]\tvalidation_0-rmse:0.11202\n",
      "[460]\tvalidation_0-rmse:0.11202\n",
      "[461]\tvalidation_0-rmse:0.11202\n",
      "[462]\tvalidation_0-rmse:0.11202\n",
      "[463]\tvalidation_0-rmse:0.11202\n",
      "[464]\tvalidation_0-rmse:0.11202\n",
      "[465]\tvalidation_0-rmse:0.11202\n",
      "[466]\tvalidation_0-rmse:0.11202\n",
      "[467]\tvalidation_0-rmse:0.11202\n",
      "[468]\tvalidation_0-rmse:0.11202\n",
      "[469]\tvalidation_0-rmse:0.11202\n",
      "[470]\tvalidation_0-rmse:0.11202\n",
      "[471]\tvalidation_0-rmse:0.11202\n",
      "[472]\tvalidation_0-rmse:0.11202\n",
      "[473]\tvalidation_0-rmse:0.11202\n",
      "[474]\tvalidation_0-rmse:0.11202\n",
      "[475]\tvalidation_0-rmse:0.11202\n",
      "[476]\tvalidation_0-rmse:0.11202\n",
      "[477]\tvalidation_0-rmse:0.11202\n",
      "[478]\tvalidation_0-rmse:0.11202\n",
      "[479]\tvalidation_0-rmse:0.11202\n",
      "[480]\tvalidation_0-rmse:0.11202\n",
      "[481]\tvalidation_0-rmse:0.11201\n",
      "[482]\tvalidation_0-rmse:0.11202\n",
      "[483]\tvalidation_0-rmse:0.11202\n",
      "[484]\tvalidation_0-rmse:0.11202\n",
      "[485]\tvalidation_0-rmse:0.11202\n",
      "[486]\tvalidation_0-rmse:0.11202\n",
      "[487]\tvalidation_0-rmse:0.11202\n",
      "[488]\tvalidation_0-rmse:0.11202\n",
      "[489]\tvalidation_0-rmse:0.11202\n",
      "[490]\tvalidation_0-rmse:0.11202\n",
      "[491]\tvalidation_0-rmse:0.11202\n",
      "[492]\tvalidation_0-rmse:0.11201\n",
      "[493]\tvalidation_0-rmse:0.11201\n",
      "[494]\tvalidation_0-rmse:0.11201\n",
      "[495]\tvalidation_0-rmse:0.11202\n",
      "[496]\tvalidation_0-rmse:0.11202\n",
      "[497]\tvalidation_0-rmse:0.11202\n",
      "[498]\tvalidation_0-rmse:0.11202\n",
      "[499]\tvalidation_0-rmse:0.11202\n",
      "[500]\tvalidation_0-rmse:0.11202\n",
      "[501]\tvalidation_0-rmse:0.11202\n",
      "[502]\tvalidation_0-rmse:0.11202\n",
      "[503]\tvalidation_0-rmse:0.11202\n",
      "[504]\tvalidation_0-rmse:0.11202\n",
      "[505]\tvalidation_0-rmse:0.11202\n",
      "[506]\tvalidation_0-rmse:0.11202\n",
      "[507]\tvalidation_0-rmse:0.11202\n",
      "[508]\tvalidation_0-rmse:0.11202\n",
      "[509]\tvalidation_0-rmse:0.11202\n",
      "[510]\tvalidation_0-rmse:0.11202\n",
      "[511]\tvalidation_0-rmse:0.11202\n",
      "[512]\tvalidation_0-rmse:0.11202\n",
      "[513]\tvalidation_0-rmse:0.11202\n",
      "[514]\tvalidation_0-rmse:0.11202\n",
      "[515]\tvalidation_0-rmse:0.11202\n",
      "[516]\tvalidation_0-rmse:0.11202\n",
      "[517]\tvalidation_0-rmse:0.11202\n",
      "[518]\tvalidation_0-rmse:0.11202\n",
      "[519]\tvalidation_0-rmse:0.11202\n",
      "[520]\tvalidation_0-rmse:0.11201\n",
      "[521]\tvalidation_0-rmse:0.11202\n",
      "[522]\tvalidation_0-rmse:0.11201\n",
      "[523]\tvalidation_0-rmse:0.11201\n",
      "[524]\tvalidation_0-rmse:0.11201\n",
      "[525]\tvalidation_0-rmse:0.11201\n",
      "[526]\tvalidation_0-rmse:0.11201\n",
      "[527]\tvalidation_0-rmse:0.11201\n",
      "[528]\tvalidation_0-rmse:0.11201\n",
      "[529]\tvalidation_0-rmse:0.11201\n",
      "[530]\tvalidation_0-rmse:0.11201\n",
      "[531]\tvalidation_0-rmse:0.11201\n",
      "[532]\tvalidation_0-rmse:0.11202\n",
      "[533]\tvalidation_0-rmse:0.11202\n",
      "[534]\tvalidation_0-rmse:0.11202\n",
      "[535]\tvalidation_0-rmse:0.11202\n",
      "[536]\tvalidation_0-rmse:0.11202\n",
      "[537]\tvalidation_0-rmse:0.11202\n",
      "[538]\tvalidation_0-rmse:0.11202\n",
      "[539]\tvalidation_0-rmse:0.11202\n",
      "[540]\tvalidation_0-rmse:0.11202\n",
      "[541]\tvalidation_0-rmse:0.11202\n",
      "[542]\tvalidation_0-rmse:0.11202\n",
      "[543]\tvalidation_0-rmse:0.11202\n",
      "[544]\tvalidation_0-rmse:0.11202\n",
      "[545]\tvalidation_0-rmse:0.11202\n",
      "[546]\tvalidation_0-rmse:0.11202\n",
      "[547]\tvalidation_0-rmse:0.11202\n",
      "[548]\tvalidation_0-rmse:0.11202\n",
      "[549]\tvalidation_0-rmse:0.11202\n",
      "[550]\tvalidation_0-rmse:0.11202\n",
      "[551]\tvalidation_0-rmse:0.11202\n",
      "[552]\tvalidation_0-rmse:0.11202\n",
      "[553]\tvalidation_0-rmse:0.11202\n",
      "[554]\tvalidation_0-rmse:0.11201\n",
      "[555]\tvalidation_0-rmse:0.11201\n",
      "[556]\tvalidation_0-rmse:0.11201\n",
      "[557]\tvalidation_0-rmse:0.11201\n",
      "[558]\tvalidation_0-rmse:0.11201\n",
      "[559]\tvalidation_0-rmse:0.11201\n",
      "[560]\tvalidation_0-rmse:0.11201\n",
      "[561]\tvalidation_0-rmse:0.11201\n",
      "[562]\tvalidation_0-rmse:0.11201\n",
      "[563]\tvalidation_0-rmse:0.11201\n",
      "[564]\tvalidation_0-rmse:0.11201\n",
      "[565]\tvalidation_0-rmse:0.11201\n",
      "[566]\tvalidation_0-rmse:0.11201\n",
      "[567]\tvalidation_0-rmse:0.11201\n",
      "[568]\tvalidation_0-rmse:0.11201\n",
      "[569]\tvalidation_0-rmse:0.11201\n",
      "[570]\tvalidation_0-rmse:0.11201\n",
      "[571]\tvalidation_0-rmse:0.11201\n",
      "[572]\tvalidation_0-rmse:0.11201\n",
      "[573]\tvalidation_0-rmse:0.11201\n",
      "[574]\tvalidation_0-rmse:0.11201\n",
      "[575]\tvalidation_0-rmse:0.11201\n",
      "[576]\tvalidation_0-rmse:0.11201\n",
      "[577]\tvalidation_0-rmse:0.11201\n",
      "[578]\tvalidation_0-rmse:0.11201\n",
      "[579]\tvalidation_0-rmse:0.11201\n",
      "[580]\tvalidation_0-rmse:0.11201\n",
      "[581]\tvalidation_0-rmse:0.11201\n",
      "[582]\tvalidation_0-rmse:0.11201\n",
      "[583]\tvalidation_0-rmse:0.11201\n",
      "[584]\tvalidation_0-rmse:0.11201\n",
      "[585]\tvalidation_0-rmse:0.11201\n",
      "[586]\tvalidation_0-rmse:0.11201\n",
      "[587]\tvalidation_0-rmse:0.11201\n",
      "[588]\tvalidation_0-rmse:0.11201\n",
      "[589]\tvalidation_0-rmse:0.11201\n",
      "[590]\tvalidation_0-rmse:0.11201\n",
      "[591]\tvalidation_0-rmse:0.11201\n",
      "[592]\tvalidation_0-rmse:0.11201\n",
      "[593]\tvalidation_0-rmse:0.11201\n",
      "[594]\tvalidation_0-rmse:0.11201\n",
      "[595]\tvalidation_0-rmse:0.11201\n",
      "[596]\tvalidation_0-rmse:0.11201\n",
      "[597]\tvalidation_0-rmse:0.11201\n",
      "[598]\tvalidation_0-rmse:0.11201\n",
      "[599]\tvalidation_0-rmse:0.11201\n",
      "[600]\tvalidation_0-rmse:0.11200\n",
      "[601]\tvalidation_0-rmse:0.11200\n",
      "[602]\tvalidation_0-rmse:0.11200\n",
      "[603]\tvalidation_0-rmse:0.11200\n",
      "[604]\tvalidation_0-rmse:0.11200\n",
      "[605]\tvalidation_0-rmse:0.11200\n",
      "[606]\tvalidation_0-rmse:0.11200\n",
      "[607]\tvalidation_0-rmse:0.11200\n",
      "[608]\tvalidation_0-rmse:0.11200\n",
      "[609]\tvalidation_0-rmse:0.11200\n",
      "[610]\tvalidation_0-rmse:0.11200\n",
      "[611]\tvalidation_0-rmse:0.11200\n",
      "[612]\tvalidation_0-rmse:0.11200\n",
      "[613]\tvalidation_0-rmse:0.11200\n",
      "[614]\tvalidation_0-rmse:0.11200\n",
      "[615]\tvalidation_0-rmse:0.11200\n",
      "[616]\tvalidation_0-rmse:0.11200\n",
      "[617]\tvalidation_0-rmse:0.11200\n",
      "[618]\tvalidation_0-rmse:0.11200\n",
      "[619]\tvalidation_0-rmse:0.11200\n",
      "[620]\tvalidation_0-rmse:0.11200\n",
      "[621]\tvalidation_0-rmse:0.11200\n",
      "[622]\tvalidation_0-rmse:0.11200\n",
      "[623]\tvalidation_0-rmse:0.11200\n",
      "[624]\tvalidation_0-rmse:0.11200\n",
      "[625]\tvalidation_0-rmse:0.11201\n",
      "[626]\tvalidation_0-rmse:0.11201\n",
      "[627]\tvalidation_0-rmse:0.11201\n",
      "[628]\tvalidation_0-rmse:0.11201\n",
      "[629]\tvalidation_0-rmse:0.11200\n",
      "[630]\tvalidation_0-rmse:0.11200\n",
      "[631]\tvalidation_0-rmse:0.11200\n",
      "[632]\tvalidation_0-rmse:0.11200\n",
      "[633]\tvalidation_0-rmse:0.11200\n",
      "[634]\tvalidation_0-rmse:0.11200\n",
      "[635]\tvalidation_0-rmse:0.11200\n",
      "[636]\tvalidation_0-rmse:0.11200\n",
      "[637]\tvalidation_0-rmse:0.11200\n",
      "[638]\tvalidation_0-rmse:0.11201\n",
      "[639]\tvalidation_0-rmse:0.11200\n",
      "[640]\tvalidation_0-rmse:0.11200\n",
      "[641]\tvalidation_0-rmse:0.11200\n",
      "[642]\tvalidation_0-rmse:0.11200\n",
      "[643]\tvalidation_0-rmse:0.11200\n",
      "[644]\tvalidation_0-rmse:0.11200\n",
      "[645]\tvalidation_0-rmse:0.11200\n",
      "[646]\tvalidation_0-rmse:0.11200\n",
      "[647]\tvalidation_0-rmse:0.11200\n",
      "[648]\tvalidation_0-rmse:0.11200\n",
      "[649]\tvalidation_0-rmse:0.11200\n",
      "[650]\tvalidation_0-rmse:0.11200\n",
      "[651]\tvalidation_0-rmse:0.11200\n",
      "[652]\tvalidation_0-rmse:0.11200\n",
      "[653]\tvalidation_0-rmse:0.11200\n",
      "[654]\tvalidation_0-rmse:0.11200\n",
      "[655]\tvalidation_0-rmse:0.11200\n",
      "[656]\tvalidation_0-rmse:0.11200\n",
      "[657]\tvalidation_0-rmse:0.11200\n",
      "[658]\tvalidation_0-rmse:0.11200\n",
      "[659]\tvalidation_0-rmse:0.11200\n",
      "[660]\tvalidation_0-rmse:0.11200\n",
      "[661]\tvalidation_0-rmse:0.11200\n",
      "[662]\tvalidation_0-rmse:0.11200\n",
      "[663]\tvalidation_0-rmse:0.11200\n",
      "[664]\tvalidation_0-rmse:0.11200\n",
      "[665]\tvalidation_0-rmse:0.11200\n",
      "[666]\tvalidation_0-rmse:0.11200\n",
      "[667]\tvalidation_0-rmse:0.11200\n",
      "[668]\tvalidation_0-rmse:0.11200\n",
      "[669]\tvalidation_0-rmse:0.11200\n",
      "[670]\tvalidation_0-rmse:0.11200\n",
      "[671]\tvalidation_0-rmse:0.11200\n",
      "[672]\tvalidation_0-rmse:0.11200\n",
      "[673]\tvalidation_0-rmse:0.11200\n",
      "[674]\tvalidation_0-rmse:0.11200\n",
      "[675]\tvalidation_0-rmse:0.11200\n",
      "[676]\tvalidation_0-rmse:0.11200\n",
      "[677]\tvalidation_0-rmse:0.11200\n",
      "[678]\tvalidation_0-rmse:0.11201\n",
      "[679]\tvalidation_0-rmse:0.11200\n",
      "[680]\tvalidation_0-rmse:0.11201\n",
      "[681]\tvalidation_0-rmse:0.11201\n",
      "[682]\tvalidation_0-rmse:0.11201\n",
      "[683]\tvalidation_0-rmse:0.11201\n",
      "[684]\tvalidation_0-rmse:0.11201\n",
      "[685]\tvalidation_0-rmse:0.11201\n",
      "[686]\tvalidation_0-rmse:0.11201\n",
      "[687]\tvalidation_0-rmse:0.11200\n",
      "[688]\tvalidation_0-rmse:0.11200\n",
      "[689]\tvalidation_0-rmse:0.11200\n",
      "[690]\tvalidation_0-rmse:0.11200\n",
      "[691]\tvalidation_0-rmse:0.11200\n",
      "[692]\tvalidation_0-rmse:0.11200\n",
      "[693]\tvalidation_0-rmse:0.11200\n",
      "[694]\tvalidation_0-rmse:0.11200\n",
      "[695]\tvalidation_0-rmse:0.11200\n",
      "[696]\tvalidation_0-rmse:0.11200\n",
      "[697]\tvalidation_0-rmse:0.11200\n",
      "[698]\tvalidation_0-rmse:0.11200\n",
      "[699]\tvalidation_0-rmse:0.11201\n",
      "[700]\tvalidation_0-rmse:0.11201\n",
      "[701]\tvalidation_0-rmse:0.11200\n",
      "[702]\tvalidation_0-rmse:0.11200\n",
      "[703]\tvalidation_0-rmse:0.11200\n",
      "[704]\tvalidation_0-rmse:0.11200\n",
      "[705]\tvalidation_0-rmse:0.11200\n",
      "[706]\tvalidation_0-rmse:0.11200\n",
      "[707]\tvalidation_0-rmse:0.11200\n",
      "[708]\tvalidation_0-rmse:0.11200\n",
      "[709]\tvalidation_0-rmse:0.11200\n",
      "[710]\tvalidation_0-rmse:0.11200\n",
      "[711]\tvalidation_0-rmse:0.11200\n",
      "[712]\tvalidation_0-rmse:0.11200\n",
      "[713]\tvalidation_0-rmse:0.11200\n",
      "[714]\tvalidation_0-rmse:0.11200\n",
      "[715]\tvalidation_0-rmse:0.11200\n",
      "[716]\tvalidation_0-rmse:0.11200\n",
      "[717]\tvalidation_0-rmse:0.11200\n",
      "[718]\tvalidation_0-rmse:0.11200\n",
      "[719]\tvalidation_0-rmse:0.11200\n",
      "[720]\tvalidation_0-rmse:0.11200\n",
      "[721]\tvalidation_0-rmse:0.11200\n",
      "[722]\tvalidation_0-rmse:0.11200\n",
      "[723]\tvalidation_0-rmse:0.11200\n",
      "[724]\tvalidation_0-rmse:0.11200\n",
      "[725]\tvalidation_0-rmse:0.11200\n",
      "[726]\tvalidation_0-rmse:0.11200\n",
      "[727]\tvalidation_0-rmse:0.11200\n",
      "[728]\tvalidation_0-rmse:0.11200\n",
      "[729]\tvalidation_0-rmse:0.11200\n",
      "[730]\tvalidation_0-rmse:0.11200\n",
      "[731]\tvalidation_0-rmse:0.11200\n",
      "[732]\tvalidation_0-rmse:0.11200\n",
      "[733]\tvalidation_0-rmse:0.11200\n",
      "[734]\tvalidation_0-rmse:0.11200\n",
      "[735]\tvalidation_0-rmse:0.11200\n",
      "[736]\tvalidation_0-rmse:0.11200\n",
      "[737]\tvalidation_0-rmse:0.11200\n",
      "[738]\tvalidation_0-rmse:0.11200\n",
      "[739]\tvalidation_0-rmse:0.11200\n",
      "[740]\tvalidation_0-rmse:0.11200\n",
      "[741]\tvalidation_0-rmse:0.11200\n",
      "[742]\tvalidation_0-rmse:0.11200\n",
      "[743]\tvalidation_0-rmse:0.11200\n",
      "[744]\tvalidation_0-rmse:0.11200\n",
      "[745]\tvalidation_0-rmse:0.11200\n",
      "[746]\tvalidation_0-rmse:0.11200\n",
      "[747]\tvalidation_0-rmse:0.11200\n",
      "[748]\tvalidation_0-rmse:0.11200\n",
      "[749]\tvalidation_0-rmse:0.11200\n",
      "[750]\tvalidation_0-rmse:0.11200\n",
      "[751]\tvalidation_0-rmse:0.11200\n",
      "[752]\tvalidation_0-rmse:0.11200\n",
      "[753]\tvalidation_0-rmse:0.11200\n",
      "[754]\tvalidation_0-rmse:0.11200\n",
      "[755]\tvalidation_0-rmse:0.11200\n",
      "[756]\tvalidation_0-rmse:0.11200\n",
      "[757]\tvalidation_0-rmse:0.11200\n",
      "[758]\tvalidation_0-rmse:0.11200\n",
      "[759]\tvalidation_0-rmse:0.11200\n",
      "[760]\tvalidation_0-rmse:0.11201\n",
      "[761]\tvalidation_0-rmse:0.11200\n",
      "[762]\tvalidation_0-rmse:0.11201\n",
      "[763]\tvalidation_0-rmse:0.11200\n",
      "[764]\tvalidation_0-rmse:0.11201\n",
      "[765]\tvalidation_0-rmse:0.11201\n",
      "[766]\tvalidation_0-rmse:0.11201\n",
      "[767]\tvalidation_0-rmse:0.11201\n",
      "[768]\tvalidation_0-rmse:0.11201\n",
      "[769]\tvalidation_0-rmse:0.11201\n",
      "[770]\tvalidation_0-rmse:0.11201\n",
      "[771]\tvalidation_0-rmse:0.11201\n",
      "[772]\tvalidation_0-rmse:0.11201\n",
      "[773]\tvalidation_0-rmse:0.11201\n",
      "[774]\tvalidation_0-rmse:0.11201\n",
      "[775]\tvalidation_0-rmse:0.11201\n",
      "[776]\tvalidation_0-rmse:0.11201\n",
      "[777]\tvalidation_0-rmse:0.11201\n",
      "[778]\tvalidation_0-rmse:0.11201\n",
      "[779]\tvalidation_0-rmse:0.11201\n",
      "[780]\tvalidation_0-rmse:0.11201\n",
      "[781]\tvalidation_0-rmse:0.11201\n",
      "[782]\tvalidation_0-rmse:0.11201\n",
      "[783]\tvalidation_0-rmse:0.11201\n",
      "[784]\tvalidation_0-rmse:0.11201\n",
      "[785]\tvalidation_0-rmse:0.11201\n",
      "[786]\tvalidation_0-rmse:0.11201\n",
      "[787]\tvalidation_0-rmse:0.11201\n",
      "[788]\tvalidation_0-rmse:0.11201\n",
      "[789]\tvalidation_0-rmse:0.11201\n",
      "[790]\tvalidation_0-rmse:0.11201\n",
      "[791]\tvalidation_0-rmse:0.11200\n",
      "[792]\tvalidation_0-rmse:0.11200\n",
      "[793]\tvalidation_0-rmse:0.11200\n",
      "[794]\tvalidation_0-rmse:0.11201\n",
      "[795]\tvalidation_0-rmse:0.11201\n",
      "[796]\tvalidation_0-rmse:0.11201\n",
      "[797]\tvalidation_0-rmse:0.11201\n",
      "[798]\tvalidation_0-rmse:0.11201\n",
      "[799]\tvalidation_0-rmse:0.11201\n",
      "[800]\tvalidation_0-rmse:0.11201\n",
      "[801]\tvalidation_0-rmse:0.11201\n",
      "[802]\tvalidation_0-rmse:0.11201\n",
      "[803]\tvalidation_0-rmse:0.11201\n",
      "[804]\tvalidation_0-rmse:0.11201\n",
      "[805]\tvalidation_0-rmse:0.11201\n",
      "[806]\tvalidation_0-rmse:0.11201\n",
      "[807]\tvalidation_0-rmse:0.11201\n",
      "[808]\tvalidation_0-rmse:0.11201\n",
      "[809]\tvalidation_0-rmse:0.11201\n",
      "[810]\tvalidation_0-rmse:0.11201\n",
      "[811]\tvalidation_0-rmse:0.11201\n",
      "[812]\tvalidation_0-rmse:0.11201\n",
      "[813]\tvalidation_0-rmse:0.11201\n",
      "[814]\tvalidation_0-rmse:0.11201\n",
      "[815]\tvalidation_0-rmse:0.11201\n",
      "[816]\tvalidation_0-rmse:0.11201\n",
      "[817]\tvalidation_0-rmse:0.11201\n",
      "[818]\tvalidation_0-rmse:0.11201\n",
      "[819]\tvalidation_0-rmse:0.11201\n",
      "[820]\tvalidation_0-rmse:0.11201\n",
      "[821]\tvalidation_0-rmse:0.11201\n",
      "[822]\tvalidation_0-rmse:0.11201\n",
      "[823]\tvalidation_0-rmse:0.11201\n",
      "[824]\tvalidation_0-rmse:0.11201\n",
      "[825]\tvalidation_0-rmse:0.11201\n",
      "[826]\tvalidation_0-rmse:0.11201\n",
      "[827]\tvalidation_0-rmse:0.11201\n",
      "[828]\tvalidation_0-rmse:0.11201\n",
      "[829]\tvalidation_0-rmse:0.11201\n",
      "[830]\tvalidation_0-rmse:0.11201\n",
      "[831]\tvalidation_0-rmse:0.11201\n",
      "[832]\tvalidation_0-rmse:0.11201\n",
      "[833]\tvalidation_0-rmse:0.11201\n",
      "[834]\tvalidation_0-rmse:0.11201\n",
      "[835]\tvalidation_0-rmse:0.11201\n",
      "[836]\tvalidation_0-rmse:0.11201\n",
      "[837]\tvalidation_0-rmse:0.11200\n",
      "[838]\tvalidation_0-rmse:0.11200\n",
      "[839]\tvalidation_0-rmse:0.11200\n",
      "[840]\tvalidation_0-rmse:0.11200\n",
      "[841]\tvalidation_0-rmse:0.11200\n",
      "[842]\tvalidation_0-rmse:0.11200\n",
      "[843]\tvalidation_0-rmse:0.11200\n",
      "[844]\tvalidation_0-rmse:0.11200\n",
      "[845]\tvalidation_0-rmse:0.11200\n",
      "[846]\tvalidation_0-rmse:0.11200\n",
      "[847]\tvalidation_0-rmse:0.11200\n",
      "[848]\tvalidation_0-rmse:0.11200\n",
      "[849]\tvalidation_0-rmse:0.11200\n",
      "[850]\tvalidation_0-rmse:0.11200\n",
      "[851]\tvalidation_0-rmse:0.11200\n",
      "[852]\tvalidation_0-rmse:0.11200\n",
      "[853]\tvalidation_0-rmse:0.11200\n",
      "[854]\tvalidation_0-rmse:0.11201\n",
      "[855]\tvalidation_0-rmse:0.11201\n",
      "[856]\tvalidation_0-rmse:0.11201\n",
      "[857]\tvalidation_0-rmse:0.11200\n",
      "[858]\tvalidation_0-rmse:0.11200\n",
      "[859]\tvalidation_0-rmse:0.11200\n",
      "[860]\tvalidation_0-rmse:0.11200\n",
      "[861]\tvalidation_0-rmse:0.11201\n",
      "[862]\tvalidation_0-rmse:0.11201\n",
      "[863]\tvalidation_0-rmse:0.11201\n",
      "[864]\tvalidation_0-rmse:0.11201\n",
      "[865]\tvalidation_0-rmse:0.11201\n",
      "[866]\tvalidation_0-rmse:0.11201\n",
      "[867]\tvalidation_0-rmse:0.11200\n",
      "[868]\tvalidation_0-rmse:0.11200\n",
      "[869]\tvalidation_0-rmse:0.11200\n",
      "[870]\tvalidation_0-rmse:0.11201\n",
      "[871]\tvalidation_0-rmse:0.11200\n",
      "[872]\tvalidation_0-rmse:0.11200\n",
      "[873]\tvalidation_0-rmse:0.11200\n",
      "[874]\tvalidation_0-rmse:0.11200\n",
      "[875]\tvalidation_0-rmse:0.11200\n",
      "[876]\tvalidation_0-rmse:0.11200\n",
      "[877]\tvalidation_0-rmse:0.11200\n",
      "[878]\tvalidation_0-rmse:0.11200\n",
      "[879]\tvalidation_0-rmse:0.11200\n",
      "[880]\tvalidation_0-rmse:0.11200\n",
      "[881]\tvalidation_0-rmse:0.11200\n",
      "[882]\tvalidation_0-rmse:0.11200\n",
      "[883]\tvalidation_0-rmse:0.11200\n",
      "[884]\tvalidation_0-rmse:0.11200\n",
      "[885]\tvalidation_0-rmse:0.11200\n",
      "[886]\tvalidation_0-rmse:0.11200\n",
      "[887]\tvalidation_0-rmse:0.11200\n",
      "[888]\tvalidation_0-rmse:0.11200\n",
      "[889]\tvalidation_0-rmse:0.11200\n",
      "[890]\tvalidation_0-rmse:0.11200\n",
      "[891]\tvalidation_0-rmse:0.11200\n",
      "[892]\tvalidation_0-rmse:0.11200\n",
      "[893]\tvalidation_0-rmse:0.11201\n",
      "[894]\tvalidation_0-rmse:0.11201\n",
      "[895]\tvalidation_0-rmse:0.11201\n",
      "[896]\tvalidation_0-rmse:0.11201\n",
      "[897]\tvalidation_0-rmse:0.11201\n",
      "[898]\tvalidation_0-rmse:0.11201\n",
      "[899]\tvalidation_0-rmse:0.11201\n",
      "[900]\tvalidation_0-rmse:0.11201\n",
      "[901]\tvalidation_0-rmse:0.11201\n",
      "[902]\tvalidation_0-rmse:0.11201\n",
      "[903]\tvalidation_0-rmse:0.11201\n",
      "[904]\tvalidation_0-rmse:0.11201\n",
      "[905]\tvalidation_0-rmse:0.11201\n",
      "[906]\tvalidation_0-rmse:0.11201\n",
      "[907]\tvalidation_0-rmse:0.11201\n",
      "[908]\tvalidation_0-rmse:0.11201\n",
      "[909]\tvalidation_0-rmse:0.11201\n",
      "[910]\tvalidation_0-rmse:0.11201\n",
      "[911]\tvalidation_0-rmse:0.11201\n",
      "[912]\tvalidation_0-rmse:0.11201\n",
      "[913]\tvalidation_0-rmse:0.11201\n",
      "[914]\tvalidation_0-rmse:0.11201\n",
      "[915]\tvalidation_0-rmse:0.11201\n",
      "[916]\tvalidation_0-rmse:0.11201\n",
      "[917]\tvalidation_0-rmse:0.11201\n",
      "[918]\tvalidation_0-rmse:0.11200\n",
      "[919]\tvalidation_0-rmse:0.11200\n",
      "[920]\tvalidation_0-rmse:0.11200\n",
      "[921]\tvalidation_0-rmse:0.11200\n",
      "[922]\tvalidation_0-rmse:0.11200\n",
      "[923]\tvalidation_0-rmse:0.11200\n",
      "[924]\tvalidation_0-rmse:0.11200\n",
      "[925]\tvalidation_0-rmse:0.11200\n",
      "[926]\tvalidation_0-rmse:0.11200\n",
      "[927]\tvalidation_0-rmse:0.11200\n",
      "[928]\tvalidation_0-rmse:0.11200\n",
      "[929]\tvalidation_0-rmse:0.11200\n",
      "[930]\tvalidation_0-rmse:0.11200\n",
      "[931]\tvalidation_0-rmse:0.11200\n",
      "[932]\tvalidation_0-rmse:0.11200\n",
      "[933]\tvalidation_0-rmse:0.11200\n",
      "[934]\tvalidation_0-rmse:0.11200\n",
      "[935]\tvalidation_0-rmse:0.11201\n",
      "[936]\tvalidation_0-rmse:0.11201\n",
      "[937]\tvalidation_0-rmse:0.11200\n",
      "[938]\tvalidation_0-rmse:0.11200\n",
      "[939]\tvalidation_0-rmse:0.11200\n",
      "[940]\tvalidation_0-rmse:0.11200\n",
      "[941]\tvalidation_0-rmse:0.11200\n",
      "[942]\tvalidation_0-rmse:0.11200\n",
      "[943]\tvalidation_0-rmse:0.11200\n",
      "[944]\tvalidation_0-rmse:0.11200\n",
      "[945]\tvalidation_0-rmse:0.11200\n",
      "[946]\tvalidation_0-rmse:0.11200\n",
      "[947]\tvalidation_0-rmse:0.11200\n",
      "[948]\tvalidation_0-rmse:0.11201\n",
      "[949]\tvalidation_0-rmse:0.11201\n",
      "[950]\tvalidation_0-rmse:0.11201\n",
      "[951]\tvalidation_0-rmse:0.11201\n",
      "[952]\tvalidation_0-rmse:0.11200\n",
      "[953]\tvalidation_0-rmse:0.11201\n",
      "[954]\tvalidation_0-rmse:0.11201\n",
      "[955]\tvalidation_0-rmse:0.11201\n",
      "[956]\tvalidation_0-rmse:0.11201\n",
      "[957]\tvalidation_0-rmse:0.11201\n",
      "[958]\tvalidation_0-rmse:0.11201\n",
      "[959]\tvalidation_0-rmse:0.11201\n",
      "[960]\tvalidation_0-rmse:0.11201\n",
      "[961]\tvalidation_0-rmse:0.11201\n",
      "[962]\tvalidation_0-rmse:0.11201\n",
      "[963]\tvalidation_0-rmse:0.11201\n",
      "[964]\tvalidation_0-rmse:0.11201\n",
      "[965]\tvalidation_0-rmse:0.11201\n",
      "[966]\tvalidation_0-rmse:0.11201\n",
      "[967]\tvalidation_0-rmse:0.11201\n",
      "[968]\tvalidation_0-rmse:0.11201\n",
      "[969]\tvalidation_0-rmse:0.11201\n",
      "[970]\tvalidation_0-rmse:0.11201\n",
      "[971]\tvalidation_0-rmse:0.11201\n",
      "[972]\tvalidation_0-rmse:0.11201\n",
      "[973]\tvalidation_0-rmse:0.11201\n",
      "[974]\tvalidation_0-rmse:0.11201\n",
      "[975]\tvalidation_0-rmse:0.11201\n",
      "[976]\tvalidation_0-rmse:0.11201\n",
      "[977]\tvalidation_0-rmse:0.11201\n",
      "[978]\tvalidation_0-rmse:0.11201\n",
      "[979]\tvalidation_0-rmse:0.11201\n",
      "[980]\tvalidation_0-rmse:0.11201\n",
      "[981]\tvalidation_0-rmse:0.11201\n",
      "[982]\tvalidation_0-rmse:0.11201\n",
      "[983]\tvalidation_0-rmse:0.11201\n",
      "[984]\tvalidation_0-rmse:0.11201\n",
      "[985]\tvalidation_0-rmse:0.11201\n",
      "[986]\tvalidation_0-rmse:0.11201\n",
      "[987]\tvalidation_0-rmse:0.11201\n",
      "[988]\tvalidation_0-rmse:0.11201\n",
      "[989]\tvalidation_0-rmse:0.11201\n",
      "[990]\tvalidation_0-rmse:0.11201\n",
      "[991]\tvalidation_0-rmse:0.11201\n",
      "[992]\tvalidation_0-rmse:0.11200\n",
      "[993]\tvalidation_0-rmse:0.11201\n",
      "[994]\tvalidation_0-rmse:0.11201\n",
      "[995]\tvalidation_0-rmse:0.11201\n",
      "[996]\tvalidation_0-rmse:0.11201\n",
      "[997]\tvalidation_0-rmse:0.11201\n",
      "[998]\tvalidation_0-rmse:0.11201\n",
      "[999]\tvalidation_0-rmse:0.11201\n"
     ]
    }
   ],
   "source": [
    "\n",
    "# XGBoost Model\n",
    "xgb_model = xgb.XGBRegressor(objective='reg:squarederror', n_estimators=1000, learning_rate=0.05, max_depth=6,\n",
    "                             subsample=0.8, colsample_bytree=0.8, random_state=42, eval_metric=\"rmse\")\n",
    "xgb_model.fit(X_train_scaled, y_train_scaled, eval_set=[(X_test_scaled, y_test_scaled)], verbose=True)\n",
    "yxg_pred_scaled = xgb_model.predict(X_test_scaled)\n",
    "yxg_pred = scaler_y.inverse_transform(yxg_pred_scaled.reshape(-1, 1)).flatten()\n"
   ]
  },
  {
   "cell_type": "code",
   "execution_count": 22,
   "metadata": {},
   "outputs": [
    {
     "name": "stdout",
     "output_type": "stream",
     "text": [
      "XGBoost MAE 2077-2081: 78855.10\n",
      "XGBoost RMSE 2077-2081: 114682.64\n"
     ]
    }
   ],
   "source": [
    "# XGBoost Metrics\n",
    "mae_xgb = mean_absolute_error(y_test, yxg_pred)\n",
    "rmse_xgb = np.sqrt(mean_squared_error(y_test, yxg_pred))\n",
    "print(f\"XGBoost MAE 2077-2081: {mae_xgb:.2f}\")\n",
    "print(f\"XGBoost RMSE 2077-2081: {rmse_xgb:.2f}\")\n"
   ]
  },
  {
   "cell_type": "code",
   "execution_count": 23,
   "metadata": {},
   "outputs": [
    {
     "name": "stdout",
     "output_type": "stream",
     "text": [
      "XG boost R² Score 2077-2081: 0.9260\n"
     ]
    }
   ],
   "source": [
    "from sklearn.metrics import r2_score\n",
    "\n",
    "r2_rf = r2_score(y_test, yxg_pred)\n",
    "print(f\"XG boost R² Score 2077-2081: {r2_rf:.4f}\")"
   ]
  },
  {
   "cell_type": "code",
   "execution_count": 24,
   "metadata": {},
   "outputs": [
    {
     "data": {
      "image/png": "[encoded data removed]",
      "text/plain": [
       "<Figure size 1200x600 with 1 Axes>"
      ]
     },
     "metadata": {},
     "output_type": "display_data"
    }
   ],
   "source": [
    "# Visualization\n",
    "plt.figure(figsize=(12, 6))\n",
    "plt.plot(data.index, data[\"sales\"], label=\"Actual Sales\", color=\"black\", linewidth=2, marker='o')\n",
    "\n",
    "plt.plot(X_test.index, yxg_pred, label=\"XGBoost Forecast\", color=\"blue\", linestyle=\"dashed\", linewidth=2, marker='o')\n",
    "plt.title(\"sales Forecasting using XG boost from 2077-2081 data\")\n",
    "plt.legend()\n",
    "plt.show()\n",
    "\n"
   ]
  },
  {
   "cell_type": "markdown",
   "metadata": {},
   "source": [
    "### Comparision from Random Forest and XG boost from 2077-2081 data and Visualizing them\n",
    "\n",
    "Random Forest                           XG Boost\n",
    "1. MAE random: 79728.14   ----------------             1. MAE xgb: 78855.10\n",
    "2. RMSE random: 112815.75 ----------------            2. RMSE xgb: 114682.64\n",
    "3. R2 score random: 0.9284-----------------             3. R2_score xgb: 0.9260"
   ]
  },
  {
   "cell_type": "code",
   "execution_count": 25,
   "metadata": {},
   "outputs": [
    {
     "data": {
      "image/png": "[encoded data removed]",
      "text/plain": [
       "<Figure size 1000x800 with 1 Axes>"
      ]
     },
     "metadata": {},
     "output_type": "display_data"
    }
   ],
   "source": [
    "plt.figure(figsize=(10,8))\n",
    "plt.plot(data.index[:-(len(X_test))], data[\"sales\"][:-(len(X_test))], label=\"Actual Sales (Train)\", color=\"black\", linestyle=\"solid\", linewidth=2)\n",
    "plt.plot(data.index[-(len(X_test)):], data[\"sales\"][-(len(X_test)):], label=\"Test Data\", color=\"green\", linestyle=\"solid\", linewidth=2)\n",
    "plt.plot(X_test.index, yran_pred, label=\"Random Forest Forecast\", color=\"red\", linestyle=\"dashed\", linewidth=2 )\n",
    "plt.plot(X_test.index, yxg_pred, label=\"XG Boost Forecast\", color=\"blue\", linestyle=\"dashed\", linewidth=2)\n",
    "plt.title(\"Comparision of Random Forest and XG boost performance from 2074-2081 data for JGI\")\n",
    "plt.xlabel(\"Date\")\n",
    "plt.ylabel(\"Month wise Sales\")\n",
    "plt.legend()\n",
    "plt.show()"
   ]
  }
 ],
 "metadata": {
  "kernelspec": {
   "display_name": "Python 3",
   "language": "python",
   "name": "python3"
  },
  "language_info": {
   "codemirror_mode": {
    "name": "ipython",
    "version": 3
   },
   "file_extension": ".py",
   "mimetype": "text/x-python",
   "name": "python",
   "nbconvert_exporter": "python",
   "pygments_lexer": "ipython3",
   "version": "3.12.3"
  }
 },
 "nbformat": 4,
 "nbformat_minor": 2
}
