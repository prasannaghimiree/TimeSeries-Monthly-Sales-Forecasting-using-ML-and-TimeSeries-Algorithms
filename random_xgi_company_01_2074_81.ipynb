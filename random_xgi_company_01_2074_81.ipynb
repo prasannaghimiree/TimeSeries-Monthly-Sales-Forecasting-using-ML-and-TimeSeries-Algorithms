{
 "cells": [
  {
   "cell_type": "code",
   "execution_count": 88,
   "metadata": {},
   "outputs": [],
   "source": [
    "#importing the libraries\n",
    "import numpy as np\n",
    "import pandas as pd\n",
    "import matplotlib.pyplot as plt\n",
    "import plotly.graph_objs as go\n",
    "import plotly.offline as pyo\n",
    "from sklearn.preprocessing import MinMaxScaler, StandardScaler\n",
    "from sklearn.model_selection import train_test_split\n",
    "from sklearn.metrics import root_mean_squared_error, mean_absolute_error, mean_squared_error, r2_score\n",
    "from sklearn.ensemble import RandomForestRegressor\n",
    "import xgboost as xgb"
   ]
  },
  {
   "cell_type": "code",
   "execution_count": 89,
   "metadata": {},
   "outputs": [],
   "source": [
    "df = pd.read_csv(r\"dataset\\company_01_merge_sales.csv\", parse_dates=[\"date\"], index_col=\"date\")\n",
    "df = df.sort_index()\n",
    "df.dropna(inplace=True)"
   ]
  },
  {
   "cell_type": "code",
   "execution_count": 90,
   "metadata": {},
   "outputs": [
    {
     "data": {
      "text/plain": [
       "DatetimeIndex(['2074-04-01', '2074-05-01', '2074-06-01', '2074-07-01',\n",
       "               '2074-08-01', '2074-09-01', '2074-10-01', '2074-11-01',\n",
       "               '2074-12-01', '2075-01-01', '2075-02-01', '2075-03-01',\n",
       "               '2075-04-01', '2075-05-01', '2075-06-01', '2075-07-01',\n",
       "               '2075-08-01', '2075-09-01', '2075-10-01', '2075-11-01',\n",
       "               '2075-12-01', '2076-01-01', '2076-02-01', '2076-03-01',\n",
       "               '2076-04-01', '2076-05-01', '2076-06-01', '2076-07-01',\n",
       "               '2076-08-01', '2076-09-01', '2076-10-01', '2076-11-01',\n",
       "               '2076-12-01', '2077-01-01', '2077-02-01', '2077-03-01',\n",
       "               '2077-04-01', '2077-05-01', '2077-06-01', '2077-07-01',\n",
       "               '2077-08-01', '2077-09-01', '2077-10-01', '2077-11-01',\n",
       "               '2077-12-01', '2078-01-01', '2078-02-01', '2078-03-01',\n",
       "               '2078-04-01', '2078-05-01', '2078-06-01', '2078-07-01',\n",
       "               '2078-08-01', '2078-09-01', '2078-10-01', '2078-11-01',\n",
       "               '2078-12-01', '2079-01-01', '2079-02-01', '2079-03-01',\n",
       "               '2079-04-01', '2079-05-01', '2079-06-01', '2079-07-01',\n",
       "               '2079-08-01', '2079-09-01', '2079-10-01', '2079-11-01',\n",
       "               '2079-12-01', '2080-01-01', '2080-02-01', '2080-03-01',\n",
       "               '2080-04-01', '2080-05-01', '2080-06-01', '2080-07-01',\n",
       "               '2080-08-01', '2080-09-01', '2080-10-01', '2080-11-01',\n",
       "               '2080-12-01', '2081-01-01', '2081-02-01', '2081-03-01',\n",
       "               '2081-04-01', '2081-05-01', '2081-06-01', '2081-07-01',\n",
       "               '2081-08-01', '2081-09-01', '2081-10-01', '2081-11-01'],\n",
       "              dtype='datetime64[ns]', name='date', freq=None)"
      ]
     },
     "execution_count": 90,
     "metadata": {},
     "output_type": "execute_result"
    }
   ],
   "source": [
    "df.index"
   ]
  },
  {
   "cell_type": "code",
   "execution_count": 91,
   "metadata": {},
   "outputs": [
    {
     "data": {
      "text/plain": [
       "Index(['sales'], dtype='object')"
      ]
     },
     "execution_count": 91,
     "metadata": {},
     "output_type": "execute_result"
    }
   ],
   "source": [
    "df.columns"
   ]
  },
  {
   "cell_type": "code",
   "execution_count": 92,
   "metadata": {},
   "outputs": [
    {
     "data": {
      "application/vnd.plotly.v1+json": {
       "config": {
        "linkText": "Export to plot.ly",
        "plotlyServerURL": "https://plot.ly",
        "showLink": false
       },
       "data": [
        {
         "line": {
          "shape": "spline"
         },
         "mode": "lines+markers",
         "name": "Fiscal Year 2074-2075",
         "type": "scatter",
         "x": [
          "Shrawan",
          "Bhadra",
          "Asoj",
          "Kartik",
          "Mangsir",
          "Poush",
          "Magh",
          "Falgun",
          "Chaitra",
          "Baishakh",
          "Jestha",
          "Ashadh"
         ],
         "y": [
          71755796.4,
          122992928.74,
          125056963.46,
          202302083.73,
          172521194.1,
          189387312.6,
          162991937.9,
          246192681.05,
          193201963.54,
          625774133.1,
          337024106,
          12468421.8
         ]
        },
        {
         "line": {
          "shape": "spline"
         },
         "mode": "lines+markers",
         "name": "Fiscal Year 2075-2076",
         "type": "scatter",
         "x": [
          "Shrawan",
          "Bhadra",
          "Asoj",
          "Kartik",
          "Mangsir",
          "Poush",
          "Magh",
          "Falgun",
          "Chaitra",
          "Baishakh",
          "Jestha",
          "Ashadh"
         ],
         "y": [
          23060160.25,
          164447230.18,
          248224307.87,
          248144341,
          274515349.85,
          178072990.3,
          194075959.25,
          285194125.56,
          283819979,
          822926960.75,
          458932318.34,
          402762.5
         ]
        },
        {
         "line": {
          "shape": "spline"
         },
         "mode": "lines+markers",
         "name": "Fiscal Year 2076-2077",
         "type": "scatter",
         "x": [
          "Shrawan",
          "Bhadra",
          "Asoj",
          "Kartik",
          "Mangsir",
          "Poush",
          "Magh",
          "Falgun",
          "Chaitra",
          "Baishakh",
          "Jestha",
          "Ashadh"
         ],
         "y": [
          20440556.5,
          74716727.5,
          317840861.5,
          137070296.15,
          317118190.25,
          247038284.59,
          269251527.68,
          378572871.3,
          101123442,
          81206083.5,
          387370333.8,
          65530402.72
         ]
        },
        {
         "line": {
          "shape": "spline"
         },
         "mode": "lines+markers",
         "name": "Fiscal Year 2077-2078",
         "type": "scatter",
         "x": [
          "Shrawan",
          "Bhadra",
          "Asoj",
          "Kartik",
          "Mangsir",
          "Poush",
          "Magh",
          "Falgun",
          "Chaitra",
          "Baishakh",
          "Jestha",
          "Ashadh"
         ],
         "y": [
          155470501.25,
          174686903.4,
          312451911.7,
          195434472.76,
          289934595.8,
          377601661.75,
          182634358.82,
          302130721.2,
          399049552.64,
          1029635779.15,
          271075714.16,
          11690975.02
         ]
        },
        {
         "line": {
          "shape": "spline"
         },
         "mode": "lines+markers",
         "name": "Fiscal Year 2078-2079",
         "type": "scatter",
         "x": [
          "Shrawan",
          "Bhadra",
          "Asoj",
          "Kartik",
          "Mangsir",
          "Poush",
          "Magh",
          "Falgun",
          "Chaitra",
          "Baishakh",
          "Jestha",
          "Ashadh"
         ],
         "y": [
          53520162.44,
          137992315.52,
          505038261.87,
          103503942,
          453931468.4,
          371586402.85,
          96011362.1,
          465666384.73,
          645545415.96,
          879379146.32,
          348142424,
          971318
         ]
        },
        {
         "line": {
          "shape": "spline"
         },
         "mode": "lines+markers",
         "name": "Fiscal Year 2079-2080",
         "type": "scatter",
         "x": [
          "Shrawan",
          "Bhadra",
          "Asoj",
          "Kartik",
          "Mangsir",
          "Poush",
          "Magh",
          "Falgun",
          "Chaitra",
          "Baishakh",
          "Jestha",
          "Ashadh"
         ],
         "y": [
          52934750,
          380463462.2,
          322358293.65,
          97004859.42,
          44414166.5,
          398955480.65,
          42168978.85,
          223128142.1,
          840761479.06,
          465965830.8,
          82485351.18,
          21949290.46
         ]
        },
        {
         "line": {
          "shape": "spline"
         },
         "mode": "lines+markers",
         "name": "Fiscal Year 2080-2081",
         "type": "scatter",
         "x": [
          "Shrawan",
          "Bhadra",
          "Asoj",
          "Kartik",
          "Mangsir",
          "Poush",
          "Magh",
          "Falgun",
          "Chaitra",
          "Baishakh",
          "Jestha",
          "Ashadh"
         ],
         "y": [
          36314640,
          48065241.03,
          408792471.23,
          28326755,
          265459562.5,
          169315223.02,
          42567228.03,
          178127862.1,
          229439178.44,
          572657580.46,
          103396366.03,
          57982.3
         ]
        },
        {
         "line": {
          "shape": "spline"
         },
         "mode": "lines+markers",
         "name": "Fiscal Year 2081-2082",
         "type": "scatter",
         "x": [
          "Shrawan",
          "Bhadra",
          "Asoj",
          "Kartik",
          "Mangsir",
          "Poush",
          "Magh",
          "Falgun"
         ],
         "y": [
          117019871.2,
          259450136.69,
          358074592.78,
          226447289.39,
          239345049.18,
          309776466.8,
          382738843.5,
          126647902.55
         ]
        }
       ],
       "layout": {
        "hovermode": "x unified",
        "template": {
         "data": {
          "bar": [
           {
            "error_x": {
             "color": "#f2f5fa"
            },
            "error_y": {
             "color": "#f2f5fa"
            },
            "marker": {
             "line": {
              "color": "rgb(17,17,17)",
              "width": 0.5
             },
             "pattern": {
              "fillmode": "overlay",
              "size": 10,
              "solidity": 0.2
             }
            },
            "type": "bar"
           }
          ],
          "barpolar": [
           {
            "marker": {
             "line": {
              "color": "rgb(17,17,17)",
              "width": 0.5
             },
             "pattern": {
              "fillmode": "overlay",
              "size": 10,
              "solidity": 0.2
             }
            },
            "type": "barpolar"
           }
          ],
          "carpet": [
           {
            "aaxis": {
             "endlinecolor": "#A2B1C6",
             "gridcolor": "#506784",
             "linecolor": "#506784",
             "minorgridcolor": "#506784",
             "startlinecolor": "#A2B1C6"
            },
            "baxis": {
             "endlinecolor": "#A2B1C6",
             "gridcolor": "#506784",
             "linecolor": "#506784",
             "minorgridcolor": "#506784",
             "startlinecolor": "#A2B1C6"
            },
            "type": "carpet"
           }
          ],
          "choropleth": [
           {
            "colorbar": {
             "outlinewidth": 0,
             "ticks": ""
            },
            "type": "choropleth"
           }
          ],
          "contour": [
           {
            "colorbar": {
             "outlinewidth": 0,
             "ticks": ""
            },
            "colorscale": [
             [
              0,
              "#0d0887"
             ],
             [
              0.1111111111111111,
              "#46039f"
             ],
             [
              0.2222222222222222,
              "#7201a8"
             ],
             [
              0.3333333333333333,
              "#9c179e"
             ],
             [
              0.4444444444444444,
              "#bd3786"
             ],
             [
              0.5555555555555556,
              "#d8576b"
             ],
             [
              0.6666666666666666,
              "#ed7953"
             ],
             [
              0.7777777777777778,
              "#fb9f3a"
             ],
             [
              0.8888888888888888,
              "#fdca26"
             ],
             [
              1,
              "#f0f921"
             ]
            ],
            "type": "contour"
           }
          ],
          "contourcarpet": [
           {
            "colorbar": {
             "outlinewidth": 0,
             "ticks": ""
            },
            "type": "contourcarpet"
           }
          ],
          "heatmap": [
           {
            "colorbar": {
             "outlinewidth": 0,
             "ticks": ""
            },
            "colorscale": [
             [
              0,
              "#0d0887"
             ],
             [
              0.1111111111111111,
              "#46039f"
             ],
             [
              0.2222222222222222,
              "#7201a8"
             ],
             [
              0.3333333333333333,
              "#9c179e"
             ],
             [
              0.4444444444444444,
              "#bd3786"
             ],
             [
              0.5555555555555556,
              "#d8576b"
             ],
             [
              0.6666666666666666,
              "#ed7953"
             ],
             [
              0.7777777777777778,
              "#fb9f3a"
             ],
             [
              0.8888888888888888,
              "#fdca26"
             ],
             [
              1,
              "#f0f921"
             ]
            ],
            "type": "heatmap"
           }
          ],
          "heatmapgl": [
           {
            "colorbar": {
             "outlinewidth": 0,
             "ticks": ""
            },
            "colorscale": [
             [
              0,
              "#0d0887"
             ],
             [
              0.1111111111111111,
              "#46039f"
             ],
             [
              0.2222222222222222,
              "#7201a8"
             ],
             [
              0.3333333333333333,
              "#9c179e"
             ],
             [
              0.4444444444444444,
              "#bd3786"
             ],
             [
              0.5555555555555556,
              "#d8576b"
             ],
             [
              0.6666666666666666,
              "#ed7953"
             ],
             [
              0.7777777777777778,
              "#fb9f3a"
             ],
             [
              0.8888888888888888,
              "#fdca26"
             ],
             [
              1,
              "#f0f921"
             ]
            ],
            "type": "heatmapgl"
           }
          ],
          "histogram": [
           {
            "marker": {
             "pattern": {
              "fillmode": "overlay",
              "size": 10,
              "solidity": 0.2
             }
            },
            "type": "histogram"
           }
          ],
          "histogram2d": [
           {
            "colorbar": {
             "outlinewidth": 0,
             "ticks": ""
            },
            "colorscale": [
             [
              0,
              "#0d0887"
             ],
             [
              0.1111111111111111,
              "#46039f"
             ],
             [
              0.2222222222222222,
              "#7201a8"
             ],
             [
              0.3333333333333333,
              "#9c179e"
             ],
             [
              0.4444444444444444,
              "#bd3786"
             ],
             [
              0.5555555555555556,
              "#d8576b"
             ],
             [
              0.6666666666666666,
              "#ed7953"
             ],
             [
              0.7777777777777778,
              "#fb9f3a"
             ],
             [
              0.8888888888888888,
              "#fdca26"
             ],
             [
              1,
              "#f0f921"
             ]
            ],
            "type": "histogram2d"
           }
          ],
          "histogram2dcontour": [
           {
            "colorbar": {
             "outlinewidth": 0,
             "ticks": ""
            },
            "colorscale": [
             [
              0,
              "#0d0887"
             ],
             [
              0.1111111111111111,
              "#46039f"
             ],
             [
              0.2222222222222222,
              "#7201a8"
             ],
             [
              0.3333333333333333,
              "#9c179e"
             ],
             [
              0.4444444444444444,
              "#bd3786"
             ],
             [
              0.5555555555555556,
              "#d8576b"
             ],
             [
              0.6666666666666666,
              "#ed7953"
             ],
             [
              0.7777777777777778,
              "#fb9f3a"
             ],
             [
              0.8888888888888888,
              "#fdca26"
             ],
             [
              1,
              "#f0f921"
             ]
            ],
            "type": "histogram2dcontour"
           }
          ],
          "mesh3d": [
           {
            "colorbar": {
             "outlinewidth": 0,
             "ticks": ""
            },
            "type": "mesh3d"
           }
          ],
          "parcoords": [
           {
            "line": {
             "colorbar": {
              "outlinewidth": 0,
              "ticks": ""
             }
            },
            "type": "parcoords"
           }
          ],
          "pie": [
           {
            "automargin": true,
            "type": "pie"
           }
          ],
          "scatter": [
           {
            "marker": {
             "line": {
              "color": "#283442"
             }
            },
            "type": "scatter"
           }
          ],
          "scatter3d": [
           {
            "line": {
             "colorbar": {
              "outlinewidth": 0,
              "ticks": ""
             }
            },
            "marker": {
             "colorbar": {
              "outlinewidth": 0,
              "ticks": ""
             }
            },
            "type": "scatter3d"
           }
          ],
          "scattercarpet": [
           {
            "marker": {
             "colorbar": {
              "outlinewidth": 0,
              "ticks": ""
             }
            },
            "type": "scattercarpet"
           }
          ],
          "scattergeo": [
           {
            "marker": {
             "colorbar": {
              "outlinewidth": 0,
              "ticks": ""
             }
            },
            "type": "scattergeo"
           }
          ],
          "scattergl": [
           {
            "marker": {
             "line": {
              "color": "#283442"
             }
            },
            "type": "scattergl"
           }
          ],
          "scattermapbox": [
           {
            "marker": {
             "colorbar": {
              "outlinewidth": 0,
              "ticks": ""
             }
            },
            "type": "scattermapbox"
           }
          ],
          "scatterpolar": [
           {
            "marker": {
             "colorbar": {
              "outlinewidth": 0,
              "ticks": ""
             }
            },
            "type": "scatterpolar"
           }
          ],
          "scatterpolargl": [
           {
            "marker": {
             "colorbar": {
              "outlinewidth": 0,
              "ticks": ""
             }
            },
            "type": "scatterpolargl"
           }
          ],
          "scatterternary": [
           {
            "marker": {
             "colorbar": {
              "outlinewidth": 0,
              "ticks": ""
             }
            },
            "type": "scatterternary"
           }
          ],
          "surface": [
           {
            "colorbar": {
             "outlinewidth": 0,
             "ticks": ""
            },
            "colorscale": [
             [
              0,
              "#0d0887"
             ],
             [
              0.1111111111111111,
              "#46039f"
             ],
             [
              0.2222222222222222,
              "#7201a8"
             ],
             [
              0.3333333333333333,
              "#9c179e"
             ],
             [
              0.4444444444444444,
              "#bd3786"
             ],
             [
              0.5555555555555556,
              "#d8576b"
             ],
             [
              0.6666666666666666,
              "#ed7953"
             ],
             [
              0.7777777777777778,
              "#fb9f3a"
             ],
             [
              0.8888888888888888,
              "#fdca26"
             ],
             [
              1,
              "#f0f921"
             ]
            ],
            "type": "surface"
           }
          ],
          "table": [
           {
            "cells": {
             "fill": {
              "color": "#506784"
             },
             "line": {
              "color": "rgb(17,17,17)"
             }
            },
            "header": {
             "fill": {
              "color": "#2a3f5f"
             },
             "line": {
              "color": "rgb(17,17,17)"
             }
            },
            "type": "table"
           }
          ]
         },
         "layout": {
          "annotationdefaults": {
           "arrowcolor": "#f2f5fa",
           "arrowhead": 0,
           "arrowwidth": 1
          },
          "autotypenumbers": "strict",
          "coloraxis": {
           "colorbar": {
            "outlinewidth": 0,
            "ticks": ""
           }
          },
          "colorscale": {
           "diverging": [
            [
             0,
             "#8e0152"
            ],
            [
             0.1,
             "#c51b7d"
            ],
            [
             0.2,
             "#de77ae"
            ],
            [
             0.3,
             "#f1b6da"
            ],
            [
             0.4,
             "#fde0ef"
            ],
            [
             0.5,
             "#f7f7f7"
            ],
            [
             0.6,
             "#e6f5d0"
            ],
            [
             0.7,
             "#b8e186"
            ],
            [
             0.8,
             "#7fbc41"
            ],
            [
             0.9,
             "#4d9221"
            ],
            [
             1,
             "#276419"
            ]
           ],
           "sequential": [
            [
             0,
             "#0d0887"
            ],
            [
             0.1111111111111111,
             "#46039f"
            ],
            [
             0.2222222222222222,
             "#7201a8"
            ],
            [
             0.3333333333333333,
             "#9c179e"
            ],
            [
             0.4444444444444444,
             "#bd3786"
            ],
            [
             0.5555555555555556,
             "#d8576b"
            ],
            [
             0.6666666666666666,
             "#ed7953"
            ],
            [
             0.7777777777777778,
             "#fb9f3a"
            ],
            [
             0.8888888888888888,
             "#fdca26"
            ],
            [
             1,
             "#f0f921"
            ]
           ],
           "sequentialminus": [
            [
             0,
             "#0d0887"
            ],
            [
             0.1111111111111111,
             "#46039f"
            ],
            [
             0.2222222222222222,
             "#7201a8"
            ],
            [
             0.3333333333333333,
             "#9c179e"
            ],
            [
             0.4444444444444444,
             "#bd3786"
            ],
            [
             0.5555555555555556,
             "#d8576b"
            ],
            [
             0.6666666666666666,
             "#ed7953"
            ],
            [
             0.7777777777777778,
             "#fb9f3a"
            ],
            [
             0.8888888888888888,
             "#fdca26"
            ],
            [
             1,
             "#f0f921"
            ]
           ]
          },
          "colorway": [
           "#636efa",
           "#EF553B",
           "#00cc96",
           "#ab63fa",
           "#FFA15A",
           "#19d3f3",
           "#FF6692",
           "#B6E880",
           "#FF97FF",
           "#FECB52"
          ],
          "font": {
           "color": "#f2f5fa"
          },
          "geo": {
           "bgcolor": "rgb(17,17,17)",
           "lakecolor": "rgb(17,17,17)",
           "landcolor": "rgb(17,17,17)",
           "showlakes": true,
           "showland": true,
           "subunitcolor": "#506784"
          },
          "hoverlabel": {
           "align": "left"
          },
          "hovermode": "closest",
          "mapbox": {
           "style": "dark"
          },
          "paper_bgcolor": "rgb(17,17,17)",
          "plot_bgcolor": "rgb(17,17,17)",
          "polar": {
           "angularaxis": {
            "gridcolor": "#506784",
            "linecolor": "#506784",
            "ticks": ""
           },
           "bgcolor": "rgb(17,17,17)",
           "radialaxis": {
            "gridcolor": "#506784",
            "linecolor": "#506784",
            "ticks": ""
           }
          },
          "scene": {
           "xaxis": {
            "backgroundcolor": "rgb(17,17,17)",
            "gridcolor": "#506784",
            "gridwidth": 2,
            "linecolor": "#506784",
            "showbackground": true,
            "ticks": "",
            "zerolinecolor": "#C8D4E3"
           },
           "yaxis": {
            "backgroundcolor": "rgb(17,17,17)",
            "gridcolor": "#506784",
            "gridwidth": 2,
            "linecolor": "#506784",
            "showbackground": true,
            "ticks": "",
            "zerolinecolor": "#C8D4E3"
           },
           "zaxis": {
            "backgroundcolor": "rgb(17,17,17)",
            "gridcolor": "#506784",
            "gridwidth": 2,
            "linecolor": "#506784",
            "showbackground": true,
            "ticks": "",
            "zerolinecolor": "#C8D4E3"
           }
          },
          "shapedefaults": {
           "line": {
            "color": "#f2f5fa"
           }
          },
          "sliderdefaults": {
           "bgcolor": "#C8D4E3",
           "bordercolor": "rgb(17,17,17)",
           "borderwidth": 1,
           "tickwidth": 0
          },
          "ternary": {
           "aaxis": {
            "gridcolor": "#506784",
            "linecolor": "#506784",
            "ticks": ""
           },
           "baxis": {
            "gridcolor": "#506784",
            "linecolor": "#506784",
            "ticks": ""
           },
           "bgcolor": "rgb(17,17,17)",
           "caxis": {
            "gridcolor": "#506784",
            "linecolor": "#506784",
            "ticks": ""
           }
          },
          "title": {
           "x": 0.05
          },
          "updatemenudefaults": {
           "bgcolor": "#506784",
           "borderwidth": 0
          },
          "xaxis": {
           "automargin": true,
           "gridcolor": "#283442",
           "linecolor": "#506784",
           "ticks": "",
           "title": {
            "standoff": 15
           },
           "zerolinecolor": "#283442",
           "zerolinewidth": 2
          },
          "yaxis": {
           "automargin": true,
           "gridcolor": "#283442",
           "linecolor": "#506784",
           "ticks": "",
           "title": {
            "standoff": 15
           },
           "zerolinecolor": "#283442",
           "zerolinewidth": 2
          }
         }
        },
        "title": {
         "text": "Sales Trend by Fiscal Year"
        },
        "xaxis": {
         "categoryarray": [
          "Shrawan",
          "Bhadra",
          "Asoj",
          "Kartik",
          "Mangsir",
          "Poush",
          "Magh",
          "Falgun",
          "Chaitra",
          "Baishakh",
          "Jestha",
          "Ashadh"
         ],
         "categoryorder": "array",
         "title": {
          "text": "Nepali Month"
         }
        },
        "yaxis": {
         "title": {
          "text": "Sales"
         }
        }
       }
      }
     },
     "metadata": {},
     "output_type": "display_data"
    }
   ],
   "source": [
    "# data visualization using plotly\n",
    "import pandas as pd\n",
    "import plotly.graph_objs as go\n",
    "import plotly.offline as pyo\n",
    "\n",
    "df_sales = pd.read_csv(r\"dataset\\company_01_merge_sales.csv\")\n",
    "\n",
    "df_sales.columns = ['date','sales']\n",
    "\n",
    "df_sales[['Year', 'Month']] = df_sales['date'].str.split('-', expand=True)\n",
    "df_sales['Year'] = df_sales['Year'].astype(int)\n",
    "df_sales['Month'] = df_sales['Month'].astype(int)\n",
    "nepali_months_fiscal_order = {\n",
    "    4: \"Shrawan\", 5: \"Bhadra\", 6: \"Asoj\", 7: \"Kartik\",\n",
    "    8: \"Mangsir\", 9: \"Poush\", 10: \"Magh\", 11: \"Falgun\",\n",
    "    12: \"Chaitra\", 1: \"Baishakh\", 2: \"Jestha\", 3: \"Ashadh\"\n",
    "}\n",
    "\n",
    "df_sales['Month_Name'] = df_sales['Month'].map(nepali_months_fiscal_order)\n",
    "\n",
    "\n",
    "df_sales['Fiscal_Year'] = df_sales.apply(lambda row: \n",
    "                                         f\"{row['Year']}-{row['Year']+1}\" if row['Month'] >= 4 \n",
    "                                         else f\"{row['Year']-1}-{row['Year']}\", axis=1)\n",
    "\n",
    "df_sales['Month_Order'] = df_sales['Month'].apply(lambda x: list(nepali_months_fiscal_order.keys()).index(x))\n",
    "\n",
    "df_sales = df_sales.sort_values(by=['Fiscal_Year', 'Month_Order'])\n",
    "\n",
    "fig = go.Figure()\n",
    "\n",
    "fiscal_years = df_sales['Fiscal_Year'].unique()\n",
    "\n",
    "for fy in fiscal_years:\n",
    "    df_fy = df_sales[df_sales['Fiscal_Year'] == fy]\n",
    "    fig.add_trace(go.Scatter(\n",
    "        x=df_fy['Month_Name'], \n",
    "        y=df_fy['sales'], \n",
    "        mode='lines+markers',\n",
    "        name=f'Fiscal Year {fy}',\n",
    "        line=dict(shape='spline')  \n",
    "    ))\n",
    "\n",
    "fig.update_layout(\n",
    "    title=\"Sales Trend by Fiscal Year\",\n",
    "    xaxis_title=\"Nepali Month\",\n",
    "    yaxis_title=\"Sales\",\n",
    "    xaxis=dict(categoryorder='array', categoryarray=list(nepali_months_fiscal_order.values())),\n",
    "    template=\"plotly_dark\",\n",
    "    hovermode=\"x unified\"\n",
    ")\n",
    "\n",
    "pyo.iplot(fig)\n"
   ]
  },
  {
   "cell_type": "code",
   "execution_count": 93,
   "metadata": {},
   "outputs": [
    {
     "name": "stdout",
     "output_type": "stream",
     "text": [
      "ACF values are : \n",
      "0 1.0\n",
      "1 0.22996185227648164\n",
      "2 -0.18535357045116369\n",
      "3 -0.20711475659127307\n",
      "4 -0.06727283381411672\n",
      "5 0.09609678580662509\n",
      "6 -0.017178520642806498\n",
      "7 0.07413665937775935\n",
      "8 -0.09326873903936754\n",
      "9 -0.1969586338497931\n",
      "10 -0.11609062120441647\n",
      "11 0.23496921817731095\n",
      "12 0.4709848292478105\n",
      "13 0.16746968358530742\n",
      "14 -0.2070059835904134\n",
      "15 -0.17843655439267564\n",
      "16 0.015174720385785406\n",
      "17 -0.02692707040536807\n",
      "18 -0.07292291798621282\n",
      "19 -0.014198567636898281\n",
      "20 -0.1361075109817034\n",
      "21 -0.20038839376498094\n",
      "22 -0.08354769361324571\n",
      "23 0.1663600329822287\n",
      "24 0.3686482442147088\n",
      "25 0.003975961894299688\n",
      "26 -0.1814851581079975\n",
      "PACF values are : \n",
      "0 1.0\n",
      "1 0.2324889055982012\n",
      "2 -0.257438459573197\n",
      "3 -0.1119199975547622\n",
      "4 -0.034933124318619356\n",
      "5 0.06743719610434354\n",
      "6 -0.12121744871173211\n",
      "7 0.15427001055851053\n",
      "8 -0.1961327346681728\n",
      "9 -0.13453977167788272\n",
      "10 -0.09284934866321368\n",
      "11 0.3137174437285421\n",
      "12 0.3541576765100677\n",
      "13 0.14141188822477813\n",
      "14 -0.1832019237773542\n",
      "15 0.037199648343587625\n",
      "16 0.023813130701983605\n",
      "17 -0.18189822154193136\n",
      "18 -0.18503207463490867\n",
      "19 0.002840884810587853\n",
      "20 -0.2284041571651088\n",
      "21 -0.11477704669241796\n",
      "22 -0.08178039216679324\n",
      "23 -0.03370284796515227\n",
      "24 0.23976479500684034\n",
      "25 -0.19307067008598328\n",
      "26 -0.012082160068064191\n",
      "The PACF values are : \n",
      "0 1.0\n",
      "1 0.2324889055982012\n",
      "2 -0.257438459573197\n",
      "3 -0.1119199975547622\n",
      "4 -0.034933124318619356\n",
      "5 0.06743719610434354\n",
      "6 -0.12121744871173211\n",
      "7 0.15427001055851053\n",
      "8 -0.1961327346681728\n",
      "9 -0.13453977167788272\n",
      "10 -0.09284934866321368\n",
      "11 0.3137174437285421\n",
      "12 0.3541576765100677\n",
      "13 0.14141188822477813\n",
      "14 -0.1832019237773542\n",
      "15 0.037199648343587625\n",
      "16 0.023813130701983605\n",
      "17 -0.18189822154193136\n",
      "18 -0.18503207463490867\n",
      "19 0.002840884810587853\n",
      "20 -0.2284041571651088\n",
      "21 -0.11477704669241796\n",
      "22 -0.08178039216679324\n",
      "23 -0.03370284796515227\n",
      "24 0.23976479500684034\n",
      "25 -0.19307067008598328\n",
      "26 -0.012082160068064191\n"
     ]
    },
    {
     "data": {
      "image/png": "[encoded data removed]",
      "text/plain": [
       "<Figure size 1200x600 with 2 Axes>"
      ]
     },
     "metadata": {},
     "output_type": "display_data"
    }
   ],
   "source": [
    "# analyzing auto_correlation and partial auto correlation\n",
    "\n",
    "from statsmodels.graphics.tsaplots import plot_acf, plot_pacf\n",
    "from statsmodels.tsa.stattools import acf, pacf\n",
    "import matplotlib.pyplot as plt\n",
    "\n",
    "# Calculate the ACF and PACF\n",
    "\n",
    "acf_values = acf(df[\"sales\"], nlags=27, fft=False)\n",
    "pacf_values = pacf(df[\"sales\"], nlags=27)\n",
    "\n",
    "# # Print ACF and PACF values\n",
    "print(\"ACF values are : \")\n",
    "for i in range (0,27):\n",
    "    print(i,acf_values[i])\n",
    "    \n",
    "print(\"PACF values are : \")\n",
    "for i in range (0,27):\n",
    "    print(i,pacf_values[i])\n",
    "\n",
    "print(\"The PACF values are : \")\n",
    "for i in range (0, 27):\n",
    "    print(i, pacf_values[i])\n",
    "    pass\n",
    "\n",
    "# Plot the ACF and PACF\n",
    "plt.figure(figsize=(12, 6))\n",
    "\n",
    "plt.subplot(2, 1, 1)\n",
    "plot_acf(df[\"sales\"], lags=27, ax=plt.gca())  \n",
    "plt.title(\"Autocorrelation Function (ACF)\")\n",
    "\n",
    "plt.subplot(2, 1, 2)\n",
    "plot_pacf(df[\"sales\"], lags=27, ax=plt.gca())  \n",
    "plt.title(\"Partial Autocorrelation Function (PACF)\")\n",
    "\n",
    "plt.tight_layout()\n",
    "plt.show()\n",
    "\n",
    "\n"
   ]
  },
  {
   "cell_type": "code",
   "execution_count": 94,
   "metadata": {},
   "outputs": [
    {
     "name": "stdout",
     "output_type": "stream",
     "text": [
      "ACF values are : \n",
      "[ 1.          0.22996185 -0.18535357 -0.20711476 -0.06727283  0.09609679\n",
      " -0.01717852  0.07413666 -0.09326874 -0.19695863 -0.11609062  0.23496922\n",
      "  0.47098483  0.16746968 -0.20700598 -0.17843655  0.01517472 -0.02692707\n",
      " -0.07292292 -0.01419857 -0.13610751 -0.20038839 -0.08354769  0.16636003\n",
      "  0.36864824  0.00397596 -0.18148516 -0.13722905]\n"
     ]
    }
   ],
   "source": [
    "print(\"ACF values are : \")\n",
    "print(acf_values)"
   ]
  },
  {
   "cell_type": "code",
   "execution_count": 95,
   "metadata": {},
   "outputs": [
    {
     "name": "stdout",
     "output_type": "stream",
     "text": [
      "PACF values are : \n",
      "[ 1.          0.23248891 -0.25743846 -0.11192    -0.03493312  0.0674372\n",
      " -0.12121745  0.15427001 -0.19613273 -0.13453977 -0.09284935  0.31371744\n",
      "  0.35415768  0.14141189 -0.18320192  0.03719965  0.02381313 -0.18189822\n",
      " -0.18503207  0.00284088 -0.22840416 -0.11477705 -0.08178039 -0.03370285\n",
      "  0.2397648  -0.19307067 -0.01208216 -0.04208467]\n"
     ]
    }
   ],
   "source": [
    "print(\"PACF values are : \")\n",
    "print(pacf_values)"
   ]
  },
  {
   "cell_type": "code",
   "execution_count": 96,
   "metadata": {},
   "outputs": [],
   "source": [
    "df[\"year\"] = df.index.year\n",
    "df[\"month\"] = df.index.month\n",
    "df[\"quarter\"] = df.index.quarter"
   ]
  },
  {
   "cell_type": "code",
   "execution_count": 97,
   "metadata": {},
   "outputs": [],
   "source": [
    "df[\"year\"] = df.index.year\n",
    "df[\"month\"] = df.index.month\n",
    "df[\"quarter\"] = df.index.quarter\n",
    "df[\"lag_1\"] = df[\"sales\"].shift(1)\n",
    "df[\"lag_2\"] = df[\"sales\"].shift(2)\n",
    "df[\"lag_11\"] = df[\"sales\"].shift(11)\n",
    "df[\"lag_12\"] = df[\"sales\"].shift(12)\n",
    "df[\"lag_24\"] = df[\"sales\"].shift(24)\n",
    "\n",
    "df[\"rolling_mean_3\"] = df[\"sales\"].rolling(window=3).mean()\n",
    "df[\"rolling_mean_6\"] = df[\"sales\"].rolling(window=6).mean() \n",
    "\n",
    "\n",
    "df.dropna(inplace=True)"
   ]
  },
  {
   "cell_type": "code",
   "execution_count": null,
   "metadata": {},
   "outputs": [],
   "source": []
  },
  {
   "cell_type": "code",
   "execution_count": null,
   "metadata": {},
   "outputs": [],
   "source": [
    "# Train-Test Split\n",
    "train_size = int(len(df) * 0.8)\n",
    "train, test = df.iloc[:train_size], df.iloc[train_size:]\n",
    "X_train, y_train = train.drop(columns=[\"sales\"]), train[\"sales\"]\n",
    "X_test, y_test = test.drop(columns=[\"sales\"]), test[\"sales\"]"
   ]
  },
  {
   "cell_type": "code",
   "execution_count": 99,
   "metadata": {},
   "outputs": [],
   "source": [
    "# Standardization\n",
    "scaler_X = StandardScaler()\n",
    "scaler_y = StandardScaler()\n",
    "# scaler_X = MinMaxScaler()\n",
    "# scaler_y = MinMaxScaler()\n",
    "X_train_scaled = scaler_X.fit_transform(X_train)\n",
    "X_test_scaled = scaler_X.transform(X_test)\n",
    "y_train_scaled = scaler_y.fit_transform(y_train.values.reshape(-1, 1)).flatten()\n",
    "y_test_scaled = scaler_y.transform(y_test.values.reshape(-1, 1)).flatten()"
   ]
  },
  {
   "cell_type": "code",
   "execution_count": 100,
   "metadata": {},
   "outputs": [],
   "source": [
    "# from sklearn.model_selection import GridSearchCV\n",
    "\n",
    "# # Hyperparameter Tuning\n",
    "# param_grid = {\n",
    "#     \"n_estimators\": [500, 1000, 1500],\n",
    "#     \"max_depth\": [5, 10, 15],\n",
    "#     \"min_samples_split\": [2, 5, 10],\n",
    "#     \"min_samples_leaf\": [1, 2, 4]\n",
    "\n",
    "# }\n"
   ]
  },
  {
   "cell_type": "code",
   "execution_count": 101,
   "metadata": {},
   "outputs": [],
   "source": [
    "# #Hyperparameter Tuning and cross-validation using Grid Search Technique\n",
    "# rf = RandomForestRegressor(random_state=42, n_jobs=-1, verbose=True)\n",
    "# grid_search = GridSearchCV(rf, param_grid, cv=10, scoring=\"neg_mean_squared_error\", verbose=1, n_jobs=-1)\n",
    "# grid_search.fit(X_train_scaled, y_train_scaled)"
   ]
  },
  {
   "cell_type": "code",
   "execution_count": 102,
   "metadata": {},
   "outputs": [
    {
     "name": "stderr",
     "output_type": "stream",
     "text": [
      "[Parallel(n_jobs=-1)]: Using backend ThreadingBackend with 16 concurrent workers.\n",
      "[Parallel(n_jobs=-1)]: Done  18 tasks      | elapsed:    0.0s\n",
      "[Parallel(n_jobs=-1)]: Done 168 tasks      | elapsed:    0.1s\n",
      "[Parallel(n_jobs=-1)]: Done 418 tasks      | elapsed:    0.3s\n",
      "[Parallel(n_jobs=-1)]: Done 768 tasks      | elapsed:    0.7s\n",
      "[Parallel(n_jobs=-1)]: Done 1000 out of 1000 | elapsed:    0.9s finished\n",
      "[Parallel(n_jobs=16)]: Using backend ThreadingBackend with 16 concurrent workers.\n",
      "[Parallel(n_jobs=16)]: Done  18 tasks      | elapsed:    0.0s\n",
      "[Parallel(n_jobs=16)]: Done 168 tasks      | elapsed:    0.0s\n",
      "[Parallel(n_jobs=16)]: Done 418 tasks      | elapsed:    0.0s\n",
      "[Parallel(n_jobs=16)]: Done 768 tasks      | elapsed:    0.0s\n",
      "[Parallel(n_jobs=16)]: Done 1000 out of 1000 | elapsed:    0.0s finished\n"
     ]
    }
   ],
   "source": [
    "# Random Forest Model\n",
    "rf_model = RandomForestRegressor(n_estimators=1000, max_depth=20, random_state=42, n_jobs=-1, verbose=1)\n",
    "rf_model.fit(X_train_scaled, y_train_scaled)\n",
    "yran_pred_scaled = rf_model.predict(X_test_scaled)\n",
    "yran_pred = scaler_y.inverse_transform(yran_pred_scaled.reshape(-1, 1)).flatten()"
   ]
  },
  {
   "cell_type": "code",
   "execution_count": 103,
   "metadata": {},
   "outputs": [],
   "source": [
    "# rf=RandomForestRegressor(random_stae=42, n_jobs=-1, verbose=True)\n",
    "# grid_search = GridSearchCV(rf, param_grid, cv=10, scoring=\"neg_mean_s\")"
   ]
  },
  {
   "cell_type": "code",
   "execution_count": 104,
   "metadata": {},
   "outputs": [],
   "source": [
    "# rf=RandomForestRegressor(random_state=42,n_jobs=-1,verbose=True)\n"
   ]
  },
  {
   "cell_type": "code",
   "execution_count": 105,
   "metadata": {},
   "outputs": [],
   "source": [
    "# #\n",
    "# best_rf = grid_search.best_estimator_\n",
    "# y_pred_scaled = best_rf.predict(X_test_scaled)\n",
    "# yran_pred = scaler_y.inverse_transform(y_pred_scaled.reshape(-1,1)).flatten()"
   ]
  },
  {
   "cell_type": "code",
   "execution_count": 106,
   "metadata": {},
   "outputs": [
    {
     "name": "stdout",
     "output_type": "stream",
     "text": [
      "Random Forest MAE: 86684694.75\n",
      "Random Forest RMSE: 106753684.67\n"
     ]
    }
   ],
   "source": [
    "# Random Forest Metrics\n",
    "mae_rf = mean_absolute_error(y_test, yran_pred)\n",
    "rmse_rf = np.sqrt(mean_squared_error(y_test, yran_pred))\n",
    "print(f\"Random Forest MAE: {mae_rf:.2f}\")\n",
    "print(f\"Random Forest RMSE: {rmse_rf:.2f}\")"
   ]
  },
  {
   "cell_type": "code",
   "execution_count": 107,
   "metadata": {},
   "outputs": [
    {
     "name": "stdout",
     "output_type": "stream",
     "text": [
      "Random Forest R² Score: 0.4578\n"
     ]
    }
   ],
   "source": [
    "from sklearn.metrics import r2_score\n",
    "\n",
    "r2_rf = r2_score(y_test, yran_pred)\n",
    "print(f\"Random Forest R² Score: {r2_rf:.4f}\")\n"
   ]
  },
  {
   "cell_type": "code",
   "execution_count": 108,
   "metadata": {},
   "outputs": [
    {
     "data": {
      "text/plain": [
       "DatetimeIndex(['2076-04-01', '2076-05-01', '2076-06-01', '2076-07-01',\n",
       "               '2076-08-01', '2076-09-01', '2076-10-01', '2076-11-01',\n",
       "               '2076-12-01', '2077-01-01', '2077-02-01', '2077-03-01',\n",
       "               '2077-04-01', '2077-05-01', '2077-06-01', '2077-07-01',\n",
       "               '2077-08-01', '2077-09-01', '2077-10-01', '2077-11-01',\n",
       "               '2077-12-01', '2078-01-01', '2078-02-01', '2078-03-01',\n",
       "               '2078-04-01', '2078-05-01', '2078-06-01', '2078-07-01',\n",
       "               '2078-08-01', '2078-09-01', '2078-10-01', '2078-11-01',\n",
       "               '2078-12-01', '2079-01-01', '2079-02-01', '2079-03-01',\n",
       "               '2079-04-01', '2079-05-01', '2079-06-01', '2079-07-01',\n",
       "               '2079-08-01', '2079-09-01', '2079-10-01', '2079-11-01',\n",
       "               '2079-12-01', '2080-01-01', '2080-02-01', '2080-03-01',\n",
       "               '2080-04-01', '2080-05-01', '2080-06-01', '2080-07-01',\n",
       "               '2080-08-01', '2080-09-01', '2080-10-01', '2080-11-01',\n",
       "               '2080-12-01', '2081-01-01', '2081-02-01', '2081-03-01',\n",
       "               '2081-04-01', '2081-05-01', '2081-06-01', '2081-07-01',\n",
       "               '2081-08-01', '2081-09-01', '2081-10-01', '2081-11-01'],\n",
       "              dtype='datetime64[ns]', name='date', freq=None)"
      ]
     },
     "execution_count": 108,
     "metadata": {},
     "output_type": "execute_result"
    }
   ],
   "source": [
    "df.index"
   ]
  },
  {
   "cell_type": "code",
   "execution_count": 109,
   "metadata": {},
   "outputs": [
    {
     "data": {
      "text/plain": [
       "date\n",
       "2076-04-01    2.044056e+07\n",
       "2076-05-01    7.471673e+07\n",
       "2076-06-01    3.178409e+08\n",
       "2076-07-01    1.370703e+08\n",
       "2076-08-01    3.171182e+08\n",
       "                  ...     \n",
       "2081-07-01    2.264473e+08\n",
       "2081-08-01    2.393450e+08\n",
       "2081-09-01    3.097765e+08\n",
       "2081-10-01    3.827388e+08\n",
       "2081-11-01    1.266479e+08\n",
       "Name: sales, Length: 68, dtype: float64"
      ]
     },
     "execution_count": 109,
     "metadata": {},
     "output_type": "execute_result"
    }
   ],
   "source": [
    "df['sales']"
   ]
  },
  {
   "cell_type": "code",
   "execution_count": 110,
   "metadata": {},
   "outputs": [
    {
     "data": {
      "text/plain": [
       "DatetimeIndex(['2080-10-01', '2080-11-01', '2080-12-01', '2081-01-01',\n",
       "               '2081-02-01', '2081-03-01', '2081-04-01', '2081-05-01',\n",
       "               '2081-06-01', '2081-07-01', '2081-08-01', '2081-09-01',\n",
       "               '2081-10-01', '2081-11-01'],\n",
       "              dtype='datetime64[ns]', name='date', freq=None)"
      ]
     },
     "execution_count": 110,
     "metadata": {},
     "output_type": "execute_result"
    }
   ],
   "source": [
    "test.index"
   ]
  },
  {
   "cell_type": "code",
   "execution_count": 111,
   "metadata": {},
   "outputs": [
    {
     "data": {
      "image/png": "[encoded data removed]",
      "text/plain": [
       "<Figure size 1200x800 with 1 Axes>"
      ]
     },
     "metadata": {},
     "output_type": "display_data"
    }
   ],
   "source": [
    "plt.figure(figsize=(12,8))\n",
    "plt.plot(df.index, df['sales'], label=\"Actual Data\", color=\"black\", linewidth=1)\n",
    "plt.plot(test.index, yran_pred, label=\"Random Forest Forecast\", color=\"red\", linestyle=\"dashed\", linewidth=3)\n",
    "plt.title(\"Random Forest of company 01 from 2077-2081\")\n",
    "plt.xlabel(\"Years\")\n",
    "plt.ylabel(\"Monthly Sales\")\n",
    "plt.legend()\n",
    "plt.show()"
   ]
  },
  {
   "cell_type": "markdown",
   "metadata": {},
   "source": [
    "### XG boost"
   ]
  },
  {
   "cell_type": "code",
   "execution_count": 112,
   "metadata": {},
   "outputs": [
    {
     "name": "stdout",
     "output_type": "stream",
     "text": [
      "[0]\tvalidation_0-rmse:0.66839\n",
      "[1]\tvalidation_0-rmse:0.66057\n",
      "[2]\tvalidation_0-rmse:0.63719\n",
      "[3]\tvalidation_0-rmse:0.62424\n",
      "[4]\tvalidation_0-rmse:0.62055\n",
      "[5]\tvalidation_0-rmse:0.61345\n",
      "[6]\tvalidation_0-rmse:0.60977\n",
      "[7]\tvalidation_0-rmse:0.60291\n",
      "[8]\tvalidation_0-rmse:0.59906\n",
      "[9]\tvalidation_0-rmse:0.60009\n",
      "[10]\tvalidation_0-rmse:0.59188\n",
      "[11]\tvalidation_0-rmse:0.58594\n",
      "[12]\tvalidation_0-rmse:0.58161\n",
      "[13]\tvalidation_0-rmse:0.57783\n",
      "[14]\tvalidation_0-rmse:0.57117\n",
      "[15]\tvalidation_0-rmse:0.57084\n",
      "[16]\tvalidation_0-rmse:0.56479\n",
      "[17]\tvalidation_0-rmse:0.56774\n",
      "[18]\tvalidation_0-rmse:0.56602\n",
      "[19]\tvalidation_0-rmse:0.55789\n",
      "[20]\tvalidation_0-rmse:0.55502\n",
      "[21]\tvalidation_0-rmse:0.55372\n",
      "[22]\tvalidation_0-rmse:0.55405\n",
      "[23]\tvalidation_0-rmse:0.54516\n",
      "[24]\tvalidation_0-rmse:0.53855\n",
      "[25]\tvalidation_0-rmse:0.54313\n",
      "[26]\tvalidation_0-rmse:0.54204\n",
      "[27]\tvalidation_0-rmse:0.54268\n",
      "[28]\tvalidation_0-rmse:0.53731\n",
      "[29]\tvalidation_0-rmse:0.53363\n",
      "[30]\tvalidation_0-rmse:0.53365\n",
      "[31]\tvalidation_0-rmse:0.53451\n",
      "[32]\tvalidation_0-rmse:0.53544\n",
      "[33]\tvalidation_0-rmse:0.53146\n",
      "[34]\tvalidation_0-rmse:0.52809\n",
      "[35]\tvalidation_0-rmse:0.53223\n",
      "[36]\tvalidation_0-rmse:0.53414\n",
      "[37]\tvalidation_0-rmse:0.53111\n",
      "[38]\tvalidation_0-rmse:0.53318\n",
      "[39]\tvalidation_0-rmse:0.53293\n",
      "[40]\tvalidation_0-rmse:0.53443\n",
      "[41]\tvalidation_0-rmse:0.53721\n",
      "[42]\tvalidation_0-rmse:0.53600\n",
      "[43]\tvalidation_0-rmse:0.53153\n",
      "[44]\tvalidation_0-rmse:0.52562\n",
      "[45]\tvalidation_0-rmse:0.52541\n",
      "[46]\tvalidation_0-rmse:0.52409\n",
      "[47]\tvalidation_0-rmse:0.52500\n",
      "[48]\tvalidation_0-rmse:0.52137\n",
      "[49]\tvalidation_0-rmse:0.51931\n"
     ]
    },
    {
     "name": "stdout",
     "output_type": "stream",
     "text": [
      "[50]\tvalidation_0-rmse:0.51987\n",
      "[51]\tvalidation_0-rmse:0.51914\n",
      "[52]\tvalidation_0-rmse:0.52055\n",
      "[53]\tvalidation_0-rmse:0.51882\n",
      "[54]\tvalidation_0-rmse:0.51839\n",
      "[55]\tvalidation_0-rmse:0.51946\n",
      "[56]\tvalidation_0-rmse:0.51944\n",
      "[57]\tvalidation_0-rmse:0.51848\n",
      "[58]\tvalidation_0-rmse:0.51819\n",
      "[59]\tvalidation_0-rmse:0.51753\n",
      "[60]\tvalidation_0-rmse:0.51489\n",
      "[61]\tvalidation_0-rmse:0.51593\n",
      "[62]\tvalidation_0-rmse:0.51400\n",
      "[63]\tvalidation_0-rmse:0.51124\n",
      "[64]\tvalidation_0-rmse:0.51148\n",
      "[65]\tvalidation_0-rmse:0.51085\n",
      "[66]\tvalidation_0-rmse:0.51269\n",
      "[67]\tvalidation_0-rmse:0.51318\n",
      "[68]\tvalidation_0-rmse:0.51175\n",
      "[69]\tvalidation_0-rmse:0.51140\n",
      "[70]\tvalidation_0-rmse:0.51093\n",
      "[71]\tvalidation_0-rmse:0.51100\n",
      "[72]\tvalidation_0-rmse:0.51157\n",
      "[73]\tvalidation_0-rmse:0.50892\n",
      "[74]\tvalidation_0-rmse:0.51002\n",
      "[75]\tvalidation_0-rmse:0.50904\n",
      "[76]\tvalidation_0-rmse:0.51041\n",
      "[77]\tvalidation_0-rmse:0.51012\n",
      "[78]\tvalidation_0-rmse:0.51019\n",
      "[79]\tvalidation_0-rmse:0.50871\n",
      "[80]\tvalidation_0-rmse:0.50880\n",
      "[81]\tvalidation_0-rmse:0.50894\n",
      "[82]\tvalidation_0-rmse:0.50690\n",
      "[83]\tvalidation_0-rmse:0.50668\n",
      "[84]\tvalidation_0-rmse:0.50702\n",
      "[85]\tvalidation_0-rmse:0.50764\n",
      "[86]\tvalidation_0-rmse:0.50594\n",
      "[87]\tvalidation_0-rmse:0.50633\n",
      "[88]\tvalidation_0-rmse:0.50572\n",
      "[89]\tvalidation_0-rmse:0.50619\n",
      "[90]\tvalidation_0-rmse:0.50791\n",
      "[91]\tvalidation_0-rmse:0.50775\n",
      "[92]\tvalidation_0-rmse:0.50804\n",
      "[93]\tvalidation_0-rmse:0.50788\n",
      "[94]\tvalidation_0-rmse:0.50806\n",
      "[95]\tvalidation_0-rmse:0.50817\n",
      "[96]\tvalidation_0-rmse:0.50874\n",
      "[97]\tvalidation_0-rmse:0.50933\n",
      "[98]\tvalidation_0-rmse:0.51000\n",
      "[99]\tvalidation_0-rmse:0.51065\n",
      "[100]\tvalidation_0-rmse:0.51102\n",
      "[101]\tvalidation_0-rmse:0.51113\n",
      "[102]\tvalidation_0-rmse:0.51133\n",
      "[103]\tvalidation_0-rmse:0.51122\n",
      "[104]\tvalidation_0-rmse:0.51155\n",
      "[105]\tvalidation_0-rmse:0.51177\n",
      "[106]\tvalidation_0-rmse:0.51088\n",
      "[107]\tvalidation_0-rmse:0.51074\n",
      "[108]\tvalidation_0-rmse:0.51085\n",
      "[109]\tvalidation_0-rmse:0.51096\n",
      "[110]\tvalidation_0-rmse:0.51100\n",
      "[111]\tvalidation_0-rmse:0.51130\n",
      "[112]\tvalidation_0-rmse:0.51132\n",
      "[113]\tvalidation_0-rmse:0.51144\n",
      "[114]\tvalidation_0-rmse:0.51154\n",
      "[115]\tvalidation_0-rmse:0.51050\n",
      "[116]\tvalidation_0-rmse:0.51088\n",
      "[117]\tvalidation_0-rmse:0.51156\n",
      "[118]\tvalidation_0-rmse:0.51151\n",
      "[119]\tvalidation_0-rmse:0.51150\n",
      "[120]\tvalidation_0-rmse:0.51168\n",
      "[121]\tvalidation_0-rmse:0.51165\n",
      "[122]\tvalidation_0-rmse:0.51174\n",
      "[123]\tvalidation_0-rmse:0.51190\n",
      "[124]\tvalidation_0-rmse:0.51175\n",
      "[125]\tvalidation_0-rmse:0.51138\n",
      "[126]\tvalidation_0-rmse:0.51146\n",
      "[127]\tvalidation_0-rmse:0.51149\n",
      "[128]\tvalidation_0-rmse:0.51157\n",
      "[129]\tvalidation_0-rmse:0.51174\n",
      "[130]\tvalidation_0-rmse:0.51211\n",
      "[131]\tvalidation_0-rmse:0.51157\n",
      "[132]\tvalidation_0-rmse:0.51205\n",
      "[133]\tvalidation_0-rmse:0.51247\n",
      "[134]\tvalidation_0-rmse:0.51236\n",
      "[135]\tvalidation_0-rmse:0.51276\n",
      "[136]\tvalidation_0-rmse:0.51298\n",
      "[137]\tvalidation_0-rmse:0.51253\n",
      "[138]\tvalidation_0-rmse:0.51273\n",
      "[139]\tvalidation_0-rmse:0.51262\n",
      "[140]\tvalidation_0-rmse:0.51264\n",
      "[141]\tvalidation_0-rmse:0.51182\n",
      "[142]\tvalidation_0-rmse:0.51230\n",
      "[143]\tvalidation_0-rmse:0.51267\n",
      "[144]\tvalidation_0-rmse:0.51305\n",
      "[145]\tvalidation_0-rmse:0.51305\n",
      "[146]\tvalidation_0-rmse:0.51295\n",
      "[147]\tvalidation_0-rmse:0.51255\n",
      "[148]\tvalidation_0-rmse:0.51251\n",
      "[149]\tvalidation_0-rmse:0.51287\n",
      "[150]\tvalidation_0-rmse:0.51301\n",
      "[151]\tvalidation_0-rmse:0.51248\n",
      "[152]\tvalidation_0-rmse:0.51207\n",
      "[153]\tvalidation_0-rmse:0.51191\n",
      "[154]\tvalidation_0-rmse:0.51145\n",
      "[155]\tvalidation_0-rmse:0.51175\n",
      "[156]\tvalidation_0-rmse:0.51160\n",
      "[157]\tvalidation_0-rmse:0.51184\n",
      "[158]\tvalidation_0-rmse:0.51225\n",
      "[159]\tvalidation_0-rmse:0.51199\n",
      "[160]\tvalidation_0-rmse:0.51223\n",
      "[161]\tvalidation_0-rmse:0.51236\n",
      "[162]\tvalidation_0-rmse:0.51250\n",
      "[163]\tvalidation_0-rmse:0.51265\n",
      "[164]\tvalidation_0-rmse:0.51282\n",
      "[165]\tvalidation_0-rmse:0.51248\n",
      "[166]\tvalidation_0-rmse:0.51198\n",
      "[167]\tvalidation_0-rmse:0.51227\n",
      "[168]\tvalidation_0-rmse:0.51251\n",
      "[169]\tvalidation_0-rmse:0.51242\n",
      "[170]\tvalidation_0-rmse:0.51259\n",
      "[171]\tvalidation_0-rmse:0.51256\n",
      "[172]\tvalidation_0-rmse:0.51241\n",
      "[173]\tvalidation_0-rmse:0.51250\n",
      "[174]\tvalidation_0-rmse:0.51255\n",
      "[175]\tvalidation_0-rmse:0.51263\n",
      "[176]\tvalidation_0-rmse:0.51276\n",
      "[177]\tvalidation_0-rmse:0.51249\n",
      "[178]\tvalidation_0-rmse:0.51243\n",
      "[179]\tvalidation_0-rmse:0.51232\n",
      "[180]\tvalidation_0-rmse:0.51216\n",
      "[181]\tvalidation_0-rmse:0.51203\n",
      "[182]\tvalidation_0-rmse:0.51201\n",
      "[183]\tvalidation_0-rmse:0.51219\n",
      "[184]\tvalidation_0-rmse:0.51198\n",
      "[185]\tvalidation_0-rmse:0.51206\n",
      "[186]\tvalidation_0-rmse:0.51202\n",
      "[187]\tvalidation_0-rmse:0.51171\n",
      "[188]\tvalidation_0-rmse:0.51137\n",
      "[189]\tvalidation_0-rmse:0.51115\n",
      "[190]\tvalidation_0-rmse:0.51119\n",
      "[191]\tvalidation_0-rmse:0.51112\n",
      "[192]\tvalidation_0-rmse:0.51092\n",
      "[193]\tvalidation_0-rmse:0.51101\n",
      "[194]\tvalidation_0-rmse:0.51118\n",
      "[195]\tvalidation_0-rmse:0.51118\n",
      "[196]\tvalidation_0-rmse:0.51105\n",
      "[197]\tvalidation_0-rmse:0.51098\n",
      "[198]\tvalidation_0-rmse:0.51098\n",
      "[199]\tvalidation_0-rmse:0.51098\n",
      "[200]\tvalidation_0-rmse:0.51080\n",
      "[201]\tvalidation_0-rmse:0.51075\n",
      "[202]\tvalidation_0-rmse:0.51083\n",
      "[203]\tvalidation_0-rmse:0.51090\n",
      "[204]\tvalidation_0-rmse:0.51074\n",
      "[205]\tvalidation_0-rmse:0.51082\n",
      "[206]\tvalidation_0-rmse:0.51070\n",
      "[207]\tvalidation_0-rmse:0.51070\n",
      "[208]\tvalidation_0-rmse:0.51055\n",
      "[209]\tvalidation_0-rmse:0.51068\n",
      "[210]\tvalidation_0-rmse:0.51073\n",
      "[211]\tvalidation_0-rmse:0.51054\n",
      "[212]\tvalidation_0-rmse:0.51061\n",
      "[213]\tvalidation_0-rmse:0.51057\n",
      "[214]\tvalidation_0-rmse:0.51053\n",
      "[215]\tvalidation_0-rmse:0.51058\n",
      "[216]\tvalidation_0-rmse:0.51056\n",
      "[217]\tvalidation_0-rmse:0.51053\n",
      "[218]\tvalidation_0-rmse:0.51055\n",
      "[219]\tvalidation_0-rmse:0.51046\n",
      "[220]\tvalidation_0-rmse:0.51051\n",
      "[221]\tvalidation_0-rmse:0.51041\n",
      "[222]\tvalidation_0-rmse:0.51030\n",
      "[223]\tvalidation_0-rmse:0.51022\n",
      "[224]\tvalidation_0-rmse:0.51021\n",
      "[225]\tvalidation_0-rmse:0.51027\n",
      "[226]\tvalidation_0-rmse:0.51021\n",
      "[227]\tvalidation_0-rmse:0.51008\n",
      "[228]\tvalidation_0-rmse:0.50999\n",
      "[229]\tvalidation_0-rmse:0.50997\n",
      "[230]\tvalidation_0-rmse:0.51001\n",
      "[231]\tvalidation_0-rmse:0.50991\n",
      "[232]\tvalidation_0-rmse:0.50994\n",
      "[233]\tvalidation_0-rmse:0.50999\n",
      "[234]\tvalidation_0-rmse:0.50986\n",
      "[235]\tvalidation_0-rmse:0.50988\n",
      "[236]\tvalidation_0-rmse:0.50985\n",
      "[237]\tvalidation_0-rmse:0.50993\n",
      "[238]\tvalidation_0-rmse:0.50981\n",
      "[239]\tvalidation_0-rmse:0.50982\n",
      "[240]\tvalidation_0-rmse:0.50981\n",
      "[241]\tvalidation_0-rmse:0.50981\n",
      "[242]\tvalidation_0-rmse:0.50973\n",
      "[243]\tvalidation_0-rmse:0.50975\n",
      "[244]\tvalidation_0-rmse:0.50976\n",
      "[245]\tvalidation_0-rmse:0.50969\n",
      "[246]\tvalidation_0-rmse:0.50972\n",
      "[247]\tvalidation_0-rmse:0.50965\n",
      "[248]\tvalidation_0-rmse:0.50965\n",
      "[249]\tvalidation_0-rmse:0.50967\n",
      "[250]\tvalidation_0-rmse:0.50970\n",
      "[251]\tvalidation_0-rmse:0.50961\n",
      "[252]\tvalidation_0-rmse:0.50960\n",
      "[253]\tvalidation_0-rmse:0.50959\n",
      "[254]\tvalidation_0-rmse:0.50965\n",
      "[255]\tvalidation_0-rmse:0.50956\n",
      "[256]\tvalidation_0-rmse:0.50949\n",
      "[257]\tvalidation_0-rmse:0.50952\n",
      "[258]\tvalidation_0-rmse:0.50957\n",
      "[259]\tvalidation_0-rmse:0.50950\n",
      "[260]\tvalidation_0-rmse:0.50943\n",
      "[261]\tvalidation_0-rmse:0.50934\n",
      "[262]\tvalidation_0-rmse:0.50932\n",
      "[263]\tvalidation_0-rmse:0.50932\n",
      "[264]\tvalidation_0-rmse:0.50928\n",
      "[265]\tvalidation_0-rmse:0.50920\n",
      "[266]\tvalidation_0-rmse:0.50920\n",
      "[267]\tvalidation_0-rmse:0.50913\n",
      "[268]\tvalidation_0-rmse:0.50909\n",
      "[269]\tvalidation_0-rmse:0.50904\n",
      "[270]\tvalidation_0-rmse:0.50897\n",
      "[271]\tvalidation_0-rmse:0.50891\n",
      "[272]\tvalidation_0-rmse:0.50893\n",
      "[273]\tvalidation_0-rmse:0.50894\n",
      "[274]\tvalidation_0-rmse:0.50889\n",
      "[275]\tvalidation_0-rmse:0.50889\n",
      "[276]\tvalidation_0-rmse:0.50884\n",
      "[277]\tvalidation_0-rmse:0.50884\n",
      "[278]\tvalidation_0-rmse:0.50884\n",
      "[279]\tvalidation_0-rmse:0.50878\n",
      "[280]\tvalidation_0-rmse:0.50873\n",
      "[281]\tvalidation_0-rmse:0.50868\n",
      "[282]\tvalidation_0-rmse:0.50863\n",
      "[283]\tvalidation_0-rmse:0.50865\n",
      "[284]\tvalidation_0-rmse:0.50864\n",
      "[285]\tvalidation_0-rmse:0.50860\n",
      "[286]\tvalidation_0-rmse:0.50859\n",
      "[287]\tvalidation_0-rmse:0.50861\n",
      "[288]\tvalidation_0-rmse:0.50861\n",
      "[289]\tvalidation_0-rmse:0.50864\n",
      "[290]\tvalidation_0-rmse:0.50865\n",
      "[291]\tvalidation_0-rmse:0.50860\n",
      "[292]\tvalidation_0-rmse:0.50855\n",
      "[293]\tvalidation_0-rmse:0.50851\n",
      "[294]\tvalidation_0-rmse:0.50849\n",
      "[295]\tvalidation_0-rmse:0.50850\n",
      "[296]\tvalidation_0-rmse:0.50851\n",
      "[297]\tvalidation_0-rmse:0.50847\n",
      "[298]\tvalidation_0-rmse:0.50844\n",
      "[299]\tvalidation_0-rmse:0.50841\n",
      "[300]\tvalidation_0-rmse:0.50843\n",
      "[301]\tvalidation_0-rmse:0.50842\n",
      "[302]\tvalidation_0-rmse:0.50840\n",
      "[303]\tvalidation_0-rmse:0.50837\n",
      "[304]\tvalidation_0-rmse:0.50834\n",
      "[305]\tvalidation_0-rmse:0.50835\n",
      "[306]\tvalidation_0-rmse:0.50832\n",
      "[307]\tvalidation_0-rmse:0.50834\n",
      "[308]\tvalidation_0-rmse:0.50833\n",
      "[309]\tvalidation_0-rmse:0.50832\n",
      "[310]\tvalidation_0-rmse:0.50830\n",
      "[311]\tvalidation_0-rmse:0.50829\n",
      "[312]\tvalidation_0-rmse:0.50828\n",
      "[313]\tvalidation_0-rmse:0.50826\n",
      "[314]\tvalidation_0-rmse:0.50823\n",
      "[315]\tvalidation_0-rmse:0.50825\n",
      "[316]\tvalidation_0-rmse:0.50821\n",
      "[317]\tvalidation_0-rmse:0.50824\n",
      "[318]\tvalidation_0-rmse:0.50822\n",
      "[319]\tvalidation_0-rmse:0.50819\n",
      "[320]\tvalidation_0-rmse:0.50818\n",
      "[321]\tvalidation_0-rmse:0.50819\n",
      "[322]\tvalidation_0-rmse:0.50818\n",
      "[323]\tvalidation_0-rmse:0.50818\n",
      "[324]\tvalidation_0-rmse:0.50816\n",
      "[325]\tvalidation_0-rmse:0.50814\n",
      "[326]\tvalidation_0-rmse:0.50812\n",
      "[327]\tvalidation_0-rmse:0.50813\n",
      "[328]\tvalidation_0-rmse:0.50813\n",
      "[329]\tvalidation_0-rmse:0.50812\n",
      "[330]\tvalidation_0-rmse:0.50813\n",
      "[331]\tvalidation_0-rmse:0.50812\n",
      "[332]\tvalidation_0-rmse:0.50813\n",
      "[333]\tvalidation_0-rmse:0.50812\n",
      "[334]\tvalidation_0-rmse:0.50810\n",
      "[335]\tvalidation_0-rmse:0.50810\n",
      "[336]\tvalidation_0-rmse:0.50810\n",
      "[337]\tvalidation_0-rmse:0.50808\n",
      "[338]\tvalidation_0-rmse:0.50807\n",
      "[339]\tvalidation_0-rmse:0.50808\n",
      "[340]\tvalidation_0-rmse:0.50808\n",
      "[341]\tvalidation_0-rmse:0.50808\n",
      "[342]\tvalidation_0-rmse:0.50808\n",
      "[343]\tvalidation_0-rmse:0.50807\n",
      "[344]\tvalidation_0-rmse:0.50806\n",
      "[345]\tvalidation_0-rmse:0.50806\n",
      "[346]\tvalidation_0-rmse:0.50806\n",
      "[347]\tvalidation_0-rmse:0.50806\n",
      "[348]\tvalidation_0-rmse:0.50807\n",
      "[349]\tvalidation_0-rmse:0.50807\n",
      "[350]\tvalidation_0-rmse:0.50806\n",
      "[351]\tvalidation_0-rmse:0.50806\n",
      "[352]\tvalidation_0-rmse:0.50807\n",
      "[353]\tvalidation_0-rmse:0.50806\n",
      "[354]\tvalidation_0-rmse:0.50806\n",
      "[355]\tvalidation_0-rmse:0.50806\n",
      "[356]\tvalidation_0-rmse:0.50806\n",
      "[357]\tvalidation_0-rmse:0.50806\n",
      "[358]\tvalidation_0-rmse:0.50804\n",
      "[359]\tvalidation_0-rmse:0.50805\n",
      "[360]\tvalidation_0-rmse:0.50804\n",
      "[361]\tvalidation_0-rmse:0.50804\n",
      "[362]\tvalidation_0-rmse:0.50803\n",
      "[363]\tvalidation_0-rmse:0.50804\n",
      "[364]\tvalidation_0-rmse:0.50804\n",
      "[365]\tvalidation_0-rmse:0.50804\n",
      "[366]\tvalidation_0-rmse:0.50804\n",
      "[367]\tvalidation_0-rmse:0.50803\n",
      "[368]\tvalidation_0-rmse:0.50803\n",
      "[369]\tvalidation_0-rmse:0.50803\n",
      "[370]\tvalidation_0-rmse:0.50803\n",
      "[371]\tvalidation_0-rmse:0.50804\n",
      "[372]\tvalidation_0-rmse:0.50804\n",
      "[373]\tvalidation_0-rmse:0.50805\n",
      "[374]\tvalidation_0-rmse:0.50804\n",
      "[375]\tvalidation_0-rmse:0.50804\n",
      "[376]\tvalidation_0-rmse:0.50802\n",
      "[377]\tvalidation_0-rmse:0.50803\n",
      "[378]\tvalidation_0-rmse:0.50803\n",
      "[379]\tvalidation_0-rmse:0.50803\n",
      "[380]\tvalidation_0-rmse:0.50803\n",
      "[381]\tvalidation_0-rmse:0.50803\n",
      "[382]\tvalidation_0-rmse:0.50803\n",
      "[383]\tvalidation_0-rmse:0.50803\n",
      "[384]\tvalidation_0-rmse:0.50802\n",
      "[385]\tvalidation_0-rmse:0.50802\n",
      "[386]\tvalidation_0-rmse:0.50801\n",
      "[387]\tvalidation_0-rmse:0.50800\n",
      "[388]\tvalidation_0-rmse:0.50800\n",
      "[389]\tvalidation_0-rmse:0.50800\n",
      "[390]\tvalidation_0-rmse:0.50800\n",
      "[391]\tvalidation_0-rmse:0.50800\n",
      "[392]\tvalidation_0-rmse:0.50799\n",
      "[393]\tvalidation_0-rmse:0.50799\n",
      "[394]\tvalidation_0-rmse:0.50799\n",
      "[395]\tvalidation_0-rmse:0.50798\n",
      "[396]\tvalidation_0-rmse:0.50798\n",
      "[397]\tvalidation_0-rmse:0.50798\n",
      "[398]\tvalidation_0-rmse:0.50799\n",
      "[399]\tvalidation_0-rmse:0.50799\n",
      "[400]\tvalidation_0-rmse:0.50799\n",
      "[401]\tvalidation_0-rmse:0.50799\n",
      "[402]\tvalidation_0-rmse:0.50799\n",
      "[403]\tvalidation_0-rmse:0.50799\n",
      "[404]\tvalidation_0-rmse:0.50798\n",
      "[405]\tvalidation_0-rmse:0.50798\n",
      "[406]\tvalidation_0-rmse:0.50798\n",
      "[407]\tvalidation_0-rmse:0.50798\n",
      "[408]\tvalidation_0-rmse:0.50798\n",
      "[409]\tvalidation_0-rmse:0.50799\n",
      "[410]\tvalidation_0-rmse:0.50799\n",
      "[411]\tvalidation_0-rmse:0.50798\n",
      "[412]\tvalidation_0-rmse:0.50798\n",
      "[413]\tvalidation_0-rmse:0.50798\n",
      "[414]\tvalidation_0-rmse:0.50798\n",
      "[415]\tvalidation_0-rmse:0.50798\n",
      "[416]\tvalidation_0-rmse:0.50798\n",
      "[417]\tvalidation_0-rmse:0.50798\n",
      "[418]\tvalidation_0-rmse:0.50798\n",
      "[419]\tvalidation_0-rmse:0.50798\n",
      "[420]\tvalidation_0-rmse:0.50799\n",
      "[421]\tvalidation_0-rmse:0.50798\n",
      "[422]\tvalidation_0-rmse:0.50798\n",
      "[423]\tvalidation_0-rmse:0.50798\n",
      "[424]\tvalidation_0-rmse:0.50798\n",
      "[425]\tvalidation_0-rmse:0.50798\n",
      "[426]\tvalidation_0-rmse:0.50798\n",
      "[427]\tvalidation_0-rmse:0.50798\n",
      "[428]\tvalidation_0-rmse:0.50798\n",
      "[429]\tvalidation_0-rmse:0.50798\n",
      "[430]\tvalidation_0-rmse:0.50798\n",
      "[431]\tvalidation_0-rmse:0.50799\n",
      "[432]\tvalidation_0-rmse:0.50798\n",
      "[433]\tvalidation_0-rmse:0.50799\n",
      "[434]\tvalidation_0-rmse:0.50798\n",
      "[435]\tvalidation_0-rmse:0.50798\n",
      "[436]\tvalidation_0-rmse:0.50798\n",
      "[437]\tvalidation_0-rmse:0.50798\n",
      "[438]\tvalidation_0-rmse:0.50798\n",
      "[439]\tvalidation_0-rmse:0.50798\n",
      "[440]\tvalidation_0-rmse:0.50799\n",
      "[441]\tvalidation_0-rmse:0.50799\n",
      "[442]\tvalidation_0-rmse:0.50799\n",
      "[443]\tvalidation_0-rmse:0.50799\n",
      "[444]\tvalidation_0-rmse:0.50799\n",
      "[445]\tvalidation_0-rmse:0.50798\n",
      "[446]\tvalidation_0-rmse:0.50798\n",
      "[447]\tvalidation_0-rmse:0.50798\n",
      "[448]\tvalidation_0-rmse:0.50798\n",
      "[449]\tvalidation_0-rmse:0.50798\n",
      "[450]\tvalidation_0-rmse:0.50798\n",
      "[451]\tvalidation_0-rmse:0.50798\n",
      "[452]\tvalidation_0-rmse:0.50798\n",
      "[453]\tvalidation_0-rmse:0.50798\n",
      "[454]\tvalidation_0-rmse:0.50798\n",
      "[455]\tvalidation_0-rmse:0.50798\n",
      "[456]\tvalidation_0-rmse:0.50798\n",
      "[457]\tvalidation_0-rmse:0.50797\n",
      "[458]\tvalidation_0-rmse:0.50797\n",
      "[459]\tvalidation_0-rmse:0.50797\n",
      "[460]\tvalidation_0-rmse:0.50797\n",
      "[461]\tvalidation_0-rmse:0.50798\n",
      "[462]\tvalidation_0-rmse:0.50797\n",
      "[463]\tvalidation_0-rmse:0.50797\n",
      "[464]\tvalidation_0-rmse:0.50797\n",
      "[465]\tvalidation_0-rmse:0.50797\n",
      "[466]\tvalidation_0-rmse:0.50797\n",
      "[467]\tvalidation_0-rmse:0.50797\n",
      "[468]\tvalidation_0-rmse:0.50797\n",
      "[469]\tvalidation_0-rmse:0.50797\n",
      "[470]\tvalidation_0-rmse:0.50797\n",
      "[471]\tvalidation_0-rmse:0.50797\n",
      "[472]\tvalidation_0-rmse:0.50797\n",
      "[473]\tvalidation_0-rmse:0.50797\n",
      "[474]\tvalidation_0-rmse:0.50797\n",
      "[475]\tvalidation_0-rmse:0.50797\n",
      "[476]\tvalidation_0-rmse:0.50797\n",
      "[477]\tvalidation_0-rmse:0.50797\n",
      "[478]\tvalidation_0-rmse:0.50797\n",
      "[479]\tvalidation_0-rmse:0.50797\n",
      "[480]\tvalidation_0-rmse:0.50797\n",
      "[481]\tvalidation_0-rmse:0.50797\n",
      "[482]\tvalidation_0-rmse:0.50797\n",
      "[483]\tvalidation_0-rmse:0.50796\n",
      "[484]\tvalidation_0-rmse:0.50796\n",
      "[485]\tvalidation_0-rmse:0.50796\n",
      "[486]\tvalidation_0-rmse:0.50796\n",
      "[487]\tvalidation_0-rmse:0.50797\n",
      "[488]\tvalidation_0-rmse:0.50797\n",
      "[489]\tvalidation_0-rmse:0.50797\n",
      "[490]\tvalidation_0-rmse:0.50796\n",
      "[491]\tvalidation_0-rmse:0.50796\n",
      "[492]\tvalidation_0-rmse:0.50796\n",
      "[493]\tvalidation_0-rmse:0.50797\n",
      "[494]\tvalidation_0-rmse:0.50797\n",
      "[495]\tvalidation_0-rmse:0.50797\n",
      "[496]\tvalidation_0-rmse:0.50797\n",
      "[497]\tvalidation_0-rmse:0.50797\n",
      "[498]\tvalidation_0-rmse:0.50797\n",
      "[499]\tvalidation_0-rmse:0.50797\n",
      "[500]\tvalidation_0-rmse:0.50797\n",
      "[501]\tvalidation_0-rmse:0.50797\n",
      "[502]\tvalidation_0-rmse:0.50797\n",
      "[503]\tvalidation_0-rmse:0.50797\n",
      "[504]\tvalidation_0-rmse:0.50797\n",
      "[505]\tvalidation_0-rmse:0.50797\n",
      "[506]\tvalidation_0-rmse:0.50797\n",
      "[507]\tvalidation_0-rmse:0.50797\n",
      "[508]\tvalidation_0-rmse:0.50797\n",
      "[509]\tvalidation_0-rmse:0.50797\n",
      "[510]\tvalidation_0-rmse:0.50797\n",
      "[511]\tvalidation_0-rmse:0.50798\n",
      "[512]\tvalidation_0-rmse:0.50798\n",
      "[513]\tvalidation_0-rmse:0.50798\n",
      "[514]\tvalidation_0-rmse:0.50798\n",
      "[515]\tvalidation_0-rmse:0.50798\n",
      "[516]\tvalidation_0-rmse:0.50798\n",
      "[517]\tvalidation_0-rmse:0.50797\n",
      "[518]\tvalidation_0-rmse:0.50797\n",
      "[519]\tvalidation_0-rmse:0.50797\n",
      "[520]\tvalidation_0-rmse:0.50797\n",
      "[521]\tvalidation_0-rmse:0.50798\n",
      "[522]\tvalidation_0-rmse:0.50798\n",
      "[523]\tvalidation_0-rmse:0.50798\n",
      "[524]\tvalidation_0-rmse:0.50798\n",
      "[525]\tvalidation_0-rmse:0.50798\n",
      "[526]\tvalidation_0-rmse:0.50798\n",
      "[527]\tvalidation_0-rmse:0.50798\n",
      "[528]\tvalidation_0-rmse:0.50798\n",
      "[529]\tvalidation_0-rmse:0.50798\n",
      "[530]\tvalidation_0-rmse:0.50798\n",
      "[531]\tvalidation_0-rmse:0.50798\n",
      "[532]\tvalidation_0-rmse:0.50797\n",
      "[533]\tvalidation_0-rmse:0.50797\n",
      "[534]\tvalidation_0-rmse:0.50797\n",
      "[535]\tvalidation_0-rmse:0.50797\n",
      "[536]\tvalidation_0-rmse:0.50797\n",
      "[537]\tvalidation_0-rmse:0.50797\n",
      "[538]\tvalidation_0-rmse:0.50797\n",
      "[539]\tvalidation_0-rmse:0.50797\n",
      "[540]\tvalidation_0-rmse:0.50797\n",
      "[541]\tvalidation_0-rmse:0.50797\n",
      "[542]\tvalidation_0-rmse:0.50797\n",
      "[543]\tvalidation_0-rmse:0.50797\n",
      "[544]\tvalidation_0-rmse:0.50797\n",
      "[545]\tvalidation_0-rmse:0.50798\n",
      "[546]\tvalidation_0-rmse:0.50797\n",
      "[547]\tvalidation_0-rmse:0.50797\n",
      "[548]\tvalidation_0-rmse:0.50797\n",
      "[549]\tvalidation_0-rmse:0.50797\n",
      "[550]\tvalidation_0-rmse:0.50797\n",
      "[551]\tvalidation_0-rmse:0.50797\n",
      "[552]\tvalidation_0-rmse:0.50797\n",
      "[553]\tvalidation_0-rmse:0.50797\n",
      "[554]\tvalidation_0-rmse:0.50798\n",
      "[555]\tvalidation_0-rmse:0.50798\n",
      "[556]\tvalidation_0-rmse:0.50798\n",
      "[557]\tvalidation_0-rmse:0.50798\n",
      "[558]\tvalidation_0-rmse:0.50798\n",
      "[559]\tvalidation_0-rmse:0.50797\n",
      "[560]\tvalidation_0-rmse:0.50797\n",
      "[561]\tvalidation_0-rmse:0.50797\n",
      "[562]\tvalidation_0-rmse:0.50797\n",
      "[563]\tvalidation_0-rmse:0.50797\n",
      "[564]\tvalidation_0-rmse:0.50797\n",
      "[565]\tvalidation_0-rmse:0.50797\n",
      "[566]\tvalidation_0-rmse:0.50797\n",
      "[567]\tvalidation_0-rmse:0.50797\n",
      "[568]\tvalidation_0-rmse:0.50798\n",
      "[569]\tvalidation_0-rmse:0.50798\n",
      "[570]\tvalidation_0-rmse:0.50798\n",
      "[571]\tvalidation_0-rmse:0.50798\n",
      "[572]\tvalidation_0-rmse:0.50798\n",
      "[573]\tvalidation_0-rmse:0.50798\n",
      "[574]\tvalidation_0-rmse:0.50798\n",
      "[575]\tvalidation_0-rmse:0.50798\n",
      "[576]\tvalidation_0-rmse:0.50798\n",
      "[577]\tvalidation_0-rmse:0.50798\n",
      "[578]\tvalidation_0-rmse:0.50798\n",
      "[579]\tvalidation_0-rmse:0.50798\n",
      "[580]\tvalidation_0-rmse:0.50798\n",
      "[581]\tvalidation_0-rmse:0.50798\n",
      "[582]\tvalidation_0-rmse:0.50798\n",
      "[583]\tvalidation_0-rmse:0.50798\n",
      "[584]\tvalidation_0-rmse:0.50798\n",
      "[585]\tvalidation_0-rmse:0.50798\n",
      "[586]\tvalidation_0-rmse:0.50798\n",
      "[587]\tvalidation_0-rmse:0.50798\n",
      "[588]\tvalidation_0-rmse:0.50798\n",
      "[589]\tvalidation_0-rmse:0.50798\n",
      "[590]\tvalidation_0-rmse:0.50798\n",
      "[591]\tvalidation_0-rmse:0.50798\n",
      "[592]\tvalidation_0-rmse:0.50798\n",
      "[593]\tvalidation_0-rmse:0.50798\n",
      "[594]\tvalidation_0-rmse:0.50798\n",
      "[595]\tvalidation_0-rmse:0.50798\n",
      "[596]\tvalidation_0-rmse:0.50798\n",
      "[597]\tvalidation_0-rmse:0.50798\n",
      "[598]\tvalidation_0-rmse:0.50798\n",
      "[599]\tvalidation_0-rmse:0.50798\n",
      "[600]\tvalidation_0-rmse:0.50798\n",
      "[601]\tvalidation_0-rmse:0.50798\n",
      "[602]\tvalidation_0-rmse:0.50798\n",
      "[603]\tvalidation_0-rmse:0.50798\n",
      "[604]\tvalidation_0-rmse:0.50798\n",
      "[605]\tvalidation_0-rmse:0.50798\n",
      "[606]\tvalidation_0-rmse:0.50798\n",
      "[607]\tvalidation_0-rmse:0.50798\n",
      "[608]\tvalidation_0-rmse:0.50798\n",
      "[609]\tvalidation_0-rmse:0.50798\n",
      "[610]\tvalidation_0-rmse:0.50798\n",
      "[611]\tvalidation_0-rmse:0.50798\n",
      "[612]\tvalidation_0-rmse:0.50798\n",
      "[613]\tvalidation_0-rmse:0.50798\n",
      "[614]\tvalidation_0-rmse:0.50798\n",
      "[615]\tvalidation_0-rmse:0.50798\n",
      "[616]\tvalidation_0-rmse:0.50798\n",
      "[617]\tvalidation_0-rmse:0.50798\n",
      "[618]\tvalidation_0-rmse:0.50798\n",
      "[619]\tvalidation_0-rmse:0.50798\n",
      "[620]\tvalidation_0-rmse:0.50798\n",
      "[621]\tvalidation_0-rmse:0.50798\n",
      "[622]\tvalidation_0-rmse:0.50798\n",
      "[623]\tvalidation_0-rmse:0.50798\n",
      "[624]\tvalidation_0-rmse:0.50798\n",
      "[625]\tvalidation_0-rmse:0.50798\n",
      "[626]\tvalidation_0-rmse:0.50798\n",
      "[627]\tvalidation_0-rmse:0.50798\n",
      "[628]\tvalidation_0-rmse:0.50798\n",
      "[629]\tvalidation_0-rmse:0.50798\n",
      "[630]\tvalidation_0-rmse:0.50798\n",
      "[631]\tvalidation_0-rmse:0.50798\n",
      "[632]\tvalidation_0-rmse:0.50798\n",
      "[633]\tvalidation_0-rmse:0.50798\n",
      "[634]\tvalidation_0-rmse:0.50798\n",
      "[635]\tvalidation_0-rmse:0.50798\n",
      "[636]\tvalidation_0-rmse:0.50798\n",
      "[637]\tvalidation_0-rmse:0.50798\n",
      "[638]\tvalidation_0-rmse:0.50798\n",
      "[639]\tvalidation_0-rmse:0.50798\n",
      "[640]\tvalidation_0-rmse:0.50798\n",
      "[641]\tvalidation_0-rmse:0.50798\n",
      "[642]\tvalidation_0-rmse:0.50798\n",
      "[643]\tvalidation_0-rmse:0.50798\n",
      "[644]\tvalidation_0-rmse:0.50798\n",
      "[645]\tvalidation_0-rmse:0.50798\n",
      "[646]\tvalidation_0-rmse:0.50798\n",
      "[647]\tvalidation_0-rmse:0.50798\n",
      "[648]\tvalidation_0-rmse:0.50798\n",
      "[649]\tvalidation_0-rmse:0.50798\n",
      "[650]\tvalidation_0-rmse:0.50798\n",
      "[651]\tvalidation_0-rmse:0.50798\n",
      "[652]\tvalidation_0-rmse:0.50798\n",
      "[653]\tvalidation_0-rmse:0.50798\n",
      "[654]\tvalidation_0-rmse:0.50798\n",
      "[655]\tvalidation_0-rmse:0.50798\n",
      "[656]\tvalidation_0-rmse:0.50798\n",
      "[657]\tvalidation_0-rmse:0.50798\n",
      "[658]\tvalidation_0-rmse:0.50798\n",
      "[659]\tvalidation_0-rmse:0.50798\n",
      "[660]\tvalidation_0-rmse:0.50798\n",
      "[661]\tvalidation_0-rmse:0.50798\n",
      "[662]\tvalidation_0-rmse:0.50798\n",
      "[663]\tvalidation_0-rmse:0.50798\n",
      "[664]\tvalidation_0-rmse:0.50798\n",
      "[665]\tvalidation_0-rmse:0.50798\n",
      "[666]\tvalidation_0-rmse:0.50798\n",
      "[667]\tvalidation_0-rmse:0.50798\n",
      "[668]\tvalidation_0-rmse:0.50798\n",
      "[669]\tvalidation_0-rmse:0.50798\n",
      "[670]\tvalidation_0-rmse:0.50798\n",
      "[671]\tvalidation_0-rmse:0.50798\n",
      "[672]\tvalidation_0-rmse:0.50798\n",
      "[673]\tvalidation_0-rmse:0.50798\n",
      "[674]\tvalidation_0-rmse:0.50798\n",
      "[675]\tvalidation_0-rmse:0.50798\n",
      "[676]\tvalidation_0-rmse:0.50798\n",
      "[677]\tvalidation_0-rmse:0.50799\n",
      "[678]\tvalidation_0-rmse:0.50799\n",
      "[679]\tvalidation_0-rmse:0.50799\n",
      "[680]\tvalidation_0-rmse:0.50799\n",
      "[681]\tvalidation_0-rmse:0.50799\n",
      "[682]\tvalidation_0-rmse:0.50799\n",
      "[683]\tvalidation_0-rmse:0.50799\n",
      "[684]\tvalidation_0-rmse:0.50799\n",
      "[685]\tvalidation_0-rmse:0.50799\n",
      "[686]\tvalidation_0-rmse:0.50799\n",
      "[687]\tvalidation_0-rmse:0.50799\n",
      "[688]\tvalidation_0-rmse:0.50799\n",
      "[689]\tvalidation_0-rmse:0.50799\n",
      "[690]\tvalidation_0-rmse:0.50799\n",
      "[691]\tvalidation_0-rmse:0.50799\n",
      "[692]\tvalidation_0-rmse:0.50799\n",
      "[693]\tvalidation_0-rmse:0.50799\n",
      "[694]\tvalidation_0-rmse:0.50799\n",
      "[695]\tvalidation_0-rmse:0.50799\n",
      "[696]\tvalidation_0-rmse:0.50799\n",
      "[697]\tvalidation_0-rmse:0.50799\n",
      "[698]\tvalidation_0-rmse:0.50799\n",
      "[699]\tvalidation_0-rmse:0.50799\n",
      "[700]\tvalidation_0-rmse:0.50798\n",
      "[701]\tvalidation_0-rmse:0.50798\n",
      "[702]\tvalidation_0-rmse:0.50798\n",
      "[703]\tvalidation_0-rmse:0.50798\n",
      "[704]\tvalidation_0-rmse:0.50798\n",
      "[705]\tvalidation_0-rmse:0.50798\n",
      "[706]\tvalidation_0-rmse:0.50798\n",
      "[707]\tvalidation_0-rmse:0.50798\n",
      "[708]\tvalidation_0-rmse:0.50798\n",
      "[709]\tvalidation_0-rmse:0.50798\n",
      "[710]\tvalidation_0-rmse:0.50798\n",
      "[711]\tvalidation_0-rmse:0.50798\n",
      "[712]\tvalidation_0-rmse:0.50798\n",
      "[713]\tvalidation_0-rmse:0.50798\n",
      "[714]\tvalidation_0-rmse:0.50798\n",
      "[715]\tvalidation_0-rmse:0.50798\n",
      "[716]\tvalidation_0-rmse:0.50798\n",
      "[717]\tvalidation_0-rmse:0.50798\n",
      "[718]\tvalidation_0-rmse:0.50798\n",
      "[719]\tvalidation_0-rmse:0.50798\n",
      "[720]\tvalidation_0-rmse:0.50798\n",
      "[721]\tvalidation_0-rmse:0.50798\n",
      "[722]\tvalidation_0-rmse:0.50798\n",
      "[723]\tvalidation_0-rmse:0.50798\n",
      "[724]\tvalidation_0-rmse:0.50798\n",
      "[725]\tvalidation_0-rmse:0.50798\n",
      "[726]\tvalidation_0-rmse:0.50798\n",
      "[727]\tvalidation_0-rmse:0.50798\n",
      "[728]\tvalidation_0-rmse:0.50798\n",
      "[729]\tvalidation_0-rmse:0.50798\n",
      "[730]\tvalidation_0-rmse:0.50798\n",
      "[731]\tvalidation_0-rmse:0.50798\n",
      "[732]\tvalidation_0-rmse:0.50798\n",
      "[733]\tvalidation_0-rmse:0.50798\n",
      "[734]\tvalidation_0-rmse:0.50798\n",
      "[735]\tvalidation_0-rmse:0.50798\n",
      "[736]\tvalidation_0-rmse:0.50798\n",
      "[737]\tvalidation_0-rmse:0.50798\n",
      "[738]\tvalidation_0-rmse:0.50798\n",
      "[739]\tvalidation_0-rmse:0.50798\n",
      "[740]\tvalidation_0-rmse:0.50798\n",
      "[741]\tvalidation_0-rmse:0.50798\n",
      "[742]\tvalidation_0-rmse:0.50798\n",
      "[743]\tvalidation_0-rmse:0.50798\n",
      "[744]\tvalidation_0-rmse:0.50798\n",
      "[745]\tvalidation_0-rmse:0.50798\n",
      "[746]\tvalidation_0-rmse:0.50798\n",
      "[747]\tvalidation_0-rmse:0.50798\n",
      "[748]\tvalidation_0-rmse:0.50798\n",
      "[749]\tvalidation_0-rmse:0.50798\n",
      "[750]\tvalidation_0-rmse:0.50799\n",
      "[751]\tvalidation_0-rmse:0.50799\n",
      "[752]\tvalidation_0-rmse:0.50799\n",
      "[753]\tvalidation_0-rmse:0.50799\n",
      "[754]\tvalidation_0-rmse:0.50798\n",
      "[755]\tvalidation_0-rmse:0.50798\n",
      "[756]\tvalidation_0-rmse:0.50798\n",
      "[757]\tvalidation_0-rmse:0.50798\n",
      "[758]\tvalidation_0-rmse:0.50798\n",
      "[759]\tvalidation_0-rmse:0.50798\n",
      "[760]\tvalidation_0-rmse:0.50798\n",
      "[761]\tvalidation_0-rmse:0.50798\n",
      "[762]\tvalidation_0-rmse:0.50798\n",
      "[763]\tvalidation_0-rmse:0.50798\n",
      "[764]\tvalidation_0-rmse:0.50798\n",
      "[765]\tvalidation_0-rmse:0.50798\n",
      "[766]\tvalidation_0-rmse:0.50798\n",
      "[767]\tvalidation_0-rmse:0.50798\n",
      "[768]\tvalidation_0-rmse:0.50798\n",
      "[769]\tvalidation_0-rmse:0.50798\n",
      "[770]\tvalidation_0-rmse:0.50798\n",
      "[771]\tvalidation_0-rmse:0.50798\n",
      "[772]\tvalidation_0-rmse:0.50798\n",
      "[773]\tvalidation_0-rmse:0.50798\n",
      "[774]\tvalidation_0-rmse:0.50798\n",
      "[775]\tvalidation_0-rmse:0.50798\n",
      "[776]\tvalidation_0-rmse:0.50798\n",
      "[777]\tvalidation_0-rmse:0.50798\n",
      "[778]\tvalidation_0-rmse:0.50798\n",
      "[779]\tvalidation_0-rmse:0.50798\n",
      "[780]\tvalidation_0-rmse:0.50798\n",
      "[781]\tvalidation_0-rmse:0.50798\n",
      "[782]\tvalidation_0-rmse:0.50798\n",
      "[783]\tvalidation_0-rmse:0.50798\n",
      "[784]\tvalidation_0-rmse:0.50798\n",
      "[785]\tvalidation_0-rmse:0.50798\n",
      "[786]\tvalidation_0-rmse:0.50798\n",
      "[787]\tvalidation_0-rmse:0.50798\n",
      "[788]\tvalidation_0-rmse:0.50798\n",
      "[789]\tvalidation_0-rmse:0.50798\n",
      "[790]\tvalidation_0-rmse:0.50798\n",
      "[791]\tvalidation_0-rmse:0.50798\n",
      "[792]\tvalidation_0-rmse:0.50798\n",
      "[793]\tvalidation_0-rmse:0.50798\n",
      "[794]\tvalidation_0-rmse:0.50798\n",
      "[795]\tvalidation_0-rmse:0.50798\n",
      "[796]\tvalidation_0-rmse:0.50798\n",
      "[797]\tvalidation_0-rmse:0.50798\n",
      "[798]\tvalidation_0-rmse:0.50798\n",
      "[799]\tvalidation_0-rmse:0.50798\n",
      "[800]\tvalidation_0-rmse:0.50798\n",
      "[801]\tvalidation_0-rmse:0.50798\n",
      "[802]\tvalidation_0-rmse:0.50798\n",
      "[803]\tvalidation_0-rmse:0.50798\n",
      "[804]\tvalidation_0-rmse:0.50798\n",
      "[805]\tvalidation_0-rmse:0.50798\n",
      "[806]\tvalidation_0-rmse:0.50798\n",
      "[807]\tvalidation_0-rmse:0.50798\n",
      "[808]\tvalidation_0-rmse:0.50798\n",
      "[809]\tvalidation_0-rmse:0.50798\n",
      "[810]\tvalidation_0-rmse:0.50798\n",
      "[811]\tvalidation_0-rmse:0.50798\n",
      "[812]\tvalidation_0-rmse:0.50798\n",
      "[813]\tvalidation_0-rmse:0.50798\n",
      "[814]\tvalidation_0-rmse:0.50798\n",
      "[815]\tvalidation_0-rmse:0.50798\n",
      "[816]\tvalidation_0-rmse:0.50798\n",
      "[817]\tvalidation_0-rmse:0.50798\n",
      "[818]\tvalidation_0-rmse:0.50798\n",
      "[819]\tvalidation_0-rmse:0.50798\n",
      "[820]\tvalidation_0-rmse:0.50798\n",
      "[821]\tvalidation_0-rmse:0.50798\n",
      "[822]\tvalidation_0-rmse:0.50798\n",
      "[823]\tvalidation_0-rmse:0.50798\n",
      "[824]\tvalidation_0-rmse:0.50798\n",
      "[825]\tvalidation_0-rmse:0.50798\n",
      "[826]\tvalidation_0-rmse:0.50798\n",
      "[827]\tvalidation_0-rmse:0.50798\n",
      "[828]\tvalidation_0-rmse:0.50797\n",
      "[829]\tvalidation_0-rmse:0.50797\n",
      "[830]\tvalidation_0-rmse:0.50797\n",
      "[831]\tvalidation_0-rmse:0.50797\n",
      "[832]\tvalidation_0-rmse:0.50797\n",
      "[833]\tvalidation_0-rmse:0.50797\n",
      "[834]\tvalidation_0-rmse:0.50797\n",
      "[835]\tvalidation_0-rmse:0.50797\n",
      "[836]\tvalidation_0-rmse:0.50797\n",
      "[837]\tvalidation_0-rmse:0.50797\n",
      "[838]\tvalidation_0-rmse:0.50797\n",
      "[839]\tvalidation_0-rmse:0.50797\n",
      "[840]\tvalidation_0-rmse:0.50797\n",
      "[841]\tvalidation_0-rmse:0.50797\n",
      "[842]\tvalidation_0-rmse:0.50797\n",
      "[843]\tvalidation_0-rmse:0.50797\n",
      "[844]\tvalidation_0-rmse:0.50797\n",
      "[845]\tvalidation_0-rmse:0.50797\n",
      "[846]\tvalidation_0-rmse:0.50797\n",
      "[847]\tvalidation_0-rmse:0.50797\n",
      "[848]\tvalidation_0-rmse:0.50797\n",
      "[849]\tvalidation_0-rmse:0.50797\n",
      "[850]\tvalidation_0-rmse:0.50797\n",
      "[851]\tvalidation_0-rmse:0.50797\n",
      "[852]\tvalidation_0-rmse:0.50797\n",
      "[853]\tvalidation_0-rmse:0.50797\n",
      "[854]\tvalidation_0-rmse:0.50797\n",
      "[855]\tvalidation_0-rmse:0.50797\n",
      "[856]\tvalidation_0-rmse:0.50797\n",
      "[857]\tvalidation_0-rmse:0.50797\n",
      "[858]\tvalidation_0-rmse:0.50797\n",
      "[859]\tvalidation_0-rmse:0.50797\n",
      "[860]\tvalidation_0-rmse:0.50797\n",
      "[861]\tvalidation_0-rmse:0.50797\n",
      "[862]\tvalidation_0-rmse:0.50797\n",
      "[863]\tvalidation_0-rmse:0.50797\n",
      "[864]\tvalidation_0-rmse:0.50797\n",
      "[865]\tvalidation_0-rmse:0.50797\n",
      "[866]\tvalidation_0-rmse:0.50797\n",
      "[867]\tvalidation_0-rmse:0.50797\n",
      "[868]\tvalidation_0-rmse:0.50797\n",
      "[869]\tvalidation_0-rmse:0.50797\n",
      "[870]\tvalidation_0-rmse:0.50797\n",
      "[871]\tvalidation_0-rmse:0.50797\n",
      "[872]\tvalidation_0-rmse:0.50797\n",
      "[873]\tvalidation_0-rmse:0.50797\n",
      "[874]\tvalidation_0-rmse:0.50797\n",
      "[875]\tvalidation_0-rmse:0.50797\n",
      "[876]\tvalidation_0-rmse:0.50797\n",
      "[877]\tvalidation_0-rmse:0.50797\n",
      "[878]\tvalidation_0-rmse:0.50797\n",
      "[879]\tvalidation_0-rmse:0.50797\n",
      "[880]\tvalidation_0-rmse:0.50797\n",
      "[881]\tvalidation_0-rmse:0.50797\n",
      "[882]\tvalidation_0-rmse:0.50797\n",
      "[883]\tvalidation_0-rmse:0.50797\n",
      "[884]\tvalidation_0-rmse:0.50797\n",
      "[885]\tvalidation_0-rmse:0.50797\n",
      "[886]\tvalidation_0-rmse:0.50797\n",
      "[887]\tvalidation_0-rmse:0.50797\n",
      "[888]\tvalidation_0-rmse:0.50797\n",
      "[889]\tvalidation_0-rmse:0.50797\n",
      "[890]\tvalidation_0-rmse:0.50797\n",
      "[891]\tvalidation_0-rmse:0.50797\n",
      "[892]\tvalidation_0-rmse:0.50797\n",
      "[893]\tvalidation_0-rmse:0.50797\n",
      "[894]\tvalidation_0-rmse:0.50797\n",
      "[895]\tvalidation_0-rmse:0.50797\n",
      "[896]\tvalidation_0-rmse:0.50797\n",
      "[897]\tvalidation_0-rmse:0.50797\n",
      "[898]\tvalidation_0-rmse:0.50797\n",
      "[899]\tvalidation_0-rmse:0.50797\n",
      "[900]\tvalidation_0-rmse:0.50797\n",
      "[901]\tvalidation_0-rmse:0.50797\n",
      "[902]\tvalidation_0-rmse:0.50797\n",
      "[903]\tvalidation_0-rmse:0.50797\n",
      "[904]\tvalidation_0-rmse:0.50797\n",
      "[905]\tvalidation_0-rmse:0.50797\n",
      "[906]\tvalidation_0-rmse:0.50797\n",
      "[907]\tvalidation_0-rmse:0.50797\n",
      "[908]\tvalidation_0-rmse:0.50797\n",
      "[909]\tvalidation_0-rmse:0.50797\n",
      "[910]\tvalidation_0-rmse:0.50797\n",
      "[911]\tvalidation_0-rmse:0.50797\n",
      "[912]\tvalidation_0-rmse:0.50797\n",
      "[913]\tvalidation_0-rmse:0.50797\n",
      "[914]\tvalidation_0-rmse:0.50797\n",
      "[915]\tvalidation_0-rmse:0.50797\n",
      "[916]\tvalidation_0-rmse:0.50797\n",
      "[917]\tvalidation_0-rmse:0.50796\n",
      "[918]\tvalidation_0-rmse:0.50796\n",
      "[919]\tvalidation_0-rmse:0.50796\n",
      "[920]\tvalidation_0-rmse:0.50796\n",
      "[921]\tvalidation_0-rmse:0.50796\n",
      "[922]\tvalidation_0-rmse:0.50796\n",
      "[923]\tvalidation_0-rmse:0.50796\n",
      "[924]\tvalidation_0-rmse:0.50796\n",
      "[925]\tvalidation_0-rmse:0.50796\n",
      "[926]\tvalidation_0-rmse:0.50796\n",
      "[927]\tvalidation_0-rmse:0.50796\n",
      "[928]\tvalidation_0-rmse:0.50796\n",
      "[929]\tvalidation_0-rmse:0.50796\n",
      "[930]\tvalidation_0-rmse:0.50796\n",
      "[931]\tvalidation_0-rmse:0.50796\n",
      "[932]\tvalidation_0-rmse:0.50796\n",
      "[933]\tvalidation_0-rmse:0.50796\n",
      "[934]\tvalidation_0-rmse:0.50796\n",
      "[935]\tvalidation_0-rmse:0.50796\n",
      "[936]\tvalidation_0-rmse:0.50796\n",
      "[937]\tvalidation_0-rmse:0.50796\n",
      "[938]\tvalidation_0-rmse:0.50796\n",
      "[939]\tvalidation_0-rmse:0.50796\n",
      "[940]\tvalidation_0-rmse:0.50796\n",
      "[941]\tvalidation_0-rmse:0.50796\n",
      "[942]\tvalidation_0-rmse:0.50796\n",
      "[943]\tvalidation_0-rmse:0.50796\n",
      "[944]\tvalidation_0-rmse:0.50796\n",
      "[945]\tvalidation_0-rmse:0.50796\n",
      "[946]\tvalidation_0-rmse:0.50796\n",
      "[947]\tvalidation_0-rmse:0.50796\n",
      "[948]\tvalidation_0-rmse:0.50796\n",
      "[949]\tvalidation_0-rmse:0.50796\n",
      "[950]\tvalidation_0-rmse:0.50796\n",
      "[951]\tvalidation_0-rmse:0.50796\n",
      "[952]\tvalidation_0-rmse:0.50796\n",
      "[953]\tvalidation_0-rmse:0.50796\n",
      "[954]\tvalidation_0-rmse:0.50796\n",
      "[955]\tvalidation_0-rmse:0.50796\n",
      "[956]\tvalidation_0-rmse:0.50796\n",
      "[957]\tvalidation_0-rmse:0.50796\n",
      "[958]\tvalidation_0-rmse:0.50796\n",
      "[959]\tvalidation_0-rmse:0.50796\n",
      "[960]\tvalidation_0-rmse:0.50796\n",
      "[961]\tvalidation_0-rmse:0.50796\n",
      "[962]\tvalidation_0-rmse:0.50796\n",
      "[963]\tvalidation_0-rmse:0.50796\n",
      "[964]\tvalidation_0-rmse:0.50796\n",
      "[965]\tvalidation_0-rmse:0.50796\n",
      "[966]\tvalidation_0-rmse:0.50796\n",
      "[967]\tvalidation_0-rmse:0.50796\n",
      "[968]\tvalidation_0-rmse:0.50796\n",
      "[969]\tvalidation_0-rmse:0.50796\n",
      "[970]\tvalidation_0-rmse:0.50796\n",
      "[971]\tvalidation_0-rmse:0.50796\n",
      "[972]\tvalidation_0-rmse:0.50796\n",
      "[973]\tvalidation_0-rmse:0.50796\n",
      "[974]\tvalidation_0-rmse:0.50796\n",
      "[975]\tvalidation_0-rmse:0.50796\n",
      "[976]\tvalidation_0-rmse:0.50796\n",
      "[977]\tvalidation_0-rmse:0.50796\n",
      "[978]\tvalidation_0-rmse:0.50796\n",
      "[979]\tvalidation_0-rmse:0.50796\n",
      "[980]\tvalidation_0-rmse:0.50796\n",
      "[981]\tvalidation_0-rmse:0.50796\n",
      "[982]\tvalidation_0-rmse:0.50796\n",
      "[983]\tvalidation_0-rmse:0.50796\n",
      "[984]\tvalidation_0-rmse:0.50797\n",
      "[985]\tvalidation_0-rmse:0.50797\n",
      "[986]\tvalidation_0-rmse:0.50797\n",
      "[987]\tvalidation_0-rmse:0.50797\n",
      "[988]\tvalidation_0-rmse:0.50797\n",
      "[989]\tvalidation_0-rmse:0.50797\n",
      "[990]\tvalidation_0-rmse:0.50797\n",
      "[991]\tvalidation_0-rmse:0.50797\n",
      "[992]\tvalidation_0-rmse:0.50797\n",
      "[993]\tvalidation_0-rmse:0.50797\n",
      "[994]\tvalidation_0-rmse:0.50797\n",
      "[995]\tvalidation_0-rmse:0.50797\n",
      "[996]\tvalidation_0-rmse:0.50797\n",
      "[997]\tvalidation_0-rmse:0.50797\n",
      "[998]\tvalidation_0-rmse:0.50797\n",
      "[999]\tvalidation_0-rmse:0.50797\n"
     ]
    }
   ],
   "source": [
    "\n",
    "# XGBoost Model\n",
    "xgb_model = xgb.XGBRegressor(objective='reg:squarederror', n_estimators=1000, learning_rate=0.05, max_depth=6,\n",
    "                             subsample=0.8, colsample_bytree=0.8, random_state=42, eval_metric=\"rmse\")\n",
    "xgb_model.fit(X_train_scaled, y_train_scaled, eval_set=[(X_test_scaled, y_test_scaled)], verbose=True)\n",
    "yxg_pred_scaled = xgb_model.predict(X_test_scaled)\n",
    "yxg_pred = scaler_y.inverse_transform(yxg_pred_scaled.reshape(-1, 1)).flatten()\n"
   ]
  },
  {
   "cell_type": "code",
   "execution_count": 113,
   "metadata": {},
   "outputs": [
    {
     "name": "stdout",
     "output_type": "stream",
     "text": [
      "XGBoost MAE 2077-2081: 89519934.83\n",
      "XGBoost RMSE 2077-2081: 113117043.91\n"
     ]
    }
   ],
   "source": [
    "# XGBoost Metrics\n",
    "mae_xgb = mean_absolute_error(y_test, yxg_pred)\n",
    "rmse_xgb = np.sqrt(mean_squared_error(y_test, yxg_pred))\n",
    "print(f\"XGBoost MAE 2077-2081: {mae_xgb:.2f}\")\n",
    "print(f\"XGBoost RMSE 2077-2081: {rmse_xgb:.2f}\")\n"
   ]
  },
  {
   "cell_type": "code",
   "execution_count": 114,
   "metadata": {},
   "outputs": [
    {
     "name": "stdout",
     "output_type": "stream",
     "text": [
      "XG boost R² Score 2077-2081: 0.3912\n"
     ]
    }
   ],
   "source": [
    "from sklearn.metrics import r2_score\n",
    "\n",
    "r2_rf = r2_score(y_test, yxg_pred)\n",
    "print(f\"XG boost R² Score 2077-2081: {r2_rf:.4f}\")"
   ]
  },
  {
   "cell_type": "code",
   "execution_count": 115,
   "metadata": {},
   "outputs": [
    {
     "data": {
      "image/png": "[encoded data removed]",
      "text/plain": [
       "<Figure size 1200x600 with 1 Axes>"
      ]
     },
     "metadata": {},
     "output_type": "display_data"
    }
   ],
   "source": [
    "# Visualization\n",
    "plt.figure(figsize=(12, 6))\n",
    "plt.plot(df.index, df[\"sales\"], label=\"Actual Sales\", color=\"black\", linewidth=2)\n",
    "\n",
    "plt.plot(X_test.index, yxg_pred, label=\"XGBoost Forecast\", color=\"blue\", linestyle=\"dashed\", linewidth=2)\n",
    "plt.title(\"sales Forecasting using XG boost from 2077-2081 data\")\n",
    "plt.legend()\n",
    "plt.show()\n",
    "\n"
   ]
  },
  {
   "cell_type": "markdown",
   "metadata": {},
   "source": [
    "### Comparision from Random Forest and XG boost from 2074-2081 data and Visualizing them\n",
    "\n",
    "Random Forest                           XG Boost\n",
    "1. MAE random: 86684694.75   ----------------             1. MAE xgb: 89519934.83\n",
    "2. RMSE random: 106753684.67 ----------------            2. RMSE xgb: 113117043.91\n",
    "3. R2 score random: 0.4578-----------------             3. R2_score xgb: 0.3912"
   ]
  },
  {
   "cell_type": "code",
   "execution_count": 116,
   "metadata": {},
   "outputs": [
    {
     "data": {
      "image/png": "[encoded data removed]",
      "text/plain": [
       "<Figure size 1000x800 with 1 Axes>"
      ]
     },
     "metadata": {},
     "output_type": "display_data"
    }
   ],
   "source": [
    "plt.figure(figsize=(10,8))\n",
    "plt.plot(df.index[:-(len(X_test))], df[\"sales\"][:-(len(X_test))], label=\"Actual Sales (Train)\", color=\"black\", linestyle=\"solid\", linewidth=2)\n",
    "plt.plot(df.index[-(len(X_test)):], df[\"sales\"][-(len(X_test)):], label=\"Test Data\", color=\"green\", linestyle=\"solid\", linewidth=2)\n",
    "plt.plot(X_test.index, yran_pred, label=\"Random Forest Forecast\", color=\"red\", linestyle=\"dashed\", linewidth=2 )\n",
    "plt.plot(X_test.index, yxg_pred, label=\"XG Boost Forecast\", color=\"blue\", linestyle=\"dashed\", linewidth=2)\n",
    "plt.title(\"Comparision of Random Forest and XG boost performance from 2074-2081 data for company 01 i.e. HDL\")\n",
    "plt.xlabel(\"Date\")\n",
    "plt.ylabel(\"Month wise Sales\")\n",
    "plt.legend()\n",
    "plt.show()"
   ]
  }
 ],
 "metadata": {
  "kernelspec": {
   "display_name": "Python 3",
   "language": "python",
   "name": "python3"
  },
  "language_info": {
   "codemirror_mode": {
    "name": "ipython",
    "version": 3
   },
   "file_extension": ".py",
   "mimetype": "text/x-python",
   "name": "python",
   "nbconvert_exporter": "python",
   "pygments_lexer": "ipython3",
   "version": "3.12.3"
  }
 },
 "nbformat": 4,
 "nbformat_minor": 2
}
